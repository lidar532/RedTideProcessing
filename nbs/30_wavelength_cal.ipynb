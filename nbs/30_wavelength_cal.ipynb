{
 "cells": [
  {
   "cell_type": "code",
   "execution_count": null,
   "id": "de077857-63a8-4b5d-9996-8963929a1849",
   "metadata": {},
   "outputs": [],
   "source": [
    "#| default_exp wavelength_cal"
   ]
  },
  {
   "cell_type": "markdown",
   "id": "9dc3f406-3d7c-49d1-bc0f-dce0e25344f1",
   "metadata": {},
   "source": [
    "## Calibration Wavelength Data."
   ]
  },
  {
   "cell_type": "markdown",
   "id": "9c69d18b-ca13-49cc-b9be-52bc388ca98a",
   "metadata": {},
   "source": [
    "Dictionaries containg Fraunhofer and Mercury spectral line data."
   ]
  },
  {
   "cell_type": "markdown",
   "id": "18804f85-766b-4a3b-bd7e-7571d158a9f5",
   "metadata": {},
   "source": [
    "### Fraunhofer_lines"
   ]
  },
  {
   "cell_type": "markdown",
   "id": "a2e56a68-8e8e-4d3b-a572-9f3c24d426c3",
   "metadata": {},
   "source": [
    "Fraunhofer_lines dict contains the name of the line, the element its attributed too, and the wavelength in nanometers.\n",
    "\n",
    "<a title=\"Fraunhofer_lines.jpg: nl:Gebruiker:MaureenV\n",
    "Spectrum-sRGB.svg: Phrood~commonswiki\n",
    "Fraunhofer_lines_DE.svg: *Fraunhofer_lines.jpg: Saperaud 19:26, 5. Jul. 2005\n",
    "derivative work: Cepheiden (talk)\n",
    "derivative work: Cepheiden, Public domain, via Wikimedia Commons\" href=\"https://commons.wikimedia.org/wiki/File:Fraunhofer_lines.svg\"><img width=\"800\" alt=\"Fraunhofer lines\" src=\"https://upload.wikimedia.org/wikipedia/commons/2/2f/Fraunhofer_lines.svg\"></a>\n",
    "<hr>\n",
    "<a title=\"Cyamahat, CC BY-SA 4.0 &lt;https://creativecommons.org/licenses/by-sa/4.0&gt;, via Wikimedia Commons\" href=\"https://commons.wikimedia.org/wiki/File:Solar_spectral_irradiance.svg\"><img width=\"800\" alt=\"Solar spectral irradiance\" src=\"https://upload.wikimedia.org/wikipedia/commons/e/e4/Solar_spectral_irradiance.svg\"></a>\n",
    "\n",
    "see:\n",
    "- Wikipedia:\n",
    "  - [Fraunhofer Lines](https://en.wikipedia.org/wiki/Fraunhofer_lines)\n",
    "  - [Solar Spectral Irradiance Graphic](https://en.wikipedia.org/wiki/Fraunhofer_lines#/media/File:Solar_spectral_irradiance.svg)"
   ]
  },
  {
   "cell_type": "code",
   "execution_count": null,
   "id": "e674dc80-dac5-4f52-b7be-fe1a1f2687ec",
   "metadata": {},
   "outputs": [],
   "source": [
    "#| export\n",
    "# see: [Solar Spectral Irradiance](https://en.wikipedia.org/wiki/Fraunhofer_lines#/media/File:Solar_spectral_irradiance.svg)\n",
    "Fraunhofer_lines = {\n",
    "                'y' :[ 'O2', 898.765  ],\n",
    "                'Z' :[ 'O2', 822.696  ],\n",
    "                'A' :[ 'O2', 759.370  ],\n",
    "                'B' :[ 'O2', 686.719  ], \n",
    "                'C' :[ 'Ha', 656.281  ],\n",
    "                'a' :[ 'O2', 627.661  ],\n",
    "                'D1':[ 'Na', 589.592  ],\n",
    "                'D2':[ 'Na', 588.995  ],\n",
    "                'D3':[ 'He', 587.5618 ],\n",
    "              'e-hg':[ 'Hg', 546.073  ],\n",
    "                'E2':[ 'Fe', 527.039  ],\n",
    "                'b1':[ 'Mg', 518.362  ],\n",
    "                'b2':[ 'Mg', 517.270  ],\n",
    "                'b3':[ 'Mg', 516.891  ],\n",
    "                'b4':[ 'Mg', 516.733  ],\n",
    "                'c' :[ 'Fe', 495.761  ],                                                            \n",
    "                'F' :[ 'Hb', 486.134  ],\n",
    "                'd' :[ 'Fe', 466.814  ],\n",
    "              'e-Fe':[ 'Fe', 438.355  ],\n",
    "                'G' :[ 'Fe', 430.790  ],\n",
    "                'G2':[ 'Ca', 430.774  ],\n",
    "                'H' :[ 'Ca', 396.847  ] \n",
    "}"
   ]
  },
  {
   "cell_type": "markdown",
   "id": "62179068-3581-492b-aead-82450bcd8d6c",
   "metadata": {},
   "source": [
    "Show the data for the Fraunhofer_line 'D1'."
   ]
  },
  {
   "cell_type": "code",
   "execution_count": null,
   "id": "eef6899f-10c7-48f1-8809-fa92b9b6b8c8",
   "metadata": {},
   "outputs": [
    {
     "data": {
      "text/plain": [
       "['Na', 589.592]"
      ]
     },
     "execution_count": null,
     "metadata": {},
     "output_type": "execute_result"
    }
   ],
   "source": [
    "Fraunhofer_lines['D1']"
   ]
  },
  {
   "cell_type": "markdown",
   "id": "71e3c619-6408-4a67-9bf5-382f3d80ac47",
   "metadata": {},
   "source": [
    "Show it's element only."
   ]
  },
  {
   "cell_type": "code",
   "execution_count": null,
   "id": "99e287c6-af1d-4ea5-ad1f-65a4710ef860",
   "metadata": {},
   "outputs": [
    {
     "data": {
      "text/plain": [
       "'Na'"
      ]
     },
     "execution_count": null,
     "metadata": {},
     "output_type": "execute_result"
    }
   ],
   "source": [
    "Fraunhofer_lines['D1'][0]"
   ]
  },
  {
   "cell_type": "markdown",
   "id": "feeda4d9-ee0c-4963-89bc-30c9466a057d",
   "metadata": {},
   "source": [
    "Show only the wavelength."
   ]
  },
  {
   "cell_type": "code",
   "execution_count": null,
   "id": "8b8fc86d-f6be-4386-b414-266820f6c280",
   "metadata": {},
   "outputs": [
    {
     "data": {
      "text/plain": [
       "589.592"
      ]
     },
     "execution_count": null,
     "metadata": {},
     "output_type": "execute_result"
    }
   ],
   "source": [
    "Fraunhofer_lines['D1'][1]"
   ]
  },
  {
   "cell_type": "markdown",
   "id": "bc60516b-c99e-4bee-8814-a2673d116b00",
   "metadata": {},
   "source": [
    "#| hide\n",
    "### HG Lines"
   ]
  },
  {
   "cell_type": "markdown",
   "id": "68f968b6-d563-4fa4-abe5-10eba8d96122",
   "metadata": {},
   "source": [
    "HG (Mercury) dictionary containg lists of Hg wavelengths. Each line is named `Hg-XXX` where `XXX` is the integer wavelength.\n",
    "\n",
    "<a title=\"Original:  Deglr6328 at English WikipediaDerivative work:  RicHard-59, CC BY-SA 3.0 &lt;http://creativecommons.org/licenses/by-sa/3.0/&gt;, via Wikimedia Commons\" href=\"https://commons.wikimedia.org/wiki/File:Fluorescent_lighting_spectrum_peaks_labelled.svg\"><img width=\"800\" alt=\"Fluorescent lighting spectrum peaks labelled\" src=\"https://upload.wikimedia.org/wikipedia/commons/8/8d/Fluorescent_lighting_spectrum_peaks_labelled.svg\"></a>\n",
    "\n",
    "[Nist HG data from 400 to 900nm](https://physics.nist.gov/cgi-bin/ASD/lines1.pl?spectra=HG&limits_type=0&low_w=400&upp_w=900&unit=1&submit=Retrieve+Data&de=0&I_scale_type=1&format=0&line_out=0&en_unit=0&output=0&bibrefs=1&page_size=15&show_obs_wl=1&show_calc_wl=1&unc_out=1&order_out=0&max_low_enrg=&show_av=2&max_upp_enrg=&tsb_value=0&min_str=&A_out=0&intens_out=on&max_str=&allowed_out=1&forbid_out=1&min_accur=&min_intens=&conf_out=on&term_out=on&enrg_out=on&J_out=on)\n"
   ]
  },
  {
   "cell_type": "code",
   "execution_count": null,
   "id": "979a64d6-c52c-4ccf-9dcc-7f730d0a3368",
   "metadata": {},
   "outputs": [],
   "source": [
    "#| export\n",
    "HG_lines = { \n",
    "          'Hg-404' :[ 'Hg', 404.6563 ],\n",
    "          'Hg-436' :[ 'Hg', 435.8328 ],\n",
    "          'Hg-543' :[ 'Hg', 543.6    ],\n",
    "          'Hg-546' :[ 'Hg', 546.0735 ],\n",
    "          'Hg-576' :[ 'Hg', 576.959  ],\n",
    "          'Hg-579' :[ 'Hg', 579.065  ],\n",
    "          'Hg-611' :[ 'Hg', 610.8    ],\n",
    "          'Hg-615' :[ 'Hg', 614.9475 ],\n",
    "          'Hg-707' :[ 'Eu', 707.0],\n",
    "          'Hg-709' :[ 'Eu', 709.0]\n",
    "}"
   ]
  },
  {
   "cell_type": "code",
   "execution_count": null,
   "id": "a01cc50d-a89b-4482-8692-a7d6d2436640",
   "metadata": {},
   "outputs": [
    {
     "data": {
      "text/plain": [
       "{'Hg-404': ['Hg', 404.6563],\n",
       " 'Hg-436': ['Hg', 435.8328],\n",
       " 'Hg-543': ['Hg', 543.6],\n",
       " 'Hg-546': ['Hg', 546.0735],\n",
       " 'Hg-576': ['Hg', 576.959],\n",
       " 'Hg-579': ['Hg', 579.065],\n",
       " 'Hg-611': ['Hg', 610.8],\n",
       " 'Hg-615': ['Hg', 614.9475],\n",
       " 'Hg-707': ['Eu', 707.0],\n",
       " 'Hg-709': ['Eu', 709.0]}"
      ]
     },
     "execution_count": null,
     "metadata": {},
     "output_type": "execute_result"
    }
   ],
   "source": [
    "HG_lines"
   ]
  },
  {
   "cell_type": "code",
   "execution_count": null,
   "id": "c1cdc608-0c71-4e46-ada5-bfabaa146122",
   "metadata": {},
   "outputs": [],
   "source": [
    "#| export\n",
    "def gen_reference_lines( \n",
    "              lines,            # The reference lines.\n",
    "              y_max = 100.0,      # Max value for y.\n",
    "              y_min = 0,\n",
    "             ) -> (list,list):  # Fraun X values, Fraun y values \n",
    "  '''\n",
    "  Generate a series of spectral plot lines for reference.  It scales to the max y value \n",
    "  of the provided spectra within `hab_spec_class`.  Sources can be Fraunhofer_lines, or HG_lines, or user \n",
    "  developed.\n",
    "  '''\n",
    "  fran_x = []; fran_y = []\n",
    "  y0 = y_min;    y1 = y_max\n",
    "  for i in lines:\n",
    "    x = lines[i][1]\n",
    "    fran_x.append( [ x,x ] )\n",
    "    fran_y.append( [y0, y1] )\n",
    "  return fran_x, fran_y"
   ]
  },
  {
   "cell_type": "code",
   "execution_count": null,
   "id": "ad213a43-fed9-46c4-a44d-0b779b2399e7",
   "metadata": {},
   "outputs": [],
   "source": []
  }
 ],
 "metadata": {
  "kernelspec": {
   "display_name": "python3",
   "language": "python",
   "name": "python3"
  }
 },
 "nbformat": 4,
 "nbformat_minor": 5
}
