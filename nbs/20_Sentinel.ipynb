{
 "cells": [
  {
   "cell_type": "code",
   "execution_count": null,
   "id": "ab97ab46-d128-4076-9ad8-bd66c4f549ac",
   "metadata": {},
   "outputs": [],
   "source": [
    "#| default_exp sentinel"
   ]
  },
  {
   "cell_type": "markdown",
   "id": "6df418ae-b8cd-4cf8-a66e-a7520bb7f0e9",
   "metadata": {},
   "source": [
    "### Sentinal S2a"
   ]
  },
  {
   "cell_type": "markdown",
   "id": "760b7e62-2659-4a50-807d-04ef01045f4c",
   "metadata": {},
   "source": [
    "Information on the Sentinel spectral specificatoins can be found at:\n",
    "https://sentinels.copernicus.eu/web/sentinel/user-guides/sentinel-2-msi/resolutions/spectral\n",
    "\n",
    "Sentinal S2a Band Definitions.  `sentinal_s2a` defines the band name, center wavelength and\n",
    "bandwidth in nanometers.  These are used to generate a class for each band that will hold\n",
    "values that are computed once, and then used repeatedly."
   ]
  },
  {
   "cell_type": "code",
   "execution_count": null,
   "id": "e60ca239-cd75-4ea7-bf42-a19674131f00",
   "metadata": {},
   "outputs": [],
   "source": [
    "#| export\n",
    "import numpy as np"
   ]
  },
  {
   "cell_type": "code",
   "execution_count": null,
   "id": "58dacfc0-fa26-4c24-a892-e81374d90fcc",
   "metadata": {},
   "outputs": [],
   "source": [
    "#| hide\n",
    "import RedTideProcessing.habspec            as habspec\n",
    "import RedTideProcessing.wavelength_cal     as cal\n",
    "import RedTideProcessing.testing            as testing"
   ]
  },
  {
   "cell_type": "code",
   "execution_count": null,
   "id": "5bc9597d-a84b-4234-bd25-4313bef47f7c",
   "metadata": {},
   "outputs": [],
   "source": [
    "#| export\n",
    "import RedTideProcessing.habspec_data_class as hsdc"
   ]
  },
  {
   "cell_type": "markdown",
   "id": "ec520393-30ab-4a1a-a684-bfc3fe9e436a",
   "metadata": {},
   "source": [
    "## Functions"
   ]
  },
  {
   "cell_type": "code",
   "execution_count": null,
   "id": "5ba34a65-167b-4a32-8436-a6a9d09a1f6c",
   "metadata": {},
   "outputs": [],
   "source": [
    "#| export\n",
    "sentinal_s2a = {\n",
    "# Band\n",
    "#         Center\n",
    "#                Width\n",
    "  'b1' : [ 442.7, 20 ],\n",
    "  'b2' : [ 492.7, 65 ],\n",
    "  'b3' : [ 559.8, 35 ],\n",
    "  'b4' : [ 664.6, 30 ],\n",
    "  'b8' : [ 832.8, 105],\n",
    "  \n",
    "  'b5' : [ 704.1, 14 ],\n",
    "  'b6' : [ 740.5, 14 ],\n",
    "  'b7' : [ 782.8, 19 ],\n",
    "  '8a' : [ 864.7, 21 ],\n",
    "}"
   ]
  },
  {
   "cell_type": "markdown",
   "id": "b9a60934-7683-485e-b0b7-24dbc92c99e2",
   "metadata": {},
   "source": [
    "OLCI Spectral band info.\n",
    "\n",
    "References: \n",
    "- [NASA OLCI Spectral band info.](https://ladsweb.modaps.eosdis.nasa.gov/missions-and-measurements/olci/)\n",
    "- [The Sentinel User Guide](https://sentinels.copernicus.eu/web/sentinel/user-guides/sentinel-3-olci/overview/heritage)"
   ]
  },
  {
   "cell_type": "code",
   "execution_count": null,
   "id": "a7c6b53b-1764-44ca-aa98-060517a04945",
   "metadata": {},
   "outputs": [],
   "source": [
    "#| export\n",
    "OLCI_Bands = {\n",
    "# From: https://ladsweb.modaps.eosdis.nasa.gov/missions-and-measurements/olci/\n",
    "# and: https://sentinels.copernicus.eu/web/sentinel/user-guides/sentinel-3-olci/overview/heritage\n",
    "# Band\n",
    "#         Center\n",
    "#                Width\n",
    "  'Oa1'  : [ 400.00, 15,  'Aerosol correction, improved water constituent retrieval' ],\n",
    "  'Oa2'  : [ 412.50, 10,  'Yellow substance and detrital pigments (Turbidity).' ],\n",
    "  'Oa3'  : [ 442.50, 10,  'Chl absorption max biogeochemistry, vegetation' ],\n",
    "  'Oa4'  : [ 490.00, 10,  'High Chl, other pigments' ],\n",
    "  'Oa5'  : [ 510.00, 10,  'Chl, sediment, turbidity, red tide.' ],\n",
    "  'Oa6'  : [ 560.00, 10,  'Chlorophyll reference (Chl minimum)' ],\n",
    "  'Oa7'  : [ 620.00, 10,  'Sediment loading' ],\n",
    "  'Oa8'  : [ 665.00, 10,  'Chl (2nd Chl abs. max.), sediment, yellow substance/vegetation' ],\n",
    "  'Oa9'  : [ 673.75, 7.5, 'For improved fluorescence retrieval and to better account for smile together with the bands 665 and 680 nm' ],\n",
    "  'Oa10' : [ 681.25, 7.5, 'Chl fluorescence peak, red edge' ],\n",
    "  'Oa11' : [ 708.75, 10,  'Chl fluorescence baseline, red edge transition.' ],\n",
    "  'Oa12' : [ 753.75, 7.5, 'O2 absorption/clouds<comma> vegetation' ],\n",
    "  'Oa13' : [ 761.25 ,2.5, 'O2 absorption band/aerosol corr.' ],\n",
    "  'Oa14' : [ 764.38 ,3.75,'Atmospheric correction' ],\n",
    "  'Oa15' : [ 767.50 ,2.5, 'O2A used for cloud top pressure, fluorescence over land.' ],\n",
    "  'Oa16' : [ 778.75 ,15,  'Atmos. corr./aerosol corr.' ],\n",
    "  'Oa17' : [ 865.00 ,20 , 'Atmos. corr./aclean word to html convertererosol corr., clouds, pixel co-registration.' ],\n",
    "  'Oa18' : [ 885.00 ,10 , 'Water vapour absorption reference band. Common reference band with SLST instrument. Vegetation monitoring.' ],\n",
    "  'Oa19' : [ 900.00 ,10 , 'Water vapour absorption/vegetation monitoring (max. reflectance)'],\n",
    "  'Oa20' : [ 940.00 ,20 , 'Water vapour absorption, atmos./aerosol corr.'],\n",
    "  'Oa21' : [ 1020.00,40 , 'Atmos./aerosol corr.'],\n",
    "}\n",
    "\n"
   ]
  },
  {
   "cell_type": "markdown",
   "id": "e46db577-54f8-44a4-958b-7c489413e924",
   "metadata": {},
   "source": [
    "#| hide\n",
    "### class Sentinal_s2a Band()"
   ]
  },
  {
   "cell_type": "markdown",
   "id": "2d63109c-f942-4228-87c9-2d23c11b069a",
   "metadata": {},
   "source": [
    "See: [Spectral Resolution](https://sentinels.copernicus.eu/web/sentinel/user-guides/sentinel-2-msi/resolutions/spectral)"
   ]
  },
  {
   "cell_type": "code",
   "execution_count": null,
   "id": "931474c0-660f-4c80-8f1b-f56cefb7e0fe",
   "metadata": {},
   "outputs": [],
   "source": [
    "#| export\n",
    "class Sentinal_Band:\n",
    "  '''\n",
    "  Defines a single Sentinel band data object. \n",
    "  See: https://sentinels.copernicus.eu/web/sentinel/user-guides/sentinel-2-msi/resolutions/spectral\n",
    "  '''\n",
    "  header = f'band center_nm width_nm color w_low px_low w_high px_high '\n",
    "  average = True\n",
    "  mean    = False\n",
    "  \n",
    "  def __init__(self,\n",
    "               hab_spec_class,\n",
    "               name:str,        # The Sentinel official wavelength-band name.\n",
    "               center_nm:float, # Center wavelength in nanometers.\n",
    "               width_nm:float,  # Bandwidth in nanometers.\n",
    "               color:str        # Desired color to use for any plots, or graphics.\n",
    "              ) -> object:      # Class object returned.\n",
    "    #self.x = hab_spec_class.wavelengths\n",
    "    self.name      = name\n",
    "    self.center_nm = center_nm\n",
    "    self.width_nm  = width_nm\n",
    "    self.color     = color\n",
    "    self.w_low     = center_nm - width_nm/2\n",
    "    self.w_high    = center_nm + width_nm/2\n",
    "    self.px_low    = hsdc.w_to_pixel( hab_spec_class,  self.w_low )\n",
    "    self.px_high   = hsdc.w_to_pixel( hab_spec_class,  self.w_high )\n",
    "    self.pixels    = hsdc.w_range_pixels(hab_spec_class, self.w_low,self.w_high)\n",
    "    self.y_mean    = 0.0        # This gets updated.\n",
    "  \n",
    "  def __str__(self):\n",
    "    return f'{self.name}      {self.center_nm:6.2f}   {self.width_nm:6.1f}  {self.color}'\\\n",
    "           f'{self.w_low:6.1f}   {self.px_low:4d} {self.w_high:6.1f}    {self.px_high:4d}'\n",
    "  \n",
    "  def compute_stats(self, \n",
    "                  hab_spectra_class     # Spectra to update y_mean from.\n",
    "                 ) -> None:   # The stat values are updated in the class.\n",
    "    '''\n",
    "    Compute the Sentinel band stats for a given spectra if enabled. To enable or\n",
    "    disable set Sentinel_Band.average = True | False, or Sentinel_Band.mean = True | False.\n",
    "    '''\n",
    "    if self.mean:\n",
    "      self.y_mean    = hab_spectra_class.raw_y[ self.pixels ].mean()\n",
    "    else:\n",
    "      self.y_mean = 0.0\n",
    "      \n",
    "    if self.average:\n",
    "      self.y_average = np.average( hab_spectra_class.raw_y[ self.pixels ] )\n",
    "    else:\n",
    "      self.y_average = 0.0"
   ]
  },
  {
   "cell_type": "markdown",
   "id": "1fcdf065-fa21-4f86-a83e-92d03eae5d7c",
   "metadata": {},
   "source": [
    "#| hide\n",
    "### def sentinel_update()"
   ]
  },
  {
   "cell_type": "code",
   "execution_count": null,
   "id": "46c3bb4b-9cd8-48b5-8d2a-9f8605aa1e24",
   "metadata": {},
   "outputs": [],
   "source": [
    "#| export\n",
    "def sentinel_update( \n",
    "  hab_spectra_class, # Spectra to compute Sentinel band averages on.\n",
    "  sentinel_bands     # Array of sentinel band classes.       \n",
    ") -> None:           # sentinel_bands will contain .y_mean afterward.\n",
    "  '''\n",
    "  '''\n",
    "  for s in sentinel_bands:\n",
    "    sentinel_bands[ s ].compute_stats( hab_spectra_class )"
   ]
  },
  {
   "cell_type": "markdown",
   "id": "e9a1f596-f090-42da-9e5e-5b84ab068ae6",
   "metadata": {},
   "source": [
    "## Testing."
   ]
  },
  {
   "cell_type": "markdown",
   "id": "ebd67d75-1de1-44a5-82eb-a2e2c3cc0cba",
   "metadata": {},
   "source": [
    "Load a json spectra file for testing."
   ]
  },
  {
   "cell_type": "code",
   "execution_count": null,
   "id": "31da1716-02f2-4c76-b72a-33f301d44de7",
   "metadata": {},
   "outputs": [
    {
     "name": "stdout",
     "output_type": "stream",
     "text": [
      "Testing with: /mnt/s/2021-0717-HAB-Spec-Tampa-Bay-PIE/2021-0717-HAB-pie/164443/hab_spectra/2021-0717-164700-525866-spec.json\n"
     ]
    }
   ],
   "source": [
    "spectra_file, spectra_note = testing.select_test_file( 0 )    # Load a spectra file for testing.\n",
    "print(f'Testing with: {spectra_file}')"
   ]
  },
  {
   "cell_type": "markdown",
   "id": "5dbd8977-4c6c-4620-ba70-95ed8b11c2f4",
   "metadata": {},
   "source": [
    "test w_to_pixel."
   ]
  },
  {
   "cell_type": "code",
   "execution_count": null,
   "id": "92218ff4-aa8a-46fa-9d50-ed58cad4d677",
   "metadata": {},
   "outputs": [
    {
     "name": "stdout",
     "output_type": "stream",
     "text": [
      "self.Calibrated_w=False\n",
      "self.Xpixels=array([ 0,  1,  2,  3,  4,  5,  6,  7,  8,  9, 10, 11, 12, 13, 14, 15, 16,\n",
      "       17, 18, 19])\n",
      "self.wavelengths=array([ 0,  1,  2,  3,  4,  5,  6,  7,  8,  9, 10, 11, 12, 13, 14, 15, 16,\n",
      "       17, 18, 19])\n",
      "self.create_time=datetime.datetime(2023, 7, 25, 14, 32, 10, 705023)\n",
      "self.pixel0=None\n",
      "self.wavelength0=None\n",
      "self.pixel1=None\n",
      "self.wavelength1=None\n",
      "json_spectra_file_name: None\n",
      "Lat                 : None\n",
      "Lon                 : None\n",
      "altitde_m           : None\n",
      "n_saturated         : None\n",
      "raw_y_min           : None\n",
      "remove_bias         : None\n",
      "y_average           : None\n",
      "DateTime            : None\n",
      "Exposure            : None\n",
      "raw_y               : [ 0  1  2  3  4  5  6  7  8  9 10 11 12 13 14 15 16 17 18 19]\n",
      "summed_rows         : 0\n",
      "\n"
     ]
    }
   ],
   "source": [
    "hab_spectra = hsdc.HAB_Spectra()     # Create an empty spectra class.\n",
    "print(hab_spectra.__str__())         # Dump it's values."
   ]
  },
  {
   "cell_type": "markdown",
   "id": "c7181838-689a-4207-8bc9-07f3496d4042",
   "metadata": {},
   "source": [
    "Attempt to calibrate created habspec. "
   ]
  },
  {
   "cell_type": "code",
   "execution_count": null,
   "id": "b28026e4-23ce-47ee-a6f4-925c0b2335eb",
   "metadata": {},
   "outputs": [],
   "source": [
    "rv = habspec.calibrate_using_2_wavelengths(   \n",
    "  hab_spectra,\n",
    "  spectra_file,\n",
    "  pixel0 =  73, wavelength0 = 430.774, \n",
    "  pixel1 = 941, wavelength1 = 759.370 \n",
    ")"
   ]
  },
  {
   "cell_type": "code",
   "execution_count": null,
   "id": "ae2777b9-5a6c-4275-95eb-e98efc483f12",
   "metadata": {},
   "outputs": [
    {
     "name": "stdout",
     "output_type": "stream",
     "text": [
      "self.Calibrated_w=True\n",
      "self.Xpixels=array([   0,    1,    2, ..., 1277, 1278, 1279])\n",
      "self.wavelengths=array([403.13862212, 403.51718894, 403.89575576, ..., 886.56845161,\n",
      "       886.94701843, 887.32558525])\n",
      "self.create_time=datetime.datetime(2023, 7, 25, 14, 32, 10, 705023)\n",
      "self.pixel0=73\n",
      "self.wavelength0=430.774\n",
      "self.pixel1=941\n",
      "self.wavelength1=759.37\n",
      "json_spectra_file_name: /mnt/s/2021-0717-HAB-Spec-Tampa-Bay-PIE/2021-0717-HAB-pie/164443/hab_spectra/2021-0717-164700-525866-spec.json\n",
      "Lat                 : None\n",
      "Lon                 : None\n",
      "altitde_m           : None\n",
      "n_saturated         : None\n",
      "raw_y_min           : None\n",
      "remove_bias         : None\n",
      "y_average           : None\n",
      "DateTime            : None\n",
      "Exposure            : None\n",
      "raw_y               : [73929 73682 73935 ... 39494 39451 39468]\n",
      "summed_rows         : 800\n",
      "Xpixels             : [   0    1    2 ... 1277 1278 1279]\n",
      "wavelengths         : [403.13862212 403.51718894 403.89575576 ... 886.56845161 886.94701843\n",
      " 887.32558525]\n",
      "error_msgs          : \n",
      "pixel0              : 73\n",
      "pixel1              : 941\n",
      "wavelength0         : 430.774\n",
      "wavelength1         : 759.37\n",
      "delta_pix           : 868\n",
      "delta_wavelength_nm : 328.596\n",
      "Calibrated_w        : True\n",
      "\n"
     ]
    }
   ],
   "source": [
    "print(hab_spectra.__str__())"
   ]
  },
  {
   "cell_type": "markdown",
   "id": "68610719-d043-4e39-afb0-1933c083e596",
   "metadata": {},
   "source": [
    "Test w_range_pixels() between 500 and 530 nanometers."
   ]
  },
  {
   "cell_type": "code",
   "execution_count": null,
   "id": "ee165bf5-005d-4dea-ba83-4bf2404c578e",
   "metadata": {},
   "outputs": [],
   "source": [
    "test_blue_band_edge = 500\n",
    "test_red_band_edge  = 520\n",
    "test_band_pixels = hsdc.w_range_pixels( hab_spectra, test_blue_band_edge, test_red_band_edge)"
   ]
  },
  {
   "cell_type": "markdown",
   "id": "cb5446e5-dc9a-43e6-82c3-30f41d935523",
   "metadata": {},
   "source": [
    "A numpy array is returned containing the pixel locations for each wavelength\n",
    "between `test_blue_band_edge` and `test_red_band_edge`"
   ]
  },
  {
   "cell_type": "code",
   "execution_count": null,
   "id": "dfd07559-e64c-40dd-8fcb-e5c941e57001",
   "metadata": {},
   "outputs": [
    {
     "data": {
      "text/plain": [
       "(array([256, 257, 258, 259, 260, 261, 262, 263, 264, 265, 266, 267, 268,\n",
       "        269, 270, 271, 272, 273, 274, 275, 276, 277, 278, 279, 280, 281,\n",
       "        282, 283, 284, 285, 286, 287, 288, 289, 290, 291, 292, 293, 294,\n",
       "        295, 296, 297, 298, 299, 300, 301, 302, 303, 304, 305, 306, 307,\n",
       "        308]),)"
      ]
     },
     "metadata": {},
     "output_type": "display_data"
    }
   ],
   "source": [
    "display(test_band_pixels)"
   ]
  },
  {
   "cell_type": "markdown",
   "id": "6900319e-6a98-473c-afd1-fcaaba6e8b59",
   "metadata": {},
   "source": [
    "We can compute numpy statistic on the spectra values within this band.  We will compute the mean, average, and\n",
    "min and max on the test_spectra."
   ]
  },
  {
   "cell_type": "code",
   "execution_count": null,
   "id": "698eec84-897d-4bbf-abe0-9f15d6dbc3ae",
   "metadata": {},
   "outputs": [
    {
     "data": {
      "text/plain": [
       "(108766.83018867925, 108766.83018867925, 101958, 118690)"
      ]
     },
     "execution_count": null,
     "metadata": {},
     "output_type": "execute_result"
    }
   ],
   "source": [
    "( hab_spectra.raw_y[ test_band_pixels ].mean(),\n",
    "  np.average( hab_spectra.raw_y[test_band_pixels] ), \n",
    "  hab_spectra.raw_y[test_band_pixels].min(), \n",
    "  hab_spectra.raw_y[test_band_pixels].max()\n",
    ")"
   ]
  },
  {
   "cell_type": "code",
   "execution_count": null,
   "id": "11615ab7-f8cd-448d-af31-a98a40770a39",
   "metadata": {},
   "outputs": [
    {
     "data": {
      "text/plain": [
       "256"
      ]
     },
     "execution_count": null,
     "metadata": {},
     "output_type": "execute_result"
    }
   ],
   "source": [
    "hsdc.w_to_pixel( hab_spectra,  500 )"
   ]
  },
  {
   "cell_type": "code",
   "execution_count": null,
   "id": "ad482f95-3968-486e-be69-821e497c76d4",
   "metadata": {},
   "outputs": [],
   "source": [
    "k = 'b2'\n",
    "sb = Sentinal_Band( hab_spectra, k, sentinal_s2a[k][0], sentinal_s2a[k][1], 'gray')"
   ]
  },
  {
   "cell_type": "code",
   "execution_count": null,
   "id": "1a98e672-bb1f-4495-b321-dd2d3b0322fb",
   "metadata": {},
   "outputs": [
    {
     "data": {
      "text/plain": [
       "('b2', 492.7, 460.2, 525.2, 150, 322)"
      ]
     },
     "execution_count": null,
     "metadata": {},
     "output_type": "execute_result"
    }
   ],
   "source": [
    "sb.name, sb.center_nm, sb.w_low, sb.w_high, sb.px_low, sb.px_high"
   ]
  },
  {
   "cell_type": "code",
   "execution_count": null,
   "id": "cc49139c-bf2b-4372-bbf6-22c497f0dfbb",
   "metadata": {},
   "outputs": [
    {
     "data": {
      "text/plain": [
       "236"
      ]
     },
     "execution_count": null,
     "metadata": {},
     "output_type": "execute_result"
    }
   ],
   "source": [
    "hsdc.w_to_pixel(hab_spectra, 492.7)"
   ]
  },
  {
   "cell_type": "code",
   "execution_count": null,
   "id": "0135a6d6-ebe5-46b1-99c8-48b65f6aa6ac",
   "metadata": {},
   "outputs": [
    {
     "name": "stdout",
     "output_type": "stream",
     "text": [
      "band center_nm width_nm color w_low px_low w_high px_high \n",
      "b2      492.70     65.0  gray 460.2    150  525.2     322\n",
      "b3      559.80     35.0  gray 542.3    367  577.3     460\n",
      "b4      664.60     30.0  gray 649.6    651  679.6     730\n",
      "b8      832.80    105.0  gray 780.3    997  885.3    1274\n",
      "b5      704.10     14.0  gray 697.1    777  711.1     814\n",
      "b6      740.50     14.0  gray 733.5    873  747.5     910\n",
      "b7      782.80     19.0  gray 773.3    978  792.3    1028\n",
      "8a      864.70     21.0  gray 854.2   1192  875.2    1247\n"
     ]
    }
   ],
   "source": [
    "sentinel_array = {}\n",
    "#hab_spectra = hsdc.HAB_Spectra()\n",
    "print(Sentinal_Band.header )\n",
    "for k in sentinal_s2a.keys():\n",
    "  sentinel_array[k] = Sentinal_Band( hab_spectra, k, sentinal_s2a[k][0], sentinal_s2a[k][1], 'gray')\n",
    "  print(sentinel_array[k].__str__() )"
   ]
  },
  {
   "cell_type": "code",
   "execution_count": null,
   "id": "7187fad9-e233-4467-937a-8cf746f5d421",
   "metadata": {},
   "outputs": [
    {
     "data": {
      "text/plain": [
       "'b2      492.70     65.0  gray 460.2    150  525.2     322'"
      ]
     },
     "execution_count": null,
     "metadata": {},
     "output_type": "execute_result"
    }
   ],
   "source": [
    "sentinel_array['b2'].__str__()"
   ]
  },
  {
   "cell_type": "code",
   "execution_count": null,
   "id": "7f73e01e-9bcf-42b5-a19f-12ef6362d187",
   "metadata": {},
   "outputs": [
    {
     "data": {
      "text/plain": [
       "'b3      559.80     35.0  gray 542.3    367  577.3     460'"
      ]
     },
     "execution_count": null,
     "metadata": {},
     "output_type": "execute_result"
    }
   ],
   "source": [
    "sentinel_array['b3'].__str__()"
   ]
  },
  {
   "cell_type": "code",
   "execution_count": null,
   "id": "a708c4c4-00cc-476f-8c7f-c99df962f88d",
   "metadata": {},
   "outputs": [
    {
     "data": {
      "text/plain": [
       "559.8"
      ]
     },
     "execution_count": null,
     "metadata": {},
     "output_type": "execute_result"
    }
   ],
   "source": [
    "sentinel_array['b3'].center_nm"
   ]
  },
  {
   "cell_type": "code",
   "execution_count": null,
   "id": "674c9e46-08f9-483b-adcf-ba11fd78586a",
   "metadata": {},
   "outputs": [
    {
     "data": {
      "text/plain": [
       "(array([368, 369, 370, 371, 372, 373, 374, 375, 376, 377, 378, 379, 380,\n",
       "        381, 382, 383, 384, 385, 386, 387, 388, 389, 390, 391, 392, 393,\n",
       "        394, 395, 396, 397, 398, 399, 400, 401, 402, 403, 404, 405, 406,\n",
       "        407, 408, 409, 410, 411, 412, 413, 414, 415, 416, 417, 418, 419,\n",
       "        420, 421, 422, 423, 424, 425, 426, 427, 428, 429, 430, 431, 432,\n",
       "        433, 434, 435, 436, 437, 438, 439, 440, 441, 442, 443, 444, 445,\n",
       "        446, 447, 448, 449, 450, 451, 452, 453, 454, 455, 456, 457, 458,\n",
       "        459, 460]),)"
      ]
     },
     "execution_count": null,
     "metadata": {},
     "output_type": "execute_result"
    }
   ],
   "source": [
    "band = sentinel_array['b3'].pixels\n",
    "band"
   ]
  },
  {
   "cell_type": "code",
   "execution_count": null,
   "id": "14095016-8f9b-4c44-a56e-8431737a7dea",
   "metadata": {},
   "outputs": [],
   "source": [
    "###### test_spectra[ band ].mean()"
   ]
  },
  {
   "cell_type": "code",
   "execution_count": null,
   "id": "0087a659-3417-4556-a3dc-fb28be26eef4",
   "metadata": {},
   "outputs": [],
   "source": [
    "## %%timeit\n",
    "sentinel_update( hab_spectra, sentinel_array )"
   ]
  },
  {
   "cell_type": "code",
   "execution_count": null,
   "id": "a012f351-9778-464c-9bf8-1d97d7ac4cda",
   "metadata": {},
   "outputs": [
    {
     "name": "stdout",
     "output_type": "stream",
     "text": [
      "Band    y_mean   y_average\n",
      "  b2     0.000  106653.831\n",
      "  b3     0.000  181290.839\n",
      "  b4     0.000  72964.013\n",
      "  b8     0.000  40665.805\n",
      "  b5     0.000  87887.892\n",
      "  b6     0.000  45640.946\n",
      "  b7     0.000  42748.780\n",
      "  8a     0.000  39435.964\n"
     ]
    }
   ],
   "source": [
    "print('Band    y_mean   y_average')\n",
    "for se in sentinel_array:\n",
    "  sentinel_array[se].compute_stats( hab_spectra )  \n",
    "  print(f'  {se}   {sentinel_array[se].y_mean:7.3f}  {sentinel_array[se].y_average:7.3f}')\n",
    "  #print(y_avg)"
   ]
  },
  {
   "cell_type": "code",
   "execution_count": null,
   "id": "063037f7-4ab3-4b48-a472-a894b1ddea4d",
   "metadata": {},
   "outputs": [],
   "source": []
  }
 ],
 "metadata": {
  "kernelspec": {
   "display_name": "python3",
   "language": "python",
   "name": "python3"
  }
 },
 "nbformat": 4,
 "nbformat_minor": 5
}
