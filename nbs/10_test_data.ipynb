{
 "cells": [
  {
   "cell_type": "code",
   "execution_count": null,
   "id": "d08dccd4-2ee3-4df2-bc1a-7cb7b7908ce1",
   "metadata": {},
   "outputs": [],
   "source": [
    "#| default_exp testing"
   ]
  },
  {
   "cell_type": "markdown",
   "id": "a042d44f-1eeb-4473-96cc-957417581eae",
   "metadata": {},
   "source": [
    "# Testing.\n",
    "\n",
    "> HABSpec Test data."
   ]
  },
  {
   "cell_type": "markdown",
   "id": "8db9e721-025e-418d-a032-01935406aadb",
   "metadata": {},
   "source": [
    "A dict of json spectra files and notes that can be selec"
   ]
  },
  {
   "cell_type": "markdown",
   "id": "f67118d9-97d3-443a-b788-8612accede15",
   "metadata": {},
   "source": [
    "## Install"
   ]
  },
  {
   "cell_type": "markdown",
   "id": "36d2adf3-68d3-493b-888d-295e32496fa4",
   "metadata": {},
   "source": [
    "```sh\n",
    "pip install RedTideProcessing\n",
    "```"
   ]
  },
  {
   "cell_type": "markdown",
   "id": "0d0035d8-260c-4ce7-b454-30a13b8f5baa",
   "metadata": {},
   "source": [
    "## How to use"
   ]
  },
  {
   "cell_type": "markdown",
   "id": "c8fffe77-6c3a-4ee7-9daa-86a69c2cac90",
   "metadata": {},
   "source": [
    "Fill me in please! Don't forget code examples:"
   ]
  },
  {
   "cell_type": "code",
   "execution_count": null,
   "id": "0efd5cca-c4ae-48f4-aa79-1cd2554b0ffd",
   "metadata": {},
   "outputs": [],
   "source": [
    "#| hide\n",
    "#from RedTideProcessing.habspec import *\n",
    "#import RedTideProcessing.habspec as habspec"
   ]
  },
  {
   "cell_type": "code",
   "execution_count": null,
   "id": "cf645f93-a24f-428e-bc3a-10cdbc059f9f",
   "metadata": {},
   "outputs": [],
   "source": [
    "#| export\n",
    "test_spectra = [  \n",
    "  {\"spectra_fn\":\"/mnt/s/2021-0717-HAB-Spec-Tampa-Bay-PIE/2021-0717-HAB-pie/164443/hab_spectra/2021-0717-164700-525866-spec.json\",\n",
    "         \"Note\":\"0. No embedded GPS data. Gulf of Mexico west of Clearwater.\"\n",
    "  },\n",
    "  \n",
    "  {\"spectra_fn\":\"/mnt/s/2021-0717-HAB-Spec-Tampa-Bay-PIE/2021-0717-HAB-pie/165347/hab_spectra/2021-0717-165910-141598-spec.json\",\n",
    "         \"Note\":\"1. Old Tampa Bay.  No embedded GPS data. Very high 700nm peak\"\n",
    "  },\n",
    "  \n",
    "  {\"spectra_fn\":\"/mnt/s/2021-1208-HAB-Lake-Parker/2021-1208-HAB-Lake-Parker/190829/hab_spectra/2021-1208-190953-177078-spec.json\",\n",
    "         \"Note\":\"2. Lake Parker, Water.  No embedded GPS data.\" \n",
    "  },\n",
    "  \n",
    "  {\"spectra_fn\":\"/mnt/s/2021-1208-HAB-Lake-Parker/2021-1208-HAB-Lake-Parker/175549/hab_spectra/2021-1208-175627-867603-spec.json\",\n",
    "         \"Note\":\"3. Lake Parker, Sky. No embedded GPS data.\"\n",
    "  },  \n",
    "  {\"spectra_fn\":\"../sample_data/2023-0718/034901/hab_spectra/2023-0718-034909-929994-spec.json\",\n",
    "          \"Note\":\"4. Has embedded GPS data.\"\n",
    "  },\n",
    "  {\n",
    "    \"spectra_fn\":\"/mnt/s/2021-1208-HAB-Lake-Parker/2021-1208-HAB-Lake-Parker/191543/hab_spectra/2021-1208-191607-388708-spec.json\",\n",
    "          \"Note\":\"5. Lake Parker Sky Spectra with teflon difuser. No embedded GPS data. \"\n",
    "  }\n",
    "  \n",
    "]"
   ]
  },
  {
   "cell_type": "code",
   "execution_count": null,
   "id": "af678f90-db9b-4afb-b02f-0036c08b4765",
   "metadata": {},
   "outputs": [],
   "source": [
    "#| export\n",
    "def select_test_file( \n",
    "  idx                 # Index number to select test file and note.\n",
    ") ->tuple:            # A tuple with (test_file_name, Note)\n",
    "  '''\n",
    "  '''\n",
    "  spectra_fn   = test_spectra[idx]['spectra_fn']\n",
    "  spectra_note = test_spectra[idx]['Note']\n",
    "  return spectra_fn, spectra_note"
   ]
  },
  {
   "cell_type": "code",
   "execution_count": null,
   "id": "967f9d44-0c7f-42d8-be95-bf39a6ff7848",
   "metadata": {},
   "outputs": [],
   "source": [
    "index_number = 0\n",
    "spectra_file, spectra_note = select_test_file( index_number )"
   ]
  },
  {
   "cell_type": "code",
   "execution_count": null,
   "id": "c5fd6e56-2892-489c-b91c-e63a54cc8e8b",
   "metadata": {},
   "outputs": [
    {
     "name": "stdout",
     "output_type": "stream",
     "text": [
      "Spectra: /mnt/s/2021-0717-HAB-Spec-Tampa-Bay-PIE/2021-0717-HAB-pie/164443/hab_spectra/2021-0717-164700-525866-spec.json\n",
      "   Note: No embedded GPS data. Gulf of Mexico west of Clearwater.\n"
     ]
    }
   ],
   "source": [
    "print(f'Spectra: {spectra_file}\\n   Note: {spectra_note}' )"
   ]
  },
  {
   "cell_type": "code",
   "execution_count": null,
   "id": "e5cfd77c-cb72-47f9-8346-79f297c931e0",
   "metadata": {},
   "outputs": [],
   "source": []
  }
 ],
 "metadata": {
  "kernelspec": {
   "display_name": "python3",
   "language": "python",
   "name": "python3"
  }
 },
 "nbformat": 4,
 "nbformat_minor": 5
}
