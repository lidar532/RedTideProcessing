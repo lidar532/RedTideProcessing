{
 "cells": [
  {
   "cell_type": "markdown",
   "metadata": {},
   "source": [
    "# RedTideProcessing\n",
    "\n",
    "> Red Tide Processing for HABSpec"
   ]
  },
  {
   "cell_type": "markdown",
   "metadata": {},
   "source": [
    "This file will become your README and also the index of your documentation."
   ]
  },
  {
   "cell_type": "markdown",
   "metadata": {},
   "source": [
    "## Install"
   ]
  },
  {
   "cell_type": "markdown",
   "metadata": {},
   "source": [
    "```sh\n",
    "pip install RedTideProcessing\n",
    "```"
   ]
  },
  {
   "cell_type": "markdown",
   "metadata": {},
   "source": [
    "## How to use"
   ]
  },
  {
   "cell_type": "markdown",
   "metadata": {},
   "source": [
    "Fill me in please! Don't forget code examples:"
   ]
  },
  {
   "cell_type": "code",
   "execution_count": null,
   "metadata": {},
   "outputs": [],
   "source": [
    "#| hide\n",
    "from   nbdev.showdoc import *\n",
    "import nbdev"
   ]
  },
  {
   "cell_type": "code",
   "execution_count": null,
   "metadata": {},
   "outputs": [],
   "source": [
    "import sys"
   ]
  },
  {
   "cell_type": "code",
   "execution_count": null,
   "metadata": {},
   "outputs": [],
   "source": [
    "#sys.path"
   ]
  },
  {
   "cell_type": "code",
   "execution_count": null,
   "metadata": {},
   "outputs": [],
   "source": [
    "import RedTideProcessing.habspec_data_class as hsdc\n",
    "import RedTideProcessing.habspec            as habspec\n",
    "import RedTideProcessing.wavelength_cal     as cal\n",
    "import RedTideProcessing.testing            as testing\n",
    "import RedTideProcessing.sentinel           as sentinel"
   ]
  },
  {
   "cell_type": "code",
   "execution_count": null,
   "metadata": {},
   "outputs": [],
   "source": [
    "spectra_file, spectra_note = testing.select_test_file( 5 )"
   ]
  },
  {
   "cell_type": "code",
   "execution_count": null,
   "metadata": {},
   "outputs": [
    {
     "name": "stdout",
     "output_type": "stream",
     "text": [
      "Spectra: /mnt/s/2021-1208-HAB-Lake-Parker/2021-1208-HAB-Lake-Parker/191543/hab_spectra/2021-1208-191607-388708-spec.json\n",
      "   Note: 5. Lake Parker Sky Spectra with teflon difuser. No embedded GPS data. \n"
     ]
    }
   ],
   "source": [
    "print(f'Spectra: {spectra_file}\\n   Note: {spectra_note}' )"
   ]
  },
  {
   "cell_type": "markdown",
   "metadata": {},
   "source": [
    "Instantiate the HABSpecra() data class."
   ]
  },
  {
   "cell_type": "code",
   "execution_count": null,
   "metadata": {},
   "outputs": [
    {
     "name": "stdout",
     "output_type": "stream",
     "text": [
      "self.Calibrated_w=False\n",
      "self.Xpixels=array([0, 1, 2, 3, 4, 5, 6, 7, 8, 9])\n",
      "self.wavelengths=array([0, 1, 2, 3, 4, 5, 6, 7, 8, 9])\n",
      "self.create_time=datetime.datetime(2023, 7, 26, 22, 46, 42, 217968)\n",
      "self.pixel0=None\n",
      "self.wavelength0=None\n",
      "self.pixel1=None\n",
      "self.wavelength1=None\n",
      "json_spectra_file_name: None\n",
      "Lat                 : None\n",
      "Lon                 : None\n",
      "altitde_m           : None\n",
      "n_saturated         : None\n",
      "raw_y_min           : None\n",
      "remove_bias         : None\n",
      "y_average           : None\n",
      "DateTime            : None\n",
      "Exposure            : None\n",
      "raw_y               : [0 1 2 3 4 5 6 7 8 9]\n",
      "summed_rows         : 0\n",
      "\n"
     ]
    }
   ],
   "source": [
    "hab_spectra = hsdc.HAB_Spectra()\n",
    "print(hab_spectra.__str__() )"
   ]
  },
  {
   "cell_type": "markdown",
   "metadata": {},
   "source": [
    "Next, we need to configure the `hab_spectra` class. This only needs to be done once\n",
    "and it needs the `hab_spectra` class, and a json spectra filename to initialize with.\n",
    "`configure_json_spectra()` adds objects to the class."
   ]
  },
  {
   "cell_type": "markdown",
   "metadata": {},
   "source": [
    " Note."
   ]
  },
  {
   "cell_type": "code",
   "execution_count": null,
   "metadata": {},
   "outputs": [],
   "source": [
    "rv = habspec.calibrate_using_2_wavelengths(   \n",
    "  hab_spectra,\n",
    "  spectra_file,\n",
    "  pixel0 =  73, wavelength0 = 430.774, \n",
    "  pixel1 = 941, wavelength1 = 759.370 \n",
    ")"
   ]
  },
  {
   "cell_type": "code",
   "execution_count": null,
   "metadata": {},
   "outputs": [
    {
     "data": {
      "text/plain": [
       "True"
      ]
     },
     "execution_count": null,
     "metadata": {},
     "output_type": "execute_result"
    }
   ],
   "source": [
    "rv"
   ]
  },
  {
   "cell_type": "code",
   "execution_count": null,
   "metadata": {},
   "outputs": [
    {
     "name": "stdout",
     "output_type": "stream",
     "text": [
      "self.Calibrated_w=True\n",
      "self.Xpixels=array([   0,    1,    2, ..., 1277, 1278, 1279])\n",
      "self.wavelengths=array([403.13862212, 403.51718894, 403.89575576, ..., 886.56845161,\n",
      "       886.94701843, 887.32558525])\n",
      "self.create_time=datetime.datetime(2023, 7, 26, 22, 46, 42, 217968)\n",
      "self.pixel0=73\n",
      "self.wavelength0=430.774\n",
      "self.pixel1=941\n",
      "self.wavelength1=759.37\n",
      "json_spectra_file_name: /mnt/s/2021-1208-HAB-Lake-Parker/2021-1208-HAB-Lake-Parker/191543/hab_spectra/2021-1208-191607-388708-spec.json\n",
      "Lat                 : None\n",
      "Lon                 : None\n",
      "altitde_m           : None\n",
      "n_saturated         : None\n",
      "raw_y_min           : None\n",
      "remove_bias         : None\n",
      "y_average           : None\n",
      "DateTime            : None\n",
      "Exposure            : None\n",
      "raw_y               : [37780 37780 37804 ... 38536 38515 38521]\n",
      "summed_rows         : 800\n",
      "Xpixels             : [   0    1    2 ... 1277 1278 1279]\n",
      "wavelengths         : [403.13862212 403.51718894 403.89575576 ... 886.56845161 886.94701843\n",
      " 887.32558525]\n",
      "error_msgs          : \n",
      "pixel0              : 73\n",
      "pixel1              : 941\n",
      "wavelength0         : 430.774\n",
      "wavelength1         : 759.37\n",
      "delta_pix           : 868\n",
      "delta_wavelength_nm : 328.596\n",
      "Calibrated_w        : True\n",
      "\n"
     ]
    }
   ],
   "source": [
    "print(hab_spectra.__str__())"
   ]
  },
  {
   "cell_type": "markdown",
   "metadata": {},
   "source": [
    " Note."
   ]
  },
  {
   "cell_type": "code",
   "execution_count": null,
   "metadata": {},
   "outputs": [],
   "source": [
    "spectra_y     = habspec.read_spectra(hab_spectra,  spectra_file, y_average=True )"
   ]
  },
  {
   "cell_type": "code",
   "execution_count": null,
   "metadata": {},
   "outputs": [
    {
     "name": "stdout",
     "output_type": "stream",
     "text": [
      "self.Calibrated_w=True\n",
      "self.Xpixels=array([   0,    1,    2, ..., 1277, 1278, 1279])\n",
      "self.wavelengths=array([403.13862212, 403.51718894, 403.89575576, ..., 886.56845161,\n",
      "       886.94701843, 887.32558525])\n",
      "self.create_time=datetime.datetime(2023, 7, 26, 22, 46, 42, 217968)\n",
      "self.pixel0=73\n",
      "self.wavelength0=430.774\n",
      "self.pixel1=941\n",
      "self.wavelength1=759.37\n",
      "json_spectra_file_name: /mnt/s/2021-1208-HAB-Lake-Parker/2021-1208-HAB-Lake-Parker/191543/hab_spectra/2021-1208-191607-388708-spec.json\n",
      "Lat                 : None\n",
      "Lon                 : None\n",
      "altitde_m           : None\n",
      "n_saturated         : None\n",
      "raw_y_min           : 37780\n",
      "remove_bias         : True\n",
      "y_average           : True\n",
      "DateTime            : None\n",
      "Exposure            : None\n",
      "raw_y               : [0.      0.      0.03    ... 0.945   0.91875 0.92625]\n",
      "summed_rows         : 800\n",
      "Xpixels             : [   0    1    2 ... 1277 1278 1279]\n",
      "wavelengths         : [403.13862212 403.51718894 403.89575576 ... 886.56845161 886.94701843\n",
      " 887.32558525]\n",
      "error_msgs          : \n",
      "pixel0              : 73\n",
      "pixel1              : 941\n",
      "wavelength0         : 430.774\n",
      "wavelength1         : 759.37\n",
      "delta_pix           : 868\n",
      "delta_wavelength_nm : 328.596\n",
      "Calibrated_w        : True\n",
      "GPS_Alt             : None\n",
      "GPS_Nsat_Inview     : None\n",
      "GPS_Status          : None\n",
      "GPS_UTC             : None\n",
      "Source              : None\n",
      "Pix_minv            : None\n",
      "sat_pix_n           : None\n",
      "Pix_maxv            : None\n",
      "\n"
     ]
    }
   ],
   "source": [
    "print(hab_spectra.__str__())"
   ]
  },
  {
   "cell_type": "code",
   "execution_count": null,
   "metadata": {},
   "outputs": [
    {
     "name": "stdout",
     "output_type": "stream",
     "text": [
      "band center_nm width_nm color w_low px_low w_high px_high \n",
      "b1      442.70     20.0  gray 432.7     78  452.7     131\n",
      "b2      492.70     65.0  gray 460.2    150  525.2     322\n",
      "b3      559.80     35.0  gray 542.3    367  577.3     460\n",
      "b4      664.60     30.0  gray 649.6    651  679.6     730\n",
      "b8      832.80    105.0  gray 780.3    997  885.3    1274\n",
      "b5      704.10     14.0  gray 697.1    777  711.1     814\n",
      "b6      740.50     14.0  gray 733.5    873  747.5     910\n",
      "b7      782.80     19.0  gray 773.3    978  792.3    1028\n",
      "8a      864.70     21.0  gray 854.2   1192  875.2    1247\n"
     ]
    }
   ],
   "source": [
    "sentinel_array = {}\n",
    "print(sentinel.Sentinal_Band.header )\n",
    "for k in sentinel.sentinal_s2a.keys():\n",
    "  sentinel_array[k] = sentinel.Sentinal_Band( hab_spectra, k, sentinel.sentinal_s2a[k][0], sentinel.sentinal_s2a[k][1], 'gray')\n",
    "  print(sentinel_array[k].__str__() )"
   ]
  },
  {
   "cell_type": "code",
   "execution_count": null,
   "metadata": {},
   "outputs": [
    {
     "data": {
      "text/plain": [
       "[681.25, 7.5, 'Chl fluorescence peak, red edge']"
      ]
     },
     "execution_count": null,
     "metadata": {},
     "output_type": "execute_result"
    }
   ],
   "source": [
    "sentinel.OLCI_Bands['Oa10']"
   ]
  },
  {
   "cell_type": "code",
   "execution_count": null,
   "metadata": {},
   "outputs": [
    {
     "name": "stdout",
     "output_type": "stream",
     "text": [
      "band center_nm width_nm color w_low px_low w_high px_high \n",
      "Oa1      400.00     15.0  gray 392.5     -1  407.5      11\n",
      "Oa2      412.50     10.0  gray 407.5     11  417.5      37\n",
      "Oa3      442.50     10.0  gray 437.5     90  447.5     117\n",
      "Oa4      490.00     10.0  gray 485.0    216  495.0     242\n",
      "Oa5      510.00     10.0  gray 505.0    269  515.0     295\n",
      "Oa6      560.00     10.0  gray 555.0    401  565.0     427\n",
      "Oa7      620.00     10.0  gray 615.0    560  625.0     586\n",
      "Oa8      665.00     10.0  gray 660.0    679  670.0     705\n",
      "Oa9      673.75      7.5  gray 670.0    705  677.5     725\n",
      "Oa10      681.25      7.5  gray 677.5    725  685.0     745\n",
      "Oa11      708.75     10.0  gray 703.8    794  713.8     821\n",
      "Oa12      753.75      7.5  gray 750.0    916  757.5     936\n",
      "Oa13      761.25      2.5  gray 760.0    943  762.5     950\n",
      "Oa14      764.38      3.8  gray 762.5    950  766.3     959\n",
      "Oa15      767.50      2.5  gray 766.2    959  768.8     966\n",
      "Oa16      778.75     15.0  gray 771.2    973  786.2    1012\n",
      "Oa17      865.00     20.0  gray 855.0   1194  875.0    1247\n",
      "Oa18      885.00     10.0  gray 880.0   1260  890.0      -1\n",
      "Oa19      900.00     10.0  gray 895.0     -1  905.0      -1\n",
      "Oa20      940.00     20.0  gray 930.0     -1  950.0      -1\n",
      "Oa21      1020.00     40.0  gray1000.0     -1 1040.0      -1\n"
     ]
    }
   ],
   "source": [
    "olci_array = {}\n",
    "print(sentinel.Sentinal_Band.header )\n",
    "for k in sentinel.OLCI_Bands.keys():\n",
    "  olci_array[k] = sentinel.Sentinal_Band( hab_spectra, k, sentinel.OLCI_Bands[k][0], sentinel.OLCI_Bands[k][1], 'gray')\n",
    "  print(olci_array[k].__str__() )"
   ]
  },
  {
   "cell_type": "code",
   "execution_count": null,
   "metadata": {},
   "outputs": [],
   "source": [
    "import panel            as pn\n",
    "from bokeh.plotting import figure, show \n",
    "from bokeh.io       import show, output_notebook"
   ]
  },
  {
   "cell_type": "code",
   "execution_count": null,
   "metadata": {},
   "outputs": [
    {
     "data": {
      "text/html": [
       "<style>\n",
       "        .bk-notebook-logo {\n",
       "            display: block;\n",
       "            width: 20px;\n",
       "            height: 20px;\n",
       "            background-image: url(data:image/png;base64,iVBORw0KGgoAAAANSUhEUgAAABQAAAAUCAYAAACNiR0NAAAABHNCSVQICAgIfAhkiAAAAAlwSFlzAAALEgAACxIB0t1+/AAAABx0RVh0U29mdHdhcmUAQWRvYmUgRmlyZXdvcmtzIENTNui8sowAAAOkSURBVDiNjZRtaJVlGMd/1/08zzln5zjP1LWcU9N0NkN8m2CYjpgQYQXqSs0I84OLIC0hkEKoPtiH3gmKoiJDU7QpLgoLjLIQCpEsNJ1vqUOdO7ppbuec5+V+rj4ctwzd8IIbbi6u+8f1539dt3A78eXC7QizUF7gyV1fD1Yqg4JWz84yffhm0qkFqBogB9rM8tZdtwVsPUhWhGcFJngGeWrPzHm5oaMmkfEg1usvLFyc8jLRqDOMru7AyC8saQr7GG7f5fvDeH7Ej8CM66nIF+8yngt6HWaKh7k49Soy9nXurCi1o3qUbS3zWfrYeQDTB/Qj6kX6Ybhw4B+bOYoLKCC9H3Nu/leUTZ1JdRWkkn2ldcCamzrcf47KKXdAJllSlxAOkRgyHsGC/zRday5Qld9DyoM4/q/rUoy/CXh3jzOu3bHUVZeU+DEn8FInkPBFlu3+nW3Nw0mk6vCDiWg8CeJaxEwuHS3+z5RgY+YBR6V1Z1nxSOfoaPa4LASWxxdNp+VWTk7+4vzaou8v8PN+xo+KY2xsw6une2frhw05CTYOmQvsEhjhWjn0bmXPjpE1+kplmmkP3suftwTubK9Vq22qKmrBhpY4jvd5afdRA3wGjFAgcnTK2s4hY0/GPNIb0nErGMCRxWOOX64Z8RAC4oCXdklmEvcL8o0BfkNK4lUg9HTl+oPlQxdNo3Mg4Nv175e/1LDGzZen30MEjRUtmXSfiTVu1kK8W4txyV6BMKlbgk3lMwYCiusNy9fVfvvwMxv8Ynl6vxoByANLTWplvuj/nF9m2+PDtt1eiHPBr1oIfhCChQMBw6Aw0UulqTKZdfVvfG7VcfIqLG9bcldL/+pdWTLxLUy8Qq38heUIjh4XlzZxzQm19lLFlr8vdQ97rjZVOLf8nclzckbcD4wxXMidpX30sFd37Fv/GtwwhzhxGVAprjbg0gCAEeIgwCZyTV2Z1REEW8O4py0wsjeloKoMr6iCY6dP92H6Vw/oTyICIthibxjm/DfN9lVz8IqtqKYLUXfoKVMVQVVJOElGjrnnUt9T9wbgp8AyYKaGlqingHZU/uG2NTZSVqwHQTWkx9hxjkpWDaCg6Ckj5qebgBVbT3V3NNXMSiWSDdGV3hrtzla7J+duwPOToIg42ChPQOQjspnSlp1V+Gjdged7+8UN5CRAV7a5EdFNwCjEaBR27b3W890TE7g24NAP/mMDXRWrGoFPQI9ls/MWO2dWFAar/xcOIImbbpA3zgAAAABJRU5ErkJggg==);\n",
       "        }\n",
       "    </style>\n",
       "    <div>\n",
       "        <a href=\"https://bokeh.org\" target=\"_blank\" class=\"bk-notebook-logo\"></a>\n",
       "        <span id=\"e1770c8a-1662-496b-a7cf-6cb484c211eb\">Loading BokehJS ...</span>\n",
       "    </div>\n"
      ]
     },
     "metadata": {},
     "output_type": "display_data"
    },
    {
     "data": {
      "application/javascript": [
       "(function(root) {\n",
       "  function now() {\n",
       "    return new Date();\n",
       "  }\n",
       "\n",
       "  const force = true;\n",
       "\n",
       "  if (typeof root._bokeh_onload_callbacks === \"undefined\" || force === true) {\n",
       "    root._bokeh_onload_callbacks = [];\n",
       "    root._bokeh_is_loading = undefined;\n",
       "  }\n",
       "\n",
       "const JS_MIME_TYPE = 'application/javascript';\n",
       "  const HTML_MIME_TYPE = 'text/html';\n",
       "  const EXEC_MIME_TYPE = 'application/vnd.bokehjs_exec.v0+json';\n",
       "  const CLASS_NAME = 'output_bokeh rendered_html';\n",
       "\n",
       "  /**\n",
       "   * Render data to the DOM node\n",
       "   */\n",
       "  function render(props, node) {\n",
       "    const script = document.createElement(\"script\");\n",
       "    node.appendChild(script);\n",
       "  }\n",
       "\n",
       "  /**\n",
       "   * Handle when an output is cleared or removed\n",
       "   */\n",
       "  function handleClearOutput(event, handle) {\n",
       "    const cell = handle.cell;\n",
       "\n",
       "    const id = cell.output_area._bokeh_element_id;\n",
       "    const server_id = cell.output_area._bokeh_server_id;\n",
       "    // Clean up Bokeh references\n",
       "    if (id != null && id in Bokeh.index) {\n",
       "      Bokeh.index[id].model.document.clear();\n",
       "      delete Bokeh.index[id];\n",
       "    }\n",
       "\n",
       "    if (server_id !== undefined) {\n",
       "      // Clean up Bokeh references\n",
       "      const cmd_clean = \"from bokeh.io.state import curstate; print(curstate().uuid_to_server['\" + server_id + \"'].get_sessions()[0].document.roots[0]._id)\";\n",
       "      cell.notebook.kernel.execute(cmd_clean, {\n",
       "        iopub: {\n",
       "          output: function(msg) {\n",
       "            const id = msg.content.text.trim();\n",
       "            if (id in Bokeh.index) {\n",
       "              Bokeh.index[id].model.document.clear();\n",
       "              delete Bokeh.index[id];\n",
       "            }\n",
       "          }\n",
       "        }\n",
       "      });\n",
       "      // Destroy server and session\n",
       "      const cmd_destroy = \"import bokeh.io.notebook as ion; ion.destroy_server('\" + server_id + \"')\";\n",
       "      cell.notebook.kernel.execute(cmd_destroy);\n",
       "    }\n",
       "  }\n",
       "\n",
       "  /**\n",
       "   * Handle when a new output is added\n",
       "   */\n",
       "  function handleAddOutput(event, handle) {\n",
       "    const output_area = handle.output_area;\n",
       "    const output = handle.output;\n",
       "\n",
       "    // limit handleAddOutput to display_data with EXEC_MIME_TYPE content only\n",
       "    if ((output.output_type != \"display_data\") || (!Object.prototype.hasOwnProperty.call(output.data, EXEC_MIME_TYPE))) {\n",
       "      return\n",
       "    }\n",
       "\n",
       "    const toinsert = output_area.element.find(\".\" + CLASS_NAME.split(' ')[0]);\n",
       "\n",
       "    if (output.metadata[EXEC_MIME_TYPE][\"id\"] !== undefined) {\n",
       "      toinsert[toinsert.length - 1].firstChild.textContent = output.data[JS_MIME_TYPE];\n",
       "      // store reference to embed id on output_area\n",
       "      output_area._bokeh_element_id = output.metadata[EXEC_MIME_TYPE][\"id\"];\n",
       "    }\n",
       "    if (output.metadata[EXEC_MIME_TYPE][\"server_id\"] !== undefined) {\n",
       "      const bk_div = document.createElement(\"div\");\n",
       "      bk_div.innerHTML = output.data[HTML_MIME_TYPE];\n",
       "      const script_attrs = bk_div.children[0].attributes;\n",
       "      for (let i = 0; i < script_attrs.length; i++) {\n",
       "        toinsert[toinsert.length - 1].firstChild.setAttribute(script_attrs[i].name, script_attrs[i].value);\n",
       "        toinsert[toinsert.length - 1].firstChild.textContent = bk_div.children[0].textContent\n",
       "      }\n",
       "      // store reference to server id on output_area\n",
       "      output_area._bokeh_server_id = output.metadata[EXEC_MIME_TYPE][\"server_id\"];\n",
       "    }\n",
       "  }\n",
       "\n",
       "  function register_renderer(events, OutputArea) {\n",
       "\n",
       "    function append_mime(data, metadata, element) {\n",
       "      // create a DOM node to render to\n",
       "      const toinsert = this.create_output_subarea(\n",
       "        metadata,\n",
       "        CLASS_NAME,\n",
       "        EXEC_MIME_TYPE\n",
       "      );\n",
       "      this.keyboard_manager.register_events(toinsert);\n",
       "      // Render to node\n",
       "      const props = {data: data, metadata: metadata[EXEC_MIME_TYPE]};\n",
       "      render(props, toinsert[toinsert.length - 1]);\n",
       "      element.append(toinsert);\n",
       "      return toinsert\n",
       "    }\n",
       "\n",
       "    /* Handle when an output is cleared or removed */\n",
       "    events.on('clear_output.CodeCell', handleClearOutput);\n",
       "    events.on('delete.Cell', handleClearOutput);\n",
       "\n",
       "    /* Handle when a new output is added */\n",
       "    events.on('output_added.OutputArea', handleAddOutput);\n",
       "\n",
       "    /**\n",
       "     * Register the mime type and append_mime function with output_area\n",
       "     */\n",
       "    OutputArea.prototype.register_mime_type(EXEC_MIME_TYPE, append_mime, {\n",
       "      /* Is output safe? */\n",
       "      safe: true,\n",
       "      /* Index of renderer in `output_area.display_order` */\n",
       "      index: 0\n",
       "    });\n",
       "  }\n",
       "\n",
       "  // register the mime type if in Jupyter Notebook environment and previously unregistered\n",
       "  if (root.Jupyter !== undefined) {\n",
       "    const events = require('base/js/events');\n",
       "    const OutputArea = require('notebook/js/outputarea').OutputArea;\n",
       "\n",
       "    if (OutputArea.prototype.mime_types().indexOf(EXEC_MIME_TYPE) == -1) {\n",
       "      register_renderer(events, OutputArea);\n",
       "    }\n",
       "  }\n",
       "  if (typeof (root._bokeh_timeout) === \"undefined\" || force === true) {\n",
       "    root._bokeh_timeout = Date.now() + 5000;\n",
       "    root._bokeh_failed_load = false;\n",
       "  }\n",
       "\n",
       "  const NB_LOAD_WARNING = {'data': {'text/html':\n",
       "     \"<div style='background-color: #fdd'>\\n\"+\n",
       "     \"<p>\\n\"+\n",
       "     \"BokehJS does not appear to have successfully loaded. If loading BokehJS from CDN, this \\n\"+\n",
       "     \"may be due to a slow or bad network connection. Possible fixes:\\n\"+\n",
       "     \"</p>\\n\"+\n",
       "     \"<ul>\\n\"+\n",
       "     \"<li>re-rerun `output_notebook()` to attempt to load from CDN again, or</li>\\n\"+\n",
       "     \"<li>use INLINE resources instead, as so:</li>\\n\"+\n",
       "     \"</ul>\\n\"+\n",
       "     \"<code>\\n\"+\n",
       "     \"from bokeh.resources import INLINE\\n\"+\n",
       "     \"output_notebook(resources=INLINE)\\n\"+\n",
       "     \"</code>\\n\"+\n",
       "     \"</div>\"}};\n",
       "\n",
       "  function display_loaded() {\n",
       "    const el = document.getElementById(\"e1770c8a-1662-496b-a7cf-6cb484c211eb\");\n",
       "    if (el != null) {\n",
       "      el.textContent = \"BokehJS is loading...\";\n",
       "    }\n",
       "    if (root.Bokeh !== undefined) {\n",
       "      if (el != null) {\n",
       "        el.textContent = \"BokehJS \" + root.Bokeh.version + \" successfully loaded.\";\n",
       "      }\n",
       "    } else if (Date.now() < root._bokeh_timeout) {\n",
       "      setTimeout(display_loaded, 100)\n",
       "    }\n",
       "  }\n",
       "\n",
       "  function run_callbacks() {\n",
       "    try {\n",
       "      root._bokeh_onload_callbacks.forEach(function(callback) {\n",
       "        if (callback != null)\n",
       "          callback();\n",
       "      });\n",
       "    } finally {\n",
       "      delete root._bokeh_onload_callbacks\n",
       "    }\n",
       "    console.debug(\"Bokeh: all callbacks have finished\");\n",
       "  }\n",
       "\n",
       "  function load_libs(css_urls, js_urls, callback) {\n",
       "    if (css_urls == null) css_urls = [];\n",
       "    if (js_urls == null) js_urls = [];\n",
       "\n",
       "    root._bokeh_onload_callbacks.push(callback);\n",
       "    if (root._bokeh_is_loading > 0) {\n",
       "      console.debug(\"Bokeh: BokehJS is being loaded, scheduling callback at\", now());\n",
       "      return null;\n",
       "    }\n",
       "    if (js_urls == null || js_urls.length === 0) {\n",
       "      run_callbacks();\n",
       "      return null;\n",
       "    }\n",
       "    console.debug(\"Bokeh: BokehJS not loaded, scheduling load and callback at\", now());\n",
       "    root._bokeh_is_loading = css_urls.length + js_urls.length;\n",
       "\n",
       "    function on_load() {\n",
       "      root._bokeh_is_loading--;\n",
       "      if (root._bokeh_is_loading === 0) {\n",
       "        console.debug(\"Bokeh: all BokehJS libraries/stylesheets loaded\");\n",
       "        run_callbacks()\n",
       "      }\n",
       "    }\n",
       "\n",
       "    function on_error(url) {\n",
       "      console.error(\"failed to load \" + url);\n",
       "    }\n",
       "\n",
       "    for (let i = 0; i < css_urls.length; i++) {\n",
       "      const url = css_urls[i];\n",
       "      const element = document.createElement(\"link\");\n",
       "      element.onload = on_load;\n",
       "      element.onerror = on_error.bind(null, url);\n",
       "      element.rel = \"stylesheet\";\n",
       "      element.type = \"text/css\";\n",
       "      element.href = url;\n",
       "      console.debug(\"Bokeh: injecting link tag for BokehJS stylesheet: \", url);\n",
       "      document.body.appendChild(element);\n",
       "    }\n",
       "\n",
       "    for (let i = 0; i < js_urls.length; i++) {\n",
       "      const url = js_urls[i];\n",
       "      const element = document.createElement('script');\n",
       "      element.onload = on_load;\n",
       "      element.onerror = on_error.bind(null, url);\n",
       "      element.async = false;\n",
       "      element.src = url;\n",
       "      console.debug(\"Bokeh: injecting script tag for BokehJS library: \", url);\n",
       "      document.head.appendChild(element);\n",
       "    }\n",
       "  };\n",
       "\n",
       "  function inject_raw_css(css) {\n",
       "    const element = document.createElement(\"style\");\n",
       "    element.appendChild(document.createTextNode(css));\n",
       "    document.body.appendChild(element);\n",
       "  }\n",
       "\n",
       "  const js_urls = [\"https://cdn.bokeh.org/bokeh/release/bokeh-3.1.1.min.js\", \"https://cdn.bokeh.org/bokeh/release/bokeh-gl-3.1.1.min.js\", \"https://cdn.bokeh.org/bokeh/release/bokeh-widgets-3.1.1.min.js\", \"https://cdn.bokeh.org/bokeh/release/bokeh-tables-3.1.1.min.js\", \"https://cdn.bokeh.org/bokeh/release/bokeh-mathjax-3.1.1.min.js\", \"https://unpkg.com/@holoviz/panel@1.1.0/dist/panel.min.js\"];\n",
       "  const css_urls = [];\n",
       "\n",
       "  const inline_js = [    function(Bokeh) {\n",
       "      Bokeh.set_log_level(\"info\");\n",
       "    },\n",
       "function(Bokeh) {\n",
       "    }\n",
       "  ];\n",
       "\n",
       "  function run_inline_js() {\n",
       "    if (root.Bokeh !== undefined || force === true) {\n",
       "          for (let i = 0; i < inline_js.length; i++) {\n",
       "      inline_js[i].call(root, root.Bokeh);\n",
       "    }\n",
       "if (force === true) {\n",
       "        display_loaded();\n",
       "      }} else if (Date.now() < root._bokeh_timeout) {\n",
       "      setTimeout(run_inline_js, 100);\n",
       "    } else if (!root._bokeh_failed_load) {\n",
       "      console.log(\"Bokeh: BokehJS failed to load within specified timeout.\");\n",
       "      root._bokeh_failed_load = true;\n",
       "    } else if (force !== true) {\n",
       "      const cell = $(document.getElementById(\"e1770c8a-1662-496b-a7cf-6cb484c211eb\")).parents('.cell').data().cell;\n",
       "      cell.output_area.append_execute_result(NB_LOAD_WARNING)\n",
       "    }\n",
       "  }\n",
       "\n",
       "  if (root._bokeh_is_loading === 0) {\n",
       "    console.debug(\"Bokeh: BokehJS loaded, going straight to plotting\");\n",
       "    run_inline_js();\n",
       "  } else {\n",
       "    load_libs(css_urls, js_urls, function() {\n",
       "      console.debug(\"Bokeh: BokehJS plotting callback run at\", now());\n",
       "      run_inline_js();\n",
       "    });\n",
       "  }\n",
       "}(window));"
      ],
      "application/vnd.bokehjs_load.v0+json": "(function(root) {\n  function now() {\n    return new Date();\n  }\n\n  const force = true;\n\n  if (typeof root._bokeh_onload_callbacks === \"undefined\" || force === true) {\n    root._bokeh_onload_callbacks = [];\n    root._bokeh_is_loading = undefined;\n  }\n\n\n  if (typeof (root._bokeh_timeout) === \"undefined\" || force === true) {\n    root._bokeh_timeout = Date.now() + 5000;\n    root._bokeh_failed_load = false;\n  }\n\n  const NB_LOAD_WARNING = {'data': {'text/html':\n     \"<div style='background-color: #fdd'>\\n\"+\n     \"<p>\\n\"+\n     \"BokehJS does not appear to have successfully loaded. If loading BokehJS from CDN, this \\n\"+\n     \"may be due to a slow or bad network connection. Possible fixes:\\n\"+\n     \"</p>\\n\"+\n     \"<ul>\\n\"+\n     \"<li>re-rerun `output_notebook()` to attempt to load from CDN again, or</li>\\n\"+\n     \"<li>use INLINE resources instead, as so:</li>\\n\"+\n     \"</ul>\\n\"+\n     \"<code>\\n\"+\n     \"from bokeh.resources import INLINE\\n\"+\n     \"output_notebook(resources=INLINE)\\n\"+\n     \"</code>\\n\"+\n     \"</div>\"}};\n\n  function display_loaded() {\n    const el = document.getElementById(\"e1770c8a-1662-496b-a7cf-6cb484c211eb\");\n    if (el != null) {\n      el.textContent = \"BokehJS is loading...\";\n    }\n    if (root.Bokeh !== undefined) {\n      if (el != null) {\n        el.textContent = \"BokehJS \" + root.Bokeh.version + \" successfully loaded.\";\n      }\n    } else if (Date.now() < root._bokeh_timeout) {\n      setTimeout(display_loaded, 100)\n    }\n  }\n\n  function run_callbacks() {\n    try {\n      root._bokeh_onload_callbacks.forEach(function(callback) {\n        if (callback != null)\n          callback();\n      });\n    } finally {\n      delete root._bokeh_onload_callbacks\n    }\n    console.debug(\"Bokeh: all callbacks have finished\");\n  }\n\n  function load_libs(css_urls, js_urls, callback) {\n    if (css_urls == null) css_urls = [];\n    if (js_urls == null) js_urls = [];\n\n    root._bokeh_onload_callbacks.push(callback);\n    if (root._bokeh_is_loading > 0) {\n      console.debug(\"Bokeh: BokehJS is being loaded, scheduling callback at\", now());\n      return null;\n    }\n    if (js_urls == null || js_urls.length === 0) {\n      run_callbacks();\n      return null;\n    }\n    console.debug(\"Bokeh: BokehJS not loaded, scheduling load and callback at\", now());\n    root._bokeh_is_loading = css_urls.length + js_urls.length;\n\n    function on_load() {\n      root._bokeh_is_loading--;\n      if (root._bokeh_is_loading === 0) {\n        console.debug(\"Bokeh: all BokehJS libraries/stylesheets loaded\");\n        run_callbacks()\n      }\n    }\n\n    function on_error(url) {\n      console.error(\"failed to load \" + url);\n    }\n\n    for (let i = 0; i < css_urls.length; i++) {\n      const url = css_urls[i];\n      const element = document.createElement(\"link\");\n      element.onload = on_load;\n      element.onerror = on_error.bind(null, url);\n      element.rel = \"stylesheet\";\n      element.type = \"text/css\";\n      element.href = url;\n      console.debug(\"Bokeh: injecting link tag for BokehJS stylesheet: \", url);\n      document.body.appendChild(element);\n    }\n\n    for (let i = 0; i < js_urls.length; i++) {\n      const url = js_urls[i];\n      const element = document.createElement('script');\n      element.onload = on_load;\n      element.onerror = on_error.bind(null, url);\n      element.async = false;\n      element.src = url;\n      console.debug(\"Bokeh: injecting script tag for BokehJS library: \", url);\n      document.head.appendChild(element);\n    }\n  };\n\n  function inject_raw_css(css) {\n    const element = document.createElement(\"style\");\n    element.appendChild(document.createTextNode(css));\n    document.body.appendChild(element);\n  }\n\n  const js_urls = [\"https://cdn.bokeh.org/bokeh/release/bokeh-3.1.1.min.js\", \"https://cdn.bokeh.org/bokeh/release/bokeh-gl-3.1.1.min.js\", \"https://cdn.bokeh.org/bokeh/release/bokeh-widgets-3.1.1.min.js\", \"https://cdn.bokeh.org/bokeh/release/bokeh-tables-3.1.1.min.js\", \"https://cdn.bokeh.org/bokeh/release/bokeh-mathjax-3.1.1.min.js\", \"https://unpkg.com/@holoviz/panel@1.1.0/dist/panel.min.js\"];\n  const css_urls = [];\n\n  const inline_js = [    function(Bokeh) {\n      Bokeh.set_log_level(\"info\");\n    },\nfunction(Bokeh) {\n    }\n  ];\n\n  function run_inline_js() {\n    if (root.Bokeh !== undefined || force === true) {\n          for (let i = 0; i < inline_js.length; i++) {\n      inline_js[i].call(root, root.Bokeh);\n    }\nif (force === true) {\n        display_loaded();\n      }} else if (Date.now() < root._bokeh_timeout) {\n      setTimeout(run_inline_js, 100);\n    } else if (!root._bokeh_failed_load) {\n      console.log(\"Bokeh: BokehJS failed to load within specified timeout.\");\n      root._bokeh_failed_load = true;\n    } else if (force !== true) {\n      const cell = $(document.getElementById(\"e1770c8a-1662-496b-a7cf-6cb484c211eb\")).parents('.cell').data().cell;\n      cell.output_area.append_execute_result(NB_LOAD_WARNING)\n    }\n  }\n\n  if (root._bokeh_is_loading === 0) {\n    console.debug(\"Bokeh: BokehJS loaded, going straight to plotting\");\n    run_inline_js();\n  } else {\n    load_libs(css_urls, js_urls, function() {\n      console.debug(\"Bokeh: BokehJS plotting callback run at\", now());\n      run_inline_js();\n    });\n  }\n}(window));"
     },
     "metadata": {},
     "output_type": "display_data"
    }
   ],
   "source": [
    "output_notebook()"
   ]
  },
  {
   "cell_type": "code",
   "execution_count": null,
   "metadata": {},
   "outputs": [
    {
     "name": "stdout",
     "output_type": "stream",
     "text": [
      "/mnt/s/2021-1208-HAB-Lake-Parker/2021-1208-HAB-Lake-Parker/191543/hab_spectra/2021-1208-191607-388708-spec.json\n"
     ]
    }
   ],
   "source": [
    "print(spectra_file)\n",
    "spectra_y = habspec.read_spectra(hab_spectra,  spectra_file, y_average=True )\n",
    "y_max = hab_spectra.raw_y.max()"
   ]
  },
  {
   "cell_type": "code",
   "execution_count": null,
   "metadata": {},
   "outputs": [],
   "source": [
    "from bokeh.models import ColumnDataSource, Label, LabelSet, Range1d\n",
    "#ts = test_spectra[1]\n",
    "#spectra_file = ts[0]\n",
    "screen_height = 300\n",
    "screen_width  = 700"
   ]
  },
  {
   "cell_type": "code",
   "execution_count": null,
   "metadata": {},
   "outputs": [],
   "source": [
    "# Generate the Bokeh plot widget.\n",
    "spectra_w = figure(       title = f\"{ hab_spectra.json_spectra_file_name.split('/')[-1]},    {spectra_note}\",\n",
    "                   x_axis_label = 'Wavelength (nm)', \n",
    "                   y_axis_label = 'Intensity (Counts)',\n",
    "                         height = 300, \n",
    "                          width= 700 \n",
    "                  )"
   ]
  },
  {
   "cell_type": "code",
   "execution_count": null,
   "metadata": {},
   "outputs": [],
   "source": [
    "# Generate and plot Fraunhofer lines.\n",
    "fran_x, fran_y = cal.gen_reference_lines( cal.Fraunhofer_lines, y_max=y_max )\n",
    "junk = spectra_w.multi_line(fran_x, fran_y, color='lightgray', legend_label=\"Fraunhofer Lines.\" )"
   ]
  },
  {
   "cell_type": "code",
   "execution_count": null,
   "metadata": {},
   "outputs": [
    {
     "name": "stderr",
     "output_type": "stream",
     "text": [
      "/home/wright/miniconda3/envs/dss7/lib/python3.11/site-packages/numpy/lib/function_base.py:518: RuntimeWarning: Mean of empty slice.\n",
      "  avg = a.mean(axis, **keepdims_kw)\n",
      "/home/wright/miniconda3/envs/dss7/lib/python3.11/site-packages/numpy/core/_methods.py:192: RuntimeWarning: invalid value encountered in scalar divide\n",
      "  ret = ret.dtype.type(ret / rcount)\n"
     ]
    }
   ],
   "source": [
    "# Plot Sentinel bands.\n",
    "sentinel.sentinel_update( hab_spectra, olci_array )\n",
    "for se in olci_array:\n",
    "  fill_color = habspec.wavelength_2_RGB_str( olci_array[se].center_nm, alpha=255 )\n",
    "  spectra_w.rect(         x = olci_array[se].center_nm, \n",
    "                          y = olci_array[se].y_average, \n",
    "                      width = olci_array[se].width_nm, \n",
    "                     height = y_max*.05,\n",
    "                 line_width = 1, \n",
    "                 fill_color = fill_color )"
   ]
  },
  {
   "cell_type": "code",
   "execution_count": null,
   "metadata": {},
   "outputs": [
    {
     "data": {
      "text/html": [
       "\n",
       "  <div id=\"df6a0939-8f17-4c8b-841c-09038736244d\" data-root-id=\"p1002\" style=\"display: contents;\"></div>\n"
      ]
     },
     "metadata": {},
     "output_type": "display_data"
    },
    {
     "data": {
      "application/javascript": [
       "(function(root) {\n",
       "  function embed_document(root) {\n",
       "  const docs_json = {\"5003553d-d05d-4b24-af5b-948e7ad09fcd\":{\"version\":\"3.1.1\",\"title\":\"Bokeh Application\",\"defs\":[{\"type\":\"model\",\"name\":\"ReactiveHTML1\"},{\"type\":\"model\",\"name\":\"FlexBox1\",\"properties\":[{\"name\":\"align_content\",\"kind\":\"Any\",\"default\":\"flex-start\"},{\"name\":\"align_items\",\"kind\":\"Any\",\"default\":\"flex-start\"},{\"name\":\"flex_direction\",\"kind\":\"Any\",\"default\":\"row\"},{\"name\":\"flex_wrap\",\"kind\":\"Any\",\"default\":\"wrap\"},{\"name\":\"justify_content\",\"kind\":\"Any\",\"default\":\"flex-start\"}]},{\"type\":\"model\",\"name\":\"FloatPanel1\",\"properties\":[{\"name\":\"config\",\"kind\":\"Any\",\"default\":{\"type\":\"map\"}},{\"name\":\"contained\",\"kind\":\"Any\",\"default\":true},{\"name\":\"position\",\"kind\":\"Any\",\"default\":\"right-top\"},{\"name\":\"offsetx\",\"kind\":\"Any\",\"default\":null},{\"name\":\"offsety\",\"kind\":\"Any\",\"default\":null},{\"name\":\"theme\",\"kind\":\"Any\",\"default\":\"primary\"},{\"name\":\"status\",\"kind\":\"Any\",\"default\":\"normalized\"}]},{\"type\":\"model\",\"name\":\"GridStack1\",\"properties\":[{\"name\":\"mode\",\"kind\":\"Any\",\"default\":\"warn\"},{\"name\":\"ncols\",\"kind\":\"Any\",\"default\":null},{\"name\":\"nrows\",\"kind\":\"Any\",\"default\":null},{\"name\":\"allow_resize\",\"kind\":\"Any\",\"default\":true},{\"name\":\"allow_drag\",\"kind\":\"Any\",\"default\":true},{\"name\":\"state\",\"kind\":\"Any\",\"default\":[]}]},{\"type\":\"model\",\"name\":\"drag1\",\"properties\":[{\"name\":\"slider_width\",\"kind\":\"Any\",\"default\":5},{\"name\":\"slider_color\",\"kind\":\"Any\",\"default\":\"black\"},{\"name\":\"value\",\"kind\":\"Any\",\"default\":50}]},{\"type\":\"model\",\"name\":\"click1\",\"properties\":[{\"name\":\"terminal_output\",\"kind\":\"Any\",\"default\":\"\"},{\"name\":\"debug_name\",\"kind\":\"Any\",\"default\":\"\"},{\"name\":\"clears\",\"kind\":\"Any\",\"default\":0}]},{\"type\":\"model\",\"name\":\"FastWrapper1\",\"properties\":[{\"name\":\"object\",\"kind\":\"Any\",\"default\":null},{\"name\":\"style\",\"kind\":\"Any\",\"default\":null}]},{\"type\":\"model\",\"name\":\"NotificationAreaBase1\",\"properties\":[{\"name\":\"position\",\"kind\":\"Any\",\"default\":\"bottom-right\"},{\"name\":\"_clear\",\"kind\":\"Any\",\"default\":0}]},{\"type\":\"model\",\"name\":\"NotificationArea1\",\"properties\":[{\"name\":\"notifications\",\"kind\":\"Any\",\"default\":[]},{\"name\":\"position\",\"kind\":\"Any\",\"default\":\"bottom-right\"},{\"name\":\"_clear\",\"kind\":\"Any\",\"default\":0},{\"name\":\"types\",\"kind\":\"Any\",\"default\":[{\"type\":\"map\",\"entries\":[[\"type\",\"warning\"],[\"background\",\"#ffc107\"],[\"icon\",{\"type\":\"map\",\"entries\":[[\"className\",\"fas fa-exclamation-triangle\"],[\"tagName\",\"i\"],[\"color\",\"white\"]]}]]},{\"type\":\"map\",\"entries\":[[\"type\",\"info\"],[\"background\",\"#007bff\"],[\"icon\",{\"type\":\"map\",\"entries\":[[\"className\",\"fas fa-info-circle\"],[\"tagName\",\"i\"],[\"color\",\"white\"]]}]]}]}]},{\"type\":\"model\",\"name\":\"Notification\",\"properties\":[{\"name\":\"background\",\"kind\":\"Any\",\"default\":null},{\"name\":\"duration\",\"kind\":\"Any\",\"default\":3000},{\"name\":\"icon\",\"kind\":\"Any\",\"default\":null},{\"name\":\"message\",\"kind\":\"Any\",\"default\":\"\"},{\"name\":\"notification_type\",\"kind\":\"Any\",\"default\":null},{\"name\":\"_destroyed\",\"kind\":\"Any\",\"default\":false}]},{\"type\":\"model\",\"name\":\"TemplateActions1\",\"properties\":[{\"name\":\"open_modal\",\"kind\":\"Any\",\"default\":0},{\"name\":\"close_modal\",\"kind\":\"Any\",\"default\":0}]},{\"type\":\"model\",\"name\":\"BootstrapTemplateActions1\",\"properties\":[{\"name\":\"open_modal\",\"kind\":\"Any\",\"default\":0},{\"name\":\"close_modal\",\"kind\":\"Any\",\"default\":0}]},{\"type\":\"model\",\"name\":\"MaterialTemplateActions1\",\"properties\":[{\"name\":\"open_modal\",\"kind\":\"Any\",\"default\":0},{\"name\":\"close_modal\",\"kind\":\"Any\",\"default\":0}]}],\"roots\":[{\"type\":\"object\",\"name\":\"Figure\",\"id\":\"p1002\",\"attributes\":{\"width\":700,\"height\":300,\"x_range\":{\"type\":\"object\",\"name\":\"DataRange1d\",\"id\":\"p1003\"},\"y_range\":{\"type\":\"object\",\"name\":\"DataRange1d\",\"id\":\"p1004\"},\"x_scale\":{\"type\":\"object\",\"name\":\"LinearScale\",\"id\":\"p1016\"},\"y_scale\":{\"type\":\"object\",\"name\":\"LinearScale\",\"id\":\"p1018\"},\"title\":{\"type\":\"object\",\"name\":\"Title\",\"id\":\"p1005\",\"attributes\":{\"text\":\"2021-1208-191607-388708-spec.json,    5. Lake Parker Sky Spectra with teflon difuser. No embedded GPS data. \"}},\"renderers\":[{\"type\":\"object\",\"name\":\"GlyphRenderer\",\"id\":\"p1055\",\"attributes\":{\"data_source\":{\"type\":\"object\",\"name\":\"ColumnDataSource\",\"id\":\"p1049\",\"attributes\":{\"selected\":{\"type\":\"object\",\"name\":\"Selection\",\"id\":\"p1051\",\"attributes\":{\"indices\":[],\"line_indices\":[]}},\"selection_policy\":{\"type\":\"object\",\"name\":\"UnionRenderers\",\"id\":\"p1050\"},\"data\":{\"type\":\"map\",\"entries\":[[\"xs\",[[898.765,898.765],[822.696,822.696],[759.37,759.37],[686.719,686.719],[656.281,656.281],[627.661,627.661],[589.592,589.592],[588.995,588.995],[587.5618,587.5618],[546.073,546.073],[527.039,527.039],[518.362,518.362],[517.27,517.27],[516.891,516.891],[516.733,516.733],[495.761,495.761],[486.134,486.134],[466.814,466.814],[438.355,438.355],[430.79,430.79],[430.774,430.774],[396.847,396.847]]],[\"ys\",[[0,15.56],[0,15.56],[0,15.56],[0,15.56],[0,15.56],[0,15.56],[0,15.56],[0,15.56],[0,15.56],[0,15.56],[0,15.56],[0,15.56],[0,15.56],[0,15.56],[0,15.56],[0,15.56],[0,15.56],[0,15.56],[0,15.56],[0,15.56],[0,15.56],[0,15.56]]]]}}},\"view\":{\"type\":\"object\",\"name\":\"CDSView\",\"id\":\"p1056\",\"attributes\":{\"filter\":{\"type\":\"object\",\"name\":\"AllIndices\",\"id\":\"p1057\"}}},\"glyph\":{\"type\":\"object\",\"name\":\"MultiLine\",\"id\":\"p1052\",\"attributes\":{\"xs\":{\"type\":\"field\",\"field\":\"xs\"},\"ys\":{\"type\":\"field\",\"field\":\"ys\"},\"line_color\":{\"type\":\"value\",\"value\":\"lightgray\"}}},\"nonselection_glyph\":{\"type\":\"object\",\"name\":\"MultiLine\",\"id\":\"p1053\",\"attributes\":{\"xs\":{\"type\":\"field\",\"field\":\"xs\"},\"ys\":{\"type\":\"field\",\"field\":\"ys\"},\"line_color\":{\"type\":\"value\",\"value\":\"lightgray\"},\"line_alpha\":{\"type\":\"value\",\"value\":0.1}}},\"muted_glyph\":{\"type\":\"object\",\"name\":\"MultiLine\",\"id\":\"p1054\",\"attributes\":{\"xs\":{\"type\":\"field\",\"field\":\"xs\"},\"ys\":{\"type\":\"field\",\"field\":\"ys\"},\"line_color\":{\"type\":\"value\",\"value\":\"lightgray\"},\"line_alpha\":{\"type\":\"value\",\"value\":0.2}}}}},{\"type\":\"object\",\"name\":\"GlyphRenderer\",\"id\":\"p1066\",\"attributes\":{\"data_source\":{\"type\":\"object\",\"name\":\"ColumnDataSource\",\"id\":\"p1060\",\"attributes\":{\"selected\":{\"type\":\"object\",\"name\":\"Selection\",\"id\":\"p1062\",\"attributes\":{\"indices\":[],\"line_indices\":[]}},\"selection_policy\":{\"type\":\"object\",\"name\":\"UnionRenderers\",\"id\":\"p1061\"},\"data\":{\"type\":\"map\"}}},\"view\":{\"type\":\"object\",\"name\":\"CDSView\",\"id\":\"p1067\",\"attributes\":{\"filter\":{\"type\":\"object\",\"name\":\"AllIndices\",\"id\":\"p1068\"}}},\"glyph\":{\"type\":\"object\",\"name\":\"Rect\",\"id\":\"p1063\",\"attributes\":{\"x\":{\"type\":\"value\",\"value\":400.0},\"y\":{\"type\":\"value\",\"value\":0.08677083333333331},\"width\":{\"type\":\"value\",\"value\":15},\"height\":{\"type\":\"value\",\"value\":0.778},\"line_color\":{\"type\":\"value\",\"value\":\"#1f77b4\"},\"fill_color\":{\"type\":\"value\",\"value\":\"#5a00ccff\"}}},\"nonselection_glyph\":{\"type\":\"object\",\"name\":\"Rect\",\"id\":\"p1064\",\"attributes\":{\"x\":{\"type\":\"value\",\"value\":400.0},\"y\":{\"type\":\"value\",\"value\":0.08677083333333331},\"width\":{\"type\":\"value\",\"value\":15},\"height\":{\"type\":\"value\",\"value\":0.778},\"line_color\":{\"type\":\"value\",\"value\":\"#1f77b4\"},\"line_alpha\":{\"type\":\"value\",\"value\":0.1},\"fill_color\":{\"type\":\"value\",\"value\":\"#5a00ccff\"},\"fill_alpha\":{\"type\":\"value\",\"value\":0.1},\"hatch_alpha\":{\"type\":\"value\",\"value\":0.1}}},\"muted_glyph\":{\"type\":\"object\",\"name\":\"Rect\",\"id\":\"p1065\",\"attributes\":{\"x\":{\"type\":\"value\",\"value\":400.0},\"y\":{\"type\":\"value\",\"value\":0.08677083333333331},\"width\":{\"type\":\"value\",\"value\":15},\"height\":{\"type\":\"value\",\"value\":0.778},\"line_color\":{\"type\":\"value\",\"value\":\"#1f77b4\"},\"line_alpha\":{\"type\":\"value\",\"value\":0.2},\"fill_color\":{\"type\":\"value\",\"value\":\"#5a00ccff\"},\"fill_alpha\":{\"type\":\"value\",\"value\":0.2},\"hatch_alpha\":{\"type\":\"value\",\"value\":0.2}}}}},{\"type\":\"object\",\"name\":\"GlyphRenderer\",\"id\":\"p1075\",\"attributes\":{\"data_source\":{\"type\":\"object\",\"name\":\"ColumnDataSource\",\"id\":\"p1069\",\"attributes\":{\"selected\":{\"type\":\"object\",\"name\":\"Selection\",\"id\":\"p1071\",\"attributes\":{\"indices\":[],\"line_indices\":[]}},\"selection_policy\":{\"type\":\"object\",\"name\":\"UnionRenderers\",\"id\":\"p1070\"},\"data\":{\"type\":\"map\"}}},\"view\":{\"type\":\"object\",\"name\":\"CDSView\",\"id\":\"p1076\",\"attributes\":{\"filter\":{\"type\":\"object\",\"name\":\"AllIndices\",\"id\":\"p1077\"}}},\"glyph\":{\"type\":\"object\",\"name\":\"Rect\",\"id\":\"p1072\",\"attributes\":{\"x\":{\"type\":\"value\",\"value\":412.5},\"y\":{\"type\":\"value\",\"value\":0.45283653846153843},\"width\":{\"type\":\"value\",\"value\":10},\"height\":{\"type\":\"value\",\"value\":0.778},\"line_color\":{\"type\":\"value\",\"value\":\"#1f77b4\"},\"fill_color\":{\"type\":\"value\",\"value\":\"#4800eaff\"}}},\"nonselection_glyph\":{\"type\":\"object\",\"name\":\"Rect\",\"id\":\"p1073\",\"attributes\":{\"x\":{\"type\":\"value\",\"value\":412.5},\"y\":{\"type\":\"value\",\"value\":0.45283653846153843},\"width\":{\"type\":\"value\",\"value\":10},\"height\":{\"type\":\"value\",\"value\":0.778},\"line_color\":{\"type\":\"value\",\"value\":\"#1f77b4\"},\"line_alpha\":{\"type\":\"value\",\"value\":0.1},\"fill_color\":{\"type\":\"value\",\"value\":\"#4800eaff\"},\"fill_alpha\":{\"type\":\"value\",\"value\":0.1},\"hatch_alpha\":{\"type\":\"value\",\"value\":0.1}}},\"muted_glyph\":{\"type\":\"object\",\"name\":\"Rect\",\"id\":\"p1074\",\"attributes\":{\"x\":{\"type\":\"value\",\"value\":412.5},\"y\":{\"type\":\"value\",\"value\":0.45283653846153843},\"width\":{\"type\":\"value\",\"value\":10},\"height\":{\"type\":\"value\",\"value\":0.778},\"line_color\":{\"type\":\"value\",\"value\":\"#1f77b4\"},\"line_alpha\":{\"type\":\"value\",\"value\":0.2},\"fill_color\":{\"type\":\"value\",\"value\":\"#4800eaff\"},\"fill_alpha\":{\"type\":\"value\",\"value\":0.2},\"hatch_alpha\":{\"type\":\"value\",\"value\":0.2}}}}},{\"type\":\"object\",\"name\":\"GlyphRenderer\",\"id\":\"p1084\",\"attributes\":{\"data_source\":{\"type\":\"object\",\"name\":\"ColumnDataSource\",\"id\":\"p1078\",\"attributes\":{\"selected\":{\"type\":\"object\",\"name\":\"Selection\",\"id\":\"p1080\",\"attributes\":{\"indices\":[],\"line_indices\":[]}},\"selection_policy\":{\"type\":\"object\",\"name\":\"UnionRenderers\",\"id\":\"p1079\"},\"data\":{\"type\":\"map\"}}},\"view\":{\"type\":\"object\",\"name\":\"CDSView\",\"id\":\"p1085\",\"attributes\":{\"filter\":{\"type\":\"object\",\"name\":\"AllIndices\",\"id\":\"p1086\"}}},\"glyph\":{\"type\":\"object\",\"name\":\"Rect\",\"id\":\"p1081\",\"attributes\":{\"x\":{\"type\":\"value\",\"value\":442.5},\"y\":{\"type\":\"value\",\"value\":3.2146296296296297},\"width\":{\"type\":\"value\",\"value\":10},\"height\":{\"type\":\"value\",\"value\":0.778},\"line_color\":{\"type\":\"value\",\"value\":\"#1f77b4\"},\"fill_color\":{\"type\":\"value\",\"value\":\"#000affff\"}}},\"nonselection_glyph\":{\"type\":\"object\",\"name\":\"Rect\",\"id\":\"p1082\",\"attributes\":{\"x\":{\"type\":\"value\",\"value\":442.5},\"y\":{\"type\":\"value\",\"value\":3.2146296296296297},\"width\":{\"type\":\"value\",\"value\":10},\"height\":{\"type\":\"value\",\"value\":0.778},\"line_color\":{\"type\":\"value\",\"value\":\"#1f77b4\"},\"line_alpha\":{\"type\":\"value\",\"value\":0.1},\"fill_color\":{\"type\":\"value\",\"value\":\"#000affff\"},\"fill_alpha\":{\"type\":\"value\",\"value\":0.1},\"hatch_alpha\":{\"type\":\"value\",\"value\":0.1}}},\"muted_glyph\":{\"type\":\"object\",\"name\":\"Rect\",\"id\":\"p1083\",\"attributes\":{\"x\":{\"type\":\"value\",\"value\":442.5},\"y\":{\"type\":\"value\",\"value\":3.2146296296296297},\"width\":{\"type\":\"value\",\"value\":10},\"height\":{\"type\":\"value\",\"value\":0.778},\"line_color\":{\"type\":\"value\",\"value\":\"#1f77b4\"},\"line_alpha\":{\"type\":\"value\",\"value\":0.2},\"fill_color\":{\"type\":\"value\",\"value\":\"#000affff\"},\"fill_alpha\":{\"type\":\"value\",\"value\":0.2},\"hatch_alpha\":{\"type\":\"value\",\"value\":0.2}}}}},{\"type\":\"object\",\"name\":\"GlyphRenderer\",\"id\":\"p1093\",\"attributes\":{\"data_source\":{\"type\":\"object\",\"name\":\"ColumnDataSource\",\"id\":\"p1087\",\"attributes\":{\"selected\":{\"type\":\"object\",\"name\":\"Selection\",\"id\":\"p1089\",\"attributes\":{\"indices\":[],\"line_indices\":[]}},\"selection_policy\":{\"type\":\"object\",\"name\":\"UnionRenderers\",\"id\":\"p1088\"},\"data\":{\"type\":\"map\"}}},\"view\":{\"type\":\"object\",\"name\":\"CDSView\",\"id\":\"p1094\",\"attributes\":{\"filter\":{\"type\":\"object\",\"name\":\"AllIndices\",\"id\":\"p1095\"}}},\"glyph\":{\"type\":\"object\",\"name\":\"Rect\",\"id\":\"p1090\",\"attributes\":{\"x\":{\"type\":\"value\",\"value\":490.0},\"y\":{\"type\":\"value\",\"value\":8.575432692307691},\"width\":{\"type\":\"value\",\"value\":10},\"height\":{\"type\":\"value\",\"value\":0.778},\"line_color\":{\"type\":\"value\",\"value\":\"#1f77b4\"},\"fill_color\":{\"type\":\"value\",\"value\":\"#00ffffff\"}}},\"nonselection_glyph\":{\"type\":\"object\",\"name\":\"Rect\",\"id\":\"p1091\",\"attributes\":{\"x\":{\"type\":\"value\",\"value\":490.0},\"y\":{\"type\":\"value\",\"value\":8.575432692307691},\"width\":{\"type\":\"value\",\"value\":10},\"height\":{\"type\":\"value\",\"value\":0.778},\"line_color\":{\"type\":\"value\",\"value\":\"#1f77b4\"},\"line_alpha\":{\"type\":\"value\",\"value\":0.1},\"fill_color\":{\"type\":\"value\",\"value\":\"#00ffffff\"},\"fill_alpha\":{\"type\":\"value\",\"value\":0.1},\"hatch_alpha\":{\"type\":\"value\",\"value\":0.1}}},\"muted_glyph\":{\"type\":\"object\",\"name\":\"Rect\",\"id\":\"p1092\",\"attributes\":{\"x\":{\"type\":\"value\",\"value\":490.0},\"y\":{\"type\":\"value\",\"value\":8.575432692307691},\"width\":{\"type\":\"value\",\"value\":10},\"height\":{\"type\":\"value\",\"value\":0.778},\"line_color\":{\"type\":\"value\",\"value\":\"#1f77b4\"},\"line_alpha\":{\"type\":\"value\",\"value\":0.2},\"fill_color\":{\"type\":\"value\",\"value\":\"#00ffffff\"},\"fill_alpha\":{\"type\":\"value\",\"value\":0.2},\"hatch_alpha\":{\"type\":\"value\",\"value\":0.2}}}}},{\"type\":\"object\",\"name\":\"GlyphRenderer\",\"id\":\"p1102\",\"attributes\":{\"data_source\":{\"type\":\"object\",\"name\":\"ColumnDataSource\",\"id\":\"p1096\",\"attributes\":{\"selected\":{\"type\":\"object\",\"name\":\"Selection\",\"id\":\"p1098\",\"attributes\":{\"indices\":[],\"line_indices\":[]}},\"selection_policy\":{\"type\":\"object\",\"name\":\"UnionRenderers\",\"id\":\"p1097\"},\"data\":{\"type\":\"map\"}}},\"view\":{\"type\":\"object\",\"name\":\"CDSView\",\"id\":\"p1103\",\"attributes\":{\"filter\":{\"type\":\"object\",\"name\":\"AllIndices\",\"id\":\"p1104\"}}},\"glyph\":{\"type\":\"object\",\"name\":\"Rect\",\"id\":\"p1099\",\"attributes\":{\"x\":{\"type\":\"value\",\"value\":510.0},\"y\":{\"type\":\"value\",\"value\":10.323221153846154},\"width\":{\"type\":\"value\",\"value\":10},\"height\":{\"type\":\"value\",\"value\":0.778},\"line_color\":{\"type\":\"value\",\"value\":\"#1f77b4\"},\"fill_color\":{\"type\":\"value\",\"value\":\"#00ff00ff\"}}},\"nonselection_glyph\":{\"type\":\"object\",\"name\":\"Rect\",\"id\":\"p1100\",\"attributes\":{\"x\":{\"type\":\"value\",\"value\":510.0},\"y\":{\"type\":\"value\",\"value\":10.323221153846154},\"width\":{\"type\":\"value\",\"value\":10},\"height\":{\"type\":\"value\",\"value\":0.778},\"line_color\":{\"type\":\"value\",\"value\":\"#1f77b4\"},\"line_alpha\":{\"type\":\"value\",\"value\":0.1},\"fill_color\":{\"type\":\"value\",\"value\":\"#00ff00ff\"},\"fill_alpha\":{\"type\":\"value\",\"value\":0.1},\"hatch_alpha\":{\"type\":\"value\",\"value\":0.1}}},\"muted_glyph\":{\"type\":\"object\",\"name\":\"Rect\",\"id\":\"p1101\",\"attributes\":{\"x\":{\"type\":\"value\",\"value\":510.0},\"y\":{\"type\":\"value\",\"value\":10.323221153846154},\"width\":{\"type\":\"value\",\"value\":10},\"height\":{\"type\":\"value\",\"value\":0.778},\"line_color\":{\"type\":\"value\",\"value\":\"#1f77b4\"},\"line_alpha\":{\"type\":\"value\",\"value\":0.2},\"fill_color\":{\"type\":\"value\",\"value\":\"#00ff00ff\"},\"fill_alpha\":{\"type\":\"value\",\"value\":0.2},\"hatch_alpha\":{\"type\":\"value\",\"value\":0.2}}}}},{\"type\":\"object\",\"name\":\"GlyphRenderer\",\"id\":\"p1111\",\"attributes\":{\"data_source\":{\"type\":\"object\",\"name\":\"ColumnDataSource\",\"id\":\"p1105\",\"attributes\":{\"selected\":{\"type\":\"object\",\"name\":\"Selection\",\"id\":\"p1107\",\"attributes\":{\"indices\":[],\"line_indices\":[]}},\"selection_policy\":{\"type\":\"object\",\"name\":\"UnionRenderers\",\"id\":\"p1106\"},\"data\":{\"type\":\"map\"}}},\"view\":{\"type\":\"object\",\"name\":\"CDSView\",\"id\":\"p1112\",\"attributes\":{\"filter\":{\"type\":\"object\",\"name\":\"AllIndices\",\"id\":\"p1113\"}}},\"glyph\":{\"type\":\"object\",\"name\":\"Rect\",\"id\":\"p1108\",\"attributes\":{\"x\":{\"type\":\"value\",\"value\":560.0},\"y\":{\"type\":\"value\",\"value\":13.718846153846155},\"width\":{\"type\":\"value\",\"value\":10},\"height\":{\"type\":\"value\",\"value\":0.778},\"line_color\":{\"type\":\"value\",\"value\":\"#1f77b4\"},\"fill_color\":{\"type\":\"value\",\"value\":\"#b6ff00ff\"}}},\"nonselection_glyph\":{\"type\":\"object\",\"name\":\"Rect\",\"id\":\"p1109\",\"attributes\":{\"x\":{\"type\":\"value\",\"value\":560.0},\"y\":{\"type\":\"value\",\"value\":13.718846153846155},\"width\":{\"type\":\"value\",\"value\":10},\"height\":{\"type\":\"value\",\"value\":0.778},\"line_color\":{\"type\":\"value\",\"value\":\"#1f77b4\"},\"line_alpha\":{\"type\":\"value\",\"value\":0.1},\"fill_color\":{\"type\":\"value\",\"value\":\"#b6ff00ff\"},\"fill_alpha\":{\"type\":\"value\",\"value\":0.1},\"hatch_alpha\":{\"type\":\"value\",\"value\":0.1}}},\"muted_glyph\":{\"type\":\"object\",\"name\":\"Rect\",\"id\":\"p1110\",\"attributes\":{\"x\":{\"type\":\"value\",\"value\":560.0},\"y\":{\"type\":\"value\",\"value\":13.718846153846155},\"width\":{\"type\":\"value\",\"value\":10},\"height\":{\"type\":\"value\",\"value\":0.778},\"line_color\":{\"type\":\"value\",\"value\":\"#1f77b4\"},\"line_alpha\":{\"type\":\"value\",\"value\":0.2},\"fill_color\":{\"type\":\"value\",\"value\":\"#b6ff00ff\"},\"fill_alpha\":{\"type\":\"value\",\"value\":0.2},\"hatch_alpha\":{\"type\":\"value\",\"value\":0.2}}}}},{\"type\":\"object\",\"name\":\"GlyphRenderer\",\"id\":\"p1120\",\"attributes\":{\"data_source\":{\"type\":\"object\",\"name\":\"ColumnDataSource\",\"id\":\"p1114\",\"attributes\":{\"selected\":{\"type\":\"object\",\"name\":\"Selection\",\"id\":\"p1116\",\"attributes\":{\"indices\":[],\"line_indices\":[]}},\"selection_policy\":{\"type\":\"object\",\"name\":\"UnionRenderers\",\"id\":\"p1115\"},\"data\":{\"type\":\"map\"}}},\"view\":{\"type\":\"object\",\"name\":\"CDSView\",\"id\":\"p1121\",\"attributes\":{\"filter\":{\"type\":\"object\",\"name\":\"AllIndices\",\"id\":\"p1122\"}}},\"glyph\":{\"type\":\"object\",\"name\":\"Rect\",\"id\":\"p1117\",\"attributes\":{\"x\":{\"type\":\"value\",\"value\":620.0},\"y\":{\"type\":\"value\",\"value\":14.48837962962963},\"width\":{\"type\":\"value\",\"value\":10},\"height\":{\"type\":\"value\",\"value\":0.778},\"line_color\":{\"type\":\"value\",\"value\":\"#1f77b4\"},\"fill_color\":{\"type\":\"value\",\"value\":\"#ff6200ff\"}}},\"nonselection_glyph\":{\"type\":\"object\",\"name\":\"Rect\",\"id\":\"p1118\",\"attributes\":{\"x\":{\"type\":\"value\",\"value\":620.0},\"y\":{\"type\":\"value\",\"value\":14.48837962962963},\"width\":{\"type\":\"value\",\"value\":10},\"height\":{\"type\":\"value\",\"value\":0.778},\"line_color\":{\"type\":\"value\",\"value\":\"#1f77b4\"},\"line_alpha\":{\"type\":\"value\",\"value\":0.1},\"fill_color\":{\"type\":\"value\",\"value\":\"#ff6200ff\"},\"fill_alpha\":{\"type\":\"value\",\"value\":0.1},\"hatch_alpha\":{\"type\":\"value\",\"value\":0.1}}},\"muted_glyph\":{\"type\":\"object\",\"name\":\"Rect\",\"id\":\"p1119\",\"attributes\":{\"x\":{\"type\":\"value\",\"value\":620.0},\"y\":{\"type\":\"value\",\"value\":14.48837962962963},\"width\":{\"type\":\"value\",\"value\":10},\"height\":{\"type\":\"value\",\"value\":0.778},\"line_color\":{\"type\":\"value\",\"value\":\"#1f77b4\"},\"line_alpha\":{\"type\":\"value\",\"value\":0.2},\"fill_color\":{\"type\":\"value\",\"value\":\"#ff6200ff\"},\"fill_alpha\":{\"type\":\"value\",\"value\":0.2},\"hatch_alpha\":{\"type\":\"value\",\"value\":0.2}}}}},{\"type\":\"object\",\"name\":\"GlyphRenderer\",\"id\":\"p1129\",\"attributes\":{\"data_source\":{\"type\":\"object\",\"name\":\"ColumnDataSource\",\"id\":\"p1123\",\"attributes\":{\"selected\":{\"type\":\"object\",\"name\":\"Selection\",\"id\":\"p1125\",\"attributes\":{\"indices\":[],\"line_indices\":[]}},\"selection_policy\":{\"type\":\"object\",\"name\":\"UnionRenderers\",\"id\":\"p1124\"},\"data\":{\"type\":\"map\"}}},\"view\":{\"type\":\"object\",\"name\":\"CDSView\",\"id\":\"p1130\",\"attributes\":{\"filter\":{\"type\":\"object\",\"name\":\"AllIndices\",\"id\":\"p1131\"}}},\"glyph\":{\"type\":\"object\",\"name\":\"Rect\",\"id\":\"p1126\",\"attributes\":{\"x\":{\"type\":\"value\",\"value\":665.0},\"y\":{\"type\":\"value\",\"value\":14.091971153846153},\"width\":{\"type\":\"value\",\"value\":10},\"height\":{\"type\":\"value\",\"value\":0.778},\"line_color\":{\"type\":\"value\",\"value\":\"#1f77b4\"},\"fill_color\":{\"type\":\"value\",\"value\":\"#ff0000ff\"}}},\"nonselection_glyph\":{\"type\":\"object\",\"name\":\"Rect\",\"id\":\"p1127\",\"attributes\":{\"x\":{\"type\":\"value\",\"value\":665.0},\"y\":{\"type\":\"value\",\"value\":14.091971153846153},\"width\":{\"type\":\"value\",\"value\":10},\"height\":{\"type\":\"value\",\"value\":0.778},\"line_color\":{\"type\":\"value\",\"value\":\"#1f77b4\"},\"line_alpha\":{\"type\":\"value\",\"value\":0.1},\"fill_color\":{\"type\":\"value\",\"value\":\"#ff0000ff\"},\"fill_alpha\":{\"type\":\"value\",\"value\":0.1},\"hatch_alpha\":{\"type\":\"value\",\"value\":0.1}}},\"muted_glyph\":{\"type\":\"object\",\"name\":\"Rect\",\"id\":\"p1128\",\"attributes\":{\"x\":{\"type\":\"value\",\"value\":665.0},\"y\":{\"type\":\"value\",\"value\":14.091971153846153},\"width\":{\"type\":\"value\",\"value\":10},\"height\":{\"type\":\"value\",\"value\":0.778},\"line_color\":{\"type\":\"value\",\"value\":\"#1f77b4\"},\"line_alpha\":{\"type\":\"value\",\"value\":0.2},\"fill_color\":{\"type\":\"value\",\"value\":\"#ff0000ff\"},\"fill_alpha\":{\"type\":\"value\",\"value\":0.2},\"hatch_alpha\":{\"type\":\"value\",\"value\":0.2}}}}},{\"type\":\"object\",\"name\":\"GlyphRenderer\",\"id\":\"p1138\",\"attributes\":{\"data_source\":{\"type\":\"object\",\"name\":\"ColumnDataSource\",\"id\":\"p1132\",\"attributes\":{\"selected\":{\"type\":\"object\",\"name\":\"Selection\",\"id\":\"p1134\",\"attributes\":{\"indices\":[],\"line_indices\":[]}},\"selection_policy\":{\"type\":\"object\",\"name\":\"UnionRenderers\",\"id\":\"p1133\"},\"data\":{\"type\":\"map\"}}},\"view\":{\"type\":\"object\",\"name\":\"CDSView\",\"id\":\"p1139\",\"attributes\":{\"filter\":{\"type\":\"object\",\"name\":\"AllIndices\",\"id\":\"p1140\"}}},\"glyph\":{\"type\":\"object\",\"name\":\"Rect\",\"id\":\"p1135\",\"attributes\":{\"x\":{\"type\":\"value\",\"value\":673.75},\"y\":{\"type\":\"value\",\"value\":13.878499999999999},\"width\":{\"type\":\"value\",\"value\":7.5},\"height\":{\"type\":\"value\",\"value\":0.778},\"line_color\":{\"type\":\"value\",\"value\":\"#1f77b4\"},\"fill_color\":{\"type\":\"value\",\"value\":\"#ff0000ff\"}}},\"nonselection_glyph\":{\"type\":\"object\",\"name\":\"Rect\",\"id\":\"p1136\",\"attributes\":{\"x\":{\"type\":\"value\",\"value\":673.75},\"y\":{\"type\":\"value\",\"value\":13.878499999999999},\"width\":{\"type\":\"value\",\"value\":7.5},\"height\":{\"type\":\"value\",\"value\":0.778},\"line_color\":{\"type\":\"value\",\"value\":\"#1f77b4\"},\"line_alpha\":{\"type\":\"value\",\"value\":0.1},\"fill_color\":{\"type\":\"value\",\"value\":\"#ff0000ff\"},\"fill_alpha\":{\"type\":\"value\",\"value\":0.1},\"hatch_alpha\":{\"type\":\"value\",\"value\":0.1}}},\"muted_glyph\":{\"type\":\"object\",\"name\":\"Rect\",\"id\":\"p1137\",\"attributes\":{\"x\":{\"type\":\"value\",\"value\":673.75},\"y\":{\"type\":\"value\",\"value\":13.878499999999999},\"width\":{\"type\":\"value\",\"value\":7.5},\"height\":{\"type\":\"value\",\"value\":0.778},\"line_color\":{\"type\":\"value\",\"value\":\"#1f77b4\"},\"line_alpha\":{\"type\":\"value\",\"value\":0.2},\"fill_color\":{\"type\":\"value\",\"value\":\"#ff0000ff\"},\"fill_alpha\":{\"type\":\"value\",\"value\":0.2},\"hatch_alpha\":{\"type\":\"value\",\"value\":0.2}}}}},{\"type\":\"object\",\"name\":\"GlyphRenderer\",\"id\":\"p1147\",\"attributes\":{\"data_source\":{\"type\":\"object\",\"name\":\"ColumnDataSource\",\"id\":\"p1141\",\"attributes\":{\"selected\":{\"type\":\"object\",\"name\":\"Selection\",\"id\":\"p1143\",\"attributes\":{\"indices\":[],\"line_indices\":[]}},\"selection_policy\":{\"type\":\"object\",\"name\":\"UnionRenderers\",\"id\":\"p1142\"},\"data\":{\"type\":\"map\"}}},\"view\":{\"type\":\"object\",\"name\":\"CDSView\",\"id\":\"p1148\",\"attributes\":{\"filter\":{\"type\":\"object\",\"name\":\"AllIndices\",\"id\":\"p1149\"}}},\"glyph\":{\"type\":\"object\",\"name\":\"Rect\",\"id\":\"p1144\",\"attributes\":{\"x\":{\"type\":\"value\",\"value\":681.25},\"y\":{\"type\":\"value\",\"value\":13.190249999999997},\"width\":{\"type\":\"value\",\"value\":7.5},\"height\":{\"type\":\"value\",\"value\":0.778},\"line_color\":{\"type\":\"value\",\"value\":\"#1f77b4\"},\"fill_color\":{\"type\":\"value\",\"value\":\"#ff0000ff\"}}},\"nonselection_glyph\":{\"type\":\"object\",\"name\":\"Rect\",\"id\":\"p1145\",\"attributes\":{\"x\":{\"type\":\"value\",\"value\":681.25},\"y\":{\"type\":\"value\",\"value\":13.190249999999997},\"width\":{\"type\":\"value\",\"value\":7.5},\"height\":{\"type\":\"value\",\"value\":0.778},\"line_color\":{\"type\":\"value\",\"value\":\"#1f77b4\"},\"line_alpha\":{\"type\":\"value\",\"value\":0.1},\"fill_color\":{\"type\":\"value\",\"value\":\"#ff0000ff\"},\"fill_alpha\":{\"type\":\"value\",\"value\":0.1},\"hatch_alpha\":{\"type\":\"value\",\"value\":0.1}}},\"muted_glyph\":{\"type\":\"object\",\"name\":\"Rect\",\"id\":\"p1146\",\"attributes\":{\"x\":{\"type\":\"value\",\"value\":681.25},\"y\":{\"type\":\"value\",\"value\":13.190249999999997},\"width\":{\"type\":\"value\",\"value\":7.5},\"height\":{\"type\":\"value\",\"value\":0.778},\"line_color\":{\"type\":\"value\",\"value\":\"#1f77b4\"},\"line_alpha\":{\"type\":\"value\",\"value\":0.2},\"fill_color\":{\"type\":\"value\",\"value\":\"#ff0000ff\"},\"fill_alpha\":{\"type\":\"value\",\"value\":0.2},\"hatch_alpha\":{\"type\":\"value\",\"value\":0.2}}}}},{\"type\":\"object\",\"name\":\"GlyphRenderer\",\"id\":\"p1156\",\"attributes\":{\"data_source\":{\"type\":\"object\",\"name\":\"ColumnDataSource\",\"id\":\"p1150\",\"attributes\":{\"selected\":{\"type\":\"object\",\"name\":\"Selection\",\"id\":\"p1152\",\"attributes\":{\"indices\":[],\"line_indices\":[]}},\"selection_policy\":{\"type\":\"object\",\"name\":\"UnionRenderers\",\"id\":\"p1151\"},\"data\":{\"type\":\"map\"}}},\"view\":{\"type\":\"object\",\"name\":\"CDSView\",\"id\":\"p1157\",\"attributes\":{\"filter\":{\"type\":\"object\",\"name\":\"AllIndices\",\"id\":\"p1158\"}}},\"glyph\":{\"type\":\"object\",\"name\":\"Rect\",\"id\":\"p1153\",\"attributes\":{\"x\":{\"type\":\"value\",\"value\":708.75},\"y\":{\"type\":\"value\",\"value\":11.613317307692311},\"width\":{\"type\":\"value\",\"value\":10},\"height\":{\"type\":\"value\",\"value\":0.778},\"line_color\":{\"type\":\"value\",\"value\":\"#1f77b4\"},\"fill_color\":{\"type\":\"value\",\"value\":\"#ed0000ff\"}}},\"nonselection_glyph\":{\"type\":\"object\",\"name\":\"Rect\",\"id\":\"p1154\",\"attributes\":{\"x\":{\"type\":\"value\",\"value\":708.75},\"y\":{\"type\":\"value\",\"value\":11.613317307692311},\"width\":{\"type\":\"value\",\"value\":10},\"height\":{\"type\":\"value\",\"value\":0.778},\"line_color\":{\"type\":\"value\",\"value\":\"#1f77b4\"},\"line_alpha\":{\"type\":\"value\",\"value\":0.1},\"fill_color\":{\"type\":\"value\",\"value\":\"#ed0000ff\"},\"fill_alpha\":{\"type\":\"value\",\"value\":0.1},\"hatch_alpha\":{\"type\":\"value\",\"value\":0.1}}},\"muted_glyph\":{\"type\":\"object\",\"name\":\"Rect\",\"id\":\"p1155\",\"attributes\":{\"x\":{\"type\":\"value\",\"value\":708.75},\"y\":{\"type\":\"value\",\"value\":11.613317307692311},\"width\":{\"type\":\"value\",\"value\":10},\"height\":{\"type\":\"value\",\"value\":0.778},\"line_color\":{\"type\":\"value\",\"value\":\"#1f77b4\"},\"line_alpha\":{\"type\":\"value\",\"value\":0.2},\"fill_color\":{\"type\":\"value\",\"value\":\"#ed0000ff\"},\"fill_alpha\":{\"type\":\"value\",\"value\":0.2},\"hatch_alpha\":{\"type\":\"value\",\"value\":0.2}}}}},{\"type\":\"object\",\"name\":\"GlyphRenderer\",\"id\":\"p1165\",\"attributes\":{\"data_source\":{\"type\":\"object\",\"name\":\"ColumnDataSource\",\"id\":\"p1159\",\"attributes\":{\"selected\":{\"type\":\"object\",\"name\":\"Selection\",\"id\":\"p1161\",\"attributes\":{\"indices\":[],\"line_indices\":[]}},\"selection_policy\":{\"type\":\"object\",\"name\":\"UnionRenderers\",\"id\":\"p1160\"},\"data\":{\"type\":\"map\"}}},\"view\":{\"type\":\"object\",\"name\":\"CDSView\",\"id\":\"p1166\",\"attributes\":{\"filter\":{\"type\":\"object\",\"name\":\"AllIndices\",\"id\":\"p1167\"}}},\"glyph\":{\"type\":\"object\",\"name\":\"Rect\",\"id\":\"p1162\",\"attributes\":{\"x\":{\"type\":\"value\",\"value\":753.75},\"y\":{\"type\":\"value\",\"value\":8.208499999999999},\"width\":{\"type\":\"value\",\"value\":7.5},\"height\":{\"type\":\"value\",\"value\":0.778},\"line_color\":{\"type\":\"value\",\"value\":\"#1f77b4\"},\"fill_color\":{\"type\":\"value\",\"value\":\"#880000ff\"}}},\"nonselection_glyph\":{\"type\":\"object\",\"name\":\"Rect\",\"id\":\"p1163\",\"attributes\":{\"x\":{\"type\":\"value\",\"value\":753.75},\"y\":{\"type\":\"value\",\"value\":8.208499999999999},\"width\":{\"type\":\"value\",\"value\":7.5},\"height\":{\"type\":\"value\",\"value\":0.778},\"line_color\":{\"type\":\"value\",\"value\":\"#1f77b4\"},\"line_alpha\":{\"type\":\"value\",\"value\":0.1},\"fill_color\":{\"type\":\"value\",\"value\":\"#880000ff\"},\"fill_alpha\":{\"type\":\"value\",\"value\":0.1},\"hatch_alpha\":{\"type\":\"value\",\"value\":0.1}}},\"muted_glyph\":{\"type\":\"object\",\"name\":\"Rect\",\"id\":\"p1164\",\"attributes\":{\"x\":{\"type\":\"value\",\"value\":753.75},\"y\":{\"type\":\"value\",\"value\":8.208499999999999},\"width\":{\"type\":\"value\",\"value\":7.5},\"height\":{\"type\":\"value\",\"value\":0.778},\"line_color\":{\"type\":\"value\",\"value\":\"#1f77b4\"},\"line_alpha\":{\"type\":\"value\",\"value\":0.2},\"fill_color\":{\"type\":\"value\",\"value\":\"#880000ff\"},\"fill_alpha\":{\"type\":\"value\",\"value\":0.2},\"hatch_alpha\":{\"type\":\"value\",\"value\":0.2}}}}},{\"type\":\"object\",\"name\":\"GlyphRenderer\",\"id\":\"p1174\",\"attributes\":{\"data_source\":{\"type\":\"object\",\"name\":\"ColumnDataSource\",\"id\":\"p1168\",\"attributes\":{\"selected\":{\"type\":\"object\",\"name\":\"Selection\",\"id\":\"p1170\",\"attributes\":{\"indices\":[],\"line_indices\":[]}},\"selection_policy\":{\"type\":\"object\",\"name\":\"UnionRenderers\",\"id\":\"p1169\"},\"data\":{\"type\":\"map\"}}},\"view\":{\"type\":\"object\",\"name\":\"CDSView\",\"id\":\"p1175\",\"attributes\":{\"filter\":{\"type\":\"object\",\"name\":\"AllIndices\",\"id\":\"p1176\"}}},\"glyph\":{\"type\":\"object\",\"name\":\"Rect\",\"id\":\"p1171\",\"attributes\":{\"x\":{\"type\":\"value\",\"value\":761.25},\"y\":{\"type\":\"value\",\"value\":3.0648214285714284},\"width\":{\"type\":\"value\",\"value\":2.5},\"height\":{\"type\":\"value\",\"value\":0.778},\"line_color\":{\"type\":\"value\",\"value\":\"#1f77b4\"},\"fill_color\":{\"type\":\"value\",\"value\":\"#760000ff\"}}},\"nonselection_glyph\":{\"type\":\"object\",\"name\":\"Rect\",\"id\":\"p1172\",\"attributes\":{\"x\":{\"type\":\"value\",\"value\":761.25},\"y\":{\"type\":\"value\",\"value\":3.0648214285714284},\"width\":{\"type\":\"value\",\"value\":2.5},\"height\":{\"type\":\"value\",\"value\":0.778},\"line_color\":{\"type\":\"value\",\"value\":\"#1f77b4\"},\"line_alpha\":{\"type\":\"value\",\"value\":0.1},\"fill_color\":{\"type\":\"value\",\"value\":\"#760000ff\"},\"fill_alpha\":{\"type\":\"value\",\"value\":0.1},\"hatch_alpha\":{\"type\":\"value\",\"value\":0.1}}},\"muted_glyph\":{\"type\":\"object\",\"name\":\"Rect\",\"id\":\"p1173\",\"attributes\":{\"x\":{\"type\":\"value\",\"value\":761.25},\"y\":{\"type\":\"value\",\"value\":3.0648214285714284},\"width\":{\"type\":\"value\",\"value\":2.5},\"height\":{\"type\":\"value\",\"value\":0.778},\"line_color\":{\"type\":\"value\",\"value\":\"#1f77b4\"},\"line_alpha\":{\"type\":\"value\",\"value\":0.2},\"fill_color\":{\"type\":\"value\",\"value\":\"#760000ff\"},\"fill_alpha\":{\"type\":\"value\",\"value\":0.2},\"hatch_alpha\":{\"type\":\"value\",\"value\":0.2}}}}},{\"type\":\"object\",\"name\":\"GlyphRenderer\",\"id\":\"p1183\",\"attributes\":{\"data_source\":{\"type\":\"object\",\"name\":\"ColumnDataSource\",\"id\":\"p1177\",\"attributes\":{\"selected\":{\"type\":\"object\",\"name\":\"Selection\",\"id\":\"p1179\",\"attributes\":{\"indices\":[],\"line_indices\":[]}},\"selection_policy\":{\"type\":\"object\",\"name\":\"UnionRenderers\",\"id\":\"p1178\"},\"data\":{\"type\":\"map\"}}},\"view\":{\"type\":\"object\",\"name\":\"CDSView\",\"id\":\"p1184\",\"attributes\":{\"filter\":{\"type\":\"object\",\"name\":\"AllIndices\",\"id\":\"p1185\"}}},\"glyph\":{\"type\":\"object\",\"name\":\"Rect\",\"id\":\"p1180\",\"attributes\":{\"x\":{\"type\":\"value\",\"value\":764.38},\"y\":{\"type\":\"value\",\"value\":5.1907499999999995},\"width\":{\"type\":\"value\",\"value\":3.75},\"height\":{\"type\":\"value\",\"value\":0.778},\"line_color\":{\"type\":\"value\",\"value\":\"#1f77b4\"},\"fill_color\":{\"type\":\"value\",\"value\":\"#700000ff\"}}},\"nonselection_glyph\":{\"type\":\"object\",\"name\":\"Rect\",\"id\":\"p1181\",\"attributes\":{\"x\":{\"type\":\"value\",\"value\":764.38},\"y\":{\"type\":\"value\",\"value\":5.1907499999999995},\"width\":{\"type\":\"value\",\"value\":3.75},\"height\":{\"type\":\"value\",\"value\":0.778},\"line_color\":{\"type\":\"value\",\"value\":\"#1f77b4\"},\"line_alpha\":{\"type\":\"value\",\"value\":0.1},\"fill_color\":{\"type\":\"value\",\"value\":\"#700000ff\"},\"fill_alpha\":{\"type\":\"value\",\"value\":0.1},\"hatch_alpha\":{\"type\":\"value\",\"value\":0.1}}},\"muted_glyph\":{\"type\":\"object\",\"name\":\"Rect\",\"id\":\"p1182\",\"attributes\":{\"x\":{\"type\":\"value\",\"value\":764.38},\"y\":{\"type\":\"value\",\"value\":5.1907499999999995},\"width\":{\"type\":\"value\",\"value\":3.75},\"height\":{\"type\":\"value\",\"value\":0.778},\"line_color\":{\"type\":\"value\",\"value\":\"#1f77b4\"},\"line_alpha\":{\"type\":\"value\",\"value\":0.2},\"fill_color\":{\"type\":\"value\",\"value\":\"#700000ff\"},\"fill_alpha\":{\"type\":\"value\",\"value\":0.2},\"hatch_alpha\":{\"type\":\"value\",\"value\":0.2}}}}},{\"type\":\"object\",\"name\":\"GlyphRenderer\",\"id\":\"p1192\",\"attributes\":{\"data_source\":{\"type\":\"object\",\"name\":\"ColumnDataSource\",\"id\":\"p1186\",\"attributes\":{\"selected\":{\"type\":\"object\",\"name\":\"Selection\",\"id\":\"p1188\",\"attributes\":{\"indices\":[],\"line_indices\":[]}},\"selection_policy\":{\"type\":\"object\",\"name\":\"UnionRenderers\",\"id\":\"p1187\"},\"data\":{\"type\":\"map\"}}},\"view\":{\"type\":\"object\",\"name\":\"CDSView\",\"id\":\"p1193\",\"attributes\":{\"filter\":{\"type\":\"object\",\"name\":\"AllIndices\",\"id\":\"p1194\"}}},\"glyph\":{\"type\":\"object\",\"name\":\"Rect\",\"id\":\"p1189\",\"attributes\":{\"x\":{\"type\":\"value\",\"value\":767.5},\"y\":{\"type\":\"value\",\"value\":7.589583333333334},\"width\":{\"type\":\"value\",\"value\":2.5},\"height\":{\"type\":\"value\",\"value\":0.778},\"line_color\":{\"type\":\"value\",\"value\":\"#1f77b4\"},\"fill_color\":{\"type\":\"value\",\"value\":\"#690000ff\"}}},\"nonselection_glyph\":{\"type\":\"object\",\"name\":\"Rect\",\"id\":\"p1190\",\"attributes\":{\"x\":{\"type\":\"value\",\"value\":767.5},\"y\":{\"type\":\"value\",\"value\":7.589583333333334},\"width\":{\"type\":\"value\",\"value\":2.5},\"height\":{\"type\":\"value\",\"value\":0.778},\"line_color\":{\"type\":\"value\",\"value\":\"#1f77b4\"},\"line_alpha\":{\"type\":\"value\",\"value\":0.1},\"fill_color\":{\"type\":\"value\",\"value\":\"#690000ff\"},\"fill_alpha\":{\"type\":\"value\",\"value\":0.1},\"hatch_alpha\":{\"type\":\"value\",\"value\":0.1}}},\"muted_glyph\":{\"type\":\"object\",\"name\":\"Rect\",\"id\":\"p1191\",\"attributes\":{\"x\":{\"type\":\"value\",\"value\":767.5},\"y\":{\"type\":\"value\",\"value\":7.589583333333334},\"width\":{\"type\":\"value\",\"value\":2.5},\"height\":{\"type\":\"value\",\"value\":0.778},\"line_color\":{\"type\":\"value\",\"value\":\"#1f77b4\"},\"line_alpha\":{\"type\":\"value\",\"value\":0.2},\"fill_color\":{\"type\":\"value\",\"value\":\"#690000ff\"},\"fill_alpha\":{\"type\":\"value\",\"value\":0.2},\"hatch_alpha\":{\"type\":\"value\",\"value\":0.2}}}}},{\"type\":\"object\",\"name\":\"GlyphRenderer\",\"id\":\"p1201\",\"attributes\":{\"data_source\":{\"type\":\"object\",\"name\":\"ColumnDataSource\",\"id\":\"p1195\",\"attributes\":{\"selected\":{\"type\":\"object\",\"name\":\"Selection\",\"id\":\"p1197\",\"attributes\":{\"indices\":[],\"line_indices\":[]}},\"selection_policy\":{\"type\":\"object\",\"name\":\"UnionRenderers\",\"id\":\"p1196\"},\"data\":{\"type\":\"map\"}}},\"view\":{\"type\":\"object\",\"name\":\"CDSView\",\"id\":\"p1202\",\"attributes\":{\"filter\":{\"type\":\"object\",\"name\":\"AllIndices\",\"id\":\"p1203\"}}},\"glyph\":{\"type\":\"object\",\"name\":\"Rect\",\"id\":\"p1198\",\"attributes\":{\"x\":{\"type\":\"value\",\"value\":778.75},\"y\":{\"type\":\"value\",\"value\":7.405125},\"width\":{\"type\":\"value\",\"value\":15},\"height\":{\"type\":\"value\",\"value\":0.778},\"line_color\":{\"type\":\"value\",\"value\":\"#1f77b4\"},\"fill_color\":{\"type\":\"value\",\"value\":\"#500000ff\"}}},\"nonselection_glyph\":{\"type\":\"object\",\"name\":\"Rect\",\"id\":\"p1199\",\"attributes\":{\"x\":{\"type\":\"value\",\"value\":778.75},\"y\":{\"type\":\"value\",\"value\":7.405125},\"width\":{\"type\":\"value\",\"value\":15},\"height\":{\"type\":\"value\",\"value\":0.778},\"line_color\":{\"type\":\"value\",\"value\":\"#1f77b4\"},\"line_alpha\":{\"type\":\"value\",\"value\":0.1},\"fill_color\":{\"type\":\"value\",\"value\":\"#500000ff\"},\"fill_alpha\":{\"type\":\"value\",\"value\":0.1},\"hatch_alpha\":{\"type\":\"value\",\"value\":0.1}}},\"muted_glyph\":{\"type\":\"object\",\"name\":\"Rect\",\"id\":\"p1200\",\"attributes\":{\"x\":{\"type\":\"value\",\"value\":778.75},\"y\":{\"type\":\"value\",\"value\":7.405125},\"width\":{\"type\":\"value\",\"value\":15},\"height\":{\"type\":\"value\",\"value\":0.778},\"line_color\":{\"type\":\"value\",\"value\":\"#1f77b4\"},\"line_alpha\":{\"type\":\"value\",\"value\":0.2},\"fill_color\":{\"type\":\"value\",\"value\":\"#500000ff\"},\"fill_alpha\":{\"type\":\"value\",\"value\":0.2},\"hatch_alpha\":{\"type\":\"value\",\"value\":0.2}}}}},{\"type\":\"object\",\"name\":\"GlyphRenderer\",\"id\":\"p1210\",\"attributes\":{\"data_source\":{\"type\":\"object\",\"name\":\"ColumnDataSource\",\"id\":\"p1204\",\"attributes\":{\"selected\":{\"type\":\"object\",\"name\":\"Selection\",\"id\":\"p1206\",\"attributes\":{\"indices\":[],\"line_indices\":[]}},\"selection_policy\":{\"type\":\"object\",\"name\":\"UnionRenderers\",\"id\":\"p1205\"},\"data\":{\"type\":\"map\"}}},\"view\":{\"type\":\"object\",\"name\":\"CDSView\",\"id\":\"p1211\",\"attributes\":{\"filter\":{\"type\":\"object\",\"name\":\"AllIndices\",\"id\":\"p1212\"}}},\"glyph\":{\"type\":\"object\",\"name\":\"Rect\",\"id\":\"p1207\",\"attributes\":{\"x\":{\"type\":\"value\",\"value\":865.0},\"y\":{\"type\":\"value\",\"value\":1.3417688679245285},\"width\":{\"type\":\"value\",\"value\":20},\"height\":{\"type\":\"value\",\"value\":0.778},\"line_color\":{\"type\":\"value\",\"value\":\"#1f77b4\"},\"fill_color\":{\"type\":\"value\",\"value\":\"#000000ff\"}}},\"nonselection_glyph\":{\"type\":\"object\",\"name\":\"Rect\",\"id\":\"p1208\",\"attributes\":{\"x\":{\"type\":\"value\",\"value\":865.0},\"y\":{\"type\":\"value\",\"value\":1.3417688679245285},\"width\":{\"type\":\"value\",\"value\":20},\"height\":{\"type\":\"value\",\"value\":0.778},\"line_color\":{\"type\":\"value\",\"value\":\"#1f77b4\"},\"line_alpha\":{\"type\":\"value\",\"value\":0.1},\"fill_color\":{\"type\":\"value\",\"value\":\"#000000ff\"},\"fill_alpha\":{\"type\":\"value\",\"value\":0.1},\"hatch_alpha\":{\"type\":\"value\",\"value\":0.1}}},\"muted_glyph\":{\"type\":\"object\",\"name\":\"Rect\",\"id\":\"p1209\",\"attributes\":{\"x\":{\"type\":\"value\",\"value\":865.0},\"y\":{\"type\":\"value\",\"value\":1.3417688679245285},\"width\":{\"type\":\"value\",\"value\":20},\"height\":{\"type\":\"value\",\"value\":0.778},\"line_color\":{\"type\":\"value\",\"value\":\"#1f77b4\"},\"line_alpha\":{\"type\":\"value\",\"value\":0.2},\"fill_color\":{\"type\":\"value\",\"value\":\"#000000ff\"},\"fill_alpha\":{\"type\":\"value\",\"value\":0.2},\"hatch_alpha\":{\"type\":\"value\",\"value\":0.2}}}}},{\"type\":\"object\",\"name\":\"GlyphRenderer\",\"id\":\"p1219\",\"attributes\":{\"data_source\":{\"type\":\"object\",\"name\":\"ColumnDataSource\",\"id\":\"p1213\",\"attributes\":{\"selected\":{\"type\":\"object\",\"name\":\"Selection\",\"id\":\"p1215\",\"attributes\":{\"indices\":[],\"line_indices\":[]}},\"selection_policy\":{\"type\":\"object\",\"name\":\"UnionRenderers\",\"id\":\"p1214\"},\"data\":{\"type\":\"map\"}}},\"view\":{\"type\":\"object\",\"name\":\"CDSView\",\"id\":\"p1220\",\"attributes\":{\"filter\":{\"type\":\"object\",\"name\":\"AllIndices\",\"id\":\"p1221\"}}},\"glyph\":{\"type\":\"object\",\"name\":\"Rect\",\"id\":\"p1216\",\"attributes\":{\"x\":{\"type\":\"value\",\"value\":885.0},\"y\":{\"type\":\"value\",\"value\":0.8538124999999999},\"width\":{\"type\":\"value\",\"value\":10},\"height\":{\"type\":\"value\",\"value\":0.778},\"line_color\":{\"type\":\"value\",\"value\":\"#1f77b4\"},\"fill_color\":{\"type\":\"value\",\"value\":\"#000000ff\"}}},\"nonselection_glyph\":{\"type\":\"object\",\"name\":\"Rect\",\"id\":\"p1217\",\"attributes\":{\"x\":{\"type\":\"value\",\"value\":885.0},\"y\":{\"type\":\"value\",\"value\":0.8538124999999999},\"width\":{\"type\":\"value\",\"value\":10},\"height\":{\"type\":\"value\",\"value\":0.778},\"line_color\":{\"type\":\"value\",\"value\":\"#1f77b4\"},\"line_alpha\":{\"type\":\"value\",\"value\":0.1},\"fill_color\":{\"type\":\"value\",\"value\":\"#000000ff\"},\"fill_alpha\":{\"type\":\"value\",\"value\":0.1},\"hatch_alpha\":{\"type\":\"value\",\"value\":0.1}}},\"muted_glyph\":{\"type\":\"object\",\"name\":\"Rect\",\"id\":\"p1218\",\"attributes\":{\"x\":{\"type\":\"value\",\"value\":885.0},\"y\":{\"type\":\"value\",\"value\":0.8538124999999999},\"width\":{\"type\":\"value\",\"value\":10},\"height\":{\"type\":\"value\",\"value\":0.778},\"line_color\":{\"type\":\"value\",\"value\":\"#1f77b4\"},\"line_alpha\":{\"type\":\"value\",\"value\":0.2},\"fill_color\":{\"type\":\"value\",\"value\":\"#000000ff\"},\"fill_alpha\":{\"type\":\"value\",\"value\":0.2},\"hatch_alpha\":{\"type\":\"value\",\"value\":0.2}}}}},{\"type\":\"object\",\"name\":\"GlyphRenderer\",\"id\":\"p1228\",\"attributes\":{\"data_source\":{\"type\":\"object\",\"name\":\"ColumnDataSource\",\"id\":\"p1222\",\"attributes\":{\"selected\":{\"type\":\"object\",\"name\":\"Selection\",\"id\":\"p1224\",\"attributes\":{\"indices\":[],\"line_indices\":[]}},\"selection_policy\":{\"type\":\"object\",\"name\":\"UnionRenderers\",\"id\":\"p1223\"},\"data\":{\"type\":\"map\"}}},\"view\":{\"type\":\"object\",\"name\":\"CDSView\",\"id\":\"p1229\",\"attributes\":{\"filter\":{\"type\":\"object\",\"name\":\"AllIndices\",\"id\":\"p1230\"}}},\"glyph\":{\"type\":\"object\",\"name\":\"Rect\",\"id\":\"p1225\",\"attributes\":{\"x\":{\"type\":\"value\",\"value\":900.0},\"y\":{\"type\":\"value\",\"value\":{\"type\":\"number\",\"value\":\"nan\"}},\"width\":{\"type\":\"value\",\"value\":10},\"height\":{\"type\":\"value\",\"value\":0.778},\"line_color\":{\"type\":\"value\",\"value\":\"#1f77b4\"},\"fill_color\":{\"type\":\"value\",\"value\":\"#000000ff\"}}},\"nonselection_glyph\":{\"type\":\"object\",\"name\":\"Rect\",\"id\":\"p1226\",\"attributes\":{\"x\":{\"type\":\"value\",\"value\":900.0},\"y\":{\"type\":\"value\",\"value\":{\"type\":\"number\",\"value\":\"nan\"}},\"width\":{\"type\":\"value\",\"value\":10},\"height\":{\"type\":\"value\",\"value\":0.778},\"line_color\":{\"type\":\"value\",\"value\":\"#1f77b4\"},\"line_alpha\":{\"type\":\"value\",\"value\":0.1},\"fill_color\":{\"type\":\"value\",\"value\":\"#000000ff\"},\"fill_alpha\":{\"type\":\"value\",\"value\":0.1},\"hatch_alpha\":{\"type\":\"value\",\"value\":0.1}}},\"muted_glyph\":{\"type\":\"object\",\"name\":\"Rect\",\"id\":\"p1227\",\"attributes\":{\"x\":{\"type\":\"value\",\"value\":900.0},\"y\":{\"type\":\"value\",\"value\":{\"type\":\"number\",\"value\":\"nan\"}},\"width\":{\"type\":\"value\",\"value\":10},\"height\":{\"type\":\"value\",\"value\":0.778},\"line_color\":{\"type\":\"value\",\"value\":\"#1f77b4\"},\"line_alpha\":{\"type\":\"value\",\"value\":0.2},\"fill_color\":{\"type\":\"value\",\"value\":\"#000000ff\"},\"fill_alpha\":{\"type\":\"value\",\"value\":0.2},\"hatch_alpha\":{\"type\":\"value\",\"value\":0.2}}}}},{\"type\":\"object\",\"name\":\"GlyphRenderer\",\"id\":\"p1237\",\"attributes\":{\"data_source\":{\"type\":\"object\",\"name\":\"ColumnDataSource\",\"id\":\"p1231\",\"attributes\":{\"selected\":{\"type\":\"object\",\"name\":\"Selection\",\"id\":\"p1233\",\"attributes\":{\"indices\":[],\"line_indices\":[]}},\"selection_policy\":{\"type\":\"object\",\"name\":\"UnionRenderers\",\"id\":\"p1232\"},\"data\":{\"type\":\"map\"}}},\"view\":{\"type\":\"object\",\"name\":\"CDSView\",\"id\":\"p1238\",\"attributes\":{\"filter\":{\"type\":\"object\",\"name\":\"AllIndices\",\"id\":\"p1239\"}}},\"glyph\":{\"type\":\"object\",\"name\":\"Rect\",\"id\":\"p1234\",\"attributes\":{\"x\":{\"type\":\"value\",\"value\":940.0},\"y\":{\"type\":\"value\",\"value\":{\"type\":\"number\",\"value\":\"nan\"}},\"width\":{\"type\":\"value\",\"value\":20},\"height\":{\"type\":\"value\",\"value\":0.778},\"line_color\":{\"type\":\"value\",\"value\":\"#1f77b4\"},\"fill_color\":{\"type\":\"value\",\"value\":\"#000000ff\"}}},\"nonselection_glyph\":{\"type\":\"object\",\"name\":\"Rect\",\"id\":\"p1235\",\"attributes\":{\"x\":{\"type\":\"value\",\"value\":940.0},\"y\":{\"type\":\"value\",\"value\":{\"type\":\"number\",\"value\":\"nan\"}},\"width\":{\"type\":\"value\",\"value\":20},\"height\":{\"type\":\"value\",\"value\":0.778},\"line_color\":{\"type\":\"value\",\"value\":\"#1f77b4\"},\"line_alpha\":{\"type\":\"value\",\"value\":0.1},\"fill_color\":{\"type\":\"value\",\"value\":\"#000000ff\"},\"fill_alpha\":{\"type\":\"value\",\"value\":0.1},\"hatch_alpha\":{\"type\":\"value\",\"value\":0.1}}},\"muted_glyph\":{\"type\":\"object\",\"name\":\"Rect\",\"id\":\"p1236\",\"attributes\":{\"x\":{\"type\":\"value\",\"value\":940.0},\"y\":{\"type\":\"value\",\"value\":{\"type\":\"number\",\"value\":\"nan\"}},\"width\":{\"type\":\"value\",\"value\":20},\"height\":{\"type\":\"value\",\"value\":0.778},\"line_color\":{\"type\":\"value\",\"value\":\"#1f77b4\"},\"line_alpha\":{\"type\":\"value\",\"value\":0.2},\"fill_color\":{\"type\":\"value\",\"value\":\"#000000ff\"},\"fill_alpha\":{\"type\":\"value\",\"value\":0.2},\"hatch_alpha\":{\"type\":\"value\",\"value\":0.2}}}}},{\"type\":\"object\",\"name\":\"GlyphRenderer\",\"id\":\"p1246\",\"attributes\":{\"data_source\":{\"type\":\"object\",\"name\":\"ColumnDataSource\",\"id\":\"p1240\",\"attributes\":{\"selected\":{\"type\":\"object\",\"name\":\"Selection\",\"id\":\"p1242\",\"attributes\":{\"indices\":[],\"line_indices\":[]}},\"selection_policy\":{\"type\":\"object\",\"name\":\"UnionRenderers\",\"id\":\"p1241\"},\"data\":{\"type\":\"map\"}}},\"view\":{\"type\":\"object\",\"name\":\"CDSView\",\"id\":\"p1247\",\"attributes\":{\"filter\":{\"type\":\"object\",\"name\":\"AllIndices\",\"id\":\"p1248\"}}},\"glyph\":{\"type\":\"object\",\"name\":\"Rect\",\"id\":\"p1243\",\"attributes\":{\"x\":{\"type\":\"value\",\"value\":1020.0},\"y\":{\"type\":\"value\",\"value\":{\"type\":\"number\",\"value\":\"nan\"}},\"width\":{\"type\":\"value\",\"value\":40},\"height\":{\"type\":\"value\",\"value\":0.778},\"line_color\":{\"type\":\"value\",\"value\":\"#1f77b4\"},\"fill_color\":{\"type\":\"value\",\"value\":\"#000000ff\"}}},\"nonselection_glyph\":{\"type\":\"object\",\"name\":\"Rect\",\"id\":\"p1244\",\"attributes\":{\"x\":{\"type\":\"value\",\"value\":1020.0},\"y\":{\"type\":\"value\",\"value\":{\"type\":\"number\",\"value\":\"nan\"}},\"width\":{\"type\":\"value\",\"value\":40},\"height\":{\"type\":\"value\",\"value\":0.778},\"line_color\":{\"type\":\"value\",\"value\":\"#1f77b4\"},\"line_alpha\":{\"type\":\"value\",\"value\":0.1},\"fill_color\":{\"type\":\"value\",\"value\":\"#000000ff\"},\"fill_alpha\":{\"type\":\"value\",\"value\":0.1},\"hatch_alpha\":{\"type\":\"value\",\"value\":0.1}}},\"muted_glyph\":{\"type\":\"object\",\"name\":\"Rect\",\"id\":\"p1245\",\"attributes\":{\"x\":{\"type\":\"value\",\"value\":1020.0},\"y\":{\"type\":\"value\",\"value\":{\"type\":\"number\",\"value\":\"nan\"}},\"width\":{\"type\":\"value\",\"value\":40},\"height\":{\"type\":\"value\",\"value\":0.778},\"line_color\":{\"type\":\"value\",\"value\":\"#1f77b4\"},\"line_alpha\":{\"type\":\"value\",\"value\":0.2},\"fill_color\":{\"type\":\"value\",\"value\":\"#000000ff\"},\"fill_alpha\":{\"type\":\"value\",\"value\":0.2},\"hatch_alpha\":{\"type\":\"value\",\"value\":0.2}}}}},{\"type\":\"object\",\"name\":\"GlyphRenderer\",\"id\":\"p1255\",\"attributes\":{\"data_source\":{\"type\":\"object\",\"name\":\"ColumnDataSource\",\"id\":\"p1249\",\"attributes\":{\"selected\":{\"type\":\"object\",\"name\":\"Selection\",\"id\":\"p1251\",\"attributes\":{\"indices\":[],\"line_indices\":[]}},\"selection_policy\":{\"type\":\"object\",\"name\":\"UnionRenderers\",\"id\":\"p1250\"},\"data\":{\"type\":\"map\",\"entries\":[[\"x\",{\"type\":\"ndarray\",\"array\":{\"type\":\"bytes\",\"data\":\"xfHTyzcyeUDI+OhnRjh5QMv//QNVPnlAzgYToGNEeUDRDSg8ckp5QNQUPdiAUHlA1xtSdI9WeUDbImcQnlx5QN4pfKysYnlA4TCRSLtoeUDkN6bkyW55QOc+u4DYdHlA6kXQHOd6eUDtTOW49YB5QPFT+lQEh3lA9FoP8RKNeUD3YSSNIZN5QPpoOSkwmXlA/W9OxT6feUAAd2NhTaV5QAN+eP1bq3lAB4WNmWqxeUAKjKI1ebd5QA2Tt9GHvXlAEJrMbZbDeUAToeEJpcl5QBao9qWzz3lAGa8LQsLVeUAdtiDe0Nt5QCC9NXrf4XlAI8RKFu7neUAmy1+y/O15QCnSdE4L9HlALNmJ6hn6eUAv4J6GKAB6QDPnsyI3BnpANu7IvkUMekA59d1aVBJ6QDz88vZiGHpAPwMIk3EeekBCCh0vgCR6QEURMsuOKnpASRhHZ50wekBMH1wDrDZ6QE8mcZ+6PHpAUi2GO8lCekBVNJvX10h6QFg7sHPmTnpAW0LFD/VUekBfSdqrA1t6QGJQ70cSYXpAZVcE5CBnekBoXhmAL216QGtlLhw+c3pAbmxDuEx5ekBxc1hUW396QHV6bfBphXpAeIGCjHiLekB7iJcoh5F6QH6PrMSVl3pAgZbBYKSdekCEndb8sqN6QIek65jBqXpAi6sANdCvekCOshXR3rV6QJG5Km3tu3pAlMA/CfzBekCXx1SlCsh6QJrOaUEZznpAndV+3SfUekCh3JN5Ntp6QKTjqBVF4HpAp+q9sVPmekCq8dJNYux6QK345+lw8npAsP/8hX/4ekCzBhIijv56QLcNJ76cBHtAuhQ8WqsKe0C9G1H2uRB7QMAiZpLIFntAwyl7Ltcce0DGMJDK5SJ7QMk3pWb0KHtAzT66AgMve0DQRc+eETV7QNNM5DogO3tA1lP51i5Be0DZWg5zPUd7QNxhIw9MTXtA32g4q1pTe0Djb01HaVl7QOZ2YuN3X3tA6X13f4Zle0DshIwblWt7QO+LobejcXtA8pK2U7J3e0D1mcvvwH17QPmg4IvPg3tA/Kf1J96Je0D/rgrE7I97QAK2H2D7lXtABb00/Amce0AIxEmYGKJ7QAvLXjQnqHtAD9Jz0DWue0AS2YhsRLR7QBXgnQhTuntAGOeypGHAe0Ab7sdAcMZ7QB713Nx+zHtAIfzxeI3Se0AlAwcVnNh7QCgKHLGq3ntAKxExTbnke0AuGEbpx+p7QDEfW4XW8HtANCZwIeX2e0A3LYW98/x7QDs0mlkCA3xAPjuv9RAJfEBBQsSRHw98QERJ2S0uFXxAR1DuyTwbfEBKVwNmSyF8QE1eGAJaJ3xAUWUtnmgtfEBUbEI6dzN8QFdzV9aFOXxAWnpscpQ/fEBdgYEOo0V8QGCIlqqxS3xAY4+rRsBRfEBnlsDizld8QGqd1X7dXXxAbaTqGuxjfEBwq/+2+ml8QHOyFFMJcHxAdrkp7xd2fEB5wD6LJnx8QH3HUyc1gnxAgM5ow0OIfECD1X1fUo58QIbckvtglHxAieOnl2+afECM6rwzfqB8QI/x0c+MpnxAk/jma5usfECW//sHqrJ8QJkGEaS4uHxAnA0mQMe+fECfFDvc1cR8QKIbUHjkynxApSJlFPPQfECpKXqwAdd8QKwwj0wQ3XxArzek6B7jfECyPrmELel8QLVFziA873xAuEzjvEr1fEC7U/hYWft8QL5aDfVnAX1AwmEikXYHfUDFaDcthQ19QMhvTMmTE31Ay3ZhZaIZfUDOfXYBsR99QNGEi52/JX1A1IugOc4rfUDYkrXV3DF9QNuZynHrN31A3qDfDfo9fUDhp/SpCER9QOSuCUYXSn1A57Ue4iVQfUDqvDN+NFZ9QO7DSBpDXH1A8cpdtlFifUD00XJSYGh9QPfYh+5ubn1A+t+cin10fUD95rEmjHp9QADuxsKagH1ABPXbXqmGfUAH/PD6t4x9QAoDBpfGkn1ADQobM9WYfUAQETDP4559QBMYRWvypH1AFh9aBwGrfUAaJm+jD7F9QB0thD8et31AIDSZ2yy9fUAjO653O8N9QCZCwxNKyX1AKUnYr1jPfUAsUO1LZ9V9QDBXAuh1231AM14XhIThfUA2ZSwgk+d9QDlsQbyh7X1APHNWWLDzfUA/emv0vvl9QEKBgJDN/31ARoiVLNwFfkBJj6rI6gt+QEyWv2T5EX5AT53UAAgYfkBSpOmcFh5+QFWr/jglJH5AWLIT1TMqfkBcuShxQjB+QF/APQ1RNn5AYsdSqV88fkBlzmdFbkJ+QGjVfOF8SH5Aa9yRfYtOfkBu46YZmlR+QHLqu7WoWn5AdfHQUbdgfkB4+OXtxWZ+QHv/+onUbH5AfgYQJuNyfkCBDSXC8Xh+QIQUOl4Af35AiBtP+g6FfkCLImSWHYt+QI4peTIskX5AkTCOzjqXfkCUN6NqSZ1+QJc+uAZYo35AmkXNomapfkCeTOI+da9+QKFT99qDtX5ApFoMd5K7fkCnYSETocF+QKpoNq+vx35ArW9LS77NfkCwdmDnzNN+QLR9dYPb2X5At4SKH+rffkC6i5+7+OV+QL2StFcH7H5AwJnJ8xXyfkDEoN6PJPh+QMan8ysz/n5Ayq4IyEEEf0DNtR1kUAp/QNC8MgBfEH9A08NHnG0Wf0DWylw4fBx/QNrRcdSKIn9A3NiGcJkof0Dg35sMqC5/QOPmsKi2NH9A5u3FRMU6f0Dp9Nrg00B/QOz773ziRn9A8AIFGfFMf0DyCRq1/1J/QPYQL1EOWX9A+RdE7Rxff0D8HlmJK2V/QP8lbiU6a39AAi2DwUhxf0AGNJhdV3d/QAg7rfllfX9ADELClXSDf0APSdcxg4l/QBJQ7M2Rj39AFVcBaqCVf0AYXhYGr5t/QBtlK6K9oX9AHmxAPsynf0Aic1Xa2q1/QCV6anbps39AKIF/Evi5f0AriJSuBsB/QC6PqUoVxn9AMZa+5iPMf0A0ndOCMtJ/QDik6B5B2H9AO6v9uk/ef0A+shJXXuR/QEG5J/Ns6n9ARMA8j3vwf0BHx1ErivZ/QErOZseY/H9Ap+q9sVMBgEAobsj/WgSAQKrx0k1iB4BALHXdm2kKgECt+OfpcA2AQC988jd4EIBAsP/8hX8TgEAygwfUhhaAQLMGEiKOGYBANYoccJUcgEC2DSe+nB+AQDiRMQykIoBAuhQ8WqslgEA7mEaosiiAQL0bUfa5K4BAPp9bRMEugEDAImaSyDGAQEKmcODPNIBAwyl7Ltc3gEBFrYV83jqAQMYwkMrlPYBASLSaGO1AgEDJN6Vm9EOAQEu7r7T7RoBAzD66AgNKgEBOwsRQCk2AQNBFz54RUIBAUcnZ7BhTgEDTTOQ6IFaAQFTQ7ognWYBA1lP51i5cgEBY1wMlNl+AQNlaDnM9YoBAW94YwURlgEDcYSMPTGiAQF7lLV1Ta4BA32g4q1pugEBh7EL5YXGAQOJvTUdpdIBAZPNXlXB3gEDmdmLjd3qAQGf6bDF/fYBA6X13f4aAgEBqAYLNjYOAQOyEjBuVhoBAbgiXaZyJgEDvi6G3o4yAQHEPrAWrj4BA8pK2U7KSgEB0FsGhuZWAQPWZy+/AmIBAdx3WPcibgED4oOCLz56AQHok69nWoYBA/Kf1J96kgEB9KwB25aeAQP+uCsTsqoBAgDIVEvStgEACth9g+7CAQIQ5Kq4CtIBABb00/Am3gECHQD9KEbqAQAjESZgYvYBAikdU5h/AgEALy140J8OAQI1OaYIuxoBADtJz0DXJgECQVX4ePcyAQBLZiGxEz4BAk1yTukvSgEAV4J0IU9WAQJZjqFZa2IBAGOeypGHbgECaar3yaN6AQBvux0Bw4YBAnXHSjnfkgEAe9dzcfueAQKB45yqG6oBAIfzxeI3tgECjf/zGlPCAQCQDBxWc84BApoYRY6P2gEAoChyxqvmAQKmNJv+x/IBAKxExTbn/gECslDubwAKBQC4YRunHBYFAsJtQN88IgUAxH1uF1guBQLOiZdPdDoFANCZwIeURgUC2qXpv7BSBQDcthb3zF4FAubCPC/sagUA6NJpZAh6BQLy3pKcJIYFAPjuv9RAkgUC/vrlDGCeBQEFCxJEfKoFAwsXO3yYtgUBESdktLjCBQMbM43s1M4FAR1DuyTw2gUDJ0/gXRDmBQEpXA2ZLPIFAzNoNtFI/gUBNXhgCWkKBQM/hIlBhRYFAUGUtnmhIgUDS6Dfsb0uBQFRsQjp3ToFA1e9MiH5RgUBXc1fWhVSBQNj2YSSNV4FAWnpscpRagUDc/XbAm12BQF2BgQ6jYIFA3wSMXKpjgUBgiJaqsWaBQOILofi4aYFAY4+rRsBsgUDlEraUx2+BQGaWwOLOcoFA6BnLMNZ1gUBqndV+3XiBQOsg4Mzke4FAbaTqGux+gUDuJ/Vo84GBQHCr/7b6hIFA8i4KBQKIgUBzshRTCYuBQPU1H6EQjoFAdrkp7xeRgUD4PDQ9H5SBQHrAPosml4FA+0NJ2S2agUB8x1MnNZ2BQP5KXnU8oIFAgM5ow0OjgUABUnMRS6aBQIPVfV9SqYFABFmIrVmsgUCG3JL7YK+BQAhgnUlosoFAieOnl2+1gUALZ7LldriBQIzqvDN+u4FADm7HgYW+gUCQ8dHPjMGBQBF13B2UxIFAkvjma5vHgUAUfPG5osqBQJb/+weqzYFAF4MGVrHQgUCZBhGkuNOBQBqKG/K/1oFAnA0mQMfZgUAekTCOztyBQJ8UO9zV34FAIZhFKt3igUCiG1B45OWBQCSfWsbr6IFApiJlFPPrgUAnpm9i+u6BQKgperAB8oFAKq2E/gj1gUCsMI9MEPiBQC20mZoX+4FArzek6B7+gUAwu642JgGCQLI+uYQtBIJANMLD0jQHgkC1Rc4gPAqCQDfJ2G5DDYJAuEzjvEoQgkA60O0KUhOCQLtT+FhZFoJAPdcCp2AZgkC+Wg31ZxyCQEDeF0NvH4JAwmEikXYigkBD5SzffSWCQMVoNy2FKIJARuxBe4wrgkDIb0zJky6CQErzVhebMYJAy3ZhZaI0gkBN+muzqTeCQM59dgGxOoJAUAGBT7g9gkDRhIudv0CCQFMIluvGQ4JA1IugOc5GgkBWD6uH1UmCQNiStdXcTIJAWRbAI+RPgkDbmcpx61KCQFwd1b/yVYJA3qDfDfpYgkBgJOpbAVyCQOGn9KkIX4JAYyv/9w9igkDkrglGF2WCQGYyFJQeaIJA57Ue4iVrgkBpOSkwLW6CQOq8M340cYJAbEA+zDt0gkDuw0gaQ3eCQG9HU2hKeoJA8cpdtlF9gkByTmgEWYCCQPTRclJgg4JAdlV9oGeGgkD32IfubomCQHlckjx2jIJA+t+cin2PgkB8Y6fYhJKCQP3msSaMlYJAf2q8dJOYgkAA7sbCmpuCQIJx0RCinoJABPXbXqmhgkCFeOassKSCQAf88Pq3p4JAiH/7SL+qgkAKAwaXxq2CQIyGEOXNsIJADQobM9WzgkCPjSWB3LaCQBARMM/juYJAkpQ6Heu8gkATGEVr8r+CQJWbT7n5woJAFh9aBwHGgkCYomRVCMmCQBomb6MPzIJAm6l58RbPgkAdLYQ/HtKCQJ6wjo0l1YJAIDSZ2yzYgkCit6MpNNuCQCM7rnc73oJApb64xULhgkAmQsMTSuSCQKjFzWFR54JAKUnYr1jqgkCrzOL9X+2CQCxQ7Utn8IJArtP3mW7zgkAwVwLodfaCQLHaDDZ9+YJAM14XhIT8gkC04SHSi/+CQDZlLCCTAoNAuOg2bpoFg0A5bEG8oQiDQLvvSwqpC4NAPHNWWLAOg0C+9mCmtxGDQD96a/S+FINAwf11QsYXg0BCgYCQzRqDQMQEi97UHYNARoiVLNwgg0DHC6B64yODQEmPqsjqJoNAyhK1FvIpg0BMlr9k+SyDQM4ZyrIAMINAT53UAAgzg0DRIN9ODzaDQFKk6ZwWOYNA1Cf06h08g0BVq/44JT+DQNcuCYcsQoNAWLIT1TNFg0DaNR4jO0iDQFy5KHFCS4NA3Twzv0lOg0BfwD0NUVGDQOBDSFtYVINAYsdSqV9Xg0DkSl33ZlqDQGXOZ0VuXYNA51Fyk3Vgg0Bo1XzhfGODQOpYhy+EZoNAa9yRfYtpg0DtX5zLkmyDQG7jphmab4NA8GaxZ6Fyg0By6ru1qHWDQPNtxgOweINAdfHQUbd7g0D2dNufvn6DQHj45e3FgYNA+nvwO82Eg0B7//qJ1IeDQP2CBdjbioNAfgYQJuONg0AAihp06pCDQIENJcLxk4NAA5EvEPmWg0CEFDpeAJqDQAaYRKwHnYNAiBtP+g6gg0AJn1lIFqODQIsiZJYdpoNADKZu5CSpg0COKXkyLKyDQBCtg4Azr4NAkTCOzjqyg0ATtJgcQrWDQJQ3o2pJuINAFrutuFC7g0CXPrgGWL6DQBnCwlRfwYNAmkXNombEg0AcydfwbceDQJ5M4j51yoNAH9DsjHzNg0ChU/fag9CDQCLXASmL04NApFoMd5LWg0Am3hbFmdmDQKdhIROh3INAKeUrYajfg0CqaDavr+KDQCzsQP225YNArW9LS77og0Av81WZxeuDQLB2YOfM7oNAMvpqNdTxg0C0fXWD2/SDQDUBgNHi94NAt4SKH+r6g0A4CJVt8f2DQLqLn7v4AIRAPA+qCQAEhEC9krRXBweEQD8Wv6UOCoRAwJnJ8xUNhEBCHdRBHRCEQMOg3o8kE4RARSTp3SsWhEDGp/MrMxmEQEgr/nk6HIRAyq4IyEEfhEBLMhMWSSKEQM21HWRQJYRATjkoslcohEDQvDIAXyuEQFJAPU5mLoRA08NHnG0xhEBVR1LqdDSEQNbKXDh8N4RAWE5nhoM6hEDZ0XHUij2EQFtVfCKSQIRA3NiGcJlDhEBeXJG+oEaEQODfmwyoSYRAYWOmWq9MhEDj5rCotk+EQGRqu/a9UoRA5u3FRMVVhEBocdCSzFiEQOn02uDTW4RAa3jlLttehEDs++984mGEQG5/+srpZIRA7wIFGfFnhEBxhg9n+GqEQPIJGrX/bYRAdI0kAwdxhED2EC9RDnSEQHeUOZ8Vd4RA+RdE7Rx6hEB6m047JH2EQPweWYkrgIRAfqJj1zKDhED/JW4lOoaEQIGpeHNBiYRAAi2DwUiMhECEsI0PUI+EQAU0mF1XkoRAh7eiq16VhEAIO635ZZiEQIq+t0dtm4RADELClXSehECNxczje6GEQA9J1zGDpIRAkMzhf4qnhEASUOzNkaqEQJTT9huZrYRAFVcBaqCwhECX2gu4p7OEQBheFgavtoRAmuEgVLa5hEAbZSuivbyEQJ3oNfDEv4RAHmxAPszChECg70qM08WEQCJzVdrayIRAo/ZfKOLLhEAlemp26c6EQKb9dMTw0YRAKIF/EvjUhECqBIpg/9eEQCuIlK4G24RArQuf/A3ehEAuj6lKFeGEQLAStJgc5IRAMZa+5iPnhECzGck0K+qEQDSd04Iy7YRAtiDe0DnwhEA4pOgeQfOEQLkn82xI9oRAO6v9uk/5hEC8LggJV/yEQD6yElde/4RAwDUdpWUChUBBuSfzbAWFQMI8MkF0CIVARMA8j3sLhUDGQ0fdgg6FQEfHUSuKEYVAyUpceZEUhUBKzmbHmBeFQMxRcRWgGoVATtV7Y6cdhUDPWIaxriCFQFHckP+1I4VA0l+bTb0mhUBU46WbxCmFQNZmsOnLLIVAV+q6N9MvhUDYbcWF2jKFQFrxz9PhNYVA3HTaIek4hUBd+ORv8DuFQN977733PoVAYP/5C/9BhUDiggRaBkWFQGQGD6gNSIVA5YkZ9hRLhUBnDSREHE6FQOiQLpIjUYVAahQ54CpUhUDsl0MuMleFQG0bTnw5WoVA7p5YykBdhUBwImMYSGCFQPKlbWZPY4VAcyl4tFZmhUD1rIICXmmFQHYwjVBlbIVA+LOXnmxvhUB6N6Lsc3KFQPu6rDp7dYVAfT63iIJ4hUD+wcHWiXuFQIBFzCSRfoVAAsnWcpiBhUCDTOHAn4SFQATQ6w6nh4VAhlP2XK6KhUAI1wCrtY2FQIpaC/m8kIVAC94VR8SThUCMYSCVy5aFQA7lKuPSmYVAkGg1MdqchUAR7D9/4Z+FQJNvSs3oooVAFPNUG/ClhUCWdl9p96iFQBj6abf+q4VAmX10BQavhUAaAX9TDbKFQJyEiaEUtYVAHgiU7xu4hUCgi549I7uFQCEPqYsqvoVAopKz2THBhUAkFr4nOcSFQKaZyHVAx4VAJx3Tw0fKhUCpoN0RT82FQCok6F9W0IVArKfyrV3ThUAuK/37ZNaFQK+uB0ps2YVAMDISmHPchUCytRzmet+FQDQ5JzSC4oVAtrwxgonlhUA3QDzQkOiFQLjDRh6Y64VAOkdRbJ/uhUC8ylu6pvGFQD1OZgiu9IVAv9FwVrX3hUBAVXukvPqFQMLYhfLD/YVARFyQQMsAhkDF35qO0gOGQEZjpdzZBoZAyOavKuEJhkBKarp46AyGQMztxMbvD4ZATXHPFPcShkDO9Nli/hWGQFB45LAFGYZA0vvu/gwchkBTf/lMFB+GQNUCBJsbIoZAVoYO6SIlhkDYCRk3KiiGQFqNI4UxK4ZA2xAu0zguhkBclDghQDGGQN4XQ29HNIZAYJtNvU43hkDiHlgLVjqGQGOiYlldPYZA5CVtp2RAhkBmqXf1a0OGQOgsgkNzRoZAabCMkXpJhkDrM5ffgUyGQGy3oS2JT4ZA7jqse5BShkBwvrbJl1WGQPFBwRefWIZAcsXLZaZbhkD0SNazrV6GQHbM4AG1YYZA+E/rT7xkhkB50/Wdw2eGQPpWAOzKaoZAfNoKOtJthkD+XRWI2XCGQH/hH9bgc4ZAAWUqJOh2hkCC6DRy73mGQARsP8D2fIZAhu9JDv5/hkAHc1RcBYOGQIj2XqoMhoZACnpp+BOJhkCM/XNGG4yGQA6BfpQij4ZAjwSJ4imShkAQiJMwMZWGQJILnn44mIZAFI+ozD+bhkCVErMaR56GQBaWvWhOoYZAmBnItlWkhkAandIEXaeGQJwg3VJkqoZAHaTnoGuthkCeJ/LucrCGQCCr/Dx6s4ZAoi4Hi4G2hkAkshHZiLmGQKU1HCeQvIZAJrkmdZe/hkCoPDHDnsKGQCrAOxGmxYZAq0NGX63IhkAsx1CttMuGQK5KW/u7zoZAMM5lScPRhkCyUXCXytSGQDPVeuXR14ZAtFiFM9nahkA23I+B4N2GQLhfms/n4IZAOuOkHe/jhkC7Zq9r9uaGQDzqubn96YZAvm3EBwXthkBA8c5VDPCGQMF02aMT84ZAQvjj8Rr2hkDEe+4/IvmGQEb/+I0p/IZAyIID3DD/hkBJBg4qOAKHQMqJGHg/BYdATA0jxkYIh0DOkC0UTguHQFAUOGJVDodA0ZdCsFwRh0BSG03+YxSHQNSeV0xrF4dAViJimnIah0DXpWzoeR2HQFgpdzaBIIdA2qyBhIgjh0BcMIzSjyaHQN6zliCXKYdAXzehbp4sh0Dguqu8pS+HQGI+tgqtModA5MHAWLQ1h0BmRcumuziHQOfI1fTCO4dAaEzgQso+h0Dqz+qQ0UGHQGxT9d7YRIdA7db/LOBHh0BuWgp750qHQPDdFMnuTYdAcmEfF/ZQh0D05Cll/VOHQHVoNLMEV4dA9us+AQxah0B4b0lPE12HQPryU50aYIdAfHZe6yFjh0D9+Wg5KWaHQH59c4cwaYdAAAF+1Tdsh0CChIgjP2+HQAMIk3FGcodAhIudv011h0AGD6gNVXiHQIiSsltce4dACha9qWN+h0CLmcf3aoGHQAwd0kVyhIdAjqDck3mHh0AQJOfhgIqHQJKn8S+IjYdAEyv8fY+Qh0CUrgbMlpOHQBYyERqelodAmLUbaKWZh0AZOSa2rJyHQJq8MAS0n4dAHEA7Uruih0Cew0WgwqWHQCBHUO7JqIdAocpaPNGrh0AiTmWK2K6HQKTRb9jfsYdAJlV6Jue0h0Co2IR07reHQClcj8L1uodAqt+ZEP29h0AsY6ReBMGHQK7mrqwLxIdAL2q5+hLHh0Cw7cNIGsqHQDJxzpYhzYdAtPTY5CjQh0A2eOMyMNOHQLf77YA31odAOH/4zj7Zh0C6AgMdRtyHQDyGDWtN34dAvgkYuVTih0A/jSIHXOWHQMAQLVVj6IdAQpQ3o2rrh0DEF0Lxce6HQEWbTD958YdAxh5XjYD0h0BIomHbh/eHQMolbCmP+odATKl2d5b9h0DNLIHFnQCIQE6wixOlA4hA0DOWYawGiEBSt6CvswmIQNQ6q/26DIhAVb61S8IPiEDWQcCZyRKIQFjFyufQFYhA2kjVNdgYiEBbzN+D3xuIQNxP6tHmHohAXtP0H+4hiEDgVv9t9SSIQGLaCbz8J4hA410UCgQriEBk4R5YCy6IQOZkKaYSMYhAaOgz9Bk0iEDqaz5CITeIQGvvSJAoOohA7HJT3i89iEBu9l0sN0CIQPB5aHo+Q4hAcf1yyEVGiEDygH0WTUmIQHQEiGRUTIhA9oeSsltPiEB4C50AY1KIQPmOp05qVYhAehKynHFYiED8lbzqeFuIQH4ZxziAXohAAJ3RhodhiECBINzUjmSIQAKk5iKWZ4hAhCfxcJ1qiEAGq/u+pG2IQIcuBg2scIhACLIQW7NziECKNRupunaIQAy5JffBeYhAjjwwRcl8iEAPwDqT0H+IQJBDReHXgohAEsdPL9+FiECUSlp95oiIQBbOZMvti4hAl1FvGfWOiEAY1Xln/JGIQJpYhLUDlYhAHNyOAwuYiECdX5lREpuIQB7jo58ZnohAoGau7SChiEAi6rg7KKSIQKRtw4kvp4hAJfHN1zaqiECmdNglPq2IQCj44nNFsIhAqnvtwUyziEAs//cPVLaIQK2CAl5buYhALgYNrGK8iECwiRf6ab+IQDINIkhxwohAs5AslnjFiEA0FDfkf8iIQLaXQTKHy4hAOBtMgI7OiEC6nlbOldGIQDsiYRyd1IhAvKVraqTXiEA+KXa4q9qIQMCsgAaz3YhAQjCLVLrgiEDDs5WiweOIQEQ3oPDI5ohAxrqqPtDpiEBIPrWM1+yIQMnBv9re74hASkXKKObyiEDMyNR27fWIQE5M38T0+IhA0M/pEvz7iEBRU/RgA/+IQNLW/q4KAolAVFoJ/REFiUDW3RNLGQiJQFhhHpkgC4lA2eQo5ycOiUBaaDM1LxGJQNzrPYM2FIlAXm9I0T0XiUDf8lIfRRqJQGB2XW1MHYlA4vlnu1MgiUBkfXIJWyOJQOYAfVdiJolAZ4SHpWkpiUDoB5LzcCyJQGqLnEF4L4lA7A6nj38yiUBukrHdhjWJQO8VvCuOOIlAcJnGeZU7iUDyHNHHnD6JQHSg2xWkQYlA9SPmY6tEiUB2p/CxskeJQPgq+/+5SolAeq4FTsFNiUD8MRCcyFCJQH21GurPU4lA/jglONdWiUCAvC+G3lmJQAJAOtTlXIlAhMNEIu1fiUAFR09w9GKJQIbKWb77ZYlACE5kDANpiUCK0W5aCmyJQAtVeagRb4lAjNiD9hhyiUAOXI5EIHWJQJDfmJIneIlAEmOj4C57iUCT5q0uNn6JQBRquHw9gYlAlu3CykSEiUAYcc0YTIeJQJr012ZTiolAG3jitFqNiUCc++wCYpCJQB5/91Bpk4lAoAICn3CWiUAhhgztd5mJQKIJFzt/nIlAJI0hiYafiUCmECzXjaKJQCiUNiWVpYlAqRdBc5yoiUAqm0vBo6uJQKweVg+rrolALqJgXbKxiUCwJWurubSJQDGpdfnAt4lAsiyAR8i6iUA0sIqVz72JQLYzlePWwIlAN7efMd7DiUC4Oqp/5caJQDq+tM3syYlAvEG/G/TMiUA+xclp+8+JQL9I1LcC04lAQMzeBQrWiUDCT+lTEdmJQETT86EY3IlAxlb+7x/fiUBH2gg+J+KJQMhdE4wu5YlASuEd2jXoiUDMZCgoPeuJQE3oMnZE7olAzms9xEvxiUBQ70cSU/SJQNJyUmBa94lAVPZcrmH6iUDVeWf8aP2JQFb9cUpwAIpA2IB8mHcDikBaBIfmfgaKQNyHkTSGCYpAXQucgo0MikDejqbQlA+KQGASsR6cEopA4pW7bKMVikBjGca6qhiKQOSc0AiyG4pAZiDbVrkeikDoo+WkwCGKQGon8PLHJIpA66r6QM8nikBsLgWP1iqKQO6xD93dLYpAcDUaK+UwikDyuCR57DOKQHM8L8fzNopA9L85Ffs5ikB2Q0RjAj2KQPjGTrEJQIpAeUpZ/xBDikD6zWNNGEaKQHxRbpsfSYpA/tR46SZMikCAWIM3Lk+KQAHcjYU1UopAgl+Y0zxVikAE46IhRFiKQIZmrW9LW4pACOq3vVJeikCJbcILWmGKQArxzFlhZIpAjHTXp2hnikAO+OH1b2qKQI977EN3bYpAEP/2kX5wikCSggHghXOKQBQGDC6NdopAlokWfJR5ikAXDSHKm3yKQJiQKxijf4pAGhQ2ZqqCikCcl0C0sYWKQB4bSwK5iIpAn55VUMCLikAgImCex46KQKKlauzOkYpAJCl1OtaUikClrH+I3ZeKQCYwitbkmopAqLOUJOydikAqN59y86CKQKy6qcD6o4pALT60DgKnikCuwb5cCaqKQDBFyaoQrYpAssjT+BewikA0TN5GH7OKQLXP6JQmtopANlPz4i25ikC41v0wNbyKQDpaCH88v4pAu90SzUPCikA8YR0bS8WKQL7kJ2lSyIpAQGgyt1nLikDC6zwFYc6KQENvR1No0YpAxPJRoW/UikBGdlzvdteKQMj5Zj1+2opASn1xi4XdikDLAHzZjOCKQEyEhieU44pAzgeRdZvmikBQi5vDoumKQNEOphGq7IpAUpKwX7HvikDUFbutuPKKQFaZxfu/9YpA2BzQScf4ikBZoNqXzvuKQNoj5eXV/opAXKfvM90Bi0DeKvqB5ASLQGCuBNDrB4tA4TEPHvMKi0BitRls+g2LQOQ4JLoBEYtAZrwuCAkUi0DnPzlWEBeLQGjDQ6QXGotA6kZO8h4di0BsylhAJiCLQO5NY44tI4tAb9Ft3DQmi0DwVHgqPCmLQHLYgnhDLItA9FuNxkovi0B235cUUjKLQPdiomJZNYtAeOassGA4i0D6abf+ZzuLQHztwUxvPotA/XDMmnZBi0B+9NbofUSLQAB44TaFR4tAgvvrhIxKi0AEf/bSk02LQIUCASGbUItABoYLb6JTi0CICRa9qVaLQAqNIAuxWYtAjBArWbhci0ANlDWnv1+LQI4XQPXGYotAEJtKQ85li0CSHlWR1WiLQBOiX9/ca4tAlCVqLeRui0AWqXR763GLQJgsf8nydItAGrCJF/p3i0CbM5RlAXuLQBy3nrMIfotAnjqpARCBi0AgvrNPF4SLQKJBvp0eh4tAI8XI6yWKi0CkSNM5LY2LQCbM3Yc0kItAqE/o1TuTi0Ap0/IjQ5aLQKpW/XFKmYtALNoHwFGci0CuXRIOWZ+LQDDhHFxgootAsWQnqmeli0Ay6DH4bqiLQLRrPEZ2q4tANu9GlH2ui0C4clHihLGLQDn2WzCMtItAunlmfpO3i0A8/XDMmrqLQA==\"},\"shape\":[1280],\"dtype\":\"float64\",\"order\":\"little\"}],[\"y\",{\"type\":\"ndarray\",\"array\":{\"type\":\"bytes\",\"data\":\"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\"},\"shape\":[1280],\"dtype\":\"float64\",\"order\":\"little\"}]]}}},\"view\":{\"type\":\"object\",\"name\":\"CDSView\",\"id\":\"p1256\",\"attributes\":{\"filter\":{\"type\":\"object\",\"name\":\"AllIndices\",\"id\":\"p1257\"}}},\"glyph\":{\"type\":\"object\",\"name\":\"Line\",\"id\":\"p1252\",\"attributes\":{\"x\":{\"type\":\"field\",\"field\":\"x\"},\"y\":{\"type\":\"field\",\"field\":\"y\"},\"line_color\":\"#1f77b4\",\"line_width\":3}},\"nonselection_glyph\":{\"type\":\"object\",\"name\":\"Line\",\"id\":\"p1253\",\"attributes\":{\"x\":{\"type\":\"field\",\"field\":\"x\"},\"y\":{\"type\":\"field\",\"field\":\"y\"},\"line_color\":\"#1f77b4\",\"line_alpha\":0.1,\"line_width\":3}},\"muted_glyph\":{\"type\":\"object\",\"name\":\"Line\",\"id\":\"p1254\",\"attributes\":{\"x\":{\"type\":\"field\",\"field\":\"x\"},\"y\":{\"type\":\"field\",\"field\":\"y\"},\"line_color\":\"#1f77b4\",\"line_alpha\":0.2,\"line_width\":3}}}}],\"toolbar\":{\"type\":\"object\",\"name\":\"Toolbar\",\"id\":\"p1010\",\"attributes\":{\"tools\":[{\"type\":\"object\",\"name\":\"PanTool\",\"id\":\"p1034\"},{\"type\":\"object\",\"name\":\"WheelZoomTool\",\"id\":\"p1035\"},{\"type\":\"object\",\"name\":\"BoxZoomTool\",\"id\":\"p1036\",\"attributes\":{\"overlay\":{\"type\":\"object\",\"name\":\"BoxAnnotation\",\"id\":\"p1037\",\"attributes\":{\"syncable\":false,\"level\":\"overlay\",\"visible\":false,\"left_units\":\"canvas\",\"right_units\":\"canvas\",\"bottom_units\":\"canvas\",\"top_units\":\"canvas\",\"line_color\":\"black\",\"line_alpha\":1.0,\"line_width\":2,\"line_dash\":[4,4],\"fill_color\":\"lightgrey\",\"fill_alpha\":0.5}}}},{\"type\":\"object\",\"name\":\"SaveTool\",\"id\":\"p1038\"},{\"type\":\"object\",\"name\":\"ResetTool\",\"id\":\"p1039\"},{\"type\":\"object\",\"name\":\"HelpTool\",\"id\":\"p1040\"}]}},\"left\":[{\"type\":\"object\",\"name\":\"LinearAxis\",\"id\":\"p1027\",\"attributes\":{\"ticker\":{\"type\":\"object\",\"name\":\"BasicTicker\",\"id\":\"p1029\",\"attributes\":{\"mantissas\":[1,2,5]}},\"formatter\":{\"type\":\"object\",\"name\":\"BasicTickFormatter\",\"id\":\"p1030\"},\"axis_label\":\"Intensity (Counts)\",\"major_label_policy\":{\"type\":\"object\",\"name\":\"AllLabels\",\"id\":\"p1028\"}}}],\"below\":[{\"type\":\"object\",\"name\":\"LinearAxis\",\"id\":\"p1020\",\"attributes\":{\"ticker\":{\"type\":\"object\",\"name\":\"BasicTicker\",\"id\":\"p1022\",\"attributes\":{\"mantissas\":[1,2,5]}},\"formatter\":{\"type\":\"object\",\"name\":\"BasicTickFormatter\",\"id\":\"p1023\"},\"axis_label\":\"Wavelength (nm)\",\"major_label_policy\":{\"type\":\"object\",\"name\":\"AllLabels\",\"id\":\"p1021\"}}}],\"center\":[{\"type\":\"object\",\"name\":\"Grid\",\"id\":\"p1026\",\"attributes\":{\"axis\":{\"id\":\"p1020\"}}},{\"type\":\"object\",\"name\":\"Grid\",\"id\":\"p1033\",\"attributes\":{\"dimension\":1,\"axis\":{\"id\":\"p1027\"}}},{\"type\":\"object\",\"name\":\"Legend\",\"id\":\"p1058\",\"attributes\":{\"items\":[{\"type\":\"object\",\"name\":\"LegendItem\",\"id\":\"p1059\",\"attributes\":{\"label\":{\"type\":\"value\",\"value\":\"Fraunhofer Lines.\"},\"renderers\":[{\"id\":\"p1055\"}]}},{\"type\":\"object\",\"name\":\"LegendItem\",\"id\":\"p1258\",\"attributes\":{\"label\":{\"type\":\"value\",\"value\":\"Spectra\"},\"renderers\":[{\"id\":\"p1255\"}]}}]}}]}}],\"callbacks\":{\"type\":\"map\"}}};\n",
       "  const render_items = [{\"docid\":\"5003553d-d05d-4b24-af5b-948e7ad09fcd\",\"roots\":{\"p1002\":\"df6a0939-8f17-4c8b-841c-09038736244d\"},\"root_ids\":[\"p1002\"]}];\n",
       "  root.Bokeh.embed.embed_items_notebook(docs_json, render_items);\n",
       "  }\n",
       "  if (root.Bokeh !== undefined) {\n",
       "    embed_document(root);\n",
       "  } else {\n",
       "    let attempts = 0;\n",
       "    const timer = setInterval(function(root) {\n",
       "      if (root.Bokeh !== undefined) {\n",
       "        clearInterval(timer);\n",
       "        embed_document(root);\n",
       "      } else {\n",
       "        attempts++;\n",
       "        if (attempts > 100) {\n",
       "          clearInterval(timer);\n",
       "          console.log(\"Bokeh: ERROR: Unable to run BokehJS code because BokehJS library is missing\");\n",
       "        }\n",
       "      }\n",
       "    }, 10, root)\n",
       "  }\n",
       "})(window);"
      ],
      "application/vnd.bokehjs_exec.v0+json": ""
     },
     "metadata": {
      "application/vnd.bokehjs_exec.v0+json": {
       "id": "p1002"
      }
     },
     "output_type": "display_data"
    }
   ],
   "source": [
    "# Plot the actual spectra\n",
    "junk = spectra_w.line( hab_spectra.wavelengths,\n",
    "                      hab_spectra.raw_y, \n",
    "                      legend_label = \"Spectra\", \n",
    "                        line_width = 3\n",
    "                     )\n",
    "show(spectra_w)"
   ]
  },
  {
   "cell_type": "code",
   "execution_count": null,
   "metadata": {},
   "outputs": [],
   "source": []
  },
  {
   "cell_type": "code",
   "execution_count": null,
   "metadata": {},
   "outputs": [],
   "source": []
  },
  {
   "cell_type": "code",
   "execution_count": null,
   "metadata": {},
   "outputs": [],
   "source": []
  }
 ],
 "metadata": {
  "kernelspec": {
   "display_name": "python3",
   "language": "python",
   "name": "python3"
  }
 },
 "nbformat": 4,
 "nbformat_minor": 4
}
