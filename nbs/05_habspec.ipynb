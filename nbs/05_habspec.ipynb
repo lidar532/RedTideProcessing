{
 "cells": [
  {
   "cell_type": "markdown",
   "metadata": {},
   "source": [
    "# habspec\n",
    "\n",
    "> Load, Calibrate, HABSpec json spectra files captured by the HABSpec."
   ]
  },
  {
   "cell_type": "code",
   "execution_count": null,
   "metadata": {},
   "outputs": [],
   "source": [
    "#| default_exp habspec"
   ]
  },
  {
   "cell_type": "code",
   "execution_count": null,
   "metadata": {},
   "outputs": [],
   "source": [
    "#| hide\n",
    "from nbdev.showdoc import *\n",
    "import nbdev"
   ]
  },
  {
   "cell_type": "code",
   "execution_count": null,
   "metadata": {},
   "outputs": [],
   "source": [
    "#| hide\n",
    "nbdev.nbdev_export()"
   ]
  },
  {
   "cell_type": "code",
   "execution_count": null,
   "metadata": {},
   "outputs": [],
   "source": [
    "#| export\n",
    "import glob\n",
    "import numpy             as np\n",
    "import pandas            as pd\n",
    "import cv2               as cv\n",
    "import datetime          as dt\n",
    "import glob\n",
    "import matplotlib.pylab  as plt\n",
    "import numpy             as np\n",
    "import pandas            as pd\n",
    "import pandas            as pd\n",
    "import time\n",
    "from geographiclib.geodesic import Geodesic\n",
    "from           PIL          import Image   \n",
    "from       skimage          import io"
   ]
  },
  {
   "cell_type": "code",
   "execution_count": null,
   "metadata": {},
   "outputs": [],
   "source": [
    "import RedTideProcessing.wavelength_cal     as cal\n",
    "import RedTideProcessing.testing            as testing\n",
    "import RedTideProcessing.habspec_data_class as hsdc"
   ]
  },
  {
   "cell_type": "code",
   "execution_count": null,
   "metadata": {},
   "outputs": [],
   "source": [
    "## from google.colab.patches   import cv2_imshow # for image display"
   ]
  },
  {
   "cell_type": "markdown",
   "metadata": {},
   "source": [
    "#| hide\n",
    "## Global vars for testing only."
   ]
  },
  {
   "cell_type": "markdown",
   "metadata": {},
   "source": [
    "For working with test data from s:"
   ]
  },
  {
   "cell_type": "markdown",
   "metadata": {},
   "source": [
    "Gps_File_Name = '/mnt/f/My Drive/Missions/2021-1208-HAB-Lake-Parker/'\\\n",
    "                '2021-1208/2021-1208-175324-910850-mission-gps.txt'\n",
    "\n",
    "mission_folder = '/mnt/s/2021-0717-HAB-Spec-Tampa-Bay-PIE/2021-0717-HAB-pie/'\n",
    "\n",
    "Gps_File_Name = \"/mnt/s/2021-0717-HAB-Spec-Tampa-Bay-PIE/2021-0717-HAB-pie/2021-0717-044645-687230-mission-gps.txt\"\n",
    "\n",
    "test_spectra_file = mission_folder+'/160206/hab_spectra/2021-0717-160401-066388-spec.json'"
   ]
  },
  {
   "cell_type": "markdown",
   "metadata": {},
   "source": [
    "mission_folder = \"../sample_data/2023-0718/034901/\"\n",
    "test_spectra_file = mission_folder + \"/hab_spectra/\" + \"2023-0718-034912-259843-spec.json\"\n",
    "test_spectra_file"
   ]
  },
  {
   "cell_type": "markdown",
   "metadata": {},
   "source": [
    "#| hide\n",
    "## Module wide Globals"
   ]
  },
  {
   "cell_type": "markdown",
   "metadata": {},
   "source": [
    "#| hide\n",
    "### Working spectra data "
   ]
  },
  {
   "cell_type": "markdown",
   "metadata": {},
   "source": [
    "#| export\n",
    "class HAB_Spectra:\n",
    "  '''\n",
    "  '''\n",
    "  Xpixels     = np.array(1)\n",
    "  wavelengths = np.array(1)\n",
    "  create_time = dt.datetime.utcnow()\n",
    "  pixel0      = None\n",
    "  wavelength0 = None\n",
    "  pixel1      = None\n",
    "  wavelength1 = None\n",
    "  def __init__(self):\n",
    "    self.json_spectra_file_name    = None\n",
    "    self.Lat          = None\n",
    "    self.Lon          = None\n",
    "    self.altitde_m    = None\n",
    "    self.n_saturated  = None\n",
    "    self.raw_y_min    = None\n",
    "    self.remove_bias  = None\n",
    "    self.y_average    = None\n",
    "    \n",
    "    self.DateTime     = None\n",
    "    self.Exposure     = None\n",
    "    \n",
    "    self.raw_y        = []\n",
    "    self.summed_rows  = 0\n",
    "    \n",
    "  def __str__(self):\n",
    "    rv = ''\n",
    "    for k in self.__dict__.keys():\n",
    "      rv += f'{k:20s}: {self.__dict__[k]}\\n'\n",
    "    return rv\n",
    "    "
   ]
  },
  {
   "cell_type": "code",
   "execution_count": null,
   "metadata": {},
   "outputs": [],
   "source": [
    "hab_spectra = hsdc.HAB_Spectra()"
   ]
  },
  {
   "cell_type": "code",
   "execution_count": null,
   "metadata": {},
   "outputs": [
    {
     "name": "stdout",
     "output_type": "stream",
     "text": [
      "json_spectra_file_name: None\n",
      "Lat                 : None\n",
      "Lon                 : None\n",
      "altitde_m           : None\n",
      "n_saturated         : None\n",
      "raw_y_min           : None\n",
      "remove_bias         : None\n",
      "y_average           : None\n",
      "DateTime            : None\n",
      "Exposure            : None\n",
      "raw_y               : []\n",
      "summed_rows         : 0\n",
      "\n"
     ]
    }
   ],
   "source": [
    "print(hab_spectra.__str__())"
   ]
  },
  {
   "cell_type": "markdown",
   "metadata": {},
   "source": [
    "#| hide\n",
    "## Functions"
   ]
  },
  {
   "cell_type": "markdown",
   "metadata": {},
   "source": [
    "#| hide#\n",
    "### General Purpose datetime Functions"
   ]
  },
  {
   "cell_type": "markdown",
   "metadata": {},
   "source": [
    "#| hide\n",
    "#### def hhmmss_to_sod( hhmmss, Usecs=0):"
   ]
  },
  {
   "cell_type": "code",
   "execution_count": null,
   "metadata": {},
   "outputs": [],
   "source": [
    "#| export\n",
    "def hhmmss_to_sod( hhmmss, Usecs=0):\n",
    "    \"\"\"\n",
    "    Converts a time string in 'HHMMSS' format to a seconds-of-the-day\n",
    "    including an optional microseconds fraction.\n",
    "\n",
    "    Parameters:\n",
    "    ----------- \n",
    "    hhmmss : str\n",
    "    Usecs  : str, default=0\n",
    "\n",
    "    Returns: \n",
    "    --------\n",
    "    float\n",
    "      Seconds of the day including the fractional part computed from `Usecs`\n",
    "    \n",
    "    Description:\n",
    "    ------------\n",
    "    hhmmss where hh is hours, mm is minutes, and ss is seconds. Example '123456'\n",
    "    is 12 hours, 34 minutes, and 56 seconds. A string representing the number of\n",
    "    microseconds since the last second increment, ie the fractional part of a second. \n",
    "    Example: '954561' represents 0.954561 seconds, or 954,561 microseconds since the\n",
    "    last seconds rollover. Returns A single floating point value of the seconds since\n",
    "    midnight plus the fractional seconds.\n",
    "\n",
    "    Examples:\n",
    "    ---------\n",
    "    To be added.\n",
    "\n",
    "    \"\"\"\n",
    "    hh = int(hhmmss[0:2])\n",
    "    mm = int(hhmmss[2:4])\n",
    "    ss = int(hhmmss[4:6])\n",
    "    fsod = hh*3600 + mm*60 + ss + float(Usecs) * 1e-6\n",
    "    return fsod"
   ]
  },
  {
   "cell_type": "markdown",
   "metadata": {},
   "source": [
    "#| hide\n",
    "#### def now_utc( fmt='%Y-%m%d %H:%M:%S'):"
   ]
  },
  {
   "cell_type": "code",
   "execution_count": null,
   "metadata": {},
   "outputs": [],
   "source": [
    "#| export\n",
    "def now_utc( fmt='%Y-%m%d %H:%M:%S'):\n",
    "    \"\"\" Return the current UTC date and time as a string.  Example return: '2021-0812 15:39:41'.\n",
    "    See: http://shorturl.at/koOQ7 for timeformat options & directives.\n",
    "    \"\"\"\n",
    "    t = dt.datetime.utcnow()\n",
    "    ts = f'{t:{fmt}}'\n",
    "    return ts"
   ]
  },
  {
   "cell_type": "code",
   "execution_count": null,
   "metadata": {},
   "outputs": [
    {
     "data": {
      "text/plain": [
       "'2023-0724 21:03:53'"
      ]
     },
     "execution_count": null,
     "metadata": {},
     "output_type": "execute_result"
    }
   ],
   "source": [
    "now_utc()"
   ]
  },
  {
   "cell_type": "markdown",
   "metadata": {},
   "source": [
    "#| hide\n",
    "#### def hms2sod( str, debug=False):"
   ]
  },
  {
   "cell_type": "code",
   "execution_count": null,
   "metadata": {},
   "outputs": [],
   "source": [
    "#| export\n",
    "def hms2sod( str ):\n",
    "  '''\n",
    "  Converts an ASCII string in the form 'HH:MM\"SS' to seconds of the day. Works with\n",
    "  fractional seconds.\n",
    "  '''\n",
    "  t_lst = str.split('.')\n",
    "  ts = time.strptime( t_lst[0], '%H:%M:%S')\n",
    "  if len(t_lst) > 1:\n",
    "    fs = float(\".\"+t_lst[1] )\n",
    "  else:\n",
    "    fs = 0.0\n",
    "  sod = ts[3]*3600 + ts[4]*60 + ts[5] + fs\n",
    "  return sod"
   ]
  },
  {
   "cell_type": "code",
   "execution_count": null,
   "metadata": {},
   "outputs": [
    {
     "name": "stdout",
     "output_type": "stream",
     "text": [
      "\n",
      "Testing: hms2sod( t )\n",
      "Time Str       Seconds of Day\n",
      "-----------------------------\n",
      "00:00:00             0.000000\n",
      "23:59:59         86399.000000\n",
      "12:00:00         43200.000000\n",
      "00:00:00.0           0.000000\n",
      "0:0:0.0              0.000000\n",
      "0:0:0                0.000000\n"
     ]
    }
   ],
   "source": [
    "print('\\nTesting: hms2sod( t )')\n",
    "tt = ['00:00:00',   '23:59:59', '12:00:00',\n",
    "      '00:00:00.0', '0:0:0.0', '0:0:0' ]\n",
    "print('Time Str       Seconds of Day\\n'\\\n",
    "       '-----------------------------')\n",
    "for t in tt:\n",
    "  rv = hms2sod( t )\n",
    "  print(f'{t:16} {rv:12.6f}')"
   ]
  },
  {
   "cell_type": "markdown",
   "metadata": {},
   "source": [
    "|! hide\n",
    "####   def extract_hms( fn):"
   ]
  },
  {
   "cell_type": "code",
   "execution_count": null,
   "metadata": {},
   "outputs": [],
   "source": [
    "#| export\n",
    "def extract_hms( \n",
    "  fn:str         # Filename \n",
    ") ->tuple:       # ( hhmmss:str, fsecs:str, hhmmss.fsecs:float, sod.fsecs:float )\n",
    "    '''Extract the HHMMSS and Fsecs strings from filename \"fn\"\n",
    "\n",
    "    Returns:\n",
    "    --------\n",
    "    ( hhmmss:str, fsecs:str, hhmmss.fsecs:float, sod.fsecs:float )\n",
    "    '''\n",
    "    lst = fn.split('-')\n",
    "    sod = hhmmss_to_sod( lst[-3], Usecs=lst[-2] )\n",
    "    return ( lst[-3], lst[-2], float(lst[-3])+float(lst[-2])*1e-6, sod  )"
   ]
  },
  {
   "cell_type": "markdown",
   "metadata": {},
   "source": [
    "#| hide\n",
    "### HABSpec JSON Functions"
   ]
  },
  {
   "cell_type": "markdown",
   "metadata": {},
   "source": [
    "#| hide\n",
    "#### def configure_json_spectra()"
   ]
  },
  {
   "cell_type": "code",
   "execution_count": null,
   "metadata": {},
   "outputs": [],
   "source": [
    "#| export\n",
    "def configure_json_spectra(\n",
    "  hab_spectra_class,  # The HAB_Spectra class to update.\n",
    "  file_name:str       # Json settings file.\n",
    ") ->bool:              # Returns True if successful, else False.\n",
    "    '''\n",
    "    Configures HabSpec internal setting according to settings found within a json spectra file 'file_name'.\n",
    "    '''\n",
    "    try:\n",
    "      spec = pd.read_json(file_name)                                                     # get a spectra fron a json file to pandas.\n",
    "    except:\n",
    "      hab_spectra_class.error_msgs = f\"configure_json_spectra() failed. Unable to read: {file_name}.\"\n",
    "    try:\n",
    "      hab_spectra_class.json_spectra_file_name = file_name\n",
    "      hab_spectra_class.raw_y                  = y = np.array(spec['hab_spec'].spectra ) # Load the y values to an np array\n",
    "      hab_spectra_class.summed_rows            = spec['hab_spec'].summed_rows\n",
    "      hab_spectra_class.Xpixels                = np.arange( 0 ,y.size )                  # Construct an array of X values from 0 to y.size\n",
    "      hab_spectra_class.wavelengths            = np.arange(    y.size )                  # construce, but don't fillin. Leave for calibration.\n",
    "      rv = True\n",
    "      hab_spectra_class.error_msgs = \"\"\n",
    "      hab_spectra_class.Configured = True\n",
    "    except:\n",
    "      rv = False\n",
    "      hab_spectra_class.error_msgs = \"configure_json_spectra() failed trying to set variables.\"\n",
    "    return rv"
   ]
  },
  {
   "cell_type": "code",
   "execution_count": null,
   "metadata": {},
   "outputs": [
    {
     "data": {
      "text/plain": [
       "(True,\n",
       " array([   0,    1,    2, ..., 1277, 1278, 1279]),\n",
       " 800,\n",
       " array([   0,    1,    2, ..., 1277, 1278, 1279]))"
      ]
     },
     "execution_count": null,
     "metadata": {},
     "output_type": "execute_result"
    }
   ],
   "source": [
    "fn = '../sample_data/2023-0718/034901/hab_spectra/2023-0718-034901-714246-spec.json'\n",
    "rv = configure_json_spectra(hab_spectra,  fn )\n",
    "rv, hab_spectra.Xpixels, hab_spectra.summed_rows, hab_spectra.wavelengths"
   ]
  },
  {
   "cell_type": "code",
   "execution_count": null,
   "metadata": {},
   "outputs": [
    {
     "name": "stdout",
     "output_type": "stream",
     "text": [
      "json_spectra_file_name: ../sample_data/2023-0718/034901/hab_spectra/2023-0718-034901-714246-spec.json\n",
      "Lat                 : 28.209754667\n",
      "Lon                 : -82.3639295\n",
      "altitde_m           : None\n",
      "n_saturated         : None\n",
      "raw_y_min           : 36776\n",
      "remove_bias         : True\n",
      "y_average           : False\n",
      "DateTime            : 2023-0718-034909.929\n",
      "Exposure            : 500.0\n",
      "raw_y               : [36800 36800 36800 ... 36896 36896 36896]\n",
      "summed_rows         : 800\n",
      "Xpixels             : [   0    1    2 ... 1277 1278 1279]\n",
      "wavelengths         : [   0    1    2 ... 1277 1278 1279]\n",
      "pixel0              : 73\n",
      "pixel1              : 941\n",
      "wavelength0         : 430.774\n",
      "wavelength1         : 759.37\n",
      "delta_pix           : 868\n",
      "delta_wavelength_nm : 328.596\n",
      "Calibrated_w        : True\n",
      "GPS_Alt             : 22.3\n",
      "GPS_Nsat_Inview     : 6\n",
      "GPS_Status          : 3\n",
      "GPS_UTC             : 03:49:08\n",
      "Source              : Water\n",
      "Pix_minv            : 36776\n",
      "sat_pix_n           : 0\n",
      "Pix_maxv            : 44195\n",
      "error_msgs          : \n",
      "\n"
     ]
    }
   ],
   "source": [
    "print(hab_spectra.__str__())"
   ]
  },
  {
   "cell_type": "markdown",
   "metadata": {},
   "source": [
    "|! hide\n",
    "#### def calibrate_using_2_wavelengths()"
   ]
  },
  {
   "cell_type": "code",
   "execution_count": null,
   "metadata": {},
   "outputs": [],
   "source": [
    "#| export\n",
    "def calibrate_using_2_wavelengths(\n",
    "                                  hab_spectra_class:object, # The HAB_Spectra class to update.\n",
    "                                  spectra_file_name:str,    # Filename of a json spectra file.\n",
    "                                  pixel0:int=0,             #  pixel # for Wavelength 0\n",
    "                                  wavelength0:float=0,      # Wavelength of pixel 0\n",
    "                                  pixel1:int=0,             # pixel # for Wavelength 1\n",
    "                                  wavelength1:float=0       # Wavelength for pixel1\n",
    "                                 ) ->bool:                  # True on success, False otherwise.\n",
    "    '''\n",
    "    Generate a Numpy array of calibration wavelenghts for each pixel. configure_json_spectra(f)\n",
    "    must be called beforehand inrder to set the correct number of pixels.\n",
    "\n",
    "    Example:\n",
    "    ---------\n",
    "    # Configure the spectra by reading a spectra file.\n",
    "    fn = '/content/drive/MyDrive/Missions/2021-0717-HAB-pie/165347/hab_spectra/2021-0717-165348-272814-spec.json'\n",
    "    hs.configure_json_spectra(fn)\n",
    "\n",
    "    # Calibrate the spectra.  Pixel 73 is at 430.774nm, and pixel 941 is at 759.370nm\n",
    "    hs.calibrate_using_2_wavelengths(pixel0=73, wavelength0=430.774, pixel1=941, wavelength1=759.370 )\n",
    "\n",
    "    References:\n",
    "    -----------\n",
    "    The following are wavelength calibration sources.\n",
    "    See: http://hyperphysics.phy-astr.gsu.edu/hbase/quantum/atspect2.html\n",
    "    and: https://commons.wikimedia.org/wiki/File:Fluorescent_lighting_spectrum_peaks_labelled.gif\n",
    "    and: https://en.wikipedia.org/wiki/Fluorescent_lamp#/media/File:Spectra-Philips_32T8_natural_sunshine_fluorescent_light.svg\n",
    "    '''\n",
    "    rv = configure_json_spectra(hab_spectra_class,  spectra_file_name )\n",
    "    if rv:\n",
    "      try:\n",
    "        hab_spectra_class.pixel0              = pixel0\n",
    "        hab_spectra_class.pixel1              = pixel1\n",
    "        hab_spectra_class.wavelength0         = wavelength0\n",
    "        hab_spectra_class.wavelength1         = wavelength1\n",
    "\n",
    "        dp                                    = pixel1 - pixel0            # pixel delta\n",
    "        hab_spectra_class.delta_pix           = dp \n",
    "\n",
    "        dw                                    = wavelength1 - wavelength0  # Wavelength delta\n",
    "        hab_spectra_class.delta_wavelength_nm = dw\n",
    "\n",
    "        slope                                 = dw/dp                      # Linear slope\n",
    "        hab_spectra_class.wavelengths         = wavelength0 + (hab_spectra_class.Xpixels-pixel0) * slope\n",
    "        hab_spectra_class.Calibrated_w        = True\n",
    "        rv = True\n",
    "      except:\n",
    "        rv = False\n",
    "        hab_spectra_class.error_msgs += \" calibrate_using_2_wavelengths() failed.\"\n",
    "    return rv"
   ]
  },
  {
   "cell_type": "markdown",
   "metadata": {},
   "source": [
    "Calibrate spectra by setting the pixel numbers and cooresponding wavelengths\n",
    "for two pixels.  The two pixels should be a far apart as possible to minimize\n",
    "error.  The calibrate_using_2_wavelengths() function will return a list \n",
    "which contains the wavelength for every pixel in the spectra."
   ]
  },
  {
   "cell_type": "code",
   "execution_count": null,
   "metadata": {},
   "outputs": [
    {
     "name": "stdout",
     "output_type": "stream",
     "text": [
      "Configured using: ../sample_data/2023-0718/034901/hab_spectra/2023-0718-034901-714246-spec.json\n",
      "\n",
      "Wavelength Calibration Data:\n",
      "\n",
      "                     First      Second\n",
      "   Wavelengths (nm): 430.774      759.370\n",
      "     Pixel Location:  73.000      941.000\n",
      "\n",
      "1280 elements found in `wavelengths`.\n",
      "First 5 pixel wavelengths: [403.13862212 403.51718894 403.89575576 404.27432258 404.6528894 ]\n",
      " Last 5 pixel wavelengths: [885.81131797 886.18988479 886.56845161 886.94701843 887.32558525]\n"
     ]
    }
   ],
   "source": [
    "# Calibrate the spectra for wavelength in nanometers\n",
    "rv = calibrate_using_2_wavelengths( \n",
    "  hab_spectra,\n",
    "  fn,\n",
    "  pixel0 =  73, wavelength0 = 430.774, \n",
    "  pixel1 = 941, wavelength1 = 759.370 )\n",
    "\n",
    "if rv:\n",
    "  print(f'Configured using: {hab_spectra.json_spectra_file_name}')\n",
    "  print('\\nWavelength Calibration Data:\\n\\n'\n",
    "  '                     First      Second\\n'\n",
    "  f'   Wavelengths (nm): {hab_spectra.wavelengths[73]:7.3f}      {hab_spectra.wavelengths[941]:7.3f}\\n'\n",
    "  f'     Pixel Location: {73:7.3f}      {941:7.3f}\\n')\n",
    "\n",
    "  print(f'{len( hab_spectra.wavelengths )} elements found in `wavelengths`.' )\n",
    "  print(f'First 5 pixel wavelengths: {hab_spectra.wavelengths[0:5]}')\n",
    "  print(f' Last 5 pixel wavelengths: {hab_spectra.wavelengths[-5:]}')\n",
    "else:\n",
    "  print('calibrate_using_2_wavelengths() returned False.  It failed')"
   ]
  },
  {
   "cell_type": "markdown",
   "metadata": {},
   "source": [
    "|! hide\n",
    "#### def read_spectra()"
   ]
  },
  {
   "cell_type": "code",
   "execution_count": null,
   "metadata": {},
   "outputs": [],
   "source": [
    "#| export\n",
    "def read_spectra( hab_spectra_class,      # The HAB_Spectra class to update.                \n",
    "                 spectra_json_file_name,  # JSON Spectra file name\n",
    "                   remove_bias = True,    # Bol remove bias\n",
    "                   y_average   = True     # Average Y values\n",
    "                  ) -> float:             # Numpy array of spectral points.\n",
    "    \"\"\"\n",
    "    Reads a Json hyperspectra file.  Note: Any data older than 2022-12 does not have\n",
    "    GPS info in the json spectra.  The GPS data is recorded in a separate file.\n",
    "\n",
    "    Parameters:\n",
    "    -----------\n",
    "    spectra_json_file_name : str\n",
    "      The full path name of a hyperspectra Json file.\n",
    "    remove_bias : Default True\n",
    "      Subtracts the minimum y value from the array of y values to remove dark current. \n",
    "      The minimum value will typically be found in the IR side and from the pixel \n",
    "      sensors that are optically obscured.\n",
    "    y_average : Default True\n",
    "      The Json values are the sum total of each pixel column. Each column contains 800\n",
    "      pixels. Setting this to True causes the read y values to be divided by 800.\n",
    "\n",
    "    Returns:\n",
    "    --------\n",
    "    Numpy array\n",
    "      An array of numpy float values representing the intensity values at each pixel. \n",
    "\n",
    "    Description:\n",
    "    ------------\n",
    "    Reads a Json spectra from a file.\n",
    "\n",
    "    Examples:\n",
    "    ---------\n",
    "    fn = '/content/drive/MyDrive/Missions/2021-0717-HAB-pie/165347/hab_spectra/2021-0717-165348-272814-spec.json'\n",
    "    s = hs.read_spectra(fn) \n",
    "    \"\"\"\n",
    "    spec = pd.read_json(spectra_json_file_name)\n",
    "    hab_spectra_class.json_spectra_file_name = spectra_json_file_name\n",
    "    try:\n",
    "      hab_spectra_class.DateTime        = spec['hab_spec']['DateTime']\n",
    "      hab_spectra_class.Exposure        = spec['hab_spec']['Exposure']\n",
    "      hab_spectra_class.GPS_Alt         = spec['hab_spec']['GPS_Alt']\n",
    "      hab_spectra_class.GPS_Nsat_Inview = spec['hab_spec']['GPS_Nsat_Inview']\n",
    "      hab_spectra_class.GPS_Status      = spec['hab_spec']['GPS_Status']\n",
    "      hab_spectra_class.GPS_UTC         = spec['hab_spec']['GPS_UTC']\n",
    "      hab_spectra_class.Lat             = spec['hab_spec']['Lat']\n",
    "      hab_spectra_class.Lon             = spec['hab_spec']['Lon']\n",
    "      hab_spectra_class.Source          = spec['hab_spec']['Source']\n",
    "      hab_spectra_class.Pix_minv        = spec['hab_spec']['Pix_minv']\n",
    "      hab_spectra_class.sat_pix_n       = spec['hab_spec']['sat_pix_n']\n",
    "      hab_spectra_class.Pix_maxv        = spec['hab_spec']['Pix_maxv']\n",
    "      hab_spectra_class.Pix_maxv        = spec['hab_spec']['Pix_maxv']\n",
    "    except:\n",
    "      hab_spectra_class.DateTime        = None\n",
    "      hab_spectra_class.Exposure        = None\n",
    "      hab_spectra_class.GPS_Alt         = None\n",
    "      hab_spectra_class.GPS_Nsat_Inview = None\n",
    "      hab_spectra_class.GPS_Status      = None\n",
    "      hab_spectra_class.GPS_UTC         = None\n",
    "      hab_spectra_class.Lat             = None\n",
    "      hab_spectra_class.Lon             = None\n",
    "      hab_spectra_class.Source          = None\n",
    "      hab_spectra_class.Pix_minv        = None\n",
    "      hab_spectra_class.sat_pix_n       = None\n",
    "      hab_spectra_class.Pix_maxv        = None\n",
    "      hab_spectra_class.Pix_maxv        = None\n",
    "    try:\n",
    "      hab_spectra_class.summed_rows     = spec['hab_spec']['summed_rows']\n",
    "    except:\n",
    "      pass\n",
    "      \n",
    "      \n",
    "    hab_spectra_class.json_spectra_file_name       = spectra_json_file_name\n",
    "    hab_spectra_class.remove_bias     = remove_bias\n",
    "    hab_spectra_class.y_average       = y_average\n",
    "    \n",
    "    if hab_spectra_class.Configured == 0 :\n",
    "      configure_json_spectra(hab_spectra_class, spectra_json_file_name)\n",
    "      \n",
    "    hab_spectra_class.raw_y = np.array(spec['hab_spec'].spectra)\n",
    "    \n",
    "    hab_spectra_class.raw_y_min = hab_spectra_class.raw_y.min()\n",
    "    \n",
    "    if remove_bias == True:\n",
    "      hab_spectra_class.raw_y = hab_spectra_class.raw_y - hab_spectra_class.raw_y_min\n",
    "\n",
    "    if y_average == True:\n",
    "      hab_spectra_class.raw_y = hab_spectra_class.raw_y / hab_spectra_class.summed_rows\n",
    "\n",
    "    return hab_spectra_class.raw_y"
   ]
  },
  {
   "cell_type": "code",
   "execution_count": null,
   "metadata": {},
   "outputs": [
    {
     "data": {
      "text/plain": [
       "'../sample_data/2023-0718/034901/hab_spectra/2023-0718-034909-929994-spec.json'"
      ]
     },
     "metadata": {},
     "output_type": "display_data"
    },
    {
     "data": {
      "text/html": [
       "<div>\n",
       "<style scoped>\n",
       "    .dataframe tbody tr th:only-of-type {\n",
       "        vertical-align: middle;\n",
       "    }\n",
       "\n",
       "    .dataframe tbody tr th {\n",
       "        vertical-align: top;\n",
       "    }\n",
       "\n",
       "    .dataframe thead th {\n",
       "        text-align: right;\n",
       "    }\n",
       "</style>\n",
       "<table border=\"1\" class=\"dataframe\">\n",
       "  <thead>\n",
       "    <tr style=\"text-align: right;\">\n",
       "      <th></th>\n",
       "      <th>hab_spec</th>\n",
       "      <th>Event_t</th>\n",
       "    </tr>\n",
       "  </thead>\n",
       "  <tbody>\n",
       "    <tr>\n",
       "      <th>DateTime</th>\n",
       "      <td>2023-0718-034909.929</td>\n",
       "      <td>1.689652e+09</td>\n",
       "    </tr>\n",
       "    <tr>\n",
       "      <th>Exposure</th>\n",
       "      <td>500.0</td>\n",
       "      <td>1.689652e+09</td>\n",
       "    </tr>\n",
       "    <tr>\n",
       "      <th>GPS_Alt</th>\n",
       "      <td>22.3</td>\n",
       "      <td>1.689652e+09</td>\n",
       "    </tr>\n",
       "    <tr>\n",
       "      <th>GPS_Nsat_Inview</th>\n",
       "      <td>6</td>\n",
       "      <td>1.689652e+09</td>\n",
       "    </tr>\n",
       "    <tr>\n",
       "      <th>GPS_Status</th>\n",
       "      <td>3</td>\n",
       "      <td>1.689652e+09</td>\n",
       "    </tr>\n",
       "    <tr>\n",
       "      <th>GPS_UTC</th>\n",
       "      <td>03:49:08</td>\n",
       "      <td>1.689652e+09</td>\n",
       "    </tr>\n",
       "    <tr>\n",
       "      <th>Lat</th>\n",
       "      <td>28.209755</td>\n",
       "      <td>1.689652e+09</td>\n",
       "    </tr>\n",
       "    <tr>\n",
       "      <th>Lon</th>\n",
       "      <td>-82.363929</td>\n",
       "      <td>1.689652e+09</td>\n",
       "    </tr>\n",
       "    <tr>\n",
       "      <th>Pix_maxv</th>\n",
       "      <td>44195</td>\n",
       "      <td>1.689652e+09</td>\n",
       "    </tr>\n",
       "    <tr>\n",
       "      <th>Pix_minv</th>\n",
       "      <td>36776</td>\n",
       "      <td>1.689652e+09</td>\n",
       "    </tr>\n",
       "    <tr>\n",
       "      <th>Source</th>\n",
       "      <td>Water</td>\n",
       "      <td>1.689652e+09</td>\n",
       "    </tr>\n",
       "    <tr>\n",
       "      <th>sat_pix_n</th>\n",
       "      <td>0</td>\n",
       "      <td>1.689652e+09</td>\n",
       "    </tr>\n",
       "    <tr>\n",
       "      <th>spectra</th>\n",
       "      <td>[36800, 36800, 36800, 36800, 36800, 36800, 368...</td>\n",
       "      <td>1.689652e+09</td>\n",
       "    </tr>\n",
       "    <tr>\n",
       "      <th>summed_rows</th>\n",
       "      <td>800</td>\n",
       "      <td>1.689652e+09</td>\n",
       "    </tr>\n",
       "  </tbody>\n",
       "</table>\n",
       "</div>"
      ],
      "text/plain": [
       "                                                          hab_spec  \\\n",
       "DateTime                                      2023-0718-034909.929   \n",
       "Exposure                                                     500.0   \n",
       "GPS_Alt                                                       22.3   \n",
       "GPS_Nsat_Inview                                                  6   \n",
       "GPS_Status                                                       3   \n",
       "GPS_UTC                                                   03:49:08   \n",
       "Lat                                                      28.209755   \n",
       "Lon                                                     -82.363929   \n",
       "Pix_maxv                                                     44195   \n",
       "Pix_minv                                                     36776   \n",
       "Source                                                       Water   \n",
       "sat_pix_n                                                        0   \n",
       "spectra          [36800, 36800, 36800, 36800, 36800, 36800, 368...   \n",
       "summed_rows                                                    800   \n",
       "\n",
       "                      Event_t  \n",
       "DateTime         1.689652e+09  \n",
       "Exposure         1.689652e+09  \n",
       "GPS_Alt          1.689652e+09  \n",
       "GPS_Nsat_Inview  1.689652e+09  \n",
       "GPS_Status       1.689652e+09  \n",
       "GPS_UTC          1.689652e+09  \n",
       "Lat              1.689652e+09  \n",
       "Lon              1.689652e+09  \n",
       "Pix_maxv         1.689652e+09  \n",
       "Pix_minv         1.689652e+09  \n",
       "Source           1.689652e+09  \n",
       "sat_pix_n        1.689652e+09  \n",
       "spectra          1.689652e+09  \n",
       "summed_rows      1.689652e+09  "
      ]
     },
     "metadata": {},
     "output_type": "display_data"
    }
   ],
   "source": [
    "test_json_file0 = \"../sample_data/2023-0718/034901/hab_spectra/2023-0718-034909-929994-spec.json\"\n",
    "spec_test = pd.read_json(test_json_file0)\n",
    "display(test_json_file0, spec_test)"
   ]
  },
  {
   "cell_type": "code",
   "execution_count": null,
   "metadata": {},
   "outputs": [
    {
     "name": "stdout",
     "output_type": "stream",
     "text": [
      "../sample_data/2023-0718/034901/hab_spectra/2023-0718-034909-929994-spec.json\n",
      "json_spectra_file_name: ../sample_data/2023-0718/034901/hab_spectra/2023-0718-034909-929994-spec.json\n",
      "Lat                 : 28.209754667\n",
      "Lon                 : -82.3639295\n",
      "altitde_m           : None\n",
      "n_saturated         : None\n",
      "raw_y_min           : 36776\n",
      "remove_bias         : True\n",
      "y_average           : False\n",
      "DateTime            : 2023-0718-034909.929\n",
      "Exposure            : 500.0\n",
      "raw_y               : [ 24  24  24 ... 184 184 184]\n",
      "summed_rows         : 800\n",
      "Xpixels             : [   0    1    2 ... 1277 1278 1279]\n",
      "wavelengths         : [403.13862212 403.51718894 403.89575576 ... 886.56845161 886.94701843\n",
      " 887.32558525]\n",
      "pixel0              : 73\n",
      "pixel1              : 941\n",
      "wavelength0         : 430.774\n",
      "wavelength1         : 759.37\n",
      "delta_pix           : 868\n",
      "delta_wavelength_nm : 328.596\n",
      "Calibrated_w        : True\n",
      "GPS_Alt             : 22.3\n",
      "GPS_Nsat_Inview     : 6\n",
      "GPS_Status          : 3\n",
      "GPS_UTC             : 03:49:08\n",
      "Source              : Water\n",
      "Pix_minv            : 36776\n",
      "sat_pix_n           : 0\n",
      "Pix_maxv            : 44195\n",
      "error_msgs          : \n",
      "\n"
     ]
    },
    {
     "data": {
      "text/plain": [
       "'Raw spectra, every 25th value:'"
      ]
     },
     "metadata": {},
     "output_type": "display_data"
    },
    {
     "data": {
      "text/plain": [
       "array([  24,   24,   24,  264, 1680, 5528, 5900, 3664, 2312, 2416, 3040,\n",
       "       3884, 5096, 5600, 5737, 5915, 6199, 6361, 6528, 6900, 7216, 7389,\n",
       "       6964, 6269, 5220, 4274, 3328, 2480, 1856, 1096,  664,  456,  280,\n",
       "         72,   24,   24,   24,   24,   24,   24,   24,   40,   24,   24,\n",
       "         24,   24,   24,   24,   24,   24,   40,  184])"
      ]
     },
     "metadata": {},
     "output_type": "display_data"
    }
   ],
   "source": [
    "print(test_json_file0)\n",
    "test_spectra_y = read_spectra(hab_spectra, test_json_file0, y_average=False)\n",
    "print(hab_spectra.__str__())\n",
    "display('Raw spectra, every 25th value:',hab_spectra.raw_y[0:-1:25])"
   ]
  },
  {
   "cell_type": "code",
   "execution_count": null,
   "metadata": {},
   "outputs": [
    {
     "data": {
      "text/plain": [
       "56"
      ]
     },
     "execution_count": null,
     "metadata": {},
     "output_type": "execute_result"
    }
   ],
   "source": [
    "import sys\n",
    "sys.getsizeof( hab_spectra )"
   ]
  },
  {
   "cell_type": "markdown",
   "metadata": {},
   "source": [
    "#| hide\n",
    "####   def get_list_of_json_spectra( p):"
   ]
  },
  {
   "cell_type": "code",
   "execution_count": null,
   "metadata": {},
   "outputs": [],
   "source": [
    "#| export\n",
    "def get_list_of_json_spectra( p        # String path to mission data set.\n",
    "                            ) ->list:  # List of full paths to each JSON spectra file.\n",
    "    ''' Returns a list of Json spectra full path filenames found in subdirs under \"p\". '''\n",
    "    gstr = f'{p}/*/*/*-spec.json'\n",
    "    lst = glob.glob(gstr, recursive=True)\n",
    "    return lst"
   ]
  },
  {
   "cell_type": "markdown",
   "metadata": {},
   "source": [
    "Test and demo get_list_of_json_spectra()"
   ]
  },
  {
   "cell_type": "code",
   "execution_count": null,
   "metadata": {},
   "outputs": [
    {
     "name": "stdout",
     "output_type": "stream",
     "text": [
      "11,273 JSON spectra files found.\n"
     ]
    },
    {
     "data": {
      "text/plain": [
       "'First 3'"
      ]
     },
     "metadata": {},
     "output_type": "display_data"
    },
    {
     "data": {
      "text/plain": [
       "['/mnt/s/2021-0717-HAB-Spec-Tampa-Bay-PIE/2021-0717-HAB-pie/141625/hab_spectra/2021-0717-141626-175824-spec.json',\n",
       " '/mnt/s/2021-0717-HAB-Spec-Tampa-Bay-PIE/2021-0717-HAB-pie/141625/hab_spectra/2021-0717-141626-882736-spec.json',\n",
       " '/mnt/s/2021-0717-HAB-Spec-Tampa-Bay-PIE/2021-0717-HAB-pie/141625/hab_spectra/2021-0717-141627-601038-spec.json']"
      ]
     },
     "metadata": {},
     "output_type": "display_data"
    },
    {
     "data": {
      "text/plain": [
       "'Last 3'"
      ]
     },
     "metadata": {},
     "output_type": "display_data"
    },
    {
     "data": {
      "text/plain": [
       "['/mnt/s/2021-0717-HAB-Spec-Tampa-Bay-PIE/2021-0717-HAB-pie/165347/hab_spectra/2021-0717-170224-525748-spec.json',\n",
       " '/mnt/s/2021-0717-HAB-Spec-Tampa-Bay-PIE/2021-0717-HAB-pie/165347/hab_spectra/2021-0717-170225-225927-spec.json',\n",
       " '/mnt/s/2021-0717-HAB-Spec-Tampa-Bay-PIE/2021-0717-HAB-pie/165347/hab_spectra/2021-0717-170225-920240-spec.json']"
      ]
     },
     "metadata": {},
     "output_type": "display_data"
    }
   ],
   "source": [
    "mission_path = '../sample_data/2023-0718'\n",
    "mission_path = '/mnt/s/2021-0717-HAB-Spec-Tampa-Bay-PIE/2021-0717-HAB-pie/'\n",
    "test_spectra_list = get_list_of_json_spectra( mission_path )\n",
    "print(f'{len(test_spectra_list):,} JSON spectra files found.')\n",
    "display(\"First 3\", test_spectra_list[0:3])\n",
    "display(\"Last 3\",test_spectra_list[-3:])"
   ]
  },
  {
   "cell_type": "markdown",
   "metadata": {},
   "source": [
    "#| hide\n",
    "####   def json_specs_to_df( specs ):"
   ]
  },
  {
   "cell_type": "code",
   "execution_count": null,
   "metadata": {},
   "outputs": [],
   "source": [
    "#| export\n",
    "def json_specs_to_df( specs ):\n",
    "    '''\n",
    "    Extracts the hhmmss and fsecs from 'specs' filename, converts\n",
    "    the hhmmss and fsecs strings to float SOD.fsecs.\n",
    "\n",
    "    Parameters:\n",
    "    specs: list  A list of json spectra files.\n",
    "\n",
    "    Returns:\n",
    "    --------\n",
    "    A DataFrame of sod.fsecs:float, hhmmss:str, Json_spec:str\n",
    "    '''\n",
    "    # Extract the hhmmss and fsecs from each file name,\n",
    "    # convert the hhmmss and fsecs to float SOD.fsecs, \n",
    "    # and create a list of each.\n",
    "    hhmmss = []\n",
    "    fsecs  = []\n",
    "    sod    = []\n",
    "    for v in specs:\n",
    "      tx = extract_hms( v )\n",
    "      hhmmss.append( tx[0] )   # Build the list if hhmmss strings.\n",
    "      sod.append( tx[3] )      # Build the list of sod floats.\n",
    "\n",
    "    # Now convert the  lists to a Pandas dataframe.\n",
    "    dct = {'sod':sod, 'hhmmss':hhmmss, 'Json_spec':specs}\n",
    "    df = pd.DataFrame( dct )\n",
    "    df.sort_values(by=['sod'], inplace=True)              # Sort the data in time order.\n",
    "    return df"
   ]
  },
  {
   "cell_type": "markdown",
   "metadata": {},
   "source": [
    "Test configuring, calibrating, and loading a JSON spectra file."
   ]
  },
  {
   "cell_type": "code",
   "execution_count": null,
   "metadata": {},
   "outputs": [
    {
     "name": "stdout",
     "output_type": "stream",
     "text": [
      "2023-07-24 21:04:21.570034: Testing creating HyperSpectral.\n",
      "2023-07-24 21:04:21.570170: Loading a json Spectra file to calibrate wavelength.\n",
      "2023-07-24 21:04:21.570210: Calibrating wavelength.\n",
      "\n",
      "Wavelength Calibration Data:\n",
      "\n",
      "                     First      Second\n",
      "   Wavelengths (nm): 430.774      759.370\n",
      "     Pixel Location:  73.000      941.000\n",
      "\n",
      "2023-07-24 21:04:21.573644: Reading a spectra into \"spectra\"\n"
     ]
    }
   ],
   "source": [
    "print(f'{dt.datetime.utcnow() }: Testing creating HyperSpectral.')\n",
    "\n",
    "# Use a json spectra to initialize things.\n",
    "print(f'{dt.datetime.utcnow() }: Loading a json Spectra file to calibrate wavelength.')\n",
    "\n",
    "test_spectra_file = '../sample_data/2023-0718/034901/hab_spectra/2023-0718-034902-840971-spec.json'\n",
    "# configure_json_spectra(hab_spectra, test_spectra_file)\n",
    "\n",
    "# Calibrate the spectra for wavelength in nanometers\n",
    "print(f'{dt.datetime.utcnow() }: Calibrating wavelength.')\n",
    "wavelengths_test = calibrate_using_2_wavelengths(\n",
    "  hab_spectra,\n",
    "  test_spectra_file,\n",
    "  pixel0 =  73, wavelength0 = 430.774, \n",
    "  pixel1 = 941, wavelength1 = 759.370 )\n",
    "\n",
    "print('\\nWavelength Calibration Data:\\n\\n'\n",
    "'                     First      Second\\n'\n",
    "f'   Wavelengths (nm): {hab_spectra.wavelengths[73]:7.3f}      {hab_spectra.wavelengths[941]:7.3f}\\n'\n",
    "f'     Pixel Location: {73:7.3f}      {941:7.3f}\\n')\n",
    "\n",
    "# Read a spectra array from a file into spectra\n",
    "print(f'{dt.datetime.utcnow() }: Reading a spectra into \"spectra\"')\n",
    "spectra = read_spectra(hab_spectra, test_spectra_file )\n",
    "\n",
    "# Plot the spectra vs pixel number.\n",
    "#plt.plot(s)"
   ]
  },
  {
   "cell_type": "markdown",
   "metadata": {},
   "source": [
    "#### def is_water( x,y, debug=False):"
   ]
  },
  {
   "cell_type": "code",
   "execution_count": null,
   "metadata": {},
   "outputs": [],
   "source": [
    "#| export\n",
    "def is_water(\n",
    "  hab_spectra_class  #\n",
    "  #x,\n",
    "  #y                 #\n",
    ") -> float:          #\n",
    "    '''\n",
    "    Returns the mean signal value between 840nm and 860nm wavelengths.  Since water absorbs IR.\n",
    "\n",
    "    Inputs:\n",
    "      x   A numpy array of wavlengths for each pixel\n",
    "      y   A numpy array of intensity values at each wavelength.  x and y mus be the same size.\n",
    "\n",
    "    Returns:\n",
    "      The mean signal value between 840nm and 860nm.  The signal level is not currently normalized\n",
    "      for anything, exposure, etc.  Threshold is around 4.0.  Above 4, land or glint.\n",
    "\n",
    "    References: \n",
    "    Application of the water-related spectral reflectance indices: A review\n",
    "    https://www.sciencedirect.com/science/article/abs/pii/S1470160X18308215\n",
    "\n",
    "    '''\n",
    "    rv = hab_spectra_class.raw_y[hsdc.w_range_pixels( hab_spectra_class,840,860)].mean()\n",
    "    return rv"
   ]
  },
  {
   "cell_type": "code",
   "execution_count": null,
   "metadata": {},
   "outputs": [
    {
     "data": {
      "text/plain": [
       "0.0"
      ]
     },
     "execution_count": null,
     "metadata": {},
     "output_type": "execute_result"
    }
   ],
   "source": [
    "is_water( hab_spectra )"
   ]
  },
  {
   "cell_type": "markdown",
   "metadata": {},
   "source": [
    "#| hide\n",
    "#### def wavelength_2_RGB()"
   ]
  },
  {
   "cell_type": "code",
   "execution_count": null,
   "metadata": {},
   "outputs": [],
   "source": [
    "#| export\n",
    "def wavelength_2_RGB(\n",
    "  wavelength,   # Wavelength in nanometers.\n",
    "  alpha=255     # Alpha to use.\n",
    ") -> list:      # ( red, green, blue )\n",
    "  '''\n",
    "  Convert a wavelength to a tuple of red, green, blue values.\n",
    "  \n",
    "  From: https://codingmess.blogspot.com/2009/05/conversion-of-wavelength-in-nanometers.html\n",
    "  '''\n",
    "  w = int(wavelength)\n",
    "\n",
    "  # colour\n",
    "  if w >= 380 and w < 440:\n",
    "      R = -(w - 440.) / (440. - 350.)\n",
    "      G = 0.0\n",
    "      B = 1.0\n",
    "  elif w >= 440 and w < 490:\n",
    "      R = 0.0\n",
    "      G = (w - 440.) / (490. - 440.)\n",
    "      B = 1.0\n",
    "  elif w >= 490 and w < 510:\n",
    "      R = 0.0\n",
    "      G = 1.0\n",
    "      B = -(w - 510.) / (510. - 490.)\n",
    "  elif w >= 510 and w < 580:\n",
    "      R = (w - 510.) / (580. - 510.)\n",
    "      G = 1.0\n",
    "      B = 0.0\n",
    "  elif w >= 580 and w < 645:\n",
    "      R = 1.0\n",
    "      G = -(w - 645.) / (645. - 580.)\n",
    "      B = 0.0\n",
    "  elif w >= 645 and w <= 780:\n",
    "      R = 1.0\n",
    "      G = 0.0\n",
    "      B = 0.0\n",
    "  else:\n",
    "      R = 0.0\n",
    "      G = 0.0\n",
    "      B = 0.0\n",
    "\n",
    "  # intensity correction\n",
    "  if w >= 380 and w < 420:\n",
    "      SSS = 0.3 + 0.7*(w - 350) / (420 - 350)\n",
    "  elif w >= 420 and w <= 700:\n",
    "      SSS = 1.0\n",
    "  elif w > 700 and w <= 780:\n",
    "      SSS = 0.3 + 0.7*(780 - w) / (780 - 700)\n",
    "  else:\n",
    "      SSS = 0.0\n",
    "  SSS *= 255\n",
    "\n",
    "  return [int(SSS*R), int(SSS*G), int(SSS*B), int(alpha)]"
   ]
  },
  {
   "cell_type": "code",
   "execution_count": null,
   "metadata": {},
   "outputs": [
    {
     "name": "stdout",
     "output_type": "stream",
     "text": [
      "w=500    rgb=[0, 255, 127, 255]  alpha=255 \n"
     ]
    }
   ],
   "source": [
    "w = 500\n",
    "alpha = 255\n",
    "rgb = wavelength_2_RGB( w, alpha=alpha )\n",
    "print(f'{w=}    {rgb=}  {alpha=} ')"
   ]
  },
  {
   "cell_type": "markdown",
   "metadata": {},
   "source": [
    "#| hide\n",
    "#### def wavelength_2_RGB_str()"
   ]
  },
  {
   "cell_type": "code",
   "execution_count": null,
   "metadata": {},
   "outputs": [],
   "source": [
    "#| export\n",
    "def wavelength_2_RGB_str( \n",
    "  wavelength:float,        # Wavelength in nanometers.\n",
    "  alpha=255                # Alpha, transparency to use.  \n",
    ") ->str:                   # rgb string such as: \"#01abffff\"\n",
    "  '''\n",
    "  Converts a wavelength to an RGB string suitable to use\n",
    "  as a color parameter in most applications.\n",
    "  '''\n",
    "  rgb  = wavelength_2_RGB(wavelength, alpha=alpha)\n",
    "  rgbs = f'#{rgb[0]:02x}{rgb[1]:02x}{rgb[2]:02x}{rgb[3]:02x}'\n",
    "  return rgbs"
   ]
  },
  {
   "cell_type": "code",
   "execution_count": null,
   "metadata": {},
   "outputs": [
    {
     "name": "stdout",
     "output_type": "stream",
     "text": [
      "w=500    rgbs='#00ff7f7f' \n"
     ]
    }
   ],
   "source": [
    "w     = 500\n",
    "alpha = 127\n",
    "rgbs  = wavelength_2_RGB_str( w, alpha=alpha )\n",
    "print(f'{w=}    {rgbs=} ')"
   ]
  },
  {
   "cell_type": "markdown",
   "metadata": {},
   "source": [
    "### Plot helpers"
   ]
  },
  {
   "cell_type": "markdown",
   "metadata": {},
   "source": [
    "#| hide\n",
    "#### def gen_reference_lines()"
   ]
  },
  {
   "cell_type": "markdown",
   "metadata": {},
   "source": [
    "Generate spectral reference lines data suitable to plot with Bokeh."
   ]
  },
  {
   "cell_type": "markdown",
   "metadata": {},
   "source": [
    "#| export\n",
    "def gen_reference_lines(\n",
    "              hab_spec_class,   # Spectra class.\n",
    "              #s,      # Spectra \n",
    "              lines,            # The reference lines.\n",
    "             ) -> (list,list):  # Fraun X values, Fraun y values \n",
    "  '''\n",
    "  Generate a series of spectral plot lines for reference.  It scales to the max y value \n",
    "  of the provided spectra within `hab_spec_class`.  Sources can be Fraunhofer_lines, or HG_lines, or user \n",
    "  developed.\n",
    "  '''\n",
    "  fran_x = []; fran_y = []\n",
    "  y0 = 0.0;    y1 = max( hab_spec_class.raw_y)\n",
    "  for i in lines:\n",
    "    x = lines[i][1]\n",
    "    fran_x.append( [ x,x ] )\n",
    "    fran_y.append( [y0, y1] )\n",
    "  return fran_x, fran_y"
   ]
  },
  {
   "cell_type": "markdown",
   "metadata": {},
   "source": [
    "#| hide\n",
    "# Testing."
   ]
  },
  {
   "cell_type": "markdown",
   "metadata": {},
   "source": [
    "#| hide\n",
    "## Testing includes"
   ]
  },
  {
   "cell_type": "code",
   "execution_count": null,
   "metadata": {},
   "outputs": [],
   "source": [
    "import panel            as pn\n",
    "from bokeh.plotting import figure, show \n",
    "from bokeh.io       import show, output_notebook"
   ]
  },
  {
   "cell_type": "code",
   "execution_count": null,
   "metadata": {},
   "outputs": [
    {
     "data": {
      "text/html": [
       "<style>\n",
       "        .bk-notebook-logo {\n",
       "            display: block;\n",
       "            width: 20px;\n",
       "            height: 20px;\n",
       "            background-image: url(data:image/png;base64,iVBORw0KGgoAAAANSUhEUgAAABQAAAAUCAYAAACNiR0NAAAABHNCSVQICAgIfAhkiAAAAAlwSFlzAAALEgAACxIB0t1+/AAAABx0RVh0U29mdHdhcmUAQWRvYmUgRmlyZXdvcmtzIENTNui8sowAAAOkSURBVDiNjZRtaJVlGMd/1/08zzln5zjP1LWcU9N0NkN8m2CYjpgQYQXqSs0I84OLIC0hkEKoPtiH3gmKoiJDU7QpLgoLjLIQCpEsNJ1vqUOdO7ppbuec5+V+rj4ctwzd8IIbbi6u+8f1539dt3A78eXC7QizUF7gyV1fD1Yqg4JWz84yffhm0qkFqBogB9rM8tZdtwVsPUhWhGcFJngGeWrPzHm5oaMmkfEg1usvLFyc8jLRqDOMru7AyC8saQr7GG7f5fvDeH7Ej8CM66nIF+8yngt6HWaKh7k49Soy9nXurCi1o3qUbS3zWfrYeQDTB/Qj6kX6Ybhw4B+bOYoLKCC9H3Nu/leUTZ1JdRWkkn2ldcCamzrcf47KKXdAJllSlxAOkRgyHsGC/zRday5Qld9DyoM4/q/rUoy/CXh3jzOu3bHUVZeU+DEn8FInkPBFlu3+nW3Nw0mk6vCDiWg8CeJaxEwuHS3+z5RgY+YBR6V1Z1nxSOfoaPa4LASWxxdNp+VWTk7+4vzaou8v8PN+xo+KY2xsw6une2frhw05CTYOmQvsEhjhWjn0bmXPjpE1+kplmmkP3suftwTubK9Vq22qKmrBhpY4jvd5afdRA3wGjFAgcnTK2s4hY0/GPNIb0nErGMCRxWOOX64Z8RAC4oCXdklmEvcL8o0BfkNK4lUg9HTl+oPlQxdNo3Mg4Nv175e/1LDGzZen30MEjRUtmXSfiTVu1kK8W4txyV6BMKlbgk3lMwYCiusNy9fVfvvwMxv8Ynl6vxoByANLTWplvuj/nF9m2+PDtt1eiHPBr1oIfhCChQMBw6Aw0UulqTKZdfVvfG7VcfIqLG9bcldL/+pdWTLxLUy8Qq38heUIjh4XlzZxzQm19lLFlr8vdQ97rjZVOLf8nclzckbcD4wxXMidpX30sFd37Fv/GtwwhzhxGVAprjbg0gCAEeIgwCZyTV2Z1REEW8O4py0wsjeloKoMr6iCY6dP92H6Vw/oTyICIthibxjm/DfN9lVz8IqtqKYLUXfoKVMVQVVJOElGjrnnUt9T9wbgp8AyYKaGlqingHZU/uG2NTZSVqwHQTWkx9hxjkpWDaCg6Ckj5qebgBVbT3V3NNXMSiWSDdGV3hrtzla7J+duwPOToIg42ChPQOQjspnSlp1V+Gjdged7+8UN5CRAV7a5EdFNwCjEaBR27b3W890TE7g24NAP/mMDXRWrGoFPQI9ls/MWO2dWFAar/xcOIImbbpA3zgAAAABJRU5ErkJggg==);\n",
       "        }\n",
       "    </style>\n",
       "    <div>\n",
       "        <a href=\"https://bokeh.org\" target=\"_blank\" class=\"bk-notebook-logo\"></a>\n",
       "        <span id=\"ed946972-bcba-4c48-a938-f2d2d54cc431\">Loading BokehJS ...</span>\n",
       "    </div>\n"
      ]
     },
     "metadata": {},
     "output_type": "display_data"
    },
    {
     "data": {
      "application/javascript": [
       "(function(root) {\n",
       "  function now() {\n",
       "    return new Date();\n",
       "  }\n",
       "\n",
       "  const force = true;\n",
       "\n",
       "  if (typeof root._bokeh_onload_callbacks === \"undefined\" || force === true) {\n",
       "    root._bokeh_onload_callbacks = [];\n",
       "    root._bokeh_is_loading = undefined;\n",
       "  }\n",
       "\n",
       "const JS_MIME_TYPE = 'application/javascript';\n",
       "  const HTML_MIME_TYPE = 'text/html';\n",
       "  const EXEC_MIME_TYPE = 'application/vnd.bokehjs_exec.v0+json';\n",
       "  const CLASS_NAME = 'output_bokeh rendered_html';\n",
       "\n",
       "  /**\n",
       "   * Render data to the DOM node\n",
       "   */\n",
       "  function render(props, node) {\n",
       "    const script = document.createElement(\"script\");\n",
       "    node.appendChild(script);\n",
       "  }\n",
       "\n",
       "  /**\n",
       "   * Handle when an output is cleared or removed\n",
       "   */\n",
       "  function handleClearOutput(event, handle) {\n",
       "    const cell = handle.cell;\n",
       "\n",
       "    const id = cell.output_area._bokeh_element_id;\n",
       "    const server_id = cell.output_area._bokeh_server_id;\n",
       "    // Clean up Bokeh references\n",
       "    if (id != null && id in Bokeh.index) {\n",
       "      Bokeh.index[id].model.document.clear();\n",
       "      delete Bokeh.index[id];\n",
       "    }\n",
       "\n",
       "    if (server_id !== undefined) {\n",
       "      // Clean up Bokeh references\n",
       "      const cmd_clean = \"from bokeh.io.state import curstate; print(curstate().uuid_to_server['\" + server_id + \"'].get_sessions()[0].document.roots[0]._id)\";\n",
       "      cell.notebook.kernel.execute(cmd_clean, {\n",
       "        iopub: {\n",
       "          output: function(msg) {\n",
       "            const id = msg.content.text.trim();\n",
       "            if (id in Bokeh.index) {\n",
       "              Bokeh.index[id].model.document.clear();\n",
       "              delete Bokeh.index[id];\n",
       "            }\n",
       "          }\n",
       "        }\n",
       "      });\n",
       "      // Destroy server and session\n",
       "      const cmd_destroy = \"import bokeh.io.notebook as ion; ion.destroy_server('\" + server_id + \"')\";\n",
       "      cell.notebook.kernel.execute(cmd_destroy);\n",
       "    }\n",
       "  }\n",
       "\n",
       "  /**\n",
       "   * Handle when a new output is added\n",
       "   */\n",
       "  function handleAddOutput(event, handle) {\n",
       "    const output_area = handle.output_area;\n",
       "    const output = handle.output;\n",
       "\n",
       "    // limit handleAddOutput to display_data with EXEC_MIME_TYPE content only\n",
       "    if ((output.output_type != \"display_data\") || (!Object.prototype.hasOwnProperty.call(output.data, EXEC_MIME_TYPE))) {\n",
       "      return\n",
       "    }\n",
       "\n",
       "    const toinsert = output_area.element.find(\".\" + CLASS_NAME.split(' ')[0]);\n",
       "\n",
       "    if (output.metadata[EXEC_MIME_TYPE][\"id\"] !== undefined) {\n",
       "      toinsert[toinsert.length - 1].firstChild.textContent = output.data[JS_MIME_TYPE];\n",
       "      // store reference to embed id on output_area\n",
       "      output_area._bokeh_element_id = output.metadata[EXEC_MIME_TYPE][\"id\"];\n",
       "    }\n",
       "    if (output.metadata[EXEC_MIME_TYPE][\"server_id\"] !== undefined) {\n",
       "      const bk_div = document.createElement(\"div\");\n",
       "      bk_div.innerHTML = output.data[HTML_MIME_TYPE];\n",
       "      const script_attrs = bk_div.children[0].attributes;\n",
       "      for (let i = 0; i < script_attrs.length; i++) {\n",
       "        toinsert[toinsert.length - 1].firstChild.setAttribute(script_attrs[i].name, script_attrs[i].value);\n",
       "        toinsert[toinsert.length - 1].firstChild.textContent = bk_div.children[0].textContent\n",
       "      }\n",
       "      // store reference to server id on output_area\n",
       "      output_area._bokeh_server_id = output.metadata[EXEC_MIME_TYPE][\"server_id\"];\n",
       "    }\n",
       "  }\n",
       "\n",
       "  function register_renderer(events, OutputArea) {\n",
       "\n",
       "    function append_mime(data, metadata, element) {\n",
       "      // create a DOM node to render to\n",
       "      const toinsert = this.create_output_subarea(\n",
       "        metadata,\n",
       "        CLASS_NAME,\n",
       "        EXEC_MIME_TYPE\n",
       "      );\n",
       "      this.keyboard_manager.register_events(toinsert);\n",
       "      // Render to node\n",
       "      const props = {data: data, metadata: metadata[EXEC_MIME_TYPE]};\n",
       "      render(props, toinsert[toinsert.length - 1]);\n",
       "      element.append(toinsert);\n",
       "      return toinsert\n",
       "    }\n",
       "\n",
       "    /* Handle when an output is cleared or removed */\n",
       "    events.on('clear_output.CodeCell', handleClearOutput);\n",
       "    events.on('delete.Cell', handleClearOutput);\n",
       "\n",
       "    /* Handle when a new output is added */\n",
       "    events.on('output_added.OutputArea', handleAddOutput);\n",
       "\n",
       "    /**\n",
       "     * Register the mime type and append_mime function with output_area\n",
       "     */\n",
       "    OutputArea.prototype.register_mime_type(EXEC_MIME_TYPE, append_mime, {\n",
       "      /* Is output safe? */\n",
       "      safe: true,\n",
       "      /* Index of renderer in `output_area.display_order` */\n",
       "      index: 0\n",
       "    });\n",
       "  }\n",
       "\n",
       "  // register the mime type if in Jupyter Notebook environment and previously unregistered\n",
       "  if (root.Jupyter !== undefined) {\n",
       "    const events = require('base/js/events');\n",
       "    const OutputArea = require('notebook/js/outputarea').OutputArea;\n",
       "\n",
       "    if (OutputArea.prototype.mime_types().indexOf(EXEC_MIME_TYPE) == -1) {\n",
       "      register_renderer(events, OutputArea);\n",
       "    }\n",
       "  }\n",
       "  if (typeof (root._bokeh_timeout) === \"undefined\" || force === true) {\n",
       "    root._bokeh_timeout = Date.now() + 5000;\n",
       "    root._bokeh_failed_load = false;\n",
       "  }\n",
       "\n",
       "  const NB_LOAD_WARNING = {'data': {'text/html':\n",
       "     \"<div style='background-color: #fdd'>\\n\"+\n",
       "     \"<p>\\n\"+\n",
       "     \"BokehJS does not appear to have successfully loaded. If loading BokehJS from CDN, this \\n\"+\n",
       "     \"may be due to a slow or bad network connection. Possible fixes:\\n\"+\n",
       "     \"</p>\\n\"+\n",
       "     \"<ul>\\n\"+\n",
       "     \"<li>re-rerun `output_notebook()` to attempt to load from CDN again, or</li>\\n\"+\n",
       "     \"<li>use INLINE resources instead, as so:</li>\\n\"+\n",
       "     \"</ul>\\n\"+\n",
       "     \"<code>\\n\"+\n",
       "     \"from bokeh.resources import INLINE\\n\"+\n",
       "     \"output_notebook(resources=INLINE)\\n\"+\n",
       "     \"</code>\\n\"+\n",
       "     \"</div>\"}};\n",
       "\n",
       "  function display_loaded() {\n",
       "    const el = document.getElementById(\"ed946972-bcba-4c48-a938-f2d2d54cc431\");\n",
       "    if (el != null) {\n",
       "      el.textContent = \"BokehJS is loading...\";\n",
       "    }\n",
       "    if (root.Bokeh !== undefined) {\n",
       "      if (el != null) {\n",
       "        el.textContent = \"BokehJS \" + root.Bokeh.version + \" successfully loaded.\";\n",
       "      }\n",
       "    } else if (Date.now() < root._bokeh_timeout) {\n",
       "      setTimeout(display_loaded, 100)\n",
       "    }\n",
       "  }\n",
       "\n",
       "  function run_callbacks() {\n",
       "    try {\n",
       "      root._bokeh_onload_callbacks.forEach(function(callback) {\n",
       "        if (callback != null)\n",
       "          callback();\n",
       "      });\n",
       "    } finally {\n",
       "      delete root._bokeh_onload_callbacks\n",
       "    }\n",
       "    console.debug(\"Bokeh: all callbacks have finished\");\n",
       "  }\n",
       "\n",
       "  function load_libs(css_urls, js_urls, callback) {\n",
       "    if (css_urls == null) css_urls = [];\n",
       "    if (js_urls == null) js_urls = [];\n",
       "\n",
       "    root._bokeh_onload_callbacks.push(callback);\n",
       "    if (root._bokeh_is_loading > 0) {\n",
       "      console.debug(\"Bokeh: BokehJS is being loaded, scheduling callback at\", now());\n",
       "      return null;\n",
       "    }\n",
       "    if (js_urls == null || js_urls.length === 0) {\n",
       "      run_callbacks();\n",
       "      return null;\n",
       "    }\n",
       "    console.debug(\"Bokeh: BokehJS not loaded, scheduling load and callback at\", now());\n",
       "    root._bokeh_is_loading = css_urls.length + js_urls.length;\n",
       "\n",
       "    function on_load() {\n",
       "      root._bokeh_is_loading--;\n",
       "      if (root._bokeh_is_loading === 0) {\n",
       "        console.debug(\"Bokeh: all BokehJS libraries/stylesheets loaded\");\n",
       "        run_callbacks()\n",
       "      }\n",
       "    }\n",
       "\n",
       "    function on_error(url) {\n",
       "      console.error(\"failed to load \" + url);\n",
       "    }\n",
       "\n",
       "    for (let i = 0; i < css_urls.length; i++) {\n",
       "      const url = css_urls[i];\n",
       "      const element = document.createElement(\"link\");\n",
       "      element.onload = on_load;\n",
       "      element.onerror = on_error.bind(null, url);\n",
       "      element.rel = \"stylesheet\";\n",
       "      element.type = \"text/css\";\n",
       "      element.href = url;\n",
       "      console.debug(\"Bokeh: injecting link tag for BokehJS stylesheet: \", url);\n",
       "      document.body.appendChild(element);\n",
       "    }\n",
       "\n",
       "    for (let i = 0; i < js_urls.length; i++) {\n",
       "      const url = js_urls[i];\n",
       "      const element = document.createElement('script');\n",
       "      element.onload = on_load;\n",
       "      element.onerror = on_error.bind(null, url);\n",
       "      element.async = false;\n",
       "      element.src = url;\n",
       "      console.debug(\"Bokeh: injecting script tag for BokehJS library: \", url);\n",
       "      document.head.appendChild(element);\n",
       "    }\n",
       "  };\n",
       "\n",
       "  function inject_raw_css(css) {\n",
       "    const element = document.createElement(\"style\");\n",
       "    element.appendChild(document.createTextNode(css));\n",
       "    document.body.appendChild(element);\n",
       "  }\n",
       "\n",
       "  const js_urls = [\"https://cdn.bokeh.org/bokeh/release/bokeh-3.1.1.min.js\", \"https://cdn.bokeh.org/bokeh/release/bokeh-gl-3.1.1.min.js\", \"https://cdn.bokeh.org/bokeh/release/bokeh-widgets-3.1.1.min.js\", \"https://cdn.bokeh.org/bokeh/release/bokeh-tables-3.1.1.min.js\", \"https://cdn.bokeh.org/bokeh/release/bokeh-mathjax-3.1.1.min.js\", \"https://unpkg.com/@holoviz/panel@1.1.0/dist/panel.min.js\"];\n",
       "  const css_urls = [];\n",
       "\n",
       "  const inline_js = [    function(Bokeh) {\n",
       "      Bokeh.set_log_level(\"info\");\n",
       "    },\n",
       "function(Bokeh) {\n",
       "    }\n",
       "  ];\n",
       "\n",
       "  function run_inline_js() {\n",
       "    if (root.Bokeh !== undefined || force === true) {\n",
       "          for (let i = 0; i < inline_js.length; i++) {\n",
       "      inline_js[i].call(root, root.Bokeh);\n",
       "    }\n",
       "if (force === true) {\n",
       "        display_loaded();\n",
       "      }} else if (Date.now() < root._bokeh_timeout) {\n",
       "      setTimeout(run_inline_js, 100);\n",
       "    } else if (!root._bokeh_failed_load) {\n",
       "      console.log(\"Bokeh: BokehJS failed to load within specified timeout.\");\n",
       "      root._bokeh_failed_load = true;\n",
       "    } else if (force !== true) {\n",
       "      const cell = $(document.getElementById(\"ed946972-bcba-4c48-a938-f2d2d54cc431\")).parents('.cell').data().cell;\n",
       "      cell.output_area.append_execute_result(NB_LOAD_WARNING)\n",
       "    }\n",
       "  }\n",
       "\n",
       "  if (root._bokeh_is_loading === 0) {\n",
       "    console.debug(\"Bokeh: BokehJS loaded, going straight to plotting\");\n",
       "    run_inline_js();\n",
       "  } else {\n",
       "    load_libs(css_urls, js_urls, function() {\n",
       "      console.debug(\"Bokeh: BokehJS plotting callback run at\", now());\n",
       "      run_inline_js();\n",
       "    });\n",
       "  }\n",
       "}(window));"
      ],
      "application/vnd.bokehjs_load.v0+json": "(function(root) {\n  function now() {\n    return new Date();\n  }\n\n  const force = true;\n\n  if (typeof root._bokeh_onload_callbacks === \"undefined\" || force === true) {\n    root._bokeh_onload_callbacks = [];\n    root._bokeh_is_loading = undefined;\n  }\n\n\n  if (typeof (root._bokeh_timeout) === \"undefined\" || force === true) {\n    root._bokeh_timeout = Date.now() + 5000;\n    root._bokeh_failed_load = false;\n  }\n\n  const NB_LOAD_WARNING = {'data': {'text/html':\n     \"<div style='background-color: #fdd'>\\n\"+\n     \"<p>\\n\"+\n     \"BokehJS does not appear to have successfully loaded. If loading BokehJS from CDN, this \\n\"+\n     \"may be due to a slow or bad network connection. Possible fixes:\\n\"+\n     \"</p>\\n\"+\n     \"<ul>\\n\"+\n     \"<li>re-rerun `output_notebook()` to attempt to load from CDN again, or</li>\\n\"+\n     \"<li>use INLINE resources instead, as so:</li>\\n\"+\n     \"</ul>\\n\"+\n     \"<code>\\n\"+\n     \"from bokeh.resources import INLINE\\n\"+\n     \"output_notebook(resources=INLINE)\\n\"+\n     \"</code>\\n\"+\n     \"</div>\"}};\n\n  function display_loaded() {\n    const el = document.getElementById(\"ed946972-bcba-4c48-a938-f2d2d54cc431\");\n    if (el != null) {\n      el.textContent = \"BokehJS is loading...\";\n    }\n    if (root.Bokeh !== undefined) {\n      if (el != null) {\n        el.textContent = \"BokehJS \" + root.Bokeh.version + \" successfully loaded.\";\n      }\n    } else if (Date.now() < root._bokeh_timeout) {\n      setTimeout(display_loaded, 100)\n    }\n  }\n\n  function run_callbacks() {\n    try {\n      root._bokeh_onload_callbacks.forEach(function(callback) {\n        if (callback != null)\n          callback();\n      });\n    } finally {\n      delete root._bokeh_onload_callbacks\n    }\n    console.debug(\"Bokeh: all callbacks have finished\");\n  }\n\n  function load_libs(css_urls, js_urls, callback) {\n    if (css_urls == null) css_urls = [];\n    if (js_urls == null) js_urls = [];\n\n    root._bokeh_onload_callbacks.push(callback);\n    if (root._bokeh_is_loading > 0) {\n      console.debug(\"Bokeh: BokehJS is being loaded, scheduling callback at\", now());\n      return null;\n    }\n    if (js_urls == null || js_urls.length === 0) {\n      run_callbacks();\n      return null;\n    }\n    console.debug(\"Bokeh: BokehJS not loaded, scheduling load and callback at\", now());\n    root._bokeh_is_loading = css_urls.length + js_urls.length;\n\n    function on_load() {\n      root._bokeh_is_loading--;\n      if (root._bokeh_is_loading === 0) {\n        console.debug(\"Bokeh: all BokehJS libraries/stylesheets loaded\");\n        run_callbacks()\n      }\n    }\n\n    function on_error(url) {\n      console.error(\"failed to load \" + url);\n    }\n\n    for (let i = 0; i < css_urls.length; i++) {\n      const url = css_urls[i];\n      const element = document.createElement(\"link\");\n      element.onload = on_load;\n      element.onerror = on_error.bind(null, url);\n      element.rel = \"stylesheet\";\n      element.type = \"text/css\";\n      element.href = url;\n      console.debug(\"Bokeh: injecting link tag for BokehJS stylesheet: \", url);\n      document.body.appendChild(element);\n    }\n\n    for (let i = 0; i < js_urls.length; i++) {\n      const url = js_urls[i];\n      const element = document.createElement('script');\n      element.onload = on_load;\n      element.onerror = on_error.bind(null, url);\n      element.async = false;\n      element.src = url;\n      console.debug(\"Bokeh: injecting script tag for BokehJS library: \", url);\n      document.head.appendChild(element);\n    }\n  };\n\n  function inject_raw_css(css) {\n    const element = document.createElement(\"style\");\n    element.appendChild(document.createTextNode(css));\n    document.body.appendChild(element);\n  }\n\n  const js_urls = [\"https://cdn.bokeh.org/bokeh/release/bokeh-3.1.1.min.js\", \"https://cdn.bokeh.org/bokeh/release/bokeh-gl-3.1.1.min.js\", \"https://cdn.bokeh.org/bokeh/release/bokeh-widgets-3.1.1.min.js\", \"https://cdn.bokeh.org/bokeh/release/bokeh-tables-3.1.1.min.js\", \"https://cdn.bokeh.org/bokeh/release/bokeh-mathjax-3.1.1.min.js\", \"https://unpkg.com/@holoviz/panel@1.1.0/dist/panel.min.js\"];\n  const css_urls = [];\n\n  const inline_js = [    function(Bokeh) {\n      Bokeh.set_log_level(\"info\");\n    },\nfunction(Bokeh) {\n    }\n  ];\n\n  function run_inline_js() {\n    if (root.Bokeh !== undefined || force === true) {\n          for (let i = 0; i < inline_js.length; i++) {\n      inline_js[i].call(root, root.Bokeh);\n    }\nif (force === true) {\n        display_loaded();\n      }} else if (Date.now() < root._bokeh_timeout) {\n      setTimeout(run_inline_js, 100);\n    } else if (!root._bokeh_failed_load) {\n      console.log(\"Bokeh: BokehJS failed to load within specified timeout.\");\n      root._bokeh_failed_load = true;\n    } else if (force !== true) {\n      const cell = $(document.getElementById(\"ed946972-bcba-4c48-a938-f2d2d54cc431\")).parents('.cell').data().cell;\n      cell.output_area.append_execute_result(NB_LOAD_WARNING)\n    }\n  }\n\n  if (root._bokeh_is_loading === 0) {\n    console.debug(\"Bokeh: BokehJS loaded, going straight to plotting\");\n    run_inline_js();\n  } else {\n    load_libs(css_urls, js_urls, function() {\n      console.debug(\"Bokeh: BokehJS plotting callback run at\", now());\n      run_inline_js();\n    });\n  }\n}(window));"
     },
     "metadata": {},
     "output_type": "display_data"
    }
   ],
   "source": [
    "output_notebook()"
   ]
  },
  {
   "cell_type": "code",
   "execution_count": null,
   "metadata": {},
   "outputs": [
    {
     "name": "stdout",
     "output_type": "stream",
     "text": [
      "  Index: 0\n",
      "   File: /mnt/s/2021-0717-HAB-Spec-Tampa-Bay-PIE/2021-0717-HAB-pie/164443/hab_spectra/2021-0717-164700-525866-spec.json\n",
      "   Note: No embedded GPS data. Gulf of Mexico west of Clearwater.\n"
     ]
    }
   ],
   "source": [
    "spectra_number = 0\n",
    "spectra_file, spectra_note = testing.select_test_file( spectra_number )\n",
    "\n",
    "print(f'  Index: {spectra_number}')\n",
    "print(f'   File: {spectra_file}')\n",
    "print(f'   Note: {spectra_note}')"
   ]
  },
  {
   "cell_type": "markdown",
   "metadata": {},
   "source": [
    "Calibrate the spectra for wavelength in nanometers"
   ]
  },
  {
   "cell_type": "code",
   "execution_count": null,
   "metadata": {},
   "outputs": [],
   "source": [
    "test_wavelengths = calibrate_using_2_wavelengths( \n",
    "  hab_spectra,  spectra_file,\n",
    "  pixel0 =  73, wavelength0 = 430.774, \n",
    "  pixel1 = 941, wavelength1 = 759.370 \n",
    ")"
   ]
  },
  {
   "cell_type": "markdown",
   "metadata": {},
   "source": [
    "### Generate a plot of the Spectra."
   ]
  },
  {
   "cell_type": "code",
   "execution_count": null,
   "metadata": {},
   "outputs": [],
   "source": [
    "spectra_y = read_spectra(hab_spectra,  spectra_file, y_average=True )"
   ]
  },
  {
   "cell_type": "markdown",
   "metadata": {},
   "source": [
    "Configure the basics of the plot."
   ]
  },
  {
   "cell_type": "code",
   "execution_count": null,
   "metadata": {},
   "outputs": [],
   "source": [
    "from bokeh.models import ColumnDataSource, Label, LabelSet, Range1d\n",
    "screen_height = 300\n",
    "screen_width  = 700"
   ]
  },
  {
   "cell_type": "code",
   "execution_count": null,
   "metadata": {},
   "outputs": [
    {
     "name": "stdout",
     "output_type": "stream",
     "text": [
      "json_spectra_file_name: /mnt/s/2021-0717-HAB-Spec-Tampa-Bay-PIE/2021-0717-HAB-pie/164443/hab_spectra/2021-0717-164700-525866-spec.json\n",
      "Lat                 : None\n",
      "Lon                 : None\n",
      "altitde_m           : None\n",
      "n_saturated         : None\n",
      "raw_y_min           : 39253\n",
      "remove_bias         : True\n",
      "y_average           : True\n",
      "DateTime            : None\n",
      "Exposure            : None\n",
      "raw_y               : [43.345   43.03625 43.3525  ...  0.30125  0.2475   0.26875]\n",
      "summed_rows         : 800\n",
      "Xpixels             : [   0    1    2 ... 1277 1278 1279]\n",
      "wavelengths         : [403.13862212 403.51718894 403.89575576 ... 886.56845161 886.94701843\n",
      " 887.32558525]\n",
      "pixel0              : 73\n",
      "pixel1              : 941\n",
      "wavelength0         : 430.774\n",
      "wavelength1         : 759.37\n",
      "delta_pix           : 868\n",
      "delta_wavelength_nm : 328.596\n",
      "Calibrated_w        : True\n",
      "GPS_Alt             : None\n",
      "GPS_Nsat_Inview     : None\n",
      "GPS_Status          : None\n",
      "GPS_UTC             : None\n",
      "Source              : None\n",
      "Pix_minv            : None\n",
      "sat_pix_n           : None\n",
      "Pix_maxv            : None\n",
      "\n"
     ]
    }
   ],
   "source": [
    "print(hab_spectra.__str__())"
   ]
  },
  {
   "cell_type": "code",
   "execution_count": null,
   "metadata": {},
   "outputs": [],
   "source": [
    "# Generate the Bokeh plot widget.\n",
    "spectra_w = figure(       title = f\"{ hab_spectra.json_spectra_file_name.split('/')[-1]},    {spectra_note}\",\n",
    "                   x_axis_label = 'Wavelength (nm)', \n",
    "                   y_axis_label = 'Intensity (Counts)',\n",
    "                         height = 300, \n",
    "                          width= 700 \n",
    "                  )"
   ]
  },
  {
   "cell_type": "code",
   "execution_count": null,
   "metadata": {},
   "outputs": [],
   "source": [
    "# Generate Fraunhofer lines.\n",
    "fran_x, fran_y = cal.gen_reference_lines( \n",
    "  cal.Fraunhofer_lines,\n",
    "  y_max = max( hab_spectra.raw_y )\n",
    ")\n",
    "\n",
    "junk = spectra_w.multi_line(\n",
    "  fran_x, \n",
    "  fran_y,\n",
    "  color='lightgray',\n",
    "  legend_label=\"Fraunhofer Lines.\"\n",
    ")"
   ]
  },
  {
   "cell_type": "markdown",
   "metadata": {},
   "source": [
    "# Plot Sentinel bands.\n",
    "sentinel.sentinel_update( hab_spectra, sentinel_array )\n",
    "for se in sentinel_array:\n",
    "  spectra_w.rect(         x = sentinel_array[se].center_nm, \n",
    "                          y = sentinel_array[se].y_average, \n",
    "                      width = sentinel_array[se].width_nm, \n",
    "                     height = hab_spectra.raw_y.max()*.05,\n",
    "                 line_width = 1, \n",
    "                 fill_color = wavelength_2_RGB_str( sentinel_array[se].center_nm, alpha=60 ) )"
   ]
  },
  {
   "cell_type": "code",
   "execution_count": null,
   "metadata": {},
   "outputs": [
    {
     "data": {
      "text/html": [
       "\n",
       "  <div id=\"bdf8ed87-0f04-465b-8390-da568f1b3831\" data-root-id=\"p1002\" style=\"display: contents;\"></div>\n"
      ]
     },
     "metadata": {},
     "output_type": "display_data"
    },
    {
     "data": {
      "application/javascript": [
       "(function(root) {\n",
       "  function embed_document(root) {\n",
       "  const docs_json = {\"bd46c021-bd44-4993-ae04-4c4629ef7a1c\":{\"version\":\"3.1.1\",\"title\":\"Bokeh Application\",\"defs\":[{\"type\":\"model\",\"name\":\"ReactiveHTML1\"},{\"type\":\"model\",\"name\":\"FlexBox1\",\"properties\":[{\"name\":\"align_content\",\"kind\":\"Any\",\"default\":\"flex-start\"},{\"name\":\"align_items\",\"kind\":\"Any\",\"default\":\"flex-start\"},{\"name\":\"flex_direction\",\"kind\":\"Any\",\"default\":\"row\"},{\"name\":\"flex_wrap\",\"kind\":\"Any\",\"default\":\"wrap\"},{\"name\":\"justify_content\",\"kind\":\"Any\",\"default\":\"flex-start\"}]},{\"type\":\"model\",\"name\":\"FloatPanel1\",\"properties\":[{\"name\":\"config\",\"kind\":\"Any\",\"default\":{\"type\":\"map\"}},{\"name\":\"contained\",\"kind\":\"Any\",\"default\":true},{\"name\":\"position\",\"kind\":\"Any\",\"default\":\"right-top\"},{\"name\":\"offsetx\",\"kind\":\"Any\",\"default\":null},{\"name\":\"offsety\",\"kind\":\"Any\",\"default\":null},{\"name\":\"theme\",\"kind\":\"Any\",\"default\":\"primary\"},{\"name\":\"status\",\"kind\":\"Any\",\"default\":\"normalized\"}]},{\"type\":\"model\",\"name\":\"GridStack1\",\"properties\":[{\"name\":\"mode\",\"kind\":\"Any\",\"default\":\"warn\"},{\"name\":\"ncols\",\"kind\":\"Any\",\"default\":null},{\"name\":\"nrows\",\"kind\":\"Any\",\"default\":null},{\"name\":\"allow_resize\",\"kind\":\"Any\",\"default\":true},{\"name\":\"allow_drag\",\"kind\":\"Any\",\"default\":true},{\"name\":\"state\",\"kind\":\"Any\",\"default\":[]}]},{\"type\":\"model\",\"name\":\"drag1\",\"properties\":[{\"name\":\"slider_width\",\"kind\":\"Any\",\"default\":5},{\"name\":\"slider_color\",\"kind\":\"Any\",\"default\":\"black\"},{\"name\":\"value\",\"kind\":\"Any\",\"default\":50}]},{\"type\":\"model\",\"name\":\"click1\",\"properties\":[{\"name\":\"terminal_output\",\"kind\":\"Any\",\"default\":\"\"},{\"name\":\"debug_name\",\"kind\":\"Any\",\"default\":\"\"},{\"name\":\"clears\",\"kind\":\"Any\",\"default\":0}]},{\"type\":\"model\",\"name\":\"FastWrapper1\",\"properties\":[{\"name\":\"object\",\"kind\":\"Any\",\"default\":null},{\"name\":\"style\",\"kind\":\"Any\",\"default\":null}]},{\"type\":\"model\",\"name\":\"NotificationAreaBase1\",\"properties\":[{\"name\":\"position\",\"kind\":\"Any\",\"default\":\"bottom-right\"},{\"name\":\"_clear\",\"kind\":\"Any\",\"default\":0}]},{\"type\":\"model\",\"name\":\"NotificationArea1\",\"properties\":[{\"name\":\"notifications\",\"kind\":\"Any\",\"default\":[]},{\"name\":\"position\",\"kind\":\"Any\",\"default\":\"bottom-right\"},{\"name\":\"_clear\",\"kind\":\"Any\",\"default\":0},{\"name\":\"types\",\"kind\":\"Any\",\"default\":[{\"type\":\"map\",\"entries\":[[\"type\",\"warning\"],[\"background\",\"#ffc107\"],[\"icon\",{\"type\":\"map\",\"entries\":[[\"className\",\"fas fa-exclamation-triangle\"],[\"tagName\",\"i\"],[\"color\",\"white\"]]}]]},{\"type\":\"map\",\"entries\":[[\"type\",\"info\"],[\"background\",\"#007bff\"],[\"icon\",{\"type\":\"map\",\"entries\":[[\"className\",\"fas fa-info-circle\"],[\"tagName\",\"i\"],[\"color\",\"white\"]]}]]}]}]},{\"type\":\"model\",\"name\":\"Notification\",\"properties\":[{\"name\":\"background\",\"kind\":\"Any\",\"default\":null},{\"name\":\"duration\",\"kind\":\"Any\",\"default\":3000},{\"name\":\"icon\",\"kind\":\"Any\",\"default\":null},{\"name\":\"message\",\"kind\":\"Any\",\"default\":\"\"},{\"name\":\"notification_type\",\"kind\":\"Any\",\"default\":null},{\"name\":\"_destroyed\",\"kind\":\"Any\",\"default\":false}]},{\"type\":\"model\",\"name\":\"TemplateActions1\",\"properties\":[{\"name\":\"open_modal\",\"kind\":\"Any\",\"default\":0},{\"name\":\"close_modal\",\"kind\":\"Any\",\"default\":0}]},{\"type\":\"model\",\"name\":\"BootstrapTemplateActions1\",\"properties\":[{\"name\":\"open_modal\",\"kind\":\"Any\",\"default\":0},{\"name\":\"close_modal\",\"kind\":\"Any\",\"default\":0}]},{\"type\":\"model\",\"name\":\"MaterialTemplateActions1\",\"properties\":[{\"name\":\"open_modal\",\"kind\":\"Any\",\"default\":0},{\"name\":\"close_modal\",\"kind\":\"Any\",\"default\":0}]}],\"roots\":[{\"type\":\"object\",\"name\":\"Figure\",\"id\":\"p1002\",\"attributes\":{\"width\":700,\"height\":300,\"x_range\":{\"type\":\"object\",\"name\":\"DataRange1d\",\"id\":\"p1003\"},\"y_range\":{\"type\":\"object\",\"name\":\"DataRange1d\",\"id\":\"p1004\"},\"x_scale\":{\"type\":\"object\",\"name\":\"LinearScale\",\"id\":\"p1016\"},\"y_scale\":{\"type\":\"object\",\"name\":\"LinearScale\",\"id\":\"p1018\"},\"title\":{\"type\":\"object\",\"name\":\"Title\",\"id\":\"p1005\",\"attributes\":{\"text\":\"2021-0717-164700-525866-spec.json,    No embedded GPS data. Gulf of Mexico west of Clearwater.\"}},\"renderers\":[{\"type\":\"object\",\"name\":\"GlyphRenderer\",\"id\":\"p1055\",\"attributes\":{\"data_source\":{\"type\":\"object\",\"name\":\"ColumnDataSource\",\"id\":\"p1049\",\"attributes\":{\"selected\":{\"type\":\"object\",\"name\":\"Selection\",\"id\":\"p1050\",\"attributes\":{\"indices\":[],\"line_indices\":[]}},\"selection_policy\":{\"type\":\"object\",\"name\":\"UnionRenderers\",\"id\":\"p1051\"},\"data\":{\"type\":\"map\",\"entries\":[[\"xs\",[[759.37,759.37],[686.719,686.719],[656.281,656.281],[627.661,627.661],[589.592,589.592],[588.995,588.995],[587.5618,587.5618],[546.073,546.073],[527.039,527.039],[518.362,518.362],[517.27,517.27],[516.891,516.891],[516.733,516.733],[495.761,495.761],[486.134,486.134],[466.814,466.814],[438.355,438.355],[430.79,430.79],[430.774,430.774],[396.847,396.847]]],[\"ys\",[[0,184.78375],[0,184.78375],[0,184.78375],[0,184.78375],[0,184.78375],[0,184.78375],[0,184.78375],[0,184.78375],[0,184.78375],[0,184.78375],[0,184.78375],[0,184.78375],[0,184.78375],[0,184.78375],[0,184.78375],[0,184.78375],[0,184.78375],[0,184.78375],[0,184.78375],[0,184.78375]]]]}}},\"view\":{\"type\":\"object\",\"name\":\"CDSView\",\"id\":\"p1056\",\"attributes\":{\"filter\":{\"type\":\"object\",\"name\":\"AllIndices\",\"id\":\"p1057\"}}},\"glyph\":{\"type\":\"object\",\"name\":\"MultiLine\",\"id\":\"p1052\",\"attributes\":{\"xs\":{\"type\":\"field\",\"field\":\"xs\"},\"ys\":{\"type\":\"field\",\"field\":\"ys\"},\"line_color\":{\"type\":\"value\",\"value\":\"lightgray\"}}},\"nonselection_glyph\":{\"type\":\"object\",\"name\":\"MultiLine\",\"id\":\"p1053\",\"attributes\":{\"xs\":{\"type\":\"field\",\"field\":\"xs\"},\"ys\":{\"type\":\"field\",\"field\":\"ys\"},\"line_color\":{\"type\":\"value\",\"value\":\"lightgray\"},\"line_alpha\":{\"type\":\"value\",\"value\":0.1}}},\"muted_glyph\":{\"type\":\"object\",\"name\":\"MultiLine\",\"id\":\"p1054\",\"attributes\":{\"xs\":{\"type\":\"field\",\"field\":\"xs\"},\"ys\":{\"type\":\"field\",\"field\":\"ys\"},\"line_color\":{\"type\":\"value\",\"value\":\"lightgray\"},\"line_alpha\":{\"type\":\"value\",\"value\":0.2}}}}},{\"type\":\"object\",\"name\":\"GlyphRenderer\",\"id\":\"p1066\",\"attributes\":{\"data_source\":{\"type\":\"object\",\"name\":\"ColumnDataSource\",\"id\":\"p1060\",\"attributes\":{\"selected\":{\"type\":\"object\",\"name\":\"Selection\",\"id\":\"p1061\",\"attributes\":{\"indices\":[],\"line_indices\":[]}},\"selection_policy\":{\"type\":\"object\",\"name\":\"UnionRenderers\",\"id\":\"p1062\"},\"data\":{\"type\":\"map\",\"entries\":[[\"x\",{\"type\":\"ndarray\",\"array\":{\"type\":\"bytes\",\"data\":\"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\"},\"shape\":[1280],\"dtype\":\"float64\",\"order\":\"little\"}],[\"y\",{\"type\":\"ndarray\",\"array\":{\"type\":\"bytes\",\"data\":\"XI/C9SisRUBxPQrXo4RFQIXrUbgerUVAw/UoXI86RkApXI/C9bBGQOxRuB6F10ZAAAAAAADoRkAAAAAAAARHQFyPwvUoHEdAAAAAAAB0R0DhehSuR5VHQEjhehSuY0dArkfhehR+R0BI4XoUrgtIQHE9CtejgEhAj8L1KFyjSEC4HoXrUaBIQPYoXI/CpUhAAAAAAACsSEDNzMzMzOBIQB+F61G4OklAAAAAAAB4SUAUrkfheshJQFyPwvUoLEpAw/UoXI+mSkC4HoXrUbxKQM3MzMzM8EpA4XoUrkdFS0CuR+F6FLJLQKRwPQrX/0tAuB6F61EITEBI4XoUru9LQOF6FK5HLUxAKVyPwvUwTECF61G4HiFMQOxRuB6FQ0xAXI/C9SiQTEDhehSuR6FMQMP1KFyPgkxAcT0K16N4TEDsUbgehb9MQM3MzMzMpExA4XoUrkehTEBmZmZmZrpMQK5H4XoUvkxAH4XrUbi+TEBmZmZmZvpMQHE9CtejRE1ArkfhehSCTUBxPQrXo1hNQHE9CtejXE1AFK5H4XqMTUCPwvUoXI9NQJqZmZmZWU1ASOF6FK5HTUDNzMzMzGBNQPYoXI/CiU1AmpmZmZkxTUBI4XoUrtdMQLgehetR5ExA16NwPQrfTEAAAAAAANhMQB+F61G4Bk1AUrgehevpTECkcD0K139MQPYoXI/CeUxAXI/C9SjoS0C4HoXrUWxLQJqZmZmZVUtAcT0K16PMSkAUrkfhegxKQNejcD0Kz0lAFK5H4Xq8SUCamZmZma1JQDMzMzMzt0lAw/UoXI/ySUAzMzMzM19KQFyPwvUo+EpASOF6FK6nS0DXo3A9CidMQIXrUbgewUxAuB6F61EsTUCamZmZmdFNQOxRuB6FJ05ArkfhehQyTkAK16NwPXZOQDMzMzMz905AKVyPwvVIT0AzMzMzMw9QQEjhehSuMVBAmpmZmZktUECPwvUoXPtPQB+F61G4yk9A9ihcj8LZT0CkcD0K17tPQMP1KFyPbk9AcT0K16PIT0ApXI/C9bhPQHsUrkfhFFBACtejcD1sUECPwvUoXKFQQMP1KFyP0FBAw/UoXI8YUUBSuB6F61FRQJqZmZmZfVFAj8L1KFyxUUB7FK5H4QBSQLgehetRMFJASOF6FK4bUkAzMzMzM+9RQJqZmZmZ6VFAFK5H4XoCUkBxPQrXow5SQMP1KFyPOFJA4XoUrkdTUkAK16NwPTJSQOxRuB6FH1JA16NwPQphUkAK16NwPbZSQFK4HoXr11JAcT0K16NGU0AzMzMzM1FTQFK4HoXrWVNAMzMzMzN9U0DD9Shcj75TQIXrUbge6VNAXI/C9Sj+U0DD9ShcjxJUQFyPwvUo/lNAXI/C9SjIU0CF61G4HndTQIXrUbgeQ1NArkfhehRGU0BSuB6F62NTQArXo3A9bFNApHA9CtdbU0A9CtejcF9TQD0K16NwsVNAAAAAAADSU0CamZmZmb9TQGZmZmZmzlNAuB6F61HyU0AUrkfhevZTQGZmZmZm5lNA7FG4HoXTU0CuR+F6FMpTQBSuR+F6wlNACtejcD3CU0B7FK5H4cZTQLgehetR1FNAcT0K16PyU0DD9Shcjw5UQK5H4XoUKlRAexSuR+EUVEDsUbgehStUQOF6FK5HZVRAmpmZmZl1VEDXo3A9Ck9UQOF6FK5HN1RAuB6F61FCVECuR+F6FCpUQOxRuB6F+1NAXI/C9SisU0CPwvUoXJVTQM3MzMzMulNAj8L1KFyzU0DD9Shcj4hTQLgehetRflNAXI/C9SiiU0BxPQrXo7RTQMP1KFyPqlNAcT0K16NwU0A9CtejcFVTQEjhehSuf1NAPQrXo3CXU0AfhetRuHhTQHE9CtejtFNACtejcD2uU0C4HoXrUaRTQJqZmZmZp1NAPQrXo3CvU0CkcD0K16tTQK5H4XoUxFNArkfhehT2U0AK16NwPQ5UQOF6FK5HCVRASOF6FK4zVECkcD0K11dUQNejcD0KK1RAPQrXo3D3U0CamZmZmQ9UQEjhehSuRVRAZmZmZmYqVECkcD0K1xFUQPYoXI/CJ1RAuB6F61FEVEAfhetRuDpUQArXo3A9SFRAcT0K16NoVEDsUbgehWtUQM3MzMzMdlRAexSuR+GOVEDhehSuR4NUQEjhehSuaVRA4XoUrkehVEBcj8L1KLpUQOF6FK5Hi1RApHA9CteTVEAK16NwPaJUQHsUrkfhlFRAzczMzMyIVEAK16NwPXRUQDMzMzMzN1RAMzMzMzPRU0C4HoXrUW5TQIXrUbgeN1NAZmZmZmbwUkBSuB6F68VSQFK4HoXro1JAXI/C9SioUkBmZmZmZsBSQD0K16Nw1VJA16NwPQrrUkBxPQrXo/xSQHsUrkfhTFNAMzMzMzObU0ApXI/C9dJTQM3MzMzM1FNApHA9CtfbU0ApXI/C9f5TQFK4HoXrDVRAexSuR+EAVEAAAAAAAExUQFyPwvUoulNAmpmZmZmbU0C4HoXrUdxTQFyPwvUo9FNA16NwPQrjU0CPwvUoXPlTQHE9CtejUlRA9ihcj8JTVEDD9Shcj4hUQOF6FK5HsVRAKVyPwvWQVEAzMzMzM19UQD0K16NwaVRAcT0K16N+VED2KFyPwnVUQD0K16NwnVRArkfhehSeVEDD9Shcj0pUQK5H4XoURlRAKVyPwvVoVEAzMzMzMyFUQD0K16Nw11NASOF6FK7RU0BmZmZmZphTQDMzMzMz21NASOF6FK71U0C4HoXrUepTQGZmZmZmEFRASOF6FK4RVEDNzMzMzMpTQMP1KFyPwlNAexSuR+EuVECuR+F6FC5UQAAAAAAAZlRA7FG4HoWzVEAfhetRuNRUQEjhehSu31RACtejcD30VEDXo3A9CgNVQPYoXI/C81RAw/UoXI8CVUDXo3A9CjtVQHE9CtejYFVAMzMzMzNbVUCPwvUoXHVVQIXrUbgen1VAmpmZmZmfVUAzMzMzM9lVQFK4HoXr01VAKVyPwvXiVUApXI/C9QxWQOxRuB6FO1ZAXI/C9ShYVkA9CtejcGVWQEjhehSuaVZAw/UoXI96VkCamZmZmZdWQFyPwvUoclZAuB6F61FSVkDsUbgehXdWQBSuR+F6dlZA16NwPQpPVkBmZmZmZkpWQArXo3A9alZAPQrXo3BXVkAAAAAAAFxWQDMzMzMzPVZAzczMzMwkVkCkcD0K149WQOF6FK5H71ZAj8L1KFzRVkBI4XoUrt9WQDMzMzMzl1dAuB6F61FqWEBSuB6F66lYQClcj8L10lhAw/UoXI9IWUCF61G4HpVZQB+F61G4rllAhetRuB7zWUCkcD0K1+NZQB+F61G4XFpAhetRuB75WkCuR+F6FC5bQKRwPQrXXVtApHA9CtebW0CPwvUoXKFbQNejcD0Kt1tAXI/C9SisW0BSuB6F659bQB+F61G42FtA7FG4HoVBXEDXo3A9ColcQI/C9Shcz1xA16NwPQopXUBcj8L1KNhdQNejcD0K6V1AuB6F61FoXkC4HoXrURZfQEjhehSuaV9ASOF6FK6HX0CuR+F6FNJfQGZmZmZmFGBAcT0K16NCYECkcD0K1w9gQFK4HoXrJmBAKVyPwvV3YEDD9Shcj5VgQEjhehSulGBAcT0K16O9YEB7FK5H4fRgQI/C9ShcTmFArkfhehRDYUBSuB6F62dhQPYoXI/ComFAw/UoXI+2YUA9CtejcLthQDMzMzMz02FAcT0K16PlYUAK16NwPSxiQAAAAAAAZ2JAmpmZmZl7YkDNzMzMzGxiQNejcD0KhmJAH4XrUbi9YkDD9Shcj9RiQPYoXI/CxmJAw/UoXI/BYkDhehSuR9piQOF6FK5H/mJArkfhehQ6Y0DsUbgehW5jQKRwPQrXjmNAAAAAAADAY0BxPQrXo/xjQBSuR+F6BmRA9ihcj8IqZEBcj8L1KDxkQHsUrkfhS2RAKVyPwvWAZECPwvUoXMVkQK5H4XoU1WRA9ihcj8KwZEBxPQrXo+FkQPYoXI/C+GRAXI/C9SgPZUCkcD0K1yFlQKRwPQrXNmVAZmZmZmZOZUAK16NwPWVlQOF6FK5HaGVAXI/C9SiZZUCuR+F6FKRlQHE9CtejtmVAAAAAAADRZUDsUbgehetlQM3MzMzM+2VAw/UoXI8BZkCamZmZmf1lQOF6FK5HGmZA4XoUrkcoZkCuR+F6FEJmQDMzMzMzWmZAuB6F61FdZkBSuB6F61xmQOF6FK5HcWZAexSuR+GKZkCuR+F6FJNmQNejcD0Ki2ZAw/UoXI+NZkCPwvUoXKhmQBSuR+F6p2ZAH4XrUbibZkCamZmZma9mQFK4HoXruGZAH4XrUbieZkAfhetRuLNmQI/C9ShcwGZAMzMzMzPDZkAAAAAAAMlmQM3MzMzM1WZAH4XrUbjkZkDsUbgehehmQPYoXI/C9WZASOF6FK7yZkBSuB6F6/JmQJqZmZmZBmdArkfhehQZZ0B7FK5H4RJnQKRwPQrXDWdACtejcD0VZ0CF61G4HgNnQOF6FK5HDWdAAAAAAAALZ0AzMzMzM/9mQAAAAAAA+mZAj8L1KFz7ZkBxPQrXo/ZmQFyPwvUo6WZAuB6F61HVZkAK16NwPctmQHsUrkfhz2ZAcT0K16PgZkB7FK5H4dNmQJqZmZmZrGZAAAAAAACWZkCPwvUoXJVmQAAAAAAAh2ZACtejcD2IZkBmZmZmZohmQI/C9ShciGZAH4XrUbh9ZkCamZmZmWhmQK5H4XoUX2ZAexSuR+FcZkBmZmZmZiVmQMP1KFyPIGZA9ihcj8IiZkApXI/C9SpmQI/C9ShcJmZAFK5H4XoNZkDhehSuR/VlQAAAAAAA6GVAFK5H4XqiZUAfhetRuMdlQFyPwvUou2VAexSuR+GCZUD2KFyPwmllQBSuR+F6cWVAAAAAAABTZUDhehSuRxZlQNejcD0KHmVAZmZmZmYKZUCF61G4HuFkQBSuR+F60GRAKVyPwvXSZEB7FK5H4cRkQDMzMzMzpGRAhetRuB6EZECkcD0K1z1kQGZmZmZmOmRA7FG4HoX5Y0AfhetRuLljQMP1KFyPqWNAexSuR+GmY0B7FK5H4XhjQK5H4XoUImNA7FG4HoUNY0DD9Shcj8ZiQEjhehSuhmJASOF6FK5jYkDsUbgehQ1iQBSuR+F6oGFAhetRuB5PYUCPwvUoXAphQDMzMzMz3WBAMzMzMzPAYEC4HoXrUZ9gQArXo3A9kmBAH4XrUbiMYEA9CtejcHZgQIXrUbgeb2BAmpmZmZl6YEC4HoXrUXlgQHsUrkfhfWBAAAAAAACJYEApXI/C9XpgQBSuR+F6YGBACtejcD1KYEBI4XoUrjZgQClcj8L1OWBAexSuR+FKYEBmZmZmZh9gQM3MzMzMA2BArkfhehT8X0AUrkfhevJfQKRwPQrXv19AAAAAAACoX0BI4XoUrt9fQEjhehSuYV9AzczMzMyWX0Bcj8L1KJxfQGZmZmZmSF9ASOF6FK7VXkCkcD0K159eQM3MzMzMtF5AzczMzMzWXkAK16NwPaReQIXrUbgeZ15AXI/C9Sg+XkApXI/C9UReQK5H4XoUMF5AcT0K16P4XUDXo3A9CuVdQPYoXI/C+V1AmpmZmZm5XUDD9Shcj7JdQEjhehSug11AAAAAAAByXUCPwvUoXHddQD0K16NwKV1AMzMzMzPJXEB7FK5H4bxcQOxRuB6FTVxAUrgehestXEBI4XoUrhlcQFyPwvUo9ltAexSuR+GeW0AAAAAAAEZbQNejcD0KF1tAj8L1KFz/WkBI4XoUrqNaQArXo3A9glpAH4XrUbgcWkB7FK5H4cZZQOF6FK5HwVlAmpmZmZmvWUCamZmZmUFZQMP1KFyPzFhAj8L1KFzRWECF61G4Ht9YQIXrUbgetVhAKVyPwvUkWEAfhetRuNRXQNejcD0K1VdA7FG4HoWlV0AUrkfhem5XQClcj8L1EFdAFK5H4XrAVkBcj8L1KJhWQGZmZmZmvlZAexSuR+HOVkCamZmZmZVWQKRwPQrXV1ZAH4XrUbg+VkC4HoXrUVpWQFK4HoXrZVZAXI/C9SgSVkA9CtejcLVVQIXrUbgelVVApHA9CtdVVUBI4XoUrvFUQK5H4XoUxlRArkfhehTkVEBSuB6F661UQLgehetRqFRArkfhehScVED2KFyPwkNUQD0K16Nw9VNAZmZmZmbqU0AfhetRuPBTQClcj8L19lNA9ihcj8KPU0AfhetRuE5TQKRwPQrXP1NAj8L1KFwfU0CkcD0K1/VSQNejcD0Ku1JAw/UoXI94UkAAAAAAAJJSQOxRuB6FhVJASOF6FK51UkApXI/C9XJSQNejcD0KZVJA7FG4HoUtUkC4HoXrUfxRQM3MzMzM+lFA4XoUrkf3UUA9CtejcNNRQBSuR+F6BlJAAAAAAAAWUkDD9Shcj8hRQArXo3A9iFFASOF6FK6HUUAAAAAAALpRQAAAAAAAhlFApHA9CtetUUAzMzMzM7VRQM3MzMzMmFFAzczMzMyeUUD2KFyPwrtRQPYoXI/CqVFAPQrXo3B3UUB7FK5H4apRQDMzMzMza1FAuB6F61FkUUDXo3A9Co1RQClcj8L1ilFAexSuR+F+UUD2KFyPwqFRQKRwPQrX1VFAUrgehevhUUBI4XoUrutRQBSuR+F6jlFAuB6F61FiUUDXo3A9CrtRQArXo3A93FFAZmZmZmbEUUDD9Shcj95RQMP1KFyP1lFAZmZmZmbyUUCamZmZmTNSQK5H4XoUAlJA7FG4HoV1UUDD9Shcj2pRQOF6FK5Hm1FASOF6FK5xUUBSuB6F6y1RQArXo3A9OlFAhetRuB4dUUCkcD0K1wdRQB+F61G4AFFAzczMzMzQUEAAAAAAAMxQQGZmZmZmFFFA7FG4HoUPUUAK16NwPdJQQBSuR+F6rlBAcT0K16OgUEAK16NwPZhQQFK4HoXrUVBAuB6F61HMT0AAAAAAAJBPQAAAAAAAQE9AKVyPwvVETkBcj8L1KGRNQArXo3A9UkxAMzMzMzMTS0CPwvUoXINKQD0K16NwGUpAH4XrUbhOSUDXo3A9CkdIQBSuR+F6KEhAj8L1KFzTR0DsUbgehV9HQDMzMzMzC0dApHA9CtfbRkAfhetRuKpGQPYoXI/CeUZAexSuR+EeRkDhehSuR5lFQOxRuB6FJ0VASOF6FK7PREAUrkfhephEQOxRuB6Fh0RAAAAAAAAARECamZmZmRlDQM3MzMzMSENAw/UoXI8SQ0CF61G4Hr1CQFyPwvUobEJAXI/C9SggQkBmZmZmZtZBQPYoXI/CkUFAPQrXo3BlQUCF61G4HvFAQNejcD0Kz0BAhetRuB65QECF61G4HpFAQK5H4XoUWkBAhetRuB5lQEDXo3A9CpdAQClcj8L1pEBAPQrXo3CpQEDXo3A9CtdAQEjhehSuy0BArkfhehSaQEAK16NwPYJAQFyPwvUolEBAexSuR+HmQECPwvUoXFtBQArXo3A9SkFACtejcD1CQUCPwvUoXCtBQFK4HoXrWUFArkfhehTOQUCPwvUoXAdCQB+F61G4BkJAH4XrUbgKQkBcj8L1KMhCQFyPwvUoHENAXI/C9ShcQ0AAAAAAAGhDQHsUrkfhlkNACtejcD0SREBxPQrXo5BEQClcj8L10ERA9ihcj8IpRUA9CtejcElFQOF6FK5HpUVAAAAAAAAYRkBI4XoUrk9GQArXo3A9ZkZA16NwPQqXRkDXo3A9Ct9GQOxRuB6F00ZAMzMzMzNTR0BI4XoUrpNHQOxRuB6FL0hAzczMzMy0SEA9CtejcHlIQAAAAAAAdEhApHA9CtfHSECamZmZmdVIQD0K16NwUUlAmpmZmZmRSUAAAAAAAKxJQArXo3A9sklA4XoUrkdVSUApXI/C9fRIQOF6FK5H9UhA7FG4HoWLSUCPwvUoXGdJQOF6FK5HZUlA4XoUrkcVSkBcj8L1KMxKQFyPwvUotEpArkfhehTKSkAAAAAAAIRLQEjhehSuD0xAzczMzMyATED2KFyPwuVMQClcj8L1OE1A16NwPQrXTUAAAAAAAKROQFyPwvUoAE9AZmZmZmbqTkBmZmZmZq5PQBSuR+F6fE9ASOF6FK6XT0BI4XoUrvdPQJqZmZmZL1BA4XoUrkeFUEBxPQrXo/JQQOF6FK5HP1FACtejcD08UUApXI/C9Y5RQEjhehSuz1FAAAAAAACyUUBI4XoUrp1RQAAAAAAAnlFAH4XrUbhyUUAfhetRuGRRQKRwPQrXb1FApHA9CtcnUUCkcD0K1xlRQM3MzMzMQFFACtejcD0wUUAzMzMzM/dQQFK4HoXr3VBAexSuR+HgUEApXI/C9eJQQIXrUbgew1BAMzMzMzO5UEBSuB6F66NQQM3MzMzMilBAXI/C9SicUEDhehSuR6dQQLgehetRhlBAUrgehesnUEAzMzMzM49PQK5H4XoUWk9A7FG4HoUnT0CuR+F6FL5OQLgehetRZE5AMzMzMzP7TUCF61G4HsVNQIXrUbge0U1APQrXo3B1TUCamZmZmcVMQClcj8L1GExAFK5H4XrAS0CkcD0K14NLQArXo3A9+kpAuB6F61FkSkAfhetRuJZJQArXo3A9GklA4XoUrke1SEA9CtejcElIQB+F61G4+kdApHA9Ctd3R0DXo3A9Cn9GQHsUrkfh5kVAZmZmZmYCRUA9CtejcBFEQDMzMzMzG0NApHA9CtdDQkApXI/C9RhBQJqZmZmZgT9AzczMzMxkPUApXI/C9SA8QIXrUbgedTpAzczMzMw0OUDNzMzMzJw3QJqZmZmZqTZA16NwPQr3NUCkcD0K1/s0QFyPwvUojDRAZmZmZmbmNEBxPQrXoyA1QHsUrkfhCjVAuB6F61EQNUB7FK5H4To1QOxRuB6FCzVAZmZmZmZuNEAAAAAAANgzQClcj8L1mDNAcT0K16NIMkApXI/C9ZAxQHsUrkfhsjBAFK5H4XoUMEBSuB6F63EvQBSuR+F6tC5AMzMzMzPjLUCF61G4HnUtQHsUrkfhqitAj8L1KFzvKkBmZmZmZjYqQM3MzMzMjClAMzMzMzPzKEApXI/C9QgoQGZmZmZmFidAMzMzMzOzJkAAAAAAALAlQD0K16Nw7SVApHA9CtcTJkApXI/C9bglQPYoXI/CFSVApHA9CtejJEBI4XoUrpckQD0K16NwvSRAmpmZmZnJJUAUrkfhepQlQPYoXI/CNSVAuB6F61HYJECF61G4HoUkQHsUrkfhKiRAmpmZmZnJI0C4HoXrUYgjQI/C9Shc7yJAAAAAAACwIkDD9Shcj1IiQHsUrkfh6iFAUrgeheuRIUBcj8L1KGwhQOF6FK5HUSFA7FG4HoVLIUBSuB6F6yEhQFK4HoXr4SBAMzMzMzNzIEAzMzMzMxMgQM3MzMzM7B9AuB6F61EIIEBmZmZmZkYgQAAAAAAAcCBAMzMzMzOjIECF61G4HpUgQMP1KFyPQiBAKVyPwvXIH0DNzMzMzEwfQOxRuB6F6x5ASOF6FK7HHkDXo3A9CpceQBSuR+F6NB5AUrgehesxHkCkcD0K18MdQPYoXI/CdR1A9ihcj8LVHUDNzMzMzGweQLgehetReB5A4XoUrkfhHUAfhetRuD4eQGZmZmZmBh5AH4XrUbh+HUBSuB6F6/EcQBSuR+F6lBxAmpmZmZlZHECF61G4HkUcQArXo3A9ShxAXI/C9Si8HECF61G4HoUcQKRwPQrXAxxA7FG4HoVrG0B7FK5H4foaQDMzMzMzsxpAAAAAAACAGkAzMzMzM1MaQNejcD0KdxpAw/UoXI+iGkAUrkfhetQaQHE9Ctej0BpACtejcD3KGkCuR+F6FM4aQOF6FK5H4RpAAAAAAAAgG0C4HoXrUfgZQFK4HoXrMRlAzczMzMxMF0AAAAAAAKAUQM3MzMzM7BFAmpmZmZmZDkAAAAAAAEALQI/C9ShczwlAzczMzMyMAUDsUbgehesBQLgehetRuAFAw/UoXI/CAUAAAAAAAMABQJqZmZmZmQFAPQrXo3B9AUDsUbgehSsBQAAAAAAAAAJAj8L1KFzPAkAK16NwPUoEQOF6FK5HIQZAzczMzMxMB0Bcj8L1KBwIQDMzMzMzcwhAH4XrUbheCEDD9Shcj0IOQEjhehSuBw9AXI/C9ShcEEAAAAAAAMAQQPYoXI/C1RBAuB6F61E4EUAUrkfherQRQB+F61G4PhJAuB6F61GYE0DhehSuRyETQHsUrkfhGhNAAAAAAACAE0Bcj8L1KLwTQEjhehSu5xNAMzMzMzNzFEAzMzMzMxMVQNejcD0K1xNA16NwPQqXE0CkcD0K1wMTQPYoXI/CdRJAH4XrUbg+EkDhehSuRwESQFyPwvUo/BFAUrgehesREkDsUbgehesSQIXrUbgeJRNAw/UoXI9CE0BI4XoUricTQFK4HoXrERNAMzMzMzMzE0CamZmZmVkTQLgehetRmBNApHA9CtfjEkCPwvUoXO8SQD0K16NwHRNAhetRuB4lE0B7FK5H4foSQOxRuB6FqxJAAAAAAABgEkAUrkfhehQSQOF6FK5HQRFAhetRuB4lEUBxPQrXozARQKRwPQrXQxFAuB6F61FYEUApXI/C9agRQHE9Ctej8BFA4XoUrkchEkA9CtejcB0RQAAAAAAAYBFAexSuR+E6EUDD9Shcj8IQQIXrUbgeRRBAAAAAAAAAEEBSuB6F61EQQPYoXI/ClRBA9ihcj8LVEEDhehSuRwERQI/C9ShcLxFAuB6F61FYEUBSuB6F61ERQM3MzMzMLBFAUrgehevxEEA9CtejcN0QQFyPwvUoPBFA9ihcj8IVEUBSuB6F69EQQPYoXI/ClRBACtejcD1qEEBI4XoUricQQHsUrkfhGhBAH4XrUbgeEEApXI/C9SgPQOF6FK5H4Q9ArkfhehSuEECF61G4HiURQKRwPQrXAxFArkfhehRuEECamZmZmVkPQD0K16NwPQ5Aj8L1KFxvEUApXI/C9cgRQEjhehSu5xFAmpmZmZlZEUDNzMzMzIwQQKRwPQrXIxBACtejcD1qEEBSuB6F69EQQGZmZmZmZhFASOF6FK6HEUCuR+F6FM4RQMP1KFyP4hFAKVyPwvXIEUBSuB6F69ERQJqZmZmZ+RFA16NwPQo3EkA9CtejcN0SQB+F61G4nhJAuB6F61H4EUD2KFyPwlURQK5H4XoUDhFAmpmZmZkZEUA9CtejcF0RQDMzMzMzUxFAmpmZmZm5EEC4HoXrUdgQQOxRuB6FCxFACtejcD0KEUBcj8L1KNwQQJqZmZmZeRBACtejcD0KEEAUrkfhepQPQDMzMzMzcw1AexSuR+E6DUBcj8L1KFwMQI/C9ShcTwtAZmZmZmamCkCamZmZmVkKQGZmZmZmJgpAPQrXo3D9CUBcj8L1KBwIQD0K16NwPQdAZmZmZmamBUCF61G4HgUEQClcj8L1KANAAAAAAACAAkDsUbgehesBQM3MzMzMTAFAMzMzMzMz/T+uR+F6FK79Px+F61G4nv4/UrgehetR/z8fhetRuB7/P4XrUbgeBf8/AAAAAAAA/z9SuB6F61H+P4XrUbgehf8/CtejcD0K/z8AAAAAAID+P/YoXI/Cdf4/mpmZmZmZ/j89CtejcL3/PwAAAAAAgABAH4XrUbjeAEBI4XoUrgcBQNejcD0KlwBASOF6FK5HAEDNzMzMzAwAQPYoXI/CNQBApHA9Ctcj/z8K16NwPQr9P/YoXI/C9fs/KVyPwvUo9j9I4XoUrkf3P65H4XoUrvg/H4XrUbge+j8pXI/C9aj6P9ejcD0K1/o/4XoUrkdh+j/2KFyPwvX5PwAAAAAAAPk/w/UoXI9C+D+kcD0K1yP3P6RwPQrXo/U/zczMzMzM9D/2KFyPwvXyPz0K16NwPfE/rkfhehQu8T/Xo3A9ClfyP/YoXI/CdfI/w/UoXI/C8j9SuB6F69HzPxSuR+F6lPQ/SOF6FK7H9T+F61G4HgX3P3E9CtejcPc/CtejcD0K9j9mZmZmZmb1P1K4HoXr0fM/rkfhehQu8j9cj8L1KFzxP3E9CtejcO8/KVyPwvUo7j9cj8L1KFztP0jhehSuR+w/pHA9Ctej7T9mZmZmZmbwP1K4HoXr0fE/9ihcj8J18j+PwvUoXI/yP4/C9ShcD/I/exSuR+H68T8K16NwPYrwP1yPwvUo3PA/AAAAAACA8T+uR+F6FC7yPwAAAAAAgPI/ZmZmZmZm8j+4HoXrUTjyP4/C9ShcD/I/MzMzMzMz7D97FK5H4XrtP4/C9Shcj+8/CtejcD0K8D+PwvUoXA/wP1K4HoXrUew/CtejcD0K5z/Xo3A9CtflP1K4HoXrUek/SOF6FK5H6T/Xo3A9CtfqP1yPwvUoXOs/XI/C9Shc6z8zMzMzMzPqPxSuR+F6FOg/CtejcD0K6D9I4XoUrkfmP83MzMzMzOc/pHA9Ctej6j9SuB6F61HsPwAAAAAAAOw/7FG4HoXr6D9SuB6F61HlP2ZmZmZmZuM/rkfhehSu3T+uR+F6FK7gPz0K16NwPeQ/mpmZmZmZ5j/Xo3A9CtfmP9ejcD0K1+M/4XoUrkfh3j/D9Shcj8LbP/YoXI/C9dQ/XI/C9Shc2T/hehSuR+HhP8P1KFyPwuU/exSuR+F65j/D9Shcj8LjPylcj8L1KN4/mpmZmZmZ2z97FK5H4XrcP9ejcD0K19U/FK5H4XoUzj8pXI/C9SjAPx+F61G4HrU/cT0K16NwrT/NzMzMzMysPxSuR+F6FL4/zczMzMzM1D9I4XoUrkfNPwrXo3A9Cr8/KVyPwvUorD8K16NwPQqnP3sUrkfherQ/ZmZmZmZmwj9mZmZmZmbOP4XrUbgehd8/SOF6FK5H3T/D9Shcj8LbP3sUrkfheto/9ihcj8L12j9mZmZmZmbYPz0K16NwPdg/9ihcj8L12j9mZmZmZma2P1K4HoXrUag/pHA9CtejsD9xPQrXo3C1P3E9CtejcLU/PQrXo3A9uj/D9Shcj8K1P1K4HoXrUcA/exSuR+F60j9cj8L1KFzRP2ZmZmZmZtI/hetRuB6F0z8pXI/C9SjUP1K4HoXrUdQ/7FG4HoXr0z+uR+F6FK7VPwrXo3A9CuA/H4XrUbge3z8UrkfhehTeP+xRuB6F69s/XI/C9Shc2T+uR+F6FK7RP0jhehSuR8U/ZmZmZmZmwj8AAAAAAAAAALgehetRuI4/ZmZmZmZmtj8fhetRuB61P3sUrkfhepQ/9ihcj8L1sD+uR+F6FK7LP7gehetRuNg/w/UoXI/C2z8K16NwPQrZPx+F61G4Htc/zczMzMzM1D/Xo3A9CtfTPwAAAAAAANA/KVyPwvUoyD97FK5H4XrMPxSuR+F6FOg/ZmZmZmZm4z+PwvUoXI/aP9ejcD0K19M/hetRuB6F0z/hehSuR+HSPzMzMzMzM9M/4XoUrkfh1D+F61G4HoXLPwAAAAAAANA/w/UoXI/C0z9SuB6F61HWP9ejcD0K19U/KVyPwvUo0D+amZmZmZnFP65H4XoUrr8/7FG4HoXr2z8UrkfhehTaP4/C9Shcj9g/7FG4HoXr1T+amZmZmZnVP0jhehSuR9M/rkfhehSuzz8zMzMzMzPRPw==\"},\"shape\":[1280],\"dtype\":\"float64\",\"order\":\"little\"}]]}}},\"view\":{\"type\":\"object\",\"name\":\"CDSView\",\"id\":\"p1067\",\"attributes\":{\"filter\":{\"type\":\"object\",\"name\":\"AllIndices\",\"id\":\"p1068\"}}},\"glyph\":{\"type\":\"object\",\"name\":\"Line\",\"id\":\"p1063\",\"attributes\":{\"x\":{\"type\":\"field\",\"field\":\"x\"},\"y\":{\"type\":\"field\",\"field\":\"y\"},\"line_color\":\"#1f77b4\",\"line_width\":3}},\"nonselection_glyph\":{\"type\":\"object\",\"name\":\"Line\",\"id\":\"p1064\",\"attributes\":{\"x\":{\"type\":\"field\",\"field\":\"x\"},\"y\":{\"type\":\"field\",\"field\":\"y\"},\"line_color\":\"#1f77b4\",\"line_alpha\":0.1,\"line_width\":3}},\"muted_glyph\":{\"type\":\"object\",\"name\":\"Line\",\"id\":\"p1065\",\"attributes\":{\"x\":{\"type\":\"field\",\"field\":\"x\"},\"y\":{\"type\":\"field\",\"field\":\"y\"},\"line_color\":\"#1f77b4\",\"line_alpha\":0.2,\"line_width\":3}}}}],\"toolbar\":{\"type\":\"object\",\"name\":\"Toolbar\",\"id\":\"p1010\",\"attributes\":{\"tools\":[{\"type\":\"object\",\"name\":\"PanTool\",\"id\":\"p1034\"},{\"type\":\"object\",\"name\":\"WheelZoomTool\",\"id\":\"p1035\"},{\"type\":\"object\",\"name\":\"BoxZoomTool\",\"id\":\"p1036\",\"attributes\":{\"overlay\":{\"type\":\"object\",\"name\":\"BoxAnnotation\",\"id\":\"p1037\",\"attributes\":{\"syncable\":false,\"level\":\"overlay\",\"visible\":false,\"left_units\":\"canvas\",\"right_units\":\"canvas\",\"bottom_units\":\"canvas\",\"top_units\":\"canvas\",\"line_color\":\"black\",\"line_alpha\":1.0,\"line_width\":2,\"line_dash\":[4,4],\"fill_color\":\"lightgrey\",\"fill_alpha\":0.5}}}},{\"type\":\"object\",\"name\":\"SaveTool\",\"id\":\"p1038\"},{\"type\":\"object\",\"name\":\"ResetTool\",\"id\":\"p1039\"},{\"type\":\"object\",\"name\":\"HelpTool\",\"id\":\"p1040\"}]}},\"left\":[{\"type\":\"object\",\"name\":\"LinearAxis\",\"id\":\"p1027\",\"attributes\":{\"ticker\":{\"type\":\"object\",\"name\":\"BasicTicker\",\"id\":\"p1028\",\"attributes\":{\"mantissas\":[1,2,5]}},\"formatter\":{\"type\":\"object\",\"name\":\"BasicTickFormatter\",\"id\":\"p1030\"},\"axis_label\":\"Intensity (Counts)\",\"major_label_policy\":{\"type\":\"object\",\"name\":\"AllLabels\",\"id\":\"p1029\"}}}],\"below\":[{\"type\":\"object\",\"name\":\"LinearAxis\",\"id\":\"p1020\",\"attributes\":{\"ticker\":{\"type\":\"object\",\"name\":\"BasicTicker\",\"id\":\"p1021\",\"attributes\":{\"mantissas\":[1,2,5]}},\"formatter\":{\"type\":\"object\",\"name\":\"BasicTickFormatter\",\"id\":\"p1023\"},\"axis_label\":\"Wavelength (nm)\",\"major_label_policy\":{\"type\":\"object\",\"name\":\"AllLabels\",\"id\":\"p1022\"}}}],\"center\":[{\"type\":\"object\",\"name\":\"Grid\",\"id\":\"p1026\",\"attributes\":{\"axis\":{\"id\":\"p1020\"}}},{\"type\":\"object\",\"name\":\"Grid\",\"id\":\"p1033\",\"attributes\":{\"dimension\":1,\"axis\":{\"id\":\"p1027\"}}},{\"type\":\"object\",\"name\":\"Legend\",\"id\":\"p1058\",\"attributes\":{\"items\":[{\"type\":\"object\",\"name\":\"LegendItem\",\"id\":\"p1059\",\"attributes\":{\"label\":{\"type\":\"value\",\"value\":\"Fraunhofer Lines.\"},\"renderers\":[{\"id\":\"p1055\"}]}},{\"type\":\"object\",\"name\":\"LegendItem\",\"id\":\"p1069\",\"attributes\":{\"label\":{\"type\":\"value\",\"value\":\"Spectra\"},\"renderers\":[{\"id\":\"p1066\"}]}}]}}]}}],\"callbacks\":{\"type\":\"map\"}}};\n",
       "  const render_items = [{\"docid\":\"bd46c021-bd44-4993-ae04-4c4629ef7a1c\",\"roots\":{\"p1002\":\"bdf8ed87-0f04-465b-8390-da568f1b3831\"},\"root_ids\":[\"p1002\"]}];\n",
       "  root.Bokeh.embed.embed_items_notebook(docs_json, render_items);\n",
       "  }\n",
       "  if (root.Bokeh !== undefined) {\n",
       "    embed_document(root);\n",
       "  } else {\n",
       "    let attempts = 0;\n",
       "    const timer = setInterval(function(root) {\n",
       "      if (root.Bokeh !== undefined) {\n",
       "        clearInterval(timer);\n",
       "        embed_document(root);\n",
       "      } else {\n",
       "        attempts++;\n",
       "        if (attempts > 100) {\n",
       "          clearInterval(timer);\n",
       "          console.log(\"Bokeh: ERROR: Unable to run BokehJS code because BokehJS library is missing\");\n",
       "        }\n",
       "      }\n",
       "    }, 10, root)\n",
       "  }\n",
       "})(window);"
      ],
      "application/vnd.bokehjs_exec.v0+json": ""
     },
     "metadata": {
      "application/vnd.bokehjs_exec.v0+json": {
       "id": "p1002"
      }
     },
     "output_type": "display_data"
    }
   ],
   "source": [
    "# Plot the actual spectra\n",
    "junk = spectra_w.line( hab_spectra.wavelengths,\n",
    "                      hab_spectra.raw_y, \n",
    "                      legend_label = \"Spectra\", \n",
    "                        line_width = 3\n",
    "                     )\n",
    "show(spectra_w)"
   ]
  },
  {
   "cell_type": "markdown",
   "metadata": {},
   "source": [
    "#| hide\n",
    "### HABSpec Navigation and positioning"
   ]
  },
  {
   "cell_type": "markdown",
   "metadata": {},
   "source": [
    "#| hide\n",
    "#### def nearest_rgb_image( fn, debug=False):"
   ]
  },
  {
   "cell_type": "code",
   "execution_count": null,
   "metadata": {},
   "outputs": [],
   "source": [
    "#| export\n",
    "#debug_nearest_rgb_image = False\n",
    "def nearest_rgb_image( \n",
    "  fn,          # Json spectra file.\n",
    "  debug=False  # True to debug internals.\n",
    ") -> str:      # File name of the nearest RGB photo to this json spectra.\n",
    "    \"\"\"\n",
    "    Returns the path/filename to the RGB photo closes in time to `fn`.  `fn` is the\n",
    "    filename of a Json hyperspectral file.\n",
    "\n",
    "    Parameters:\n",
    "    -----------\n",
    "    fn : str\n",
    "      Full path/filename of a hyperspectral Json file.\n",
    "\n",
    "    Returns:\n",
    "    --------\n",
    "    str\n",
    "      A string path/filename of the closes RGB photo.\n",
    "\n",
    "    Examples:\n",
    "    ---------\n",
    "\n",
    "    References:\n",
    "    -----------\n",
    "    \"\"\"\n",
    "    if debug:\n",
    "      print(f'debug_nearest_rgb_image(fn): fn={fn}')\n",
    "    fn_parts = fn.split('/')   # Split path by '/'\n",
    "    if debug:\n",
    "      print(f'debug_nearest_rgb_image(fn): fn_parts={fn_parts}')\n",
    "    rgb_p = fn_parts                          # Make a copy to build the rgb path/filename in.\n",
    "    if debug:\n",
    "      print(f'debug_nearest_rgb_image(fn): rgb_p={rgb_p}')    \n",
    "    rgb_p[-2] = 'hab_rgb'                     # Change the subdir to point to hab_rgb\n",
    "    rgb_fn = rgb_p[-1].split('-')             # Split the filename by '-' to access parts.\n",
    "    rgb_fn[-2] = '*'                          # Replace the microseconds with '*' wildcard.\n",
    "    rgb_fn[-1] = 'rgb.jpg'                    # Change the file tail to rgb.jpg\n",
    "    rgb_p[-1] = '-'.join(rgb_fn)              # Glue the name back together\n",
    "    rgb_p2 = '/'.join(rgb_p)                  # Now glue the whole path back together\n",
    "    rv = glob.glob(rgb_p2)[0]                 # Return the first entry incase there are more than 1.\n",
    "    if debug:\n",
    "      print(f'debug_nearest_rgb_image(fn): rv={rv}') \n",
    "    return rv\n"
   ]
  },
  {
   "cell_type": "code",
   "execution_count": null,
   "metadata": {},
   "outputs": [
    {
     "name": "stdout",
     "output_type": "stream",
     "text": [
      "    Input Json spectra file: ../sample_data/034901/hab_spectra/2023-0718-034912-259843-spec.json\n",
      "        Nearest RGB File is: ../sample_data/034901/hab_rgb/2023-0718-034912-948434-rgb.jpg\n"
     ]
    }
   ],
   "source": [
    "print(\n",
    "f'    Input Json spectra file: {test_spectra_file}\\n'\n",
    "f'        Nearest RGB File is: {nearest_rgb_image( test_spectra_file )}'  \n",
    ")"
   ]
  },
  {
   "cell_type": "markdown",
   "metadata": {},
   "source": [
    "####   def read_gps_file_to_df( ifn, debug=False):"
   ]
  },
  {
   "cell_type": "code",
   "execution_count": null,
   "metadata": {},
   "outputs": [],
   "source": [
    "#| export\n",
    "#debug_read_gps_file_to_df = False\n",
    "def read_gps_file_to_df( ifn, debug=False):\n",
    "    '''\n",
    "    Read a GPS datafile into a dataframe and convert the HH:MM:SS\n",
    "    to add an SOD column.\n",
    "\n",
    "    Parameters:\n",
    "    -----------\n",
    "    ifn : str\n",
    "        Input GPS datafile full path name\n",
    "\n",
    "    Returns:\n",
    "    --------\n",
    "    Pandas Dataframe of the GPS data.\n",
    "    '''\n",
    "    gps_df = pd.read_csv(ifn, sep='\\s+', comment='#')\n",
    "    gps_df.sort_values(by=['HMS'], inplace=True)\n",
    "    # Convert the ASCII HH:MM:SS from the GPS to seconds of the day (SOD) and\n",
    "    # add an 'SOD' column to the gps dataframe.\n",
    "    sod_lst = []\n",
    "    for t in gps_df['HMS']:\n",
    "      sod_lst.append( hms2sod(t))\n",
    "    gps_df['SOD'] = sod_lst\n",
    "\n",
    "    # Compute, and add 'Course' to dataframe\n",
    "    course = []\n",
    "    for i in  range(len(gps_df)-1):\n",
    "      course.append ( get_bearing( \n",
    "          lat1=gps_df['Lat'].iloc[i], long1=gps_df['Lon'].iloc[i], \n",
    "          lat2=gps_df['Lat'].iloc[i+1], long2=gps_df['Lon'].iloc[i+1] \n",
    "          ) \n",
    "      )\n",
    "    course.append( 0.0 )      # To make the same length\n",
    "    gps_df['Course'] = course\n",
    "    return gps_df"
   ]
  },
  {
   "cell_type": "markdown",
   "metadata": {},
   "source": [
    "Test read_gps_file_to_df() function.  Read a datafile into a Pandas dataframe."
   ]
  },
  {
   "cell_type": "code",
   "execution_count": null,
   "metadata": {},
   "outputs": [
    {
     "data": {
      "text/html": [
       "<div>\n",
       "<style scoped>\n",
       "    .dataframe tbody tr th:only-of-type {\n",
       "        vertical-align: middle;\n",
       "    }\n",
       "\n",
       "    .dataframe tbody tr th {\n",
       "        vertical-align: top;\n",
       "    }\n",
       "\n",
       "    .dataframe thead th {\n",
       "        text-align: right;\n",
       "    }\n",
       "</style>\n",
       "<table border=\"1\" class=\"dataframe\">\n",
       "  <thead>\n",
       "    <tr style=\"text-align: right;\">\n",
       "      <th></th>\n",
       "      <th>Date</th>\n",
       "      <th>HMS</th>\n",
       "      <th>Lat</th>\n",
       "      <th>Lon</th>\n",
       "      <th>Elev</th>\n",
       "      <th>Speed</th>\n",
       "      <th>Nsat</th>\n",
       "      <th>Mode</th>\n",
       "      <th>Herr</th>\n",
       "      <th>Verr</th>\n",
       "      <th>Temp</th>\n",
       "      <th>SOD</th>\n",
       "      <th>Course</th>\n",
       "    </tr>\n",
       "  </thead>\n",
       "  <tbody>\n",
       "    <tr>\n",
       "      <th>0</th>\n",
       "      <td>2023-07-18</td>\n",
       "      <td>03:49:01</td>\n",
       "      <td>28.209750</td>\n",
       "      <td>-82.363932</td>\n",
       "      <td>22.50</td>\n",
       "      <td>0.0</td>\n",
       "      <td>4</td>\n",
       "      <td>3</td>\n",
       "      <td>25.0</td>\n",
       "      <td>44.9</td>\n",
       "      <td>68.756</td>\n",
       "      <td>13741.0</td>\n",
       "      <td>19.402235</td>\n",
       "    </tr>\n",
       "    <tr>\n",
       "      <th>1</th>\n",
       "      <td>2023-07-18</td>\n",
       "      <td>03:49:02.100000</td>\n",
       "      <td>28.209751</td>\n",
       "      <td>-82.363932</td>\n",
       "      <td>22.50</td>\n",
       "      <td>0.0</td>\n",
       "      <td>4</td>\n",
       "      <td>3</td>\n",
       "      <td>25.0</td>\n",
       "      <td>44.9</td>\n",
       "      <td>68.756</td>\n",
       "      <td>13742.1</td>\n",
       "      <td>16.761456</td>\n",
       "    </tr>\n",
       "    <tr>\n",
       "      <th>2</th>\n",
       "      <td>2023-07-18</td>\n",
       "      <td>03:49:03.100000</td>\n",
       "      <td>28.209751</td>\n",
       "      <td>-82.363932</td>\n",
       "      <td>22.40</td>\n",
       "      <td>0.0</td>\n",
       "      <td>4</td>\n",
       "      <td>3</td>\n",
       "      <td>25.0</td>\n",
       "      <td>44.9</td>\n",
       "      <td>68.756</td>\n",
       "      <td>13743.1</td>\n",
       "      <td>30.312737</td>\n",
       "    </tr>\n",
       "    <tr>\n",
       "      <th>3</th>\n",
       "      <td>2023-07-18</td>\n",
       "      <td>03:49:04</td>\n",
       "      <td>28.209752</td>\n",
       "      <td>-82.363932</td>\n",
       "      <td>22.40</td>\n",
       "      <td>0.0</td>\n",
       "      <td>4</td>\n",
       "      <td>3</td>\n",
       "      <td>25.0</td>\n",
       "      <td>44.9</td>\n",
       "      <td>68.756</td>\n",
       "      <td>13744.0</td>\n",
       "      <td>60.193171</td>\n",
       "    </tr>\n",
       "    <tr>\n",
       "      <th>4</th>\n",
       "      <td>2023-07-18</td>\n",
       "      <td>03:49:05</td>\n",
       "      <td>28.209752</td>\n",
       "      <td>-82.363931</td>\n",
       "      <td>22.30</td>\n",
       "      <td>0.0</td>\n",
       "      <td>4</td>\n",
       "      <td>3</td>\n",
       "      <td>25.0</td>\n",
       "      <td>44.9</td>\n",
       "      <td>68.218</td>\n",
       "      <td>13745.0</td>\n",
       "      <td>-16.761454</td>\n",
       "    </tr>\n",
       "    <tr>\n",
       "      <th>5</th>\n",
       "      <td>2023-07-18</td>\n",
       "      <td>03:49:06.100000</td>\n",
       "      <td>28.209753</td>\n",
       "      <td>-82.363931</td>\n",
       "      <td>22.50</td>\n",
       "      <td>0.0</td>\n",
       "      <td>4</td>\n",
       "      <td>3</td>\n",
       "      <td>25.0</td>\n",
       "      <td>44.9</td>\n",
       "      <td>68.756</td>\n",
       "      <td>13746.1</td>\n",
       "      <td>46.024777</td>\n",
       "    </tr>\n",
       "    <tr>\n",
       "      <th>6</th>\n",
       "      <td>2023-07-18</td>\n",
       "      <td>03:49:07.100000</td>\n",
       "      <td>28.209754</td>\n",
       "      <td>-82.363930</td>\n",
       "      <td>22.40</td>\n",
       "      <td>0.0</td>\n",
       "      <td>4</td>\n",
       "      <td>3</td>\n",
       "      <td>25.0</td>\n",
       "      <td>44.9</td>\n",
       "      <td>68.756</td>\n",
       "      <td>13747.1</td>\n",
       "      <td>16.294989</td>\n",
       "    </tr>\n",
       "    <tr>\n",
       "      <th>7</th>\n",
       "      <td>2023-07-18</td>\n",
       "      <td>03:49:08.200000</td>\n",
       "      <td>28.209755</td>\n",
       "      <td>-82.363929</td>\n",
       "      <td>22.30</td>\n",
       "      <td>0.0</td>\n",
       "      <td>4</td>\n",
       "      <td>3</td>\n",
       "      <td>25.0</td>\n",
       "      <td>44.9</td>\n",
       "      <td>69.294</td>\n",
       "      <td>13748.2</td>\n",
       "      <td>138.464356</td>\n",
       "    </tr>\n",
       "    <tr>\n",
       "      <th>8</th>\n",
       "      <td>2023-07-18</td>\n",
       "      <td>03:49:09</td>\n",
       "      <td>28.209754</td>\n",
       "      <td>-82.363929</td>\n",
       "      <td>22.30</td>\n",
       "      <td>0.0</td>\n",
       "      <td>4</td>\n",
       "      <td>3</td>\n",
       "      <td>25.0</td>\n",
       "      <td>44.9</td>\n",
       "      <td>69.294</td>\n",
       "      <td>13749.0</td>\n",
       "      <td>41.535644</td>\n",
       "    </tr>\n",
       "    <tr>\n",
       "      <th>9</th>\n",
       "      <td>2023-07-18</td>\n",
       "      <td>03:49:10</td>\n",
       "      <td>28.209755</td>\n",
       "      <td>-82.363929</td>\n",
       "      <td>22.30</td>\n",
       "      <td>0.0</td>\n",
       "      <td>4</td>\n",
       "      <td>3</td>\n",
       "      <td>25.0</td>\n",
       "      <td>44.9</td>\n",
       "      <td>69.294</td>\n",
       "      <td>13750.0</td>\n",
       "      <td>33.467529</td>\n",
       "    </tr>\n",
       "    <tr>\n",
       "      <th>10</th>\n",
       "      <td>2023-07-18</td>\n",
       "      <td>03:49:11.100000</td>\n",
       "      <td>28.209755</td>\n",
       "      <td>-82.363929</td>\n",
       "      <td>22.30</td>\n",
       "      <td>0.0</td>\n",
       "      <td>4</td>\n",
       "      <td>3</td>\n",
       "      <td>25.0</td>\n",
       "      <td>44.9</td>\n",
       "      <td>69.294</td>\n",
       "      <td>13751.1</td>\n",
       "      <td>0.000000</td>\n",
       "    </tr>\n",
       "    <tr>\n",
       "      <th>11</th>\n",
       "      <td>2023-07-18</td>\n",
       "      <td>03:49:12.100000</td>\n",
       "      <td>28.209756</td>\n",
       "      <td>-82.363929</td>\n",
       "      <td>22.30</td>\n",
       "      <td>0.0</td>\n",
       "      <td>4</td>\n",
       "      <td>3</td>\n",
       "      <td>25.0</td>\n",
       "      <td>44.9</td>\n",
       "      <td>69.294</td>\n",
       "      <td>13752.1</td>\n",
       "      <td>38.682806</td>\n",
       "    </tr>\n",
       "    <tr>\n",
       "      <th>12</th>\n",
       "      <td>2023-07-18</td>\n",
       "      <td>03:49:13.200000</td>\n",
       "      <td>28.209756</td>\n",
       "      <td>-82.363928</td>\n",
       "      <td>22.29</td>\n",
       "      <td>0.0</td>\n",
       "      <td>4</td>\n",
       "      <td>3</td>\n",
       "      <td>25.0</td>\n",
       "      <td>44.9</td>\n",
       "      <td>69.294</td>\n",
       "      <td>13753.2</td>\n",
       "      <td>96.440730</td>\n",
       "    </tr>\n",
       "    <tr>\n",
       "      <th>13</th>\n",
       "      <td>2023-07-18</td>\n",
       "      <td>03:49:14</td>\n",
       "      <td>28.209756</td>\n",
       "      <td>-82.363928</td>\n",
       "      <td>22.50</td>\n",
       "      <td>0.0</td>\n",
       "      <td>4</td>\n",
       "      <td>3</td>\n",
       "      <td>25.0</td>\n",
       "      <td>44.9</td>\n",
       "      <td>69.294</td>\n",
       "      <td>13754.0</td>\n",
       "      <td>23.243315</td>\n",
       "    </tr>\n",
       "    <tr>\n",
       "      <th>14</th>\n",
       "      <td>2023-07-18</td>\n",
       "      <td>03:49:15.100000</td>\n",
       "      <td>28.209757</td>\n",
       "      <td>-82.363928</td>\n",
       "      <td>22.50</td>\n",
       "      <td>0.0</td>\n",
       "      <td>4</td>\n",
       "      <td>3</td>\n",
       "      <td>25.0</td>\n",
       "      <td>44.9</td>\n",
       "      <td>68.756</td>\n",
       "      <td>13755.1</td>\n",
       "      <td>60.925293</td>\n",
       "    </tr>\n",
       "    <tr>\n",
       "      <th>15</th>\n",
       "      <td>2023-07-18</td>\n",
       "      <td>03:49:16.100000</td>\n",
       "      <td>28.209757</td>\n",
       "      <td>-82.363927</td>\n",
       "      <td>22.40</td>\n",
       "      <td>0.0</td>\n",
       "      <td>4</td>\n",
       "      <td>3</td>\n",
       "      <td>25.0</td>\n",
       "      <td>44.9</td>\n",
       "      <td>68.756</td>\n",
       "      <td>13756.1</td>\n",
       "      <td>-138.464357</td>\n",
       "    </tr>\n",
       "    <tr>\n",
       "      <th>16</th>\n",
       "      <td>2023-07-18</td>\n",
       "      <td>03:49:17.100000</td>\n",
       "      <td>28.209757</td>\n",
       "      <td>-82.363927</td>\n",
       "      <td>22.60</td>\n",
       "      <td>0.0</td>\n",
       "      <td>4</td>\n",
       "      <td>3</td>\n",
       "      <td>25.0</td>\n",
       "      <td>44.9</td>\n",
       "      <td>68.756</td>\n",
       "      <td>13757.1</td>\n",
       "      <td>0.000000</td>\n",
       "    </tr>\n",
       "    <tr>\n",
       "      <th>17</th>\n",
       "      <td>2023-07-18</td>\n",
       "      <td>03:49:18</td>\n",
       "      <td>28.209757</td>\n",
       "      <td>-82.363927</td>\n",
       "      <td>22.70</td>\n",
       "      <td>0.0</td>\n",
       "      <td>4</td>\n",
       "      <td>3</td>\n",
       "      <td>25.0</td>\n",
       "      <td>44.9</td>\n",
       "      <td>68.756</td>\n",
       "      <td>13758.0</td>\n",
       "      <td>41.535643</td>\n",
       "    </tr>\n",
       "    <tr>\n",
       "      <th>18</th>\n",
       "      <td>2023-07-18</td>\n",
       "      <td>03:49:19</td>\n",
       "      <td>28.209757</td>\n",
       "      <td>-82.363927</td>\n",
       "      <td>22.70</td>\n",
       "      <td>0.0</td>\n",
       "      <td>4</td>\n",
       "      <td>3</td>\n",
       "      <td>25.0</td>\n",
       "      <td>44.9</td>\n",
       "      <td>69.294</td>\n",
       "      <td>13759.0</td>\n",
       "      <td>73.787062</td>\n",
       "    </tr>\n",
       "    <tr>\n",
       "      <th>19</th>\n",
       "      <td>2023-07-18</td>\n",
       "      <td>03:49:20.100000</td>\n",
       "      <td>28.209757</td>\n",
       "      <td>-82.363926</td>\n",
       "      <td>22.80</td>\n",
       "      <td>0.0</td>\n",
       "      <td>4</td>\n",
       "      <td>3</td>\n",
       "      <td>25.0</td>\n",
       "      <td>44.9</td>\n",
       "      <td>69.294</td>\n",
       "      <td>13760.1</td>\n",
       "      <td>41.535644</td>\n",
       "    </tr>\n",
       "    <tr>\n",
       "      <th>20</th>\n",
       "      <td>2023-07-18</td>\n",
       "      <td>03:49:21.100000</td>\n",
       "      <td>28.209758</td>\n",
       "      <td>-82.363926</td>\n",
       "      <td>22.80</td>\n",
       "      <td>0.0</td>\n",
       "      <td>4</td>\n",
       "      <td>3</td>\n",
       "      <td>25.0</td>\n",
       "      <td>45.1</td>\n",
       "      <td>69.294</td>\n",
       "      <td>13761.1</td>\n",
       "      <td>0.000000</td>\n",
       "    </tr>\n",
       "  </tbody>\n",
       "</table>\n",
       "</div>"
      ],
      "text/plain": [
       "          Date              HMS        Lat        Lon   Elev  Speed  Nsat  \\\n",
       "0   2023-07-18         03:49:01  28.209750 -82.363932  22.50    0.0     4   \n",
       "1   2023-07-18  03:49:02.100000  28.209751 -82.363932  22.50    0.0     4   \n",
       "2   2023-07-18  03:49:03.100000  28.209751 -82.363932  22.40    0.0     4   \n",
       "3   2023-07-18         03:49:04  28.209752 -82.363932  22.40    0.0     4   \n",
       "4   2023-07-18         03:49:05  28.209752 -82.363931  22.30    0.0     4   \n",
       "5   2023-07-18  03:49:06.100000  28.209753 -82.363931  22.50    0.0     4   \n",
       "6   2023-07-18  03:49:07.100000  28.209754 -82.363930  22.40    0.0     4   \n",
       "7   2023-07-18  03:49:08.200000  28.209755 -82.363929  22.30    0.0     4   \n",
       "8   2023-07-18         03:49:09  28.209754 -82.363929  22.30    0.0     4   \n",
       "9   2023-07-18         03:49:10  28.209755 -82.363929  22.30    0.0     4   \n",
       "10  2023-07-18  03:49:11.100000  28.209755 -82.363929  22.30    0.0     4   \n",
       "11  2023-07-18  03:49:12.100000  28.209756 -82.363929  22.30    0.0     4   \n",
       "12  2023-07-18  03:49:13.200000  28.209756 -82.363928  22.29    0.0     4   \n",
       "13  2023-07-18         03:49:14  28.209756 -82.363928  22.50    0.0     4   \n",
       "14  2023-07-18  03:49:15.100000  28.209757 -82.363928  22.50    0.0     4   \n",
       "15  2023-07-18  03:49:16.100000  28.209757 -82.363927  22.40    0.0     4   \n",
       "16  2023-07-18  03:49:17.100000  28.209757 -82.363927  22.60    0.0     4   \n",
       "17  2023-07-18         03:49:18  28.209757 -82.363927  22.70    0.0     4   \n",
       "18  2023-07-18         03:49:19  28.209757 -82.363927  22.70    0.0     4   \n",
       "19  2023-07-18  03:49:20.100000  28.209757 -82.363926  22.80    0.0     4   \n",
       "20  2023-07-18  03:49:21.100000  28.209758 -82.363926  22.80    0.0     4   \n",
       "\n",
       "    Mode  Herr  Verr    Temp      SOD      Course  \n",
       "0      3  25.0  44.9  68.756  13741.0   19.402235  \n",
       "1      3  25.0  44.9  68.756  13742.1   16.761456  \n",
       "2      3  25.0  44.9  68.756  13743.1   30.312737  \n",
       "3      3  25.0  44.9  68.756  13744.0   60.193171  \n",
       "4      3  25.0  44.9  68.218  13745.0  -16.761454  \n",
       "5      3  25.0  44.9  68.756  13746.1   46.024777  \n",
       "6      3  25.0  44.9  68.756  13747.1   16.294989  \n",
       "7      3  25.0  44.9  69.294  13748.2  138.464356  \n",
       "8      3  25.0  44.9  69.294  13749.0   41.535644  \n",
       "9      3  25.0  44.9  69.294  13750.0   33.467529  \n",
       "10     3  25.0  44.9  69.294  13751.1    0.000000  \n",
       "11     3  25.0  44.9  69.294  13752.1   38.682806  \n",
       "12     3  25.0  44.9  69.294  13753.2   96.440730  \n",
       "13     3  25.0  44.9  69.294  13754.0   23.243315  \n",
       "14     3  25.0  44.9  68.756  13755.1   60.925293  \n",
       "15     3  25.0  44.9  68.756  13756.1 -138.464357  \n",
       "16     3  25.0  44.9  68.756  13757.1    0.000000  \n",
       "17     3  25.0  44.9  68.756  13758.0   41.535643  \n",
       "18     3  25.0  44.9  69.294  13759.0   73.787062  \n",
       "19     3  25.0  44.9  69.294  13760.1   41.535644  \n",
       "20     3  25.0  45.1  69.294  13761.1    0.000000  "
      ]
     },
     "metadata": {},
     "output_type": "display_data"
    }
   ],
   "source": [
    "Gps_File_Name = '/mnt/f/My Drive/Missions/2021-1208-HAB-Lake-Parker/2021-1208/2021-1208-175324-910850-mission-gps.txt'\n",
    "Gps_File_Name = '../sample_data/034901/2023-0718-034805-411046-flightline-gps.txt'\n",
    "gps_df = read_gps_file_to_df(Gps_File_Name, debug=False)\n",
    "display(gps_df)"
   ]
  },
  {
   "cell_type": "markdown",
   "metadata": {},
   "source": [
    "####   def compute_gps_positions(  gps, spec_df, debug=False):\n",
    "See: https://numpy.org/doc/stable/reference/generated/numpy.interp.html"
   ]
  },
  {
   "cell_type": "code",
   "execution_count": null,
   "metadata": {},
   "outputs": [],
   "source": [
    "#| export\n",
    "#debug_compute_gps_positions = False \n",
    "def compute_gps_positions(  gps, spec_df, debug=False):\n",
    "    '''\n",
    "    Interpolates spectra positions from gps.\n",
    "\n",
    "    Parameters:\n",
    "    -----------\n",
    "    gps : dataframe\n",
    "        A dataframe of overlapping gps position data.\n",
    "\n",
    "    spec_df : dataframe\n",
    "        A dataframe of values vs time from the spectrometer.\n",
    "\n",
    "    Returns:\n",
    "    --------\n",
    "    See: https://numpy.org/doc/stable/reference/generated/numpy.interp.html\n",
    "    '''\n",
    "    spec_df['Lat']    = np.interp(spec_df['sod'], gps['SOD'], gps['Lat'])\n",
    "    spec_df['Lon']    = np.interp(spec_df['sod'], gps['SOD'], gps['Lon'])\n",
    "    spec_df['Elev']   = np.interp(spec_df['sod'], gps['SOD'], gps['Elev'])\n",
    "    spec_df['Course'] = np.interp(spec_df['sod'], gps['SOD'], gps['Course'])\n",
    "    return spec_df"
   ]
  },
  {
   "cell_type": "markdown",
   "metadata": {},
   "source": [
    "#### def get_bearing( lat1=0, lat2=0, long1=0, long2=0, debug=False):"
   ]
  },
  {
   "cell_type": "code",
   "execution_count": null,
   "metadata": {},
   "outputs": [],
   "source": [
    "#| export\n",
    "#debug_get_bearing = False\n",
    "def get_bearing( lat1=0, lat2=0, long1=0, long2=0, debug=False):\n",
    "    '''\n",
    "    Comutes and returns the bearing between two lat/lon pairs.\n",
    "    See:\n",
    "        http://shorturl.at/atGHN\n",
    "    '''\n",
    "    brng = Geodesic.WGS84.Inverse(lat1, long1, lat2, long2)['azi1']\n",
    "    return brng"
   ]
  },
  {
   "cell_type": "code",
   "execution_count": null,
   "metadata": {},
   "outputs": [
    {
     "name": "stdout",
     "output_type": "stream",
     "text": [
      "\n",
      "Testing get_bearing()\n",
      "  [30, 29, -75, -75], 180.00\n",
      "  [29, 30, -75, -75],   0.00\n",
      "  [30, 30, -76, -75],  89.75\n",
      "  [30, 30, -75, -76], -89.75\n"
     ]
    }
   ],
   "source": [
    "# Test get_bearing()\n",
    "lst = [ [30,29, -75, -75],\n",
    "        [29,30, -75, -75],\n",
    "        [30,30, -76, -75],\n",
    "        [30,30, -75, -76] ]\n",
    "print('\\nTesting get_bearing()')\n",
    "for t in lst:\n",
    "  v = get_bearing( lat1=t[0], lat2=t[1], long1=t[2], long2=t[3] )\n",
    "  print( f'  {t}, {v:6.2f}')"
   ]
  },
  {
   "cell_type": "markdown",
   "metadata": {},
   "source": [
    "#### def get_list_of_flight_lines( p, debug=False):"
   ]
  },
  {
   "cell_type": "code",
   "execution_count": null,
   "metadata": {},
   "outputs": [],
   "source": [
    "#| export\n",
    "#debug_get_list_of_flight_lines = False\n",
    "def get_list_of_flight_lines( p, debug=False):\n",
    "    '''Returns a list of flightline subdirs on path p.\n",
    "\n",
    "    Parameters:\n",
    "    -----------\n",
    "    p : str\n",
    "        Path name.\n",
    "\n",
    "    Returns:\n",
    "    --------\n",
    "    list\n",
    "        A list of full pathnames to individul flightlines.\n",
    "    '''\n",
    "    l = glob.glob(p+'/[0-9]*[!a-z]')\n",
    "    return l"
   ]
  },
  {
   "cell_type": "markdown",
   "metadata": {},
   "source": [
    "Test get_list_of_flight_lines()."
   ]
  },
  {
   "cell_type": "code",
   "execution_count": null,
   "metadata": {},
   "outputs": [
    {
     "name": "stdout",
     "output_type": "stream",
     "text": [
      "\n",
      "Testing: get_list_of_flight_lines(p)\n"
     ]
    },
    {
     "data": {
      "text/plain": [
       "[]"
      ]
     },
     "metadata": {},
     "output_type": "display_data"
    }
   ],
   "source": [
    "print('\\nTesting: get_list_of_flight_lines(p)')\n",
    "test_path_list = get_list_of_flight_lines( mission_folder )\n",
    "display(test_path_list[0:5])"
   ]
  },
  {
   "cell_type": "markdown",
   "metadata": {},
   "source": [
    "#### def get_list_of_hab_files( p, subdir='', ext='', debug=False):"
   ]
  },
  {
   "cell_type": "code",
   "execution_count": null,
   "metadata": {},
   "outputs": [],
   "source": [
    "#| export\n",
    "#debug_get_list_of_hab_files = False\n",
    "def get_list_of_hab_files( p, subdir='', ext='', debug=False):\n",
    "    '''Returns a list of hab files in p/subdir with the specified file extension.  \n",
    "    \n",
    "    Parameters:\n",
    "    p : str\n",
    "    subdir : str Default = ''\n",
    "    ext : str Default = ''\n",
    "\n",
    "    Returns:\n",
    "    --------\n",
    "    list\n",
    "        A list of  full pathnames.\n",
    "    '''\n",
    "    gs = p+f'/{subdir}/*.'+ext\n",
    "    js = glob.glob(gs)\n",
    "    return js"
   ]
  },
  {
   "cell_type": "markdown",
   "metadata": {},
   "source": [
    "Test get_list_of_hab_files()."
   ]
  },
  {
   "cell_type": "code",
   "execution_count": null,
   "metadata": {},
   "outputs": [],
   "source": [
    "#mission_folder = '/mnt/s/2021-0717-HAB-Spec-Tampa-Bay-PIE/2021-0717-HAB-pie/'\n",
    "print('\\nTesting: get_list_of_hab_files()')\n",
    "flight_line_list = get_list_of_flight_lines(mission_folder)\n",
    "rv_get_list_of_hab_files = get_list_of_hab_files( flight_line_list[1], subdir='hab_spectra', ext='json')\n",
    "display(rv_get_list_of_hab_files[0:5])"
   ]
  },
  {
   "cell_type": "code",
   "execution_count": null,
   "metadata": {},
   "outputs": [
    {
     "name": "stdout",
     "output_type": "stream",
     "text": [
      "2023-0721 03:39:37: HyperSpectral functions loaded.\n"
     ]
    }
   ],
   "source": [
    "print(f'{now_utc()}: HyperSpectral functions loaded.')"
   ]
  },
  {
   "cell_type": "code",
   "execution_count": null,
   "metadata": {},
   "outputs": [],
   "source": [
    "rv_get_list_of_hab_files"
   ]
  },
  {
   "cell_type": "code",
   "execution_count": null,
   "metadata": {},
   "outputs": [
    {
     "data": {
      "text/plain": [
       "('../sample_data/', ['../sample_data/034901'])"
      ]
     },
     "execution_count": null,
     "metadata": {},
     "output_type": "execute_result"
    }
   ],
   "source": [
    "mission_folder, flight_line_list "
   ]
  },
  {
   "cell_type": "code",
   "execution_count": null,
   "metadata": {},
   "outputs": [
    {
     "data": {
      "text/plain": [
       "['../sample_data/034901']"
      ]
     },
     "execution_count": null,
     "metadata": {},
     "output_type": "execute_result"
    }
   ],
   "source": [
    "flight_line_list"
   ]
  },
  {
   "cell_type": "markdown",
   "metadata": {},
   "source": [
    "### Depreciated, to be removed."
   ]
  },
  {
   "cell_type": "code",
   "execution_count": null,
   "metadata": {},
   "outputs": [
    {
     "data": {
      "text/plain": [
       "520"
      ]
     },
     "execution_count": null,
     "metadata": {},
     "output_type": "execute_result"
    }
   ],
   "source": [
    "band_500_600[0][-1]"
   ]
  },
  {
   "cell_type": "markdown",
   "metadata": {},
   "source": [
    "####   def get_fluorescence( x, y, fl_start=0, fl_stop=0, base_start=0, base_stop=0, debug=False ):"
   ]
  },
  {
   "cell_type": "code",
   "execution_count": null,
   "metadata": {},
   "outputs": [],
   "source": [
    "#| export\n",
    "#debug_get_fluorescence = False\n",
    "def get_fluorescence( x, y, fl_start=0, fl_stop=0, base_start=0, base_stop=0, debug=False ):\n",
    "    '''\n",
    "    '''\n",
    "    fl_sig = y[w_range_pixels(x, fl_start, fl_stop )].mean()         # Get the Fluor signal mean value\n",
    "    by = y[w_range_pixels(x, base_start, base_start+1)].mean()\n",
    "    ey = y[w_range_pixels(x, base_stop, base_stop+1)].mean()\n",
    "    center_nm = (fl_stop - fl_start) / 2  + fl_start                                       # Compute center wavelength\n",
    "    dydx = (ey - by)/(base_stop - base_start )\n",
    "    sf = dydx * (center_nm - base_start)\n",
    "    rv = fl_sig + sf\n",
    "    if debug:\n",
    "      print('get_fluorescence():', fl_sig, by, ey, center_nm, dydx, sf, rv)\n",
    "    return rv"
   ]
  },
  {
   "cell_type": "markdown",
   "metadata": {},
   "source": [
    "#### def get_fluorescence_700( x, y):"
   ]
  },
  {
   "cell_type": "code",
   "execution_count": null,
   "metadata": {},
   "outputs": [],
   "source": [
    "#| export\n",
    "def get_fluorescence_700( x, y):\n",
    "    '''\n",
    "    Returns the fluorescence value at 700nm.\n",
    "    '''\n",
    "    rv = get_fluorescence( x, y, fl_start=693, fl_stop=710, base_start=668, base_stop=740 )\n",
    "    return rv"
   ]
  },
  {
   "cell_type": "markdown",
   "metadata": {},
   "source": [
    "#### def get_fluorescence_683( x, y):"
   ]
  },
  {
   "cell_type": "code",
   "execution_count": null,
   "metadata": {},
   "outputs": [],
   "source": [
    "#| export\n",
    "def get_fluorescence_683( x, y):\n",
    "    '''\n",
    "    Returns the fluorescence value at 683nm.  683nm is Chlorophyll\n",
    "    '''\n",
    "    rv = get_fluorescence( x, y, fl_start=678, fl_stop=688, base_start=668, base_stop=740 )\n",
    "    return rv"
   ]
  }
 ],
 "metadata": {
  "kernelspec": {
   "display_name": "python3",
   "language": "python",
   "name": "python3"
  }
 },
 "nbformat": 4,
 "nbformat_minor": 4
}
