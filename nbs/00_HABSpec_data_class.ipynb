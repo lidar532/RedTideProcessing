{
 "cells": [
  {
   "cell_type": "markdown",
   "id": "3070d57a-82b0-442f-8ff7-02e911a649e6",
   "metadata": {},
   "source": [
    "# habspec\n",
    "\n",
    "> Load, Calibrate, HABSpec json spectra files captured by the HABSpec."
   ]
  },
  {
   "cell_type": "code",
   "execution_count": null,
   "id": "a970a5a3-fb67-4fae-9457-372fd2e2c637",
   "metadata": {},
   "outputs": [],
   "source": [
    "#| default_exp habspec_data_class"
   ]
  },
  {
   "cell_type": "code",
   "execution_count": null,
   "id": "54ac18f4-582d-4c95-a883-012eb548eacc",
   "metadata": {},
   "outputs": [],
   "source": [
    "#| hide\n",
    "from nbdev.showdoc import *\n",
    "import nbdev"
   ]
  },
  {
   "cell_type": "code",
   "execution_count": null,
   "id": "52ed24b0-cd09-45e8-9588-332acb3529a7",
   "metadata": {},
   "outputs": [],
   "source": [
    "#| hide\n",
    "nbdev.nbdev_export()"
   ]
  },
  {
   "cell_type": "code",
   "execution_count": null,
   "id": "63e51993-3e0c-436b-8b3e-49672009cc5c",
   "metadata": {},
   "outputs": [],
   "source": [
    "#| export\n",
    "import datetime   as dt\n",
    "import numpy      as np\n",
    "import time"
   ]
  },
  {
   "cell_type": "code",
   "execution_count": null,
   "id": "d07bf78c-4177-4981-b84a-6b12d3142f61",
   "metadata": {},
   "outputs": [],
   "source": [
    "import RedTideProcessing.testing      as testing\n",
    "import RedTideProcessing.habspec      as hs"
   ]
  },
  {
   "cell_type": "code",
   "execution_count": null,
   "id": "a2e16bb2-8d33-47d6-b82d-349e5624bdf4",
   "metadata": {},
   "outputs": [
    {
     "name": "stdout",
     "output_type": "stream",
     "text": [
      "spectra_file='/mnt/s/2021-0717-HAB-Spec-Tampa-Bay-PIE/2021-0717-HAB-pie/164443/hab_spectra/2021-0717-164700-525866-spec.json' \n"
     ]
    }
   ],
   "source": [
    "spectra_file, spectra_note = testing.select_test_file( 0 )\n",
    "print(f'{spectra_file=} ')"
   ]
  },
  {
   "cell_type": "markdown",
   "id": "34cec56e-e73c-4133-b077-6d838fb0aa7f",
   "metadata": {},
   "source": [
    "### class HABSPEC_CAL_DATA"
   ]
  },
  {
   "cell_type": "code",
   "execution_count": null,
   "id": "081fcec0-7371-4003-b21e-f3f1c7472cf6",
   "metadata": {},
   "outputs": [],
   "source": [
    "#| export\n",
    "class HABSPEC_CAL_DATA:\n",
    "  '''\n",
    "  HABSpec Calibration data class.  This class contains the data necessary to\n",
    "  calibrate the HABSpec sensor for wavelength, radiance, and dark current.\n",
    "  '''\n",
    "  def __init__(self):\n",
    "    self.create_date          = dt.datetime.utcnow()  # When this class was create.\n",
    "    self.Notes                = None                  # User entered notes about this calibration.\n",
    "    self.dark_cal_path        = None                  # Path to HABSpec spectra collection used to generate dark cal data.\n",
    "    self.solar_cal_fn         = None                  # Filename of any solar calibration spectra used.\n",
    "    self.cfl_cal_fn           = None                  # Filename of any CFL bulb calibration spectra used.\n",
    "    self.radiance_cal_path    = None                  # Path to HABSpec spectra collection used to generate radiance cals.\n",
    "    self.radiance_cal_src_fn  = None                  # Path to radiance source file ( QTH bulb spectra ).\n",
    "    self.pixel0               = None                  #\n",
    "    self.pixel1               = None                  #\n",
    "    self.wavelength0          = None                  #\n",
    "    self.wavelength1          = None                  # \n",
    "    self.scale = {\n",
    "          # Exp    Scale\n",
    "              1 : [None],\n",
    "              2 : [None],\n",
    "              3 : [None],\n",
    "              4 : [None],\n",
    "              6 : [None],\n",
    "              7 : [None],\n",
    "              8 : [None],\n",
    "              9 : [None],\n",
    "             10 : [None],\n",
    "             15 : [None],\n",
    "             20 : [None],\n",
    "             25 : [None],\n",
    "             30 : [None],\n",
    "             35 : [None],\n",
    "             50 : [None],\n",
    "             75 : [None],\n",
    "            100 : [None],\n",
    "            150 : [None],\n",
    "            200 : [None],\n",
    "            250 : [None],\n",
    "            300 : [None],\n",
    "            350 : [None],\n",
    "            400 : [None],\n",
    "            500 : [None],\n",
    "            750 : [None],\n",
    "           1000 : [None]\n",
    "    }\n",
    "    self.dark = {                                      # \n",
    "          # Exp    Dark\n",
    "              1 : [None],\n",
    "              2 : [None],\n",
    "              3 : [None],\n",
    "              4 : [None],\n",
    "              6 : [None],\n",
    "              7 : [None],\n",
    "              8 : [None],\n",
    "              9 : [None],\n",
    "             10 : [None],\n",
    "             15 : [None],\n",
    "             20 : [None],\n",
    "             25 : [None],\n",
    "             30 : [None],\n",
    "             35 : [None],\n",
    "             50 : [None],\n",
    "             75 : [None],\n",
    "            100 : [None],\n",
    "            150 : [None],\n",
    "            200 : [None],\n",
    "            250 : [None],\n",
    "            300 : [None],\n",
    "            350 : [None],\n",
    "            400 : [None],\n",
    "            500 : [None],\n",
    "            750 : [None],\n",
    "           1000 : [None]\n",
    "           }\n",
    "\n",
    "  def __str__(self):\n",
    "    rv = ''\n",
    "    for k in self.__dict__.keys():\n",
    "      rv += f'{k:20s}: {self.__dict__[k]}\\n'\n",
    "    return rv"
   ]
  },
  {
   "cell_type": "code",
   "execution_count": null,
   "id": "b42f2a14-e59d-4fde-a3b8-c2c9bbac6b27",
   "metadata": {},
   "outputs": [],
   "source": [
    "cal_data = HABSPEC_CAL_DATA()"
   ]
  },
  {
   "cell_type": "code",
   "execution_count": null,
   "id": "1533176e-dafd-4036-b270-dd1e77df3bcb",
   "metadata": {},
   "outputs": [
    {
     "data": {
      "text/plain": [
       "datetime.datetime(2023, 8, 3, 21, 50, 11, 949646)"
      ]
     },
     "execution_count": null,
     "metadata": {},
     "output_type": "execute_result"
    }
   ],
   "source": [
    "cal_data.create_date"
   ]
  },
  {
   "cell_type": "code",
   "execution_count": null,
   "id": "c1e36cb3-e649-4bff-b9a0-a783a2e7163a",
   "metadata": {},
   "outputs": [
    {
     "name": "stdout",
     "output_type": "stream",
     "text": [
      "create_date         : 2023-08-03 21:50:11.949646\n",
      "Notes               : None\n",
      "solar_cal_fn        : None\n",
      "cfl_cal_fn          : None\n",
      "radiance_cal_path   : None\n",
      "radiance_cal_src_fn : None\n",
      "pixel0              : None\n",
      "pixel1              : None\n",
      "wavelength0         : None\n",
      "wavelength1         : None\n",
      "scale               : {1: [None], 2: [None], 3: [None], 4: [None], 6: [None], 7: [None], 8: [None], 9: [None], 10: [None], 15: [None], 20: [None], 25: [None], 30: [None], 35: [None], 50: [None], 75: [None], 100: [None], 150: [None], 200: [None], 250: [None], 300: [None], 350: [None], 400: [None], 500: [None], 750: [None], 1000: [None]}\n",
      "dark                : {1: [None], 2: [None], 3: [None], 4: [None], 6: [None], 7: [None], 8: [None], 9: [None], 10: [None], 15: [None], 20: [None], 25: [None], 30: [None], 35: [None], 50: [None], 75: [None], 100: [None], 150: [None], 200: [None], 250: [None], 300: [None], 350: [None], 400: [None], 500: [None], 750: [None], 1000: [None]}\n",
      "\n"
     ]
    }
   ],
   "source": [
    "print(cal_data.__str__())"
   ]
  },
  {
   "cell_type": "markdown",
   "id": "b42f69b8-912c-4de6-a75b-8c36b3016109",
   "metadata": {},
   "source": [
    "#| hide\n",
    "### class HAB_Spectra"
   ]
  },
  {
   "cell_type": "code",
   "execution_count": null,
   "id": "fa520623-7082-4569-8119-1e20c82a91e1",
   "metadata": {},
   "outputs": [],
   "source": [
    "#| export\n",
    "class HAB_Spectra:\n",
    "  '''\n",
    "  '''\n",
    "  Configured  = False                       # Gets set true when first legit spectra is read.\n",
    "  Calibrated_w= False                       # Gets set True when calibrated for wavelength\n",
    "  Xpixels     = np.arange( 10 )             # Pixel number array. Gets loaded when a spectra is configured. Ultimately 1280 points.\n",
    "  wavelengths = np.arange( 10 )             # Wavelength array. Gets loaded when a spectra is configured. Ultimately 1280 points.\n",
    "  create_time = dt.datetime.utcnow()        # \n",
    "  pixel0      = None                        # Lowest spectral pixel number. Filled in when calibrated for wavelength.\n",
    "  wavelength0 = None                        # Lowest spectral wavelength. Filled in when calibrated for wavelength.\n",
    "  pixel1      = None                        # Highest spectral pixel number. Filled in when calibrated for wavelength.\n",
    "  wavelength1 = None                        # Highest spectral wavelength. Filled in when calibrated for wavelength.\n",
    "  def __init__(self ) -> object:\n",
    "    self.json_spectra_file_name    = None   # The filename of JSON spectra file.\n",
    "    self.Lat          = None                # GPS latitude.  GPS data only present after 2022-12.\n",
    "    self.Lon          = None                # GPS longitude.\n",
    "    self.altitde_m    = None                # GPS altitude in meters.\n",
    "    self.n_saturated  = None                # number of saturated pixels in the orginal image.\n",
    "    self.raw_y_min    = None                # The minimum value of of the summed up intensity values.\n",
    "    self.remove_bias  = None                # True if y_raw has bad raw_y_min subtracted.\n",
    "    self.y_average    = None                # User set, True if raw_y values are average vs summed up.\n",
    "    \n",
    "    self.DateTime     = None                # Unix datetime value.  Only present after 2022-12.\n",
    "    self.Exposure     = None                # Sensor spectra exposure time in miliseconds. Only after 2022-12.\n",
    "    \n",
    "    self.raw_y        = np.arange( 10 )     # Summed up Intensity values. \n",
    "    self.summed_rows  = 0                   # Number of summed up pixels per spectra pixel.\n",
    "    \n",
    "  def __str__(self):\n",
    "    '''\n",
    "    '''\n",
    "    rv = ''\n",
    "    rv = f'{self.Calibrated_w=}\\n'\n",
    "    rv+= f'{self.Xpixels=}\\n'\n",
    "    rv+= f'{self.wavelengths=}\\n'\n",
    "    rv+= f'{self.create_time=}\\n'\n",
    "    rv+= f'{self.pixel0=}\\n'\n",
    "    rv+= f'{self.wavelength0=}\\n'\n",
    "    rv+= f'{self.pixel1=}\\n'\n",
    "    rv+= f'{self.wavelength1=}\\n'\n",
    "    for k in self.__dict__.keys():\n",
    "      rv += f'{k:20s}: {self.__dict__[k]}\\n'\n",
    "    return rv\n",
    "    "
   ]
  },
  {
   "cell_type": "code",
   "execution_count": null,
   "id": "18b34516-c37a-449e-8628-c96e0078e578",
   "metadata": {},
   "outputs": [],
   "source": [
    "hab_spectra = HAB_Spectra()\n",
    "spectra_cal_w = hs.calibrate_using_2_wavelengths(   \n",
    "  hab_spectra,\n",
    "  spectra_file,\n",
    "  pixel0 =  73, wavelength0 = 430.774, \n",
    "  pixel1 = 941, wavelength1 = 759.370 \n",
    ")"
   ]
  },
  {
   "cell_type": "code",
   "execution_count": null,
   "id": "b46dfd58-eafa-46b1-a5db-89a9a1e464c5",
   "metadata": {},
   "outputs": [
    {
     "data": {
      "text/plain": [
       "1280"
      ]
     },
     "metadata": {},
     "output_type": "display_data"
    },
    {
     "data": {
      "text/plain": [
       "array([0, 1, 2, 3, 4])"
      ]
     },
     "metadata": {},
     "output_type": "display_data"
    }
   ],
   "source": [
    "display(len(hab_spectra.Xpixels), hab_spectra.Xpixels[0:5])"
   ]
  },
  {
   "cell_type": "code",
   "execution_count": null,
   "id": "32df5769-3c28-40c0-ba0d-3acf48b23446",
   "metadata": {},
   "outputs": [
    {
     "data": {
      "text/plain": [
       "1280"
      ]
     },
     "metadata": {},
     "output_type": "display_data"
    },
    {
     "data": {
      "text/plain": [
       "array([403.13862212, 403.51718894, 403.89575576, 404.27432258,\n",
       "       404.6528894 ])"
      ]
     },
     "metadata": {},
     "output_type": "display_data"
    }
   ],
   "source": [
    "display(len(hab_spectra.Xpixels),hab_spectra.wavelengths[0:5])"
   ]
  },
  {
   "cell_type": "code",
   "execution_count": null,
   "id": "04887db9-8965-4e7d-964e-0d000ee3bb4b",
   "metadata": {},
   "outputs": [
    {
     "name": "stdout",
     "output_type": "stream",
     "text": [
      "self.Calibrated_w=True\n",
      "self.Xpixels=array([   0,    1,    2, ..., 1277, 1278, 1279])\n",
      "self.wavelengths=array([403.13862212, 403.51718894, 403.89575576, ..., 886.56845161,\n",
      "       886.94701843, 887.32558525])\n",
      "self.create_time=datetime.datetime(2023, 7, 25, 15, 8, 23, 869159)\n",
      "self.pixel0=73\n",
      "self.wavelength0=430.774\n",
      "self.pixel1=941\n",
      "self.wavelength1=759.37\n",
      "json_spectra_file_name: /mnt/s/2021-0717-HAB-Spec-Tampa-Bay-PIE/2021-0717-HAB-pie/164443/hab_spectra/2021-0717-164700-525866-spec.json\n",
      "Lat                 : None\n",
      "Lon                 : None\n",
      "altitde_m           : None\n",
      "n_saturated         : None\n",
      "raw_y_min           : None\n",
      "remove_bias         : None\n",
      "y_average           : None\n",
      "DateTime            : None\n",
      "Exposure            : None\n",
      "raw_y               : [73929 73682 73935 ... 39494 39451 39468]\n",
      "summed_rows         : 800\n",
      "Xpixels             : [   0    1    2 ... 1277 1278 1279]\n",
      "wavelengths         : [403.13862212 403.51718894 403.89575576 ... 886.56845161 886.94701843\n",
      " 887.32558525]\n",
      "error_msgs          : \n",
      "pixel0              : 73\n",
      "pixel1              : 941\n",
      "wavelength0         : 430.774\n",
      "wavelength1         : 759.37\n",
      "delta_pix           : 868\n",
      "delta_wavelength_nm : 328.596\n",
      "Calibrated_w        : True\n",
      "\n"
     ]
    }
   ],
   "source": [
    "print(hab_spectra.__str__())"
   ]
  },
  {
   "cell_type": "markdown",
   "id": "378f8579-fc61-463f-ab74-d9a1189ff8e5",
   "metadata": {},
   "source": [
    "#| hide\n",
    "#### def w_to_pixel()"
   ]
  },
  {
   "cell_type": "code",
   "execution_count": null,
   "id": "7c3b5e3c-478a-4c4c-80b5-696bcbc7d90a",
   "metadata": {},
   "outputs": [],
   "source": [
    "#| export\n",
    "def w_to_pixel(\n",
    "  hab_spectra_class,   # The HAB_Spectra class.\n",
    "  w,                   # The wavelength you want the pixel number of.\n",
    "  debug=False          # Set to True to print internals.\n",
    ") -> int:              # The pixel\n",
    "  '''\n",
    "  Return the pixel index for a given wavelength `w`.  Out of range\n",
    "  wavelengths cause -1 to be returned.\n",
    "  '''\n",
    "  x = hab_spectra_class.wavelengths\n",
    "  dw  = (x[-1] - x[0])\n",
    "  dpx = len(x)\n",
    "  d  = dw/dpx\n",
    "  px = int((w-x[0]) / d )\n",
    "  if px < 0: \n",
    "    px = -1\n",
    "  elif w > x[-1]:\n",
    "    px = -1\n",
    "    \n",
    "  if debug:\n",
    "    print(f'debug. w_to_pixel(). {x=}, {dw=}, {dpx=}, {d=}, {px=}' )\n",
    "\n",
    "  return px"
   ]
  },
  {
   "cell_type": "markdown",
   "id": "b78527a2-500c-4328-be52-a20935a80d01",
   "metadata": {},
   "source": [
    "#| hide\n",
    "#### def pixel_to_w()"
   ]
  },
  {
   "cell_type": "code",
   "execution_count": null,
   "id": "ba04358c-0d1d-47a8-8589-0011ca7d1093",
   "metadata": {},
   "outputs": [],
   "source": [
    "#| export\n",
    "def pixel_to_w(\n",
    "  hab_spectra_class,  # The HAB_Spectra class.\n",
    "  #x,                 # Array of wavlengths if the sensor.\n",
    "  pix,                # Pixel number to convert to wavelength.\n",
    ") -> float:           # The wavelength of the pixel.\n",
    "  '''\n",
    "  Return the wavelength of a given pixel index.\n",
    "  Out of range wavelengths cause -1 to be returned.\n",
    "  '''\n",
    "  x = hab_spectra_class.wavelengths\n",
    "  dw  = (x[-1] - x[0])\n",
    "  dpx = len(x)\n",
    "  d  = dw/dpx\n",
    "  w = px*d + x[0]\n",
    "  if w < x[0]:\n",
    "    w = -1.0\n",
    "  elif w > x[-1]:\n",
    "    w = -1.0\n",
    "  return w"
   ]
  },
  {
   "cell_type": "markdown",
   "id": "bdea54f3-f5c0-4abf-8a27-f5d03aa16657",
   "metadata": {},
   "source": [
    "test w_to_pixel."
   ]
  },
  {
   "cell_type": "code",
   "execution_count": null,
   "id": "b253426a-df94-4435-966d-82c4c1d55b5c",
   "metadata": {},
   "outputs": [
    {
     "name": "stdout",
     "output_type": "stream",
     "text": [
      "       w0   px        w1      Diff\n",
      "  403.139    0   403.139     0.000\n",
      "  300.000   -1    -1.000  -301.000\n",
      "  500.000  256   499.976    -0.024\n",
      "  600.000  520   599.840    -0.160\n",
      "  700.000  784   699.703    -0.297\n",
      "  800.000 1049   799.945    -0.055\n",
      " 1000.000   -1    -1.000 -1001.000\n",
      "  887.326 1280   887.326     0.000\n"
     ]
    }
   ],
   "source": [
    "print('       w0   px        w1      Diff')\n",
    "for w0 in ( \n",
    "  hab_spectra.wavelengths[0], \n",
    "  300, 500, 600, 700, 800, 1000,\n",
    "  hab_spectra.wavelengths[-1] \n",
    "):\n",
    "  px  = w_to_pixel( hab_spectra, w0, debug=False)\n",
    "  w1  = pixel_to_w( hab_spectra, px)\n",
    "  dif = w1 - w0\n",
    "  print(f'{w0:9.3f} {px:4d} {w1:9.3f} {dif:9.3f}' )"
   ]
  },
  {
   "cell_type": "markdown",
   "id": "17973277-27c8-4cb5-97f1-07d676302e55",
   "metadata": {},
   "source": [
    "|! hide\n",
    "#### def w_range_pixels():"
   ]
  },
  {
   "cell_type": "code",
   "execution_count": null,
   "id": "f690f737-91cf-453a-977a-a125997114d1",
   "metadata": {},
   "outputs": [],
   "source": [
    "#| export\n",
    "def w_range_pixels( \n",
    "  hab_spectra_class,  # The HAB_Spectra class.\n",
    "  #x,        # A numpy array of wavlengths for each pixel.\n",
    "  a,        # Starting wavelength.\n",
    "  b         # Ending wavelength.\n",
    ") -> list:  # List of pixels cooresponding to `a`:`b` wavelengths.\n",
    "    '''\n",
    "    Returns a pixel index list of all pixels between wavelength 'a' and 'b'. \n",
    "    '''\n",
    "    x = hab_spectra_class.wavelengths\n",
    "    rv = np.where(np.logical_and( x>=a, x<=b) )\n",
    "    return rv"
   ]
  },
  {
   "cell_type": "markdown",
   "id": "ea914586-1899-48f8-8d99-3dc37f14d33d",
   "metadata": {},
   "source": [
    "Test w_range_pixels() between 500 and 530 nanometers."
   ]
  },
  {
   "cell_type": "code",
   "execution_count": null,
   "id": "db66fd90-4ebd-40ee-b544-8106d4da870a",
   "metadata": {},
   "outputs": [],
   "source": [
    "# simulate the wavelengths since there is no calibration yet.\n",
    "hab_spectra.wavelengths = np.arange( 0, 1280 )\n",
    "\n",
    "test_blue_band_edge = 500    # Starting wavelength\n",
    "test_red_band_edge  = 520    # Stopping wavelength\n",
    "test_band_pixels = w_range_pixels( hab_spectra, test_blue_band_edge, test_red_band_edge)"
   ]
  },
  {
   "cell_type": "markdown",
   "id": "c3492bbf-b8f9-4b3a-ba15-73ff9a895713",
   "metadata": {},
   "source": [
    "A numpy array is returned containing the pixel locations for each wavelength\n",
    "between `test_blue_band_edge` and `test_red_band_edge`"
   ]
  },
  {
   "cell_type": "code",
   "execution_count": null,
   "id": "4e805484-24aa-423a-8c5b-e2ed478171bc",
   "metadata": {},
   "outputs": [
    {
     "data": {
      "text/plain": [
       "(array([500, 501, 502, 503, 504, 505, 506, 507, 508, 509, 510, 511, 512,\n",
       "        513, 514, 515, 516, 517, 518, 519, 520]),)"
      ]
     },
     "metadata": {},
     "output_type": "display_data"
    }
   ],
   "source": [
    "display(test_band_pixels)"
   ]
  },
  {
   "cell_type": "markdown",
   "id": "c3977fd8-aa0f-4a07-b550-888f7a1d53aa",
   "metadata": {},
   "source": [
    "We can compute numpy statistic on the spectra values within this band.  We will compute the mean, average, and\n",
    "min and max on the test_spectra."
   ]
  },
  {
   "cell_type": "code",
   "execution_count": null,
   "id": "6bff10ca-6ae1-48e7-a9d3-2d5ada8bbaf8",
   "metadata": {},
   "outputs": [
    {
     "data": {
      "text/plain": [
       "(140707.38095238095, 140707.38095238095, 137251, 144065)"
      ]
     },
     "execution_count": null,
     "metadata": {},
     "output_type": "execute_result"
    }
   ],
   "source": [
    "( hab_spectra.raw_y[test_band_pixels].mean(),\n",
    "  np.average( hab_spectra.raw_y[test_band_pixels] ), \n",
    "  hab_spectra.raw_y[test_band_pixels].min(), \n",
    "  hab_spectra.raw_y[test_band_pixels].max()\n",
    ")"
   ]
  }
 ],
 "metadata": {
  "kernelspec": {
   "display_name": "python3",
   "language": "python",
   "name": "python3"
  }
 },
 "nbformat": 4,
 "nbformat_minor": 5
}
