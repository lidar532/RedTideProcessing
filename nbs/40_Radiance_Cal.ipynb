{
 "cells": [
  {
   "cell_type": "code",
   "execution_count": null,
   "id": "9dd0d9b9-bcac-42f9-990a-5a1748dbeae9",
   "metadata": {},
   "outputs": [],
   "source": [
    "#| default_exp radiance_cal"
   ]
  },
  {
   "cell_type": "markdown",
   "id": "019cc3c3-7e53-4f31-968c-0ed8f7af8d2d",
   "metadata": {},
   "source": [
    "# Radiance Calibration."
   ]
  },
  {
   "cell_type": "markdown",
   "id": "0292403d-1bab-4f29-a8c0-83cb9969588e",
   "metadata": {},
   "source": [
    "Radiance Calibration data and supporting code."
   ]
  },
  {
   "cell_type": "markdown",
   "id": "1ac47f4c-9a1d-494f-8f5a-608e1a660a8e",
   "metadata": {},
   "source": [
    "#| hide\n",
    "# References\n",
    "- [ORIEL / Newport 6333 Quartz Tungsten Halogen documentation.](https://www.newport.com/medias/sys_master/images/images/hfb/hdf/8797196451870/Light-Sources.pdf)"
   ]
  },
  {
   "cell_type": "markdown",
   "id": "e0e80690-7ad9-4596-8258-909f57bc4d5e",
   "metadata": {},
   "source": [
    "#| hide\n",
    "## Imports"
   ]
  },
  {
   "cell_type": "code",
   "execution_count": null,
   "id": "a0f66c44-0de8-4ed0-9d5a-3f60395f2d5d",
   "metadata": {},
   "outputs": [],
   "source": [
    "#| hide\n",
    "from nbdev.showdoc import *\n",
    "import nbdev"
   ]
  },
  {
   "cell_type": "code",
   "execution_count": null,
   "id": "ae7a1807-8a80-42f5-b173-b9fa8ef29876",
   "metadata": {},
   "outputs": [],
   "source": [
    "#| hide\n",
    "# Running this cell, will regenerate the exported python code.\n",
    "nbdev.nbdev_export()"
   ]
  },
  {
   "cell_type": "code",
   "execution_count": null,
   "id": "d9f09a99-13ed-4fb0-8ae1-cce3b1258274",
   "metadata": {},
   "outputs": [],
   "source": [
    "#| export \n",
    "import numpy  as np\n",
    "import pandas as pd"
   ]
  },
  {
   "cell_type": "markdown",
   "id": "ffe91917-156d-4321-8e5e-ee3882195656",
   "metadata": {},
   "source": [
    "The following imports are for testing code in this file and for examining the data.  \n",
    "These are not exported."
   ]
  },
  {
   "cell_type": "code",
   "execution_count": null,
   "id": "0e4b5c00-d15d-4823-8f3f-4c92ee85d1ed",
   "metadata": {},
   "outputs": [
    {
     "data": {
      "text/html": [
       "<style>\n",
       "        .bk-notebook-logo {\n",
       "            display: block;\n",
       "            width: 20px;\n",
       "            height: 20px;\n",
       "            background-image: url(data:image/png;base64,iVBORw0KGgoAAAANSUhEUgAAABQAAAAUCAYAAACNiR0NAAAABHNCSVQICAgIfAhkiAAAAAlwSFlzAAALEgAACxIB0t1+/AAAABx0RVh0U29mdHdhcmUAQWRvYmUgRmlyZXdvcmtzIENTNui8sowAAAOkSURBVDiNjZRtaJVlGMd/1/08zzln5zjP1LWcU9N0NkN8m2CYjpgQYQXqSs0I84OLIC0hkEKoPtiH3gmKoiJDU7QpLgoLjLIQCpEsNJ1vqUOdO7ppbuec5+V+rj4ctwzd8IIbbi6u+8f1539dt3A78eXC7QizUF7gyV1fD1Yqg4JWz84yffhm0qkFqBogB9rM8tZdtwVsPUhWhGcFJngGeWrPzHm5oaMmkfEg1usvLFyc8jLRqDOMru7AyC8saQr7GG7f5fvDeH7Ej8CM66nIF+8yngt6HWaKh7k49Soy9nXurCi1o3qUbS3zWfrYeQDTB/Qj6kX6Ybhw4B+bOYoLKCC9H3Nu/leUTZ1JdRWkkn2ldcCamzrcf47KKXdAJllSlxAOkRgyHsGC/zRday5Qld9DyoM4/q/rUoy/CXh3jzOu3bHUVZeU+DEn8FInkPBFlu3+nW3Nw0mk6vCDiWg8CeJaxEwuHS3+z5RgY+YBR6V1Z1nxSOfoaPa4LASWxxdNp+VWTk7+4vzaou8v8PN+xo+KY2xsw6une2frhw05CTYOmQvsEhjhWjn0bmXPjpE1+kplmmkP3suftwTubK9Vq22qKmrBhpY4jvd5afdRA3wGjFAgcnTK2s4hY0/GPNIb0nErGMCRxWOOX64Z8RAC4oCXdklmEvcL8o0BfkNK4lUg9HTl+oPlQxdNo3Mg4Nv175e/1LDGzZen30MEjRUtmXSfiTVu1kK8W4txyV6BMKlbgk3lMwYCiusNy9fVfvvwMxv8Ynl6vxoByANLTWplvuj/nF9m2+PDtt1eiHPBr1oIfhCChQMBw6Aw0UulqTKZdfVvfG7VcfIqLG9bcldL/+pdWTLxLUy8Qq38heUIjh4XlzZxzQm19lLFlr8vdQ97rjZVOLf8nclzckbcD4wxXMidpX30sFd37Fv/GtwwhzhxGVAprjbg0gCAEeIgwCZyTV2Z1REEW8O4py0wsjeloKoMr6iCY6dP92H6Vw/oTyICIthibxjm/DfN9lVz8IqtqKYLUXfoKVMVQVVJOElGjrnnUt9T9wbgp8AyYKaGlqingHZU/uG2NTZSVqwHQTWkx9hxjkpWDaCg6Ckj5qebgBVbT3V3NNXMSiWSDdGV3hrtzla7J+duwPOToIg42ChPQOQjspnSlp1V+Gjdged7+8UN5CRAV7a5EdFNwCjEaBR27b3W890TE7g24NAP/mMDXRWrGoFPQI9ls/MWO2dWFAar/xcOIImbbpA3zgAAAABJRU5ErkJggg==);\n",
       "        }\n",
       "    </style>\n",
       "    <div>\n",
       "        <a href=\"https://bokeh.org\" target=\"_blank\" class=\"bk-notebook-logo\"></a>\n",
       "        <span id=\"e7bb5340-853d-4ba6-b48b-3415f926f35c\">Loading BokehJS ...</span>\n",
       "    </div>\n"
      ]
     },
     "metadata": {},
     "output_type": "display_data"
    },
    {
     "data": {
      "application/javascript": [
       "(function(root) {\n",
       "  function now() {\n",
       "    return new Date();\n",
       "  }\n",
       "\n",
       "  const force = true;\n",
       "\n",
       "  if (typeof root._bokeh_onload_callbacks === \"undefined\" || force === true) {\n",
       "    root._bokeh_onload_callbacks = [];\n",
       "    root._bokeh_is_loading = undefined;\n",
       "  }\n",
       "\n",
       "const JS_MIME_TYPE = 'application/javascript';\n",
       "  const HTML_MIME_TYPE = 'text/html';\n",
       "  const EXEC_MIME_TYPE = 'application/vnd.bokehjs_exec.v0+json';\n",
       "  const CLASS_NAME = 'output_bokeh rendered_html';\n",
       "\n",
       "  /**\n",
       "   * Render data to the DOM node\n",
       "   */\n",
       "  function render(props, node) {\n",
       "    const script = document.createElement(\"script\");\n",
       "    node.appendChild(script);\n",
       "  }\n",
       "\n",
       "  /**\n",
       "   * Handle when an output is cleared or removed\n",
       "   */\n",
       "  function handleClearOutput(event, handle) {\n",
       "    const cell = handle.cell;\n",
       "\n",
       "    const id = cell.output_area._bokeh_element_id;\n",
       "    const server_id = cell.output_area._bokeh_server_id;\n",
       "    // Clean up Bokeh references\n",
       "    if (id != null && id in Bokeh.index) {\n",
       "      Bokeh.index[id].model.document.clear();\n",
       "      delete Bokeh.index[id];\n",
       "    }\n",
       "\n",
       "    if (server_id !== undefined) {\n",
       "      // Clean up Bokeh references\n",
       "      const cmd_clean = \"from bokeh.io.state import curstate; print(curstate().uuid_to_server['\" + server_id + \"'].get_sessions()[0].document.roots[0]._id)\";\n",
       "      cell.notebook.kernel.execute(cmd_clean, {\n",
       "        iopub: {\n",
       "          output: function(msg) {\n",
       "            const id = msg.content.text.trim();\n",
       "            if (id in Bokeh.index) {\n",
       "              Bokeh.index[id].model.document.clear();\n",
       "              delete Bokeh.index[id];\n",
       "            }\n",
       "          }\n",
       "        }\n",
       "      });\n",
       "      // Destroy server and session\n",
       "      const cmd_destroy = \"import bokeh.io.notebook as ion; ion.destroy_server('\" + server_id + \"')\";\n",
       "      cell.notebook.kernel.execute(cmd_destroy);\n",
       "    }\n",
       "  }\n",
       "\n",
       "  /**\n",
       "   * Handle when a new output is added\n",
       "   */\n",
       "  function handleAddOutput(event, handle) {\n",
       "    const output_area = handle.output_area;\n",
       "    const output = handle.output;\n",
       "\n",
       "    // limit handleAddOutput to display_data with EXEC_MIME_TYPE content only\n",
       "    if ((output.output_type != \"display_data\") || (!Object.prototype.hasOwnProperty.call(output.data, EXEC_MIME_TYPE))) {\n",
       "      return\n",
       "    }\n",
       "\n",
       "    const toinsert = output_area.element.find(\".\" + CLASS_NAME.split(' ')[0]);\n",
       "\n",
       "    if (output.metadata[EXEC_MIME_TYPE][\"id\"] !== undefined) {\n",
       "      toinsert[toinsert.length - 1].firstChild.textContent = output.data[JS_MIME_TYPE];\n",
       "      // store reference to embed id on output_area\n",
       "      output_area._bokeh_element_id = output.metadata[EXEC_MIME_TYPE][\"id\"];\n",
       "    }\n",
       "    if (output.metadata[EXEC_MIME_TYPE][\"server_id\"] !== undefined) {\n",
       "      const bk_div = document.createElement(\"div\");\n",
       "      bk_div.innerHTML = output.data[HTML_MIME_TYPE];\n",
       "      const script_attrs = bk_div.children[0].attributes;\n",
       "      for (let i = 0; i < script_attrs.length; i++) {\n",
       "        toinsert[toinsert.length - 1].firstChild.setAttribute(script_attrs[i].name, script_attrs[i].value);\n",
       "        toinsert[toinsert.length - 1].firstChild.textContent = bk_div.children[0].textContent\n",
       "      }\n",
       "      // store reference to server id on output_area\n",
       "      output_area._bokeh_server_id = output.metadata[EXEC_MIME_TYPE][\"server_id\"];\n",
       "    }\n",
       "  }\n",
       "\n",
       "  function register_renderer(events, OutputArea) {\n",
       "\n",
       "    function append_mime(data, metadata, element) {\n",
       "      // create a DOM node to render to\n",
       "      const toinsert = this.create_output_subarea(\n",
       "        metadata,\n",
       "        CLASS_NAME,\n",
       "        EXEC_MIME_TYPE\n",
       "      );\n",
       "      this.keyboard_manager.register_events(toinsert);\n",
       "      // Render to node\n",
       "      const props = {data: data, metadata: metadata[EXEC_MIME_TYPE]};\n",
       "      render(props, toinsert[toinsert.length - 1]);\n",
       "      element.append(toinsert);\n",
       "      return toinsert\n",
       "    }\n",
       "\n",
       "    /* Handle when an output is cleared or removed */\n",
       "    events.on('clear_output.CodeCell', handleClearOutput);\n",
       "    events.on('delete.Cell', handleClearOutput);\n",
       "\n",
       "    /* Handle when a new output is added */\n",
       "    events.on('output_added.OutputArea', handleAddOutput);\n",
       "\n",
       "    /**\n",
       "     * Register the mime type and append_mime function with output_area\n",
       "     */\n",
       "    OutputArea.prototype.register_mime_type(EXEC_MIME_TYPE, append_mime, {\n",
       "      /* Is output safe? */\n",
       "      safe: true,\n",
       "      /* Index of renderer in `output_area.display_order` */\n",
       "      index: 0\n",
       "    });\n",
       "  }\n",
       "\n",
       "  // register the mime type if in Jupyter Notebook environment and previously unregistered\n",
       "  if (root.Jupyter !== undefined) {\n",
       "    const events = require('base/js/events');\n",
       "    const OutputArea = require('notebook/js/outputarea').OutputArea;\n",
       "\n",
       "    if (OutputArea.prototype.mime_types().indexOf(EXEC_MIME_TYPE) == -1) {\n",
       "      register_renderer(events, OutputArea);\n",
       "    }\n",
       "  }\n",
       "  if (typeof (root._bokeh_timeout) === \"undefined\" || force === true) {\n",
       "    root._bokeh_timeout = Date.now() + 5000;\n",
       "    root._bokeh_failed_load = false;\n",
       "  }\n",
       "\n",
       "  const NB_LOAD_WARNING = {'data': {'text/html':\n",
       "     \"<div style='background-color: #fdd'>\\n\"+\n",
       "     \"<p>\\n\"+\n",
       "     \"BokehJS does not appear to have successfully loaded. If loading BokehJS from CDN, this \\n\"+\n",
       "     \"may be due to a slow or bad network connection. Possible fixes:\\n\"+\n",
       "     \"</p>\\n\"+\n",
       "     \"<ul>\\n\"+\n",
       "     \"<li>re-rerun `output_notebook()` to attempt to load from CDN again, or</li>\\n\"+\n",
       "     \"<li>use INLINE resources instead, as so:</li>\\n\"+\n",
       "     \"</ul>\\n\"+\n",
       "     \"<code>\\n\"+\n",
       "     \"from bokeh.resources import INLINE\\n\"+\n",
       "     \"output_notebook(resources=INLINE)\\n\"+\n",
       "     \"</code>\\n\"+\n",
       "     \"</div>\"}};\n",
       "\n",
       "  function display_loaded() {\n",
       "    const el = document.getElementById(\"e7bb5340-853d-4ba6-b48b-3415f926f35c\");\n",
       "    if (el != null) {\n",
       "      el.textContent = \"BokehJS is loading...\";\n",
       "    }\n",
       "    if (root.Bokeh !== undefined) {\n",
       "      if (el != null) {\n",
       "        el.textContent = \"BokehJS \" + root.Bokeh.version + \" successfully loaded.\";\n",
       "      }\n",
       "    } else if (Date.now() < root._bokeh_timeout) {\n",
       "      setTimeout(display_loaded, 100)\n",
       "    }\n",
       "  }\n",
       "\n",
       "  function run_callbacks() {\n",
       "    try {\n",
       "      root._bokeh_onload_callbacks.forEach(function(callback) {\n",
       "        if (callback != null)\n",
       "          callback();\n",
       "      });\n",
       "    } finally {\n",
       "      delete root._bokeh_onload_callbacks\n",
       "    }\n",
       "    console.debug(\"Bokeh: all callbacks have finished\");\n",
       "  }\n",
       "\n",
       "  function load_libs(css_urls, js_urls, callback) {\n",
       "    if (css_urls == null) css_urls = [];\n",
       "    if (js_urls == null) js_urls = [];\n",
       "\n",
       "    root._bokeh_onload_callbacks.push(callback);\n",
       "    if (root._bokeh_is_loading > 0) {\n",
       "      console.debug(\"Bokeh: BokehJS is being loaded, scheduling callback at\", now());\n",
       "      return null;\n",
       "    }\n",
       "    if (js_urls == null || js_urls.length === 0) {\n",
       "      run_callbacks();\n",
       "      return null;\n",
       "    }\n",
       "    console.debug(\"Bokeh: BokehJS not loaded, scheduling load and callback at\", now());\n",
       "    root._bokeh_is_loading = css_urls.length + js_urls.length;\n",
       "\n",
       "    function on_load() {\n",
       "      root._bokeh_is_loading--;\n",
       "      if (root._bokeh_is_loading === 0) {\n",
       "        console.debug(\"Bokeh: all BokehJS libraries/stylesheets loaded\");\n",
       "        run_callbacks()\n",
       "      }\n",
       "    }\n",
       "\n",
       "    function on_error(url) {\n",
       "      console.error(\"failed to load \" + url);\n",
       "    }\n",
       "\n",
       "    for (let i = 0; i < css_urls.length; i++) {\n",
       "      const url = css_urls[i];\n",
       "      const element = document.createElement(\"link\");\n",
       "      element.onload = on_load;\n",
       "      element.onerror = on_error.bind(null, url);\n",
       "      element.rel = \"stylesheet\";\n",
       "      element.type = \"text/css\";\n",
       "      element.href = url;\n",
       "      console.debug(\"Bokeh: injecting link tag for BokehJS stylesheet: \", url);\n",
       "      document.body.appendChild(element);\n",
       "    }\n",
       "\n",
       "    for (let i = 0; i < js_urls.length; i++) {\n",
       "      const url = js_urls[i];\n",
       "      const element = document.createElement('script');\n",
       "      element.onload = on_load;\n",
       "      element.onerror = on_error.bind(null, url);\n",
       "      element.async = false;\n",
       "      element.src = url;\n",
       "      console.debug(\"Bokeh: injecting script tag for BokehJS library: \", url);\n",
       "      document.head.appendChild(element);\n",
       "    }\n",
       "  };\n",
       "\n",
       "  function inject_raw_css(css) {\n",
       "    const element = document.createElement(\"style\");\n",
       "    element.appendChild(document.createTextNode(css));\n",
       "    document.body.appendChild(element);\n",
       "  }\n",
       "\n",
       "  const js_urls = [\"https://cdn.bokeh.org/bokeh/release/bokeh-3.1.1.min.js\", \"https://cdn.bokeh.org/bokeh/release/bokeh-gl-3.1.1.min.js\", \"https://cdn.bokeh.org/bokeh/release/bokeh-widgets-3.1.1.min.js\", \"https://cdn.bokeh.org/bokeh/release/bokeh-tables-3.1.1.min.js\", \"https://cdn.bokeh.org/bokeh/release/bokeh-mathjax-3.1.1.min.js\", \"https://unpkg.com/@holoviz/panel@1.1.0/dist/panel.min.js\"];\n",
       "  const css_urls = [];\n",
       "\n",
       "  const inline_js = [    function(Bokeh) {\n",
       "      Bokeh.set_log_level(\"info\");\n",
       "    },\n",
       "function(Bokeh) {\n",
       "    }\n",
       "  ];\n",
       "\n",
       "  function run_inline_js() {\n",
       "    if (root.Bokeh !== undefined || force === true) {\n",
       "          for (let i = 0; i < inline_js.length; i++) {\n",
       "      inline_js[i].call(root, root.Bokeh);\n",
       "    }\n",
       "if (force === true) {\n",
       "        display_loaded();\n",
       "      }} else if (Date.now() < root._bokeh_timeout) {\n",
       "      setTimeout(run_inline_js, 100);\n",
       "    } else if (!root._bokeh_failed_load) {\n",
       "      console.log(\"Bokeh: BokehJS failed to load within specified timeout.\");\n",
       "      root._bokeh_failed_load = true;\n",
       "    } else if (force !== true) {\n",
       "      const cell = $(document.getElementById(\"e7bb5340-853d-4ba6-b48b-3415f926f35c\")).parents('.cell').data().cell;\n",
       "      cell.output_area.append_execute_result(NB_LOAD_WARNING)\n",
       "    }\n",
       "  }\n",
       "\n",
       "  if (root._bokeh_is_loading === 0) {\n",
       "    console.debug(\"Bokeh: BokehJS loaded, going straight to plotting\");\n",
       "    run_inline_js();\n",
       "  } else {\n",
       "    load_libs(css_urls, js_urls, function() {\n",
       "      console.debug(\"Bokeh: BokehJS plotting callback run at\", now());\n",
       "      run_inline_js();\n",
       "    });\n",
       "  }\n",
       "}(window));"
      ],
      "application/vnd.bokehjs_load.v0+json": "(function(root) {\n  function now() {\n    return new Date();\n  }\n\n  const force = true;\n\n  if (typeof root._bokeh_onload_callbacks === \"undefined\" || force === true) {\n    root._bokeh_onload_callbacks = [];\n    root._bokeh_is_loading = undefined;\n  }\n\n\n  if (typeof (root._bokeh_timeout) === \"undefined\" || force === true) {\n    root._bokeh_timeout = Date.now() + 5000;\n    root._bokeh_failed_load = false;\n  }\n\n  const NB_LOAD_WARNING = {'data': {'text/html':\n     \"<div style='background-color: #fdd'>\\n\"+\n     \"<p>\\n\"+\n     \"BokehJS does not appear to have successfully loaded. If loading BokehJS from CDN, this \\n\"+\n     \"may be due to a slow or bad network connection. Possible fixes:\\n\"+\n     \"</p>\\n\"+\n     \"<ul>\\n\"+\n     \"<li>re-rerun `output_notebook()` to attempt to load from CDN again, or</li>\\n\"+\n     \"<li>use INLINE resources instead, as so:</li>\\n\"+\n     \"</ul>\\n\"+\n     \"<code>\\n\"+\n     \"from bokeh.resources import INLINE\\n\"+\n     \"output_notebook(resources=INLINE)\\n\"+\n     \"</code>\\n\"+\n     \"</div>\"}};\n\n  function display_loaded() {\n    const el = document.getElementById(\"e7bb5340-853d-4ba6-b48b-3415f926f35c\");\n    if (el != null) {\n      el.textContent = \"BokehJS is loading...\";\n    }\n    if (root.Bokeh !== undefined) {\n      if (el != null) {\n        el.textContent = \"BokehJS \" + root.Bokeh.version + \" successfully loaded.\";\n      }\n    } else if (Date.now() < root._bokeh_timeout) {\n      setTimeout(display_loaded, 100)\n    }\n  }\n\n  function run_callbacks() {\n    try {\n      root._bokeh_onload_callbacks.forEach(function(callback) {\n        if (callback != null)\n          callback();\n      });\n    } finally {\n      delete root._bokeh_onload_callbacks\n    }\n    console.debug(\"Bokeh: all callbacks have finished\");\n  }\n\n  function load_libs(css_urls, js_urls, callback) {\n    if (css_urls == null) css_urls = [];\n    if (js_urls == null) js_urls = [];\n\n    root._bokeh_onload_callbacks.push(callback);\n    if (root._bokeh_is_loading > 0) {\n      console.debug(\"Bokeh: BokehJS is being loaded, scheduling callback at\", now());\n      return null;\n    }\n    if (js_urls == null || js_urls.length === 0) {\n      run_callbacks();\n      return null;\n    }\n    console.debug(\"Bokeh: BokehJS not loaded, scheduling load and callback at\", now());\n    root._bokeh_is_loading = css_urls.length + js_urls.length;\n\n    function on_load() {\n      root._bokeh_is_loading--;\n      if (root._bokeh_is_loading === 0) {\n        console.debug(\"Bokeh: all BokehJS libraries/stylesheets loaded\");\n        run_callbacks()\n      }\n    }\n\n    function on_error(url) {\n      console.error(\"failed to load \" + url);\n    }\n\n    for (let i = 0; i < css_urls.length; i++) {\n      const url = css_urls[i];\n      const element = document.createElement(\"link\");\n      element.onload = on_load;\n      element.onerror = on_error.bind(null, url);\n      element.rel = \"stylesheet\";\n      element.type = \"text/css\";\n      element.href = url;\n      console.debug(\"Bokeh: injecting link tag for BokehJS stylesheet: \", url);\n      document.body.appendChild(element);\n    }\n\n    for (let i = 0; i < js_urls.length; i++) {\n      const url = js_urls[i];\n      const element = document.createElement('script');\n      element.onload = on_load;\n      element.onerror = on_error.bind(null, url);\n      element.async = false;\n      element.src = url;\n      console.debug(\"Bokeh: injecting script tag for BokehJS library: \", url);\n      document.head.appendChild(element);\n    }\n  };\n\n  function inject_raw_css(css) {\n    const element = document.createElement(\"style\");\n    element.appendChild(document.createTextNode(css));\n    document.body.appendChild(element);\n  }\n\n  const js_urls = [\"https://cdn.bokeh.org/bokeh/release/bokeh-3.1.1.min.js\", \"https://cdn.bokeh.org/bokeh/release/bokeh-gl-3.1.1.min.js\", \"https://cdn.bokeh.org/bokeh/release/bokeh-widgets-3.1.1.min.js\", \"https://cdn.bokeh.org/bokeh/release/bokeh-tables-3.1.1.min.js\", \"https://cdn.bokeh.org/bokeh/release/bokeh-mathjax-3.1.1.min.js\", \"https://unpkg.com/@holoviz/panel@1.1.0/dist/panel.min.js\"];\n  const css_urls = [];\n\n  const inline_js = [    function(Bokeh) {\n      Bokeh.set_log_level(\"info\");\n    },\nfunction(Bokeh) {\n    }\n  ];\n\n  function run_inline_js() {\n    if (root.Bokeh !== undefined || force === true) {\n          for (let i = 0; i < inline_js.length; i++) {\n      inline_js[i].call(root, root.Bokeh);\n    }\nif (force === true) {\n        display_loaded();\n      }} else if (Date.now() < root._bokeh_timeout) {\n      setTimeout(run_inline_js, 100);\n    } else if (!root._bokeh_failed_load) {\n      console.log(\"Bokeh: BokehJS failed to load within specified timeout.\");\n      root._bokeh_failed_load = true;\n    } else if (force !== true) {\n      const cell = $(document.getElementById(\"e7bb5340-853d-4ba6-b48b-3415f926f35c\")).parents('.cell').data().cell;\n      cell.output_area.append_execute_result(NB_LOAD_WARNING)\n    }\n  }\n\n  if (root._bokeh_is_loading === 0) {\n    console.debug(\"Bokeh: BokehJS loaded, going straight to plotting\");\n    run_inline_js();\n  } else {\n    load_libs(css_urls, js_urls, function() {\n      console.debug(\"Bokeh: BokehJS plotting callback run at\", now());\n      run_inline_js();\n    });\n  }\n}(window));"
     },
     "metadata": {},
     "output_type": "display_data"
    }
   ],
   "source": [
    "import panel            as pn\n",
    "from bokeh.plotting import figure, show \n",
    "from bokeh.io       import show, output_notebook\n",
    "output_notebook()"
   ]
  },
  {
   "cell_type": "markdown",
   "id": "d050a7ca-68bc-4f7d-8b94-246470056b86",
   "metadata": {},
   "source": [
    "## Functions"
   ]
  },
  {
   "cell_type": "code",
   "execution_count": null,
   "id": "df3641f8-dcfa-437b-8f40-90448b50acde",
   "metadata": {},
   "outputs": [],
   "source": [
    "#| export\n",
    "def radcal(\n",
    "  spectra:object,   # A hab_spectra object containing the y_raw spectra, wavelengths\n",
    "  cal_data:object   # The calibration data object.\n",
    ") ->object:         # A numpy array of radiance calibrated values.\n",
    "  '''\n",
    "  Calibrate a spectra for radiance.\n",
    "  '''\n",
    "  exp = spectra.Exposure\n",
    "  y_calibrated = ( spectra.raw_y - cal_data.dark[exp]) * cal_data.scale[exp]\n",
    "  return y_calibrated\n",
    "  "
   ]
  },
  {
   "cell_type": "markdown",
   "id": "a0dd56f9-5c4d-4227-8e59-23499855db82",
   "metadata": {},
   "source": [
    "#| hide\n",
    "### def read_radiance_calibration_file()"
   ]
  },
  {
   "cell_type": "code",
   "execution_count": null,
   "id": "36ab825f-08fd-4831-afb1-c8b9f23948d2",
   "metadata": {},
   "outputs": [],
   "source": [
    "#| export\n",
    "def read_radiance_calibration_file(\n",
    "  wavelengths, # Numpy array of wavelengths to interpolate too.\n",
    "  rad_cal_fn   # Radiance Calibration File Name\n",
    ") -> object:   # Numpy array of interpolated irradiance data.\n",
    "  '''\n",
    "  Reads a two column csv irradiance calibration file where the first \n",
    "  column is 'Wavelength', and the second 'Irradiance'. It returns an\n",
    "  interpolated numpy array that matches the the `wavelengths` parameter.\n",
    "  '''\n",
    "  rad_cal_pd = pd.read_csv( rad_cal_fn, sep=',', comment='#' )\n",
    "  y_values = np.interp( wavelengths, rad_cal_pd['Wavelength'], rad_cal_pd['Irradiance'])\n",
    "  return y_values"
   ]
  },
  {
   "cell_type": "markdown",
   "id": "78512371-d0f9-4efb-9713-776a96a34569",
   "metadata": {},
   "source": [
    "Note:  A correction for distance from the bulb needs to be made."
   ]
  },
  {
   "cell_type": "markdown",
   "id": "7e0ecdfe-f94f-46d7-90f7-a0dd2ef102bf",
   "metadata": {},
   "source": [
    "#| hide\n",
    "### def radiance_distance_scale_factor()"
   ]
  },
  {
   "cell_type": "code",
   "execution_count": null,
   "id": "0a16083f-008d-4bf0-ab9f-64997ac3cec9",
   "metadata": {},
   "outputs": [],
   "source": [
    "#| export\n",
    "def radiance_distance_scale_factor( \n",
    "  distance_m, \n",
    "  cal_distance_m=0.5\n",
    ") -> float:\n",
    "  '''\n",
    "  Calculate the radiance scale factor for given distance (meters) from\n",
    "  the QTH bulb to the broadband reflector.\n",
    "  '''\n",
    "  scale = cal_distance_m**2 / distance_m**2\n",
    "  return scale"
   ]
  },
  {
   "cell_type": "markdown",
   "id": "a5072454-79d1-4636-b90b-a303394ef7ef",
   "metadata": {},
   "source": [
    "Test `radiance_distance_scale_factor()`."
   ]
  },
  {
   "cell_type": "code",
   "execution_count": null,
   "id": "c6290e35-2667-4c8e-a578-151c6c9f2056",
   "metadata": {},
   "outputs": [
    {
     "name": "stdout",
     "output_type": "stream",
     "text": [
      "Distance    Ref_scale  Scale     Errors\n",
      "   0.300      2.778    2.778      0.000 \n",
      "   0.400      1.562    1.562      0.000 \n",
      "   0.500      1.000    1.000      0.000 \n",
      "   0.600      0.694    0.694      0.000 \n",
      "   0.700      0.510    0.510      0.000 \n",
      "   0.800      0.391    0.391      0.000 \n",
      "   0.900      0.309    0.309      0.000 \n",
      "   1.000      0.250    0.250      0.000 \n",
      "   1.100      0.207    0.207      0.000 \n",
      "   1.200      0.174    0.174      0.000 \n",
      "   1.300      0.148    0.148      0.000 \n",
      "   1.400      0.128    0.128      0.000 \n",
      "   1.500      0.111    0.111      0.000 \n",
      "   1.600      0.098    0.098      0.000 \n",
      "   1.700      0.087    0.087      0.000 \n",
      "   1.800      0.077    0.077      0.000 \n",
      "   1.900      0.069    0.069      0.000 \n",
      "   2.000      0.062    0.062      0.000 \n",
      "\n",
      "No errors found\n"
     ]
    }
   ],
   "source": [
    "cal_distance_m=0.5\n",
    "cal_distance_sq = cal_distance_m**2.0\n",
    "print(\"Distance    Ref_scale  Scale     Errors\")\n",
    "errors = 0.0\n",
    "\n",
    "# Loop through an array of distance values\n",
    "for distance_m in [ 0.3, 0.4, 0.5, 0.6, 0.7, 0.8, 0.9, 1.0, 1.1, 1.2, 1.3, 1.4, 1.5, 1.6, 1.7, 1.8, 1.9, 2.0]:\n",
    "  sq = distance_m**2.0\n",
    "  ref = cal_distance_sq/sq\n",
    "  rv = radiance_distance_scale_factor(distance_m)\n",
    "  error = rv-ref\n",
    "  errors += error\n",
    "  print(f'{distance_m:8.3f}     {ref:6.3f}    {rv:5.3f}     {rv-ref:6.3f} ')\n",
    "\n",
    "if errors >0.0:\n",
    "  print(f'{errors=}')\n",
    "else:\n",
    "  print('\\nNo errors found')"
   ]
  },
  {
   "cell_type": "markdown",
   "id": "b70223d1-48c0-4c8f-8494-9ad05598c8ea",
   "metadata": {},
   "source": [
    "Generate an array of wavelengths for testing.  For actual use, this would be the\n",
    "wavelength array from a spectra."
   ]
  },
  {
   "cell_type": "code",
   "execution_count": null,
   "id": "2b68e21f-eea2-47ae-be85-dce2a5c81caf",
   "metadata": {},
   "outputs": [
    {
     "data": {
      "text/plain": [
       "(1280,\n",
       " array([400.        , 400.37578125, 400.7515625 , ..., 879.87265625,\n",
       "        880.2484375 , 880.62421875]))"
      ]
     },
     "execution_count": null,
     "metadata": {},
     "output_type": "execute_result"
    }
   ],
   "source": [
    "xw = np.arange(400,881, (881-400)/1280 )\n",
    "len(xw), xw"
   ]
  },
  {
   "cell_type": "markdown",
   "id": "0c3374ca-b108-4afe-9953-e0b5689e72d7",
   "metadata": {},
   "source": [
    "Read the QTH bulb calibration file."
   ]
  },
  {
   "cell_type": "code",
   "execution_count": null,
   "id": "3d6f065d-6262-4efe-bbd5-97b7943acf1d",
   "metadata": {},
   "outputs": [],
   "source": [
    "rad_cal_filename = \"./2023-0728-newport-6333-QTH.csv\"\n",
    "rad_cal_y = read_radiance_calibration_file(xw, rad_cal_filename )"
   ]
  },
  {
   "cell_type": "markdown",
   "id": "3753013d-733e-4b5a-981c-69cf3a7e33ad",
   "metadata": {},
   "source": [
    "below examine the length of the array, and the interpolated values for each wavelength."
   ]
  },
  {
   "cell_type": "code",
   "execution_count": null,
   "id": "54d52b16-cc60-49fd-aaa6-79ebe9f9b7f3",
   "metadata": {},
   "outputs": [
    {
     "data": {
      "text/plain": [
       "(1280,\n",
       " array([ 4.63324251,  4.65917627,  4.68511003, ..., 31.57101339,\n",
       "        31.56940725, 31.5678011 ]))"
      ]
     },
     "execution_count": null,
     "metadata": {},
     "output_type": "execute_result"
    }
   ],
   "source": [
    "len(rad_cal_y), rad_cal_y"
   ]
  },
  {
   "cell_type": "markdown",
   "id": "b1ffc159-2691-41c3-8387-5cc7cc0c85b9",
   "metadata": {},
   "source": [
    "# Testing and Reviewing the data."
   ]
  },
  {
   "cell_type": "markdown",
   "id": "765cf55c-2c2a-4675-9b17-0e77bf28aa49",
   "metadata": {},
   "source": [
    "## Plot the data. "
   ]
  },
  {
   "cell_type": "code",
   "execution_count": null,
   "id": "375fd129-e5b3-4cb9-9cd2-87f3f0b2a22c",
   "metadata": {},
   "outputs": [
    {
     "data": {
      "text/html": [
       "\n",
       "  <div id=\"cdee9124-a6cf-4a87-b847-fe21e999fff2\" data-root-id=\"p29306\" style=\"display: contents;\"></div>\n"
      ]
     },
     "metadata": {},
     "output_type": "display_data"
    },
    {
     "data": {
      "application/javascript": [
       "(function(root) {\n",
       "  function embed_document(root) {\n",
       "  const docs_json = {\"0d78c251-6eb1-498e-acf1-2752f19d3581\":{\"version\":\"3.1.1\",\"title\":\"Bokeh Application\",\"defs\":[{\"type\":\"model\",\"name\":\"ReactiveHTML1\"},{\"type\":\"model\",\"name\":\"FlexBox1\",\"properties\":[{\"name\":\"align_content\",\"kind\":\"Any\",\"default\":\"flex-start\"},{\"name\":\"align_items\",\"kind\":\"Any\",\"default\":\"flex-start\"},{\"name\":\"flex_direction\",\"kind\":\"Any\",\"default\":\"row\"},{\"name\":\"flex_wrap\",\"kind\":\"Any\",\"default\":\"wrap\"},{\"name\":\"justify_content\",\"kind\":\"Any\",\"default\":\"flex-start\"}]},{\"type\":\"model\",\"name\":\"FloatPanel1\",\"properties\":[{\"name\":\"config\",\"kind\":\"Any\",\"default\":{\"type\":\"map\"}},{\"name\":\"contained\",\"kind\":\"Any\",\"default\":true},{\"name\":\"position\",\"kind\":\"Any\",\"default\":\"right-top\"},{\"name\":\"offsetx\",\"kind\":\"Any\",\"default\":null},{\"name\":\"offsety\",\"kind\":\"Any\",\"default\":null},{\"name\":\"theme\",\"kind\":\"Any\",\"default\":\"primary\"},{\"name\":\"status\",\"kind\":\"Any\",\"default\":\"normalized\"}]},{\"type\":\"model\",\"name\":\"GridStack1\",\"properties\":[{\"name\":\"mode\",\"kind\":\"Any\",\"default\":\"warn\"},{\"name\":\"ncols\",\"kind\":\"Any\",\"default\":null},{\"name\":\"nrows\",\"kind\":\"Any\",\"default\":null},{\"name\":\"allow_resize\",\"kind\":\"Any\",\"default\":true},{\"name\":\"allow_drag\",\"kind\":\"Any\",\"default\":true},{\"name\":\"state\",\"kind\":\"Any\",\"default\":[]}]},{\"type\":\"model\",\"name\":\"drag1\",\"properties\":[{\"name\":\"slider_width\",\"kind\":\"Any\",\"default\":5},{\"name\":\"slider_color\",\"kind\":\"Any\",\"default\":\"black\"},{\"name\":\"value\",\"kind\":\"Any\",\"default\":50}]},{\"type\":\"model\",\"name\":\"click1\",\"properties\":[{\"name\":\"terminal_output\",\"kind\":\"Any\",\"default\":\"\"},{\"name\":\"debug_name\",\"kind\":\"Any\",\"default\":\"\"},{\"name\":\"clears\",\"kind\":\"Any\",\"default\":0}]},{\"type\":\"model\",\"name\":\"FastWrapper1\",\"properties\":[{\"name\":\"object\",\"kind\":\"Any\",\"default\":null},{\"name\":\"style\",\"kind\":\"Any\",\"default\":null}]},{\"type\":\"model\",\"name\":\"NotificationAreaBase1\",\"properties\":[{\"name\":\"position\",\"kind\":\"Any\",\"default\":\"bottom-right\"},{\"name\":\"_clear\",\"kind\":\"Any\",\"default\":0}]},{\"type\":\"model\",\"name\":\"NotificationArea1\",\"properties\":[{\"name\":\"notifications\",\"kind\":\"Any\",\"default\":[]},{\"name\":\"position\",\"kind\":\"Any\",\"default\":\"bottom-right\"},{\"name\":\"_clear\",\"kind\":\"Any\",\"default\":0},{\"name\":\"types\",\"kind\":\"Any\",\"default\":[{\"type\":\"map\",\"entries\":[[\"type\",\"warning\"],[\"background\",\"#ffc107\"],[\"icon\",{\"type\":\"map\",\"entries\":[[\"className\",\"fas fa-exclamation-triangle\"],[\"tagName\",\"i\"],[\"color\",\"white\"]]}]]},{\"type\":\"map\",\"entries\":[[\"type\",\"info\"],[\"background\",\"#007bff\"],[\"icon\",{\"type\":\"map\",\"entries\":[[\"className\",\"fas fa-info-circle\"],[\"tagName\",\"i\"],[\"color\",\"white\"]]}]]}]}]},{\"type\":\"model\",\"name\":\"Notification\",\"properties\":[{\"name\":\"background\",\"kind\":\"Any\",\"default\":null},{\"name\":\"duration\",\"kind\":\"Any\",\"default\":3000},{\"name\":\"icon\",\"kind\":\"Any\",\"default\":null},{\"name\":\"message\",\"kind\":\"Any\",\"default\":\"\"},{\"name\":\"notification_type\",\"kind\":\"Any\",\"default\":null},{\"name\":\"_destroyed\",\"kind\":\"Any\",\"default\":false}]},{\"type\":\"model\",\"name\":\"TemplateActions1\",\"properties\":[{\"name\":\"open_modal\",\"kind\":\"Any\",\"default\":0},{\"name\":\"close_modal\",\"kind\":\"Any\",\"default\":0}]},{\"type\":\"model\",\"name\":\"BootstrapTemplateActions1\",\"properties\":[{\"name\":\"open_modal\",\"kind\":\"Any\",\"default\":0},{\"name\":\"close_modal\",\"kind\":\"Any\",\"default\":0}]},{\"type\":\"model\",\"name\":\"MaterialTemplateActions1\",\"properties\":[{\"name\":\"open_modal\",\"kind\":\"Any\",\"default\":0},{\"name\":\"close_modal\",\"kind\":\"Any\",\"default\":0}]}],\"roots\":[{\"type\":\"object\",\"name\":\"Figure\",\"id\":\"p29306\",\"attributes\":{\"width\":700,\"height\":500,\"x_range\":{\"type\":\"object\",\"name\":\"DataRange1d\",\"id\":\"p29307\"},\"y_range\":{\"type\":\"object\",\"name\":\"DataRange1d\",\"id\":\"p29308\"},\"x_scale\":{\"type\":\"object\",\"name\":\"LinearScale\",\"id\":\"p29320\"},\"y_scale\":{\"type\":\"object\",\"name\":\"LinearScale\",\"id\":\"p29322\"},\"title\":{\"type\":\"object\",\"name\":\"Title\",\"id\":\"p29309\",\"attributes\":{\"text\":\"./2023-0728-newport-6333-QTH.csv\"}},\"renderers\":[{\"type\":\"object\",\"name\":\"GlyphRenderer\",\"id\":\"p29361\",\"attributes\":{\"data_source\":{\"type\":\"object\",\"name\":\"ColumnDataSource\",\"id\":\"p29355\",\"attributes\":{\"selected\":{\"type\":\"object\",\"name\":\"Selection\",\"id\":\"p29357\",\"attributes\":{\"indices\":[],\"line_indices\":[]}},\"selection_policy\":{\"type\":\"object\",\"name\":\"UnionRenderers\",\"id\":\"p29356\"},\"data\":{\"type\":\"map\",\"entries\":[[\"x\",{\"type\":\"ndarray\",\"array\":{\"type\":\"bytes\",\"data\":\"AAAAAAAAeUAzMzMzAwZ5QGZmZmYGDHlAmZmZmQkSeUDMzMzMDBh5QP////8PHnlAMjMzMxMkeUBlZmZmFip5QJiZmZkZMHlAy8zMzBw2eUD+////Hzx5QDEzMzMjQnlAZGZmZiZIeUCXmZmZKU55QMrMzMwsVHlA/f///y9aeUAwMzMzM2B5QGNmZmY2ZnlAlpmZmTlseUDJzMzMPHJ5QPz///8/eHlALzMzM0N+eUBiZmZmRoR5QJWZmZlJinlAyMzMzEyQeUD7////T5Z5QC4zMzNTnHlAYWZmZlaieUCUmZmZWah5QMfMzMxcrnlA+v///1+0eUAtMzMzY7p5QGBmZmZmwHlAk5mZmWnGeUDGzMzMbMx5QPn///9v0nlALDMzM3PYeUBfZmZmdt55QJKZmZl55HlAxczMzHzqeUD4////f/B5QCszMzOD9nlAXmZmZob8eUCRmZmZiQJ6QMTMzMyMCHpA9////48OekAqMzMzkxR6QF1mZmaWGnpAkJmZmZkgekDDzMzMnCZ6QPb///+fLHpAKTMzM6MyekBcZmZmpjh6QI+ZmZmpPnpAwszMzKxEekD1////r0p6QCgzMzOzUHpAW2ZmZrZWekCOmZmZuVx6QMHMzMy8YnpA9P///79oekAnMzMzw256QFpmZmbGdHpAjZmZmcl6ekDAzMzMzIB6QPP////PhnpAJjMzM9OMekBZZmZm1pJ6QIyZmZnZmHpAv8zMzNyeekDy////36R6QCUzMzPjqnpAWGZmZuawekCLmZmZ6bZ6QL7MzMzsvHpA8f///+/CekAkMzMz88h6QFdmZmb2znpAipmZmfnUekC9zMzM/Np6QPD/////4HpAIzMzMwPnekBWZmZmBu16QImZmZkJ83pAvMzMzAz5ekDv////D/96QCIzMzMTBXtAVWZmZhYLe0CImZmZGRF7QLvMzMwcF3tA7v///x8de0AhMzMzIyN7QFRmZmYmKXtAh5mZmSkve0C6zMzMLDV7QO3///8vO3tAIDMzMzNBe0BTZmZmNkd7QIaZmZk5TXtAuczMzDxTe0Ds////P1l7QB8zMzNDX3tAUmZmZkZle0CFmZmZSWt7QLjMzMxMcXtA6////093e0AeMzMzU317QFFmZmZWg3tAhJmZmVmJe0C3zMzMXI97QOr///9flXtAHTMzM2Obe0BQZmZmZqF7QIOZmZlpp3tAtszMzGyte0Dp////b7N7QBwzMzNzuXtAT2ZmZna/e0CCmZmZecV7QLXMzMx8y3tA6P///3/Re0AbMzMzg9d7QE5mZmaG3XtAgZmZmYnje0C0zMzMjOl7QOf///+P73tAGjMzM5P1e0BNZmZmlvt7QICZmZmZAXxAs8zMzJwHfEDm////nw18QBkzMzOjE3xATGZmZqYZfEB/mZmZqR98QLLMzMysJXxA5f///68rfEAYMzMzszF8QEtmZma2N3xAfpmZmbk9fECxzMzMvEN8QOT///+/SXxAFzMzM8NPfEBKZmZmxlV8QH2ZmZnJW3xAsMzMzMxhfEDj////z2d8QBYzMzPTbXxASWZmZtZzfEB8mZmZ2Xl8QK/MzMzcf3xA4v///9+FfEAVMzMz44t8QEhmZmbmkXxAe5mZmemXfECuzMzM7J18QOH////vo3xAFDMzM/OpfEBHZmZm9q98QHqZmZn5tXxArczMzPy7fEDg/////8F8QBMzMzMDyHxARmZmZgbOfEB5mZmZCdR8QKzMzMwM2nxA3////w/gfEASMzMzE+Z8QEVmZmYW7HxAeJmZmRnyfECrzMzMHPh8QN7///8f/nxAETMzMyMEfUBEZmZmJgp9QHeZmZkpEH1AqszMzCwWfUDd////Lxx9QBAzMzMzIn1AQ2ZmZjYofUB2mZmZOS59QKnMzMw8NH1A3P///z86fUAPMzMzQ0B9QEJmZmZGRn1AdZmZmUlMfUCozMzMTFJ9QNv///9PWH1ADjMzM1NefUBBZmZmVmR9QHSZmZlZan1Ap8zMzFxwfUDa////X3Z9QA0zMzNjfH1AQGZmZmaCfUBzmZmZaYh9QKbMzMxsjn1A2f///2+UfUAMMzMzc5p9QD9mZmZ2oH1AcpmZmXmmfUClzMzMfKx9QNj///9/sn1ACzMzM4O4fUA+ZmZmhr59QHGZmZmJxH1ApMzMzIzKfUDX////j9B9QAozMzOT1n1APWZmZpbcfUBwmZmZmeJ9QKPMzMyc6H1A1v///5/ufUAJMzMzo/R9QDxmZmam+n1Ab5mZmakAfkCizMzMrAZ+QNX///+vDH5ACDMzM7MSfkA7ZmZmthh+QG6ZmZm5Hn5AoczMzLwkfkDU////vyp+QAczMzPDMH5AOmZmZsY2fkBtmZmZyTx+QKDMzMzMQn5A0////89IfkAGMzMz005+QDlmZmbWVH5AbJmZmdlafkCfzMzM3GB+QNL////fZn5ABTMzM+NsfkA4ZmZm5nJ+QGuZmZnpeH5AnszMzOx+fkDR////74R+QAQzMzPzin5AN2ZmZvaQfkBqmZmZ+ZZ+QJ3MzMz8nH5A0P////+ifkADMzMzA6l+QDZmZmYGr35AaZmZmQm1fkCczMzMDLt+QM////8PwX5AAjMzMxPHfkA1ZmZmFs1+QGiZmZkZ035Am8zMzBzZfkDO////H99+QAEzMzMj5X5ANGZmZibrfkBnmZmZKfF+QJrMzMws935Azf///y/9fkAAMzMzMwN/QDNmZmY2CX9AZpmZmTkPf0CZzMzMPBV/QMz///8/G39A/zIzM0Mhf0AyZmZmRid/QGWZmZlJLX9AmMzMzEwzf0DL////Tzl/QP4yMzNTP39AMWZmZlZFf0BkmZmZWUt/QJfMzMxcUX9Ayv///19Xf0D9MjMzY11/QDBmZmZmY39AY5mZmWlpf0CWzMzMbG9/QMn///9vdX9A/DIzM3N7f0AvZmZmdoF/QGKZmZl5h39AlczMzHyNf0DI////f5N/QPsyMzODmX9ALmZmZoaff0BhmZmZiaV/QJTMzMyMq39Ax////4+xf0D6MjMzk7d/QC1mZmaWvX9AYJmZmZnDf0CTzMzMnMl/QMb///+fz39A+TIzM6PVf0AsZmZmptt/QF+ZmZmp4X9AkszMzKznf0DF////r+1/QPgyMzOz839AK2ZmZrb5f0BemZmZuf9/QEhmZmbeAoBA4v///98FgEB8mZmZ4QiAQBUzMzPjC4BArszMzOQOgEBIZmZm5hGAQOL////nFIBAe5mZmekXgEAUMzMz6xqAQK7MzMzsHYBASGZmZu4ggEDh////7yOAQHqZmZnxJoBAFDMzM/MpgECuzMzM9CyAQEdmZmb2L4BA4P////cygEB6mZmZ+TWAQBQzMzP7OIBArczMzPw7gEBGZmZm/j6AQOD/////QYBAepmZmQFFgEATMzMzA0iAQKzMzMwES4BARmZmZgZOgEDg////B1GAQHmZmZkJVIBAEjMzMwtXgECszMzMDFqAQEZmZmYOXYBA3////w9ggEB4mZmZEWOAQBIzMzMTZoBArMzMzBRpgEBFZmZmFmyAQN7///8Xb4BAeJmZmRlygEASMzMzG3WAQKvMzMwceIBARGZmZh57gEDe////H36AQHiZmZkhgYBAETMzMyOEgECqzMzMJIeAQERmZmYmioBA3v///yeNgEB3mZmZKZCAQBAzMzMrk4BAqszMzCyWgEBEZmZmLpmAQN3///8vnIBAdpmZmTGfgEAQMzMzM6KAQKrMzMw0pYBAQ2ZmZjaogEDc////N6uAQHaZmZk5roBAEDMzMzuxgECpzMzMPLSAQEJmZmY+t4BA3P///z+6gEB2mZmZQb2AQA8zMzNDwIBAqMzMzETDgEBCZmZmRsaAQNz///9HyYBAdZmZmUnMgEAOMzMzS8+AQKjMzMxM0oBAQmZmZk7VgEDb////T9iAQHSZmZlR24BADjMzM1PegECozMzMVOGAQEFmZmZW5IBA2v///1fngEB0mZmZWeqAQA4zMzNb7YBAp8zMzFzwgEBAZmZmXvOAQNr///9f9oBAdJmZmWH5gEANMzMzY/yAQKbMzMxk/4BAQGZmZmYCgUDa////ZwWBQHOZmZlpCIFADDMzM2sLgUCmzMzMbA6BQEBmZmZuEYFA2f///28UgUBymZmZcReBQAwzMzNzGoFApszMzHQdgUA/ZmZmdiCBQNj///93I4FAcpmZmXkmgUAMMzMzeymBQKXMzMx8LIFAPmZmZn4vgUDY////fzKBQHKZmZmBNYFACzMzM4M4gUCkzMzMhDuBQD5mZmaGPoFA2P///4dBgUBxmZmZiUSBQAozMzOLR4FApMzMzIxKgUA+ZmZmjk2BQNf///+PUIFAcJmZmZFTgUAKMzMzk1aBQKTMzMyUWYFAPWZmZpZcgUDW////l1+BQHCZmZmZYoFACjMzM5tlgUCjzMzMnGiBQDxmZmaea4FA1v///59ugUBwmZmZoXGBQAkzMzOjdIFAoszMzKR3gUA8ZmZmpnqBQNb///+nfYFAb5mZmamAgUAIMzMzq4OBQKLMzMyshoFAPGZmZq6JgUDV////r4yBQG6ZmZmxj4FACDMzM7OSgUCizMzMtJWBQDtmZma2mIFA1P///7ebgUBumZmZuZ6BQAgzMzO7oYFAoczMzLykgUA6ZmZmvqeBQNT///+/qoFAbpmZmcGtgUAHMzMzw7CBQKDMzMzEs4FAOmZmZsa2gUDU////x7mBQG2ZmZnJvIFABjMzM8u/gUCgzMzMzMKBQDpmZmbOxYFA0////8/IgUBsmZmZ0cuBQAYzMzPTzoFAoMzMzNTRgUA5ZmZm1tSBQNL////X14FAbJmZmdnagUAGMzMz292BQJ/MzMzc4IFAOGZmZt7jgUDS////3+aBQGyZmZnh6YFABTMzM+PsgUCezMzM5O+BQDhmZmbm8oFA0v///+f1gUBrmZmZ6fiBQAQzMzPr+4FAnszMzOz+gUA4ZmZm7gGCQNH////vBIJAapmZmfEHgkAEMzMz8wqCQJ7MzMz0DYJAN2ZmZvYQgkDQ////9xOCQGqZmZn5FoJABDMzM/sZgkCdzMzM/ByCQDZmZmb+H4JA0P////8igkBqmZmZASaCQAMzMzMDKYJAnMzMzAQsgkA2ZmZmBi+CQND///8HMoJAaZmZmQk1gkACMzMzCziCQJzMzMwMO4JANmZmZg4+gkDP////D0GCQGiZmZkRRIJAAjMzMxNHgkCczMzMFEqCQDVmZmYWTYJAzv///xdQgkBomZmZGVOCQAIzMzMbVoJAm8zMzBxZgkA0ZmZmHlyCQM7///8fX4JAaJmZmSFigkABMzMzI2WCQJrMzMwkaIJANGZmZiZrgkDO////J26CQGeZmZkpcYJAADMzMyt0gkCazMzMLHeCQDRmZmYueoJAzf///y99gkBmmZmZMYCCQAAzMzMzg4JAmszMzDSGgkAzZmZmNomCQMz///83jIJAZpmZmTmPgkAAMzMzO5KCQJnMzMw8lYJAMmZmZj6YgkDM////P5uCQGaZmZlBnoJA/zIzM0OhgkCYzMzMRKSCQDJmZmZGp4JAzP///0eqgkBlmZmZSa2CQP4yMzNLsIJAmMzMzEyzgkAyZmZmTraCQMv///9PuYJAZJmZmVG8gkD+MjMzU7+CQJjMzMxUwoJAMWZmZlbFgkDK////V8iCQGSZmZlZy4JA/jIzM1vOgkCXzMzMXNGCQDBmZmZe1IJAyv///1/XgkBkmZmZYdqCQP0yMzNj3YJAlszMzGTggkAwZmZmZuOCQMr///9n5oJAY5mZmWnpgkD8MjMza+yCQJbMzMxs74JAMGZmZm7ygkDJ////b/WCQGKZmZlx+IJA/DIzM3P7gkCWzMzMdP6CQC9mZmZ2AYNAyP///3cEg0BimZmZeQeDQPwyMzN7CoNAlczMzHwNg0AuZmZmfhCDQMj///9/E4NAYpmZmYEWg0D7MjMzgxmDQJTMzMyEHINALmZmZoYfg0DI////hyKDQGGZmZmJJYNA+jIzM4sog0CUzMzMjCuDQC5mZmaOLoNAx////48xg0BgmZmZkTSDQPoyMzOTN4NAlMzMzJQ6g0AtZmZmlj2DQMb///+XQINAYJmZmZlDg0D6MjMzm0aDQJPMzMycSYNALGZmZp5Mg0DG////n0+DQGCZmZmhUoNA+TIzM6NVg0CSzMzMpFiDQCxmZmamW4NAxv///6deg0BfmZmZqWGDQPgyMzOrZINAkszMzKxng0AsZmZmrmqDQMX///+vbYNAXpmZmbFwg0D4MjMzs3ODQJLMzMy0doNAK2ZmZrZ5g0DE////t3yDQF6ZmZm5f4NA+DIzM7uCg0CRzMzMvIWDQCpmZma+iINAxP///7+Lg0BemZmZwY6DQPcyMzPDkYNAkMzMzMSUg0AqZmZmxpeDQMT////HmoNAXZmZmcmdg0D2MjMzy6CDQJDMzMzMo4NAKmZmZs6mg0DD////z6mDQFyZmZnRrINA9jIzM9Ovg0CQzMzM1LKDQClmZmbWtYNAwv///9e4g0BcmZmZ2buDQPYyMzPbvoNAj8zMzNzBg0AoZmZm3sSDQML////fx4NAXJmZmeHKg0D1MjMz482DQI7MzMzk0INAKGZmZubTg0DC////59aDQFuZmZnp2YNA9DIzM+vcg0COzMzM7N+DQChmZmbu4oNAwf///+/lg0BamZmZ8eiDQPQyMzPz64NAjszMzPTug0AnZmZm9vGDQMD////39INAWpmZmfn3g0D0MjMz+/qDQI3MzMz8/YNAJmZmZv4AhEDA/////wOEQFqZmZkBB4RA8zIzMwMKhECMzMzMBA2EQCZmZmYGEIRAwP///wcThEBZmZmZCRaEQPIyMzMLGYRAjMzMzAwchEAmZmZmDh+EQL////8PIoRAWJmZmRElhEDyMjMzEyiEQIzMzMwUK4RAJWZmZhYuhEC+////FzGEQFiZmZkZNIRA8jIzMxs3hECLzMzMHDqEQCRmZmYePYRAvv///x9AhEBYmZmZIUOEQPEyMzMjRoRAiszMzCRJhEAkZmZmJkyEQL7///8nT4RAV5mZmSlShEDwMjMzK1WEQIrMzMwsWIRAJGZmZi5bhEC9////L16EQFaZmZkxYYRA8DIzMzNkhECKzMzMNGeEQCNmZmY2aoRAvP///zdthEBWmZmZOXCEQPAyMzM7c4RAiczMzDx2hEAiZmZmPnmEQLz///8/fIRAVpmZmUF/hEDvMjMzQ4KEQIjMzMxEhYRAImZmZkaIhEC8////R4uEQFWZmZlJjoRA7jIzM0uRhECIzMzMTJSEQCJmZmZOl4RAu////0+ahEBUmZmZUZ2EQO4yMzNToIRAiMzMzFSjhEAhZmZmVqaEQLr///9XqYRAVJmZmVmshEDuMjMzW6+EQIfMzMxcsoRAIGZmZl61hEC6////X7iEQFSZmZlhu4RA7TIzM2O+hECGzMzMZMGEQCBmZmZmxIRAuv///2fHhEBTmZmZacqEQOwyMzNrzYRAhszMzGzQhEAgZmZmbtOEQLn///9v1oRAUpmZmXHZhEDsMjMzc9yEQIbMzMx034RAH2ZmZnbihEC4////d+WEQFKZmZl56IRA7DIzM3vrhECFzMzMfO6EQB5mZmZ+8YRAuP///3/0hEBSmZmZgfeEQOsyMzOD+oRAhMzMzIT9hEAeZmZmhgCFQLj///+HA4VAUZmZmYkGhUDqMjMziwmFQITMzMyMDIVAHmZmZo4PhUC3////jxKFQFCZmZmRFYVA6jIzM5MYhUCEzMzMlBuFQB1mZmaWHoVAtv///5chhUBQmZmZmSSFQOoyMzObJ4VAg8zMzJwqhUAcZmZmni2FQLb///+fMIVAUJmZmaEzhUDpMjMzozaFQILMzMykOYVAHGZmZqY8hUC2////pz+FQE+ZmZmpQoVA6DIzM6tFhUCCzMzMrEiFQBxmZmauS4VAtf///69OhUBOmZmZsVGFQOgyMzOzVIVAgszMzLRXhUAbZmZmtlqFQLT///+3XYVATpmZmblghUDoMjMzu2OFQIHMzMy8ZoVAGmZmZr5phUC0////v2yFQE6ZmZnBb4VA5zIzM8NyhUCAzMzMxHWFQBpmZmbGeIVAtP///8d7hUBNmZmZyX6FQOYyMzPLgYVAgMzMzMyEhUAaZmZmzoeFQLP////PioVATJmZmdGNhUDmMjMz05CFQIDMzMzUk4VAGWZmZtaWhUCy////15mFQEyZmZnZnIVA5jIzM9ufhUB/zMzM3KKFQBhmZmbepYVAsv///9+ohUBMmZmZ4auFQOUyMzPjroVAfszMzOSxhUAYZmZm5rSFQLL////nt4VAS5mZmem6hUDkMjMz672FQH7MzMzswIVAGGZmZu7DhUCx////78aFQEqZmZnxyYVA5DIzM/PMhUB+zMzM9M+FQBdmZmb20oVAsP////fVhUBKmZmZ+diFQOQyMzP724VAfczMzPzehUAWZmZm/uGFQLD/////5IVASpmZmQHohUDjMjMzA+uFQHzMzMwE7oVAFmZmZgbxhUCw////B/SFQEmZmZkJ94VA4jIzMwv6hUB8zMzMDP2FQBZmZmYOAIZAr////w8DhkBImZmZEQaGQOIyMzMTCYZAfMzMzBQMhkAVZmZmFg+GQK7///8XEoZASJmZmRkVhkDiMjMzGxiGQHvMzMwcG4ZAFGZmZh4ehkCu////HyGGQEiZmZkhJIZA4TIzMyMnhkB6zMzMJCqGQBRmZmYmLYZArv///ycwhkBHmZmZKTOGQOAyMzMrNoZAeszMzCw5hkAUZmZmLjyGQK3///8vP4ZARpmZmTFChkDgMjMzM0WGQHrMzMw0SIZAE2ZmZjZLhkCs////N06GQEaZmZk5UYZA4DIzMztUhkB5zMzMPFeGQBJmZmY+WoZArP///z9dhkBGmZmZQWCGQN8yMzNDY4ZAeMzMzERmhkASZmZmRmmGQKz///9HbIZARZmZmUlvhkDeMjMzS3KGQHjMzMxMdYZAEmZmZk54hkCr////T3uGQESZmZlRfoZA3jIzM1OBhkB4zMzMVISGQBFmZmZWh4ZAqv///1eKhkBEmZmZWY2GQN4yMzNbkIZAd8zMzFyThkAQZmZmXpaGQKr///9fmYZARJmZmWGchkDdMjMzY5+GQHbMzMxkooZAEGZmZmalhkCq////Z6iGQEOZmZlpq4ZA3DIzM2uuhkB2zMzMbLGGQBBmZmZutIZAqf///2+3hkBCmZmZcbqGQNwyMzNzvYZAdszMzHTAhkAPZmZmdsOGQKj///93xoZAQpmZmXnJhkDcMjMze8yGQHXMzMx8z4ZADmZmZn7ShkCo////f9WGQEKZmZmB2IZA2zIzM4PbhkB0zMzMhN6GQA5mZmaG4YZAqP///4fkhkBBmZmZieeGQNoyMzOL6oZAdMzMzIzthkAOZmZmjvCGQKf///+P84ZAQJmZmZH2hkDaMjMzk/mGQHTMzMyU/IZADWZmZpb/hkCm////lwKHQECZmZmZBYdA2jIzM5sIh0BzzMzMnAuHQAxmZmaeDodApv///58Rh0BAmZmZoRSHQNkyMzOjF4dAcszMzKQah0AMZmZmph2HQKb///+nIIdAP5mZmakjh0DYMjMzqyaHQHLMzMysKYdADGZmZq4sh0Cl////ry+HQD6ZmZmxModA2DIzM7M1h0ByzMzMtDiHQAtmZma2O4dApP///7c+h0A+mZmZuUGHQNgyMzO7RIdAcczMzLxHh0AKZmZmvkqHQKT///+/TYdAPpmZmcFQh0DXMjMzw1OHQHDMzMzEVodACmZmZsZZh0Ck////x1yHQD2ZmZnJX4dA1jIzM8tih0BwzMzMzGWHQApmZmbOaIdAo////89rh0A8mZmZ0W6HQNYyMzPTcYdAcMzMzNR0h0AJZmZm1neHQKL////XeodAPJmZmdl9h0DWMjMz24CHQG/MzMzcg4dACGZmZt6Gh0Ci////34mHQDyZmZnhjIdA1TIzM+OPh0BuzMzM5JKHQAhmZmbmlYdAov///+eYh0A7mZmZ6ZuHQNQyMzPrnodAbszMzOyhh0AIZmZm7qSHQKH////vp4dAOpmZmfGqh0DUMjMz862HQG7MzMz0sIdAB2ZmZvazh0Cg////97aHQDqZmZn5uYdA1DIzM/u8h0BtzMzM/L+HQAZmZmb+wodAoP/////Fh0A6mZmZAcmHQNMyMzMDzIdAbMzMzATPh0AGZmZmBtKHQKD///8H1YdAOZmZmQnYh0DSMjMzC9uHQGzMzMwM3odABmZmZg7hh0Cf////D+SHQDiZmZkR54dA0jIzMxPqh0BszMzMFO2HQAVmZmYW8IdAnv///xfzh0A4mZmZGfaHQNIyMzMb+YdAa8zMzBz8h0AEZmZmHv+HQJ7///8fAohAOJmZmSEFiEDRMjMzIwiIQGrMzMwkC4hABGZmZiYOiECe////JxGIQDeZmZkpFIhA0DIzMysXiEBqzMzMLBqIQARmZmYuHYhAnf///y8giEA2mZmZMSOIQNAyMzMzJohAaszMzDQpiEADZmZmNiyIQJz///83L4hANpmZmTkyiEDQMjMzOzWIQGnMzMw8OIhAAmZmZj47iECc////Pz6IQDaZmZlBQYhAzzIzM0NEiEBozMzMREeIQAJmZmZGSohAnP///0dNiEA1mZmZSVCIQM4yMzNLU4hAaMzMzExWiEACZmZmTlmIQJv///9PXIhANJmZmVFfiEDOMjMzU2KIQGjMzMxUZYhAAWZmZlZoiECa////V2uIQDSZmZlZbohAzjIzM1txiEBnzMzMXHSIQABmZmZed4hAmv///196iEA0mZmZYX2IQM0yMzNjgIhAZszMzGSDiEAAZmZmZoaIQJr///9niYhAM5mZmWmMiEDMMjMza4+IQGbMzMxskohAAGZmZm6ViECZ////b5iIQDKZmZlxm4hAzDIzM3OeiEBmzMzMdKGIQP9lZmZ2pIhAmP///3eniEAymZmZeaqIQMwyMzN7rYhAZczMzHywiED+ZWZmfrOIQJj///9/tohAMpmZmYG5iEDLMjMzg7yIQGTMzMyEv4hA/mVmZobCiECY////h8WIQDGZmZmJyIhAyjIzM4vLiEBkzMzMjM6IQP5lZmaO0YhAl////4/UiEAwmZmZkdeIQMoyMzOT2ohAZMzMzJTdiED9ZWZmluCIQJb///+X44hAMJmZmZnmiEDKMjMzm+mIQGPMzMyc7IhA/GVmZp7viECW////n/KIQDCZmZmh9YhAyTIzM6P4iEBizMzMpPuIQPxlZmam/ohAlv///6cBiUAvmZmZqQSJQMgyMzOrB4lAYszMzKwKiUD8ZWZmrg2JQJX///+vEIlALpmZmbETiUDIMjMzsxaJQGLMzMy0GYlA+2VmZrYciUCU////tx+JQC6ZmZm5IolAyDIzM7sliUBhzMzMvCiJQPplZma+K4lAlP///78uiUAumZmZwTGJQMcyMzPDNIlAYMzMzMQ3iUD6ZWZmxjqJQJT////HPYlALZmZmclAiUDGMjMzy0OJQGDMzMzMRolA+mVmZs5JiUCT////z0yJQCyZmZnRT4lAxjIzM9NSiUBgzMzM1FWJQPllZmbWWIlAkv///9dbiUAsmZmZ2V6JQMYyMzPbYYlAX8zMzNxkiUD4ZWZm3meJQJL////faolALJmZmeFtiUDFMjMz43CJQF7MzMzkc4lA+GVmZuZ2iUCS////53mJQCuZmZnpfIlAxDIzM+t/iUBezMzM7IKJQPhlZmbuhYlAkf///++IiUAqmZmZ8YuJQMQyMzPzjolAXszMzPSRiUD3ZWZm9pSJQJD////3l4lAKpmZmfmaiUDEMjMz+52JQF3MzMz8oIlA9mVmZv6jiUCQ/////6aJQCqZmZkBqolAwzIzMwOtiUBczMzMBLCJQPZlZmYGs4lAkP///we2iUApmZmZCbmJQMIyMzMLvIlAXMzMzAy/iUD2ZWZmDsKJQI////8PxYlAKJmZmRHIiUDCMjMzE8uJQFzMzMwUzolA9WVmZhbRiUCO////F9SJQCiZmZkZ14lAwjIzMxvaiUBbzMzMHN2JQPRlZmYe4IlAjv///x/jiUAomZmZIeaJQMEyMzMj6YlAWszMzCTsiUD0ZWZmJu+JQI7///8n8olAJ5mZmSn1iUDAMjMzK/iJQFrMzMws+4lA9GVmZi7+iUCN////LwGKQCaZmZkxBIpAwDIzMzMHikBazMzMNAqKQPNlZmY2DYpAjP///zcQikAmmZmZOROKQMAyMzM7FopAWczMzDwZikDyZWZmPhyKQIz///8/H4pAJpmZmUEiikC/MjMzQyWKQFjMzMxEKIpA8mVmZkYrikCM////Ry6KQCWZmZlJMYpAvjIzM0s0ikBYzMzMTDeKQPJlZmZOOopAi////089ikAkmZmZUUCKQL4yMzNTQ4pAWMzMzFRGikDxZWZmVkmKQIr///9XTIpAJJmZmVlPikC+MjMzW1KKQFfMzMxcVYpA8GVmZl5YikCK////X1uKQCSZmZlhXopAvTIzM2NhikBWzMzMZGSKQPBlZmZmZ4pAiv///2dqikAjmZmZaW2KQLwyMzNrcIpAVszMzGxzikDwZWZmbnaKQIn///9veYpAIpmZmXF8ikC8MjMzc3+KQFbMzMx0gopA72VmZnaFikCI////d4iKQCKZmZl5i4pAvDIzM3uOikBVzMzMfJGKQO5lZmZ+lIpAiP///3+XikAimZmZgZqKQLsyMzODnYpAVMzMzISgikDuZWZmhqOKQIj///+HpopAIZmZmYmpikC6MjMzi6yKQFTMzMyMr4pA7mVmZo6yikCH////j7WKQCCZmZmRuIpAujIzM5O7ikBUzMzMlL6KQO1lZmaWwYpAhv///5fEikAgmZmZmceKQLoyMzObyopAU8zMzJzNikDsZWZmntCKQIb///+f04pAIJmZmaHWikC5MjMzo9mKQFLMzMyk3IpA7GVmZqbfikCG////p+KKQB+ZmZmp5YpAuDIzM6voikBSzMzMrOuKQOxlZmau7opAhf///6/xikAemZmZsfSKQLgyMzOz94pAUszMzLT6ikDrZWZmtv2KQIT///+3AItAHpmZmbkDi0C4MjMzuwaLQFHMzMy8CYtA6mVmZr4Mi0CE////vw+LQB6ZmZnBEotAtzIzM8MVi0BQzMzMxBiLQOplZmbGG4tAhP///8cei0AdmZmZySGLQLYyMzPLJItAUMzMzMwni0DqZWZmziqLQIP////PLYtAHJmZmdEwi0C2MjMz0zOLQFDMzMzUNotA6WVmZtY5i0CC////1zyLQByZmZnZP4tAtjIzM9tCi0BPzMzM3EWLQOhlZmbeSItAgv///99Li0AcmZmZ4U6LQLUyMzPjUYtATszMzORUi0DoZWZm5leLQIL////nWotAG5mZmeldi0C0MjMz62CLQE7MzMzsY4tA6GVmZu5mi0CB////72mLQBqZmZnxbItAtDIzM/Nvi0BOzMzM9HKLQOdlZmb2dYtAgP////d4i0AamZmZ+XuLQLQyMzP7fotATczMzPyBi0DmZWZm/oSLQA==\"},\"shape\":[1280],\"dtype\":\"float64\",\"order\":\"little\"}],[\"y\",{\"type\":\"ndarray\",\"array\":{\"type\":\"bytes\",\"data\":\"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\"},\"shape\":[1280],\"dtype\":\"float64\",\"order\":\"little\"}]]}}},\"view\":{\"type\":\"object\",\"name\":\"CDSView\",\"id\":\"p29362\",\"attributes\":{\"filter\":{\"type\":\"object\",\"name\":\"AllIndices\",\"id\":\"p29363\"}}},\"glyph\":{\"type\":\"object\",\"name\":\"Line\",\"id\":\"p29358\",\"attributes\":{\"x\":{\"type\":\"field\",\"field\":\"x\"},\"y\":{\"type\":\"field\",\"field\":\"y\"},\"line_color\":\"#1f77b4\",\"line_width\":3}},\"nonselection_glyph\":{\"type\":\"object\",\"name\":\"Line\",\"id\":\"p29359\",\"attributes\":{\"x\":{\"type\":\"field\",\"field\":\"x\"},\"y\":{\"type\":\"field\",\"field\":\"y\"},\"line_color\":\"#1f77b4\",\"line_alpha\":0.1,\"line_width\":3}},\"muted_glyph\":{\"type\":\"object\",\"name\":\"Line\",\"id\":\"p29360\",\"attributes\":{\"x\":{\"type\":\"field\",\"field\":\"x\"},\"y\":{\"type\":\"field\",\"field\":\"y\"},\"line_color\":\"#1f77b4\",\"line_alpha\":0.2,\"line_width\":3}}}}],\"toolbar\":{\"type\":\"object\",\"name\":\"Toolbar\",\"id\":\"p29315\",\"attributes\":{\"tools\":[{\"type\":\"object\",\"name\":\"PanTool\",\"id\":\"p29338\"},{\"type\":\"object\",\"name\":\"HoverTool\",\"id\":\"p29339\",\"attributes\":{\"renderers\":\"auto\",\"tooltips\":[[\"Pixel Number:\",\"$index\"],[\"Wavelength:\",\"@x{f0.1} nm\"],[\"Irradiance:\",\"@y{f0.1} mW m\\u207b\\u00b2 nm\\u207b\\u00b9\"]]}},{\"type\":\"object\",\"name\":\"WheelZoomTool\",\"id\":\"p29340\"},{\"type\":\"object\",\"name\":\"BoxZoomTool\",\"id\":\"p29341\",\"attributes\":{\"overlay\":{\"type\":\"object\",\"name\":\"BoxAnnotation\",\"id\":\"p29342\",\"attributes\":{\"syncable\":false,\"level\":\"overlay\",\"visible\":false,\"left_units\":\"canvas\",\"right_units\":\"canvas\",\"bottom_units\":\"canvas\",\"top_units\":\"canvas\",\"line_color\":\"black\",\"line_alpha\":1.0,\"line_width\":2,\"line_dash\":[4,4],\"fill_color\":\"lightgrey\",\"fill_alpha\":0.5}}}},{\"type\":\"object\",\"name\":\"UndoTool\",\"id\":\"p29343\"},{\"type\":\"object\",\"name\":\"RedoTool\",\"id\":\"p29344\"},{\"type\":\"object\",\"name\":\"ResetTool\",\"id\":\"p29345\"}],\"active_scroll\":{\"id\":\"p29340\"}}},\"left\":[{\"type\":\"object\",\"name\":\"LinearAxis\",\"id\":\"p29331\",\"attributes\":{\"ticker\":{\"type\":\"object\",\"name\":\"BasicTicker\",\"id\":\"p29332\",\"attributes\":{\"mantissas\":[1,2,5]}},\"formatter\":{\"type\":\"object\",\"name\":\"BasicTickFormatter\",\"id\":\"p29333\"},\"axis_label\":\"Irradiance at 0.5m  mW m\\u207b\\u00b2 nm\\u207b\\u00b9\",\"major_label_policy\":{\"type\":\"object\",\"name\":\"AllLabels\",\"id\":\"p29334\"}}}],\"below\":[{\"type\":\"object\",\"name\":\"LinearAxis\",\"id\":\"p29324\",\"attributes\":{\"ticker\":{\"type\":\"object\",\"name\":\"BasicTicker\",\"id\":\"p29325\",\"attributes\":{\"mantissas\":[1,2,5]}},\"formatter\":{\"type\":\"object\",\"name\":\"BasicTickFormatter\",\"id\":\"p29326\"},\"axis_label\":\"Wavelength\\u2099\\u2098\",\"major_label_policy\":{\"type\":\"object\",\"name\":\"AllLabels\",\"id\":\"p29327\"}}}],\"center\":[{\"type\":\"object\",\"name\":\"Grid\",\"id\":\"p29330\",\"attributes\":{\"axis\":{\"id\":\"p29324\"}}},{\"type\":\"object\",\"name\":\"Grid\",\"id\":\"p29337\",\"attributes\":{\"dimension\":1,\"axis\":{\"id\":\"p29331\"}}},{\"type\":\"object\",\"name\":\"Legend\",\"id\":\"p29364\",\"attributes\":{\"location\":\"top_left\",\"items\":[{\"type\":\"object\",\"name\":\"LegendItem\",\"id\":\"p29365\",\"attributes\":{\"label\":{\"type\":\"value\",\"value\":\"Cal Lamp Spectra\"},\"renderers\":[{\"id\":\"p29361\"}]}}]}}],\"output_backend\":\"webgl\"}}],\"callbacks\":{\"type\":\"map\"}}};\n",
       "  const render_items = [{\"docid\":\"0d78c251-6eb1-498e-acf1-2752f19d3581\",\"roots\":{\"p29306\":\"cdee9124-a6cf-4a87-b847-fe21e999fff2\"},\"root_ids\":[\"p29306\"]}];\n",
       "  root.Bokeh.embed.embed_items_notebook(docs_json, render_items);\n",
       "  }\n",
       "  if (root.Bokeh !== undefined) {\n",
       "    embed_document(root);\n",
       "  } else {\n",
       "    let attempts = 0;\n",
       "    const timer = setInterval(function(root) {\n",
       "      if (root.Bokeh !== undefined) {\n",
       "        clearInterval(timer);\n",
       "        embed_document(root);\n",
       "      } else {\n",
       "        attempts++;\n",
       "        if (attempts > 100) {\n",
       "          clearInterval(timer);\n",
       "          console.log(\"Bokeh: ERROR: Unable to run BokehJS code because BokehJS library is missing\");\n",
       "        }\n",
       "      }\n",
       "    }, 10, root)\n",
       "  }\n",
       "})(window);"
      ],
      "application/vnd.bokehjs_exec.v0+json": ""
     },
     "metadata": {
      "application/vnd.bokehjs_exec.v0+json": {
       "id": "p29306"
      }
     },
     "output_type": "display_data"
    }
   ],
   "source": [
    "# Generate the Bokeh plot widget.\n",
    "TOOLTIPS = [ (\"Pixel Number:\", \"$index\"), (\"Wavelength:\",\"@x{f0.1} nm\"), (\"Irradiance:\", \"@y{f0.1} mW m⁻² nm⁻¹\") ]\n",
    "spectra_w = figure(       title = f\"{rad_cal_filename}\",\n",
    "                   x_axis_label = 'Wavelengthₙₘ', \n",
    "                   y_axis_label = 'Irradiance at 0.5m  mW m⁻² nm⁻¹',\n",
    "                         height = 500, \n",
    "                          width = 700,\n",
    "                          tools ='pan, hover, wheel_zoom, box_zoom, undo, redo, reset', # The default set of plot tools.\n",
    "                       tooltips = TOOLTIPS,\n",
    "                  active_scroll = 'wheel_zoom',\n",
    "                 output_backend =\"webgl\",                # Use webGL enhancement as default.\n",
    "                  )\n",
    "\n",
    "# Plot the actual spectra\n",
    "junk = spectra_w.line( xw,\n",
    "                       yw, \n",
    "                      legend_label = \"Cal Lamp Spectra\", \n",
    "                        line_width = 3\n",
    "                     )\n",
    "#spectra_w.legend.location = 'bottom_right'\n",
    "spectra_w.legend.location = 'top_left'\n",
    "show(spectra_w)"
   ]
  },
  {
   "cell_type": "code",
   "execution_count": null,
   "id": "f125d984-64fe-4b93-99b1-a606ac75a7b3",
   "metadata": {},
   "outputs": [],
   "source": []
  }
 ],
 "metadata": {
  "kernelspec": {
   "display_name": "python3",
   "language": "python",
   "name": "python3"
  }
 },
 "nbformat": 4,
 "nbformat_minor": 5
}
