{
 "cells": [
  {
   "cell_type": "markdown",
   "id": "072ea21f-b03c-4a68-908f-533983b085b6",
   "metadata": {},
   "source": [
    "# RedTideProcessing Algorithms\n",
    "\n",
    "> Red Tide Processing Algorithms for HABSpec"
   ]
  },
  {
   "cell_type": "markdown",
   "id": "7da78358-8f38-4ebc-bc5c-570760f05ed3",
   "metadata": {},
   "source": [
    "This file will become your README and also the index of your documentation."
   ]
  },
  {
   "cell_type": "code",
   "execution_count": null,
   "id": "8bf03366-dec2-4e6d-84a5-e7fca5e09e2a",
   "metadata": {},
   "outputs": [
    {
     "data": {
      "text/plain": [
       "(85.3412962962963, 34.62341346153846, 48.807125, 51.06918269230769)"
      ]
     },
     "execution_count": null,
     "metadata": {},
     "output_type": "execute_result"
    }
   ],
   "source": [
    "r620 = olci_array[ 'Oa7'].y_average\n",
    "r665 = olci_array[ 'Oa8'].y_average\n",
    "r681 = olci_array['Oa10'].y_average\n",
    "r709 = olci_array['Oa11'].y_average\n",
    "\n",
    "r620, r665, r681, r709"
   ]
  },
  {
   "cell_type": "markdown",
   "id": "a88239d7-f194-473d-bf9e-b410381dacaa",
   "metadata": {},
   "source": [
    "[Math ref.](https://en.wikipedia.org/wiki/Help:Displaying_a_formula)\n",
    "\n",
    "Several computations use the Spectral Shape function, but at different wavelenghs.\n",
    "\n",
    "$ SS =  \\text {Spectral Shape.} $\n",
    "\n",
    "$$\n",
    "SS = \\rho_{\\lambda_2} - \\rho_{\\lambda_1} + ( \\rho_{\\lambda_3} - \\rho_{\\lambda_1} )   \\biggl( \\frac{{\\lambda_2 - \\lambda_1}} {{\\lambda_3 - \\lambda_1}} \\biggr)\n",
    "$$\n",
    "\n",
    "For (Wynne) Cyanobacterial Index (CI) use these wavelengths ( $ \\lambda_{nm} $ ) and  reflectance ($\\rho_n$) values:\n",
    "\n",
    "$ \\lambda_1 = 665_{nm} $\n",
    "\n",
    "$ \\lambda_2 = 681_{nm} $\n",
    "\n",
    "$ \\lambda_3  = 709_{nm} $\n",
    "\n",
    "$ \\rho_n = \\text {Remote Sensed Reflectance.} $\n",
    "\n",
    "$ \\rho_1  = 665_{nm} $ Remote Sensed Reflectance.\n",
    "\n",
    "$ \\rho_2  = 681_{nm} $ Remote Sensed Reflectance.\n",
    "\n",
    "$ \\rho_3  = 709_{nm} $ Remote Sensed Reflectance.\n",
    "\n",
    "\n"
   ]
  },
  {
   "cell_type": "code",
   "execution_count": null,
   "id": "4505bf13-6045-498d-9a3f-cd71ae108331",
   "metadata": {},
   "outputs": [
    {
     "data": {
      "text/plain": [
       "(0.36363636363636365, 3.7182220279720273)"
      ]
     },
     "execution_count": null,
     "metadata": {},
     "output_type": "execute_result"
    }
   ],
   "source": [
    "CI_wynn_scale = ( 681 - 665) / ( 709 - 665 )\n",
    "CI_wynne = r681 - r709 + ( r709 - r665) * CI_wynn_scale\n",
    "CI_wynn_scale, CI_wynne"
   ]
  },
  {
   "cell_type": "markdown",
   "id": "3e02f261-0152-4997-a439-812f7a5e1c48",
   "metadata": {},
   "source": [
    "## 2023-0725 meeting.  Below From Rick."
   ]
  },
  {
   "cell_type": "markdown",
   "id": "48d51cdc-8e06-4ec1-8497-fece74f9da65",
   "metadata": {},
   "source": [
    "## 3.1 Cyanobacterial Index (CI)\n",
    "See page 6, formula (1).\n",
    "\n",
    "To compute CI:\n",
    "```\n",
    "ss(665) = R665 - R620 + (R620 - R681) * (665-620) / (681-620)\n",
    "if ss(665) > 0.0:\n",
    "   SS = R681 - R665 + (R665 - R709)   * (681-665)/ (709-665)\n",
    "   CI = -SS * PI\n",
    "else:\n",
    "   CI = 0.0\n",
    "micrograms_chl = 6600.0 * CI\n",
    "```"
   ]
  },
  {
   "cell_type": "markdown",
   "id": "101eb3a7-1a4e-4144-999e-c855e74a3db7",
   "metadata": {},
   "source": [
    "## 3.11 CIcyano\n",
    "See Page 7. Formula (3)\n",
    "\n",
    "$$\n",
    "\n",
    "SS = \\rho_{\\lambda_2} - \\rho_{\\lambda_1} + ( \\rho_{\\lambda_3} - \\rho_{\\lambda_1} )   \\biggl( \\frac{{\\lambda_2 - \\lambda_1}} {{\\lambda_3 - \\lambda_1}} \\biggr)\n",
    "\n",
    "$$\n",
    "\n",
    "𝑆𝑆 = 𝜌𝜆2 − 𝜌𝜆1 + (𝜌𝜆3 − 𝜌𝜆1 ) × (𝜆2−𝜆1\n",
    "𝜆3−𝜆1\n",
    "\n",
    ") "
   ]
  },
  {
   "cell_type": "markdown",
   "id": "33587663-cedb-4f61-9d74-ea92b7c5f09a",
   "metadata": {},
   "source": [
    "## Gilerson Chl\n",
    "\n",
    "$$\n",
    " R_2 = { ( \\rho_{709} - \\rho_{885} ) \\over ( \\rho_{665} - \\rho_{885} ) }\n",
    "$$\n",
    "\n",
    "$$\n",
    " \\text chl_{Gilerson} = \\bigg[ (35.75 R_2) - 14.3 \\bigg]^{1.124}\n",
    "$$\n",
    "```\n",
    "For Gilerson, \n",
    "   Rick: calibration Doesn't matter for Gilerson.\n",
    "   \n",
    "   R2 = (rhos_709 - rhos_885) / (rhos_665 - rhos_885)\n",
    "   gilerson_chl = [(35.75 * R2) - 14.3]^1.124\n",
    "```"
   ]
  },
  {
   "cell_type": "code",
   "execution_count": null,
   "id": "c5dc3713-9ffc-4f14-919c-e5517933b81b",
   "metadata": {},
   "outputs": [],
   "source": []
  },
  {
   "cell_type": "code",
   "execution_count": null,
   "id": "a2512136-ba49-4331-b0f8-4459775d69b1",
   "metadata": {},
   "outputs": [
    {
     "data": {
      "text/plain": [
       "(8.203431818181818,\n",
       " 0.36363636363636365,\n",
       " -23.76644499322778,\n",
       " 0.7377049180327869)"
      ]
     },
     "execution_count": null,
     "metadata": {},
     "output_type": "execute_result"
    }
   ],
   "source": [
    "ss665_scale = (665-620)/(681-620)\n",
    "ss665 = r665 - r620 + (r620 - r681) * ss665_scale\n",
    "ss665_scale, ss665\n",
    "\n",
    "ss_scale = (681-665)/ (709-665)\n",
    "ss = r681 - r665 + (r665 - r709)    * ss_scale\n",
    "ss, ss_scale, ss665, ss665_scale"
   ]
  },
  {
   "cell_type": "code",
   "execution_count": null,
   "id": "c7730db8-d43b-41dd-ba94-38e336df979e",
   "metadata": {},
   "outputs": [],
   "source": [
    "def rbd"
   ]
  }
 ],
 "metadata": {
  "kernelspec": {
   "display_name": "python3",
   "language": "python",
   "name": "python3"
  }
 },
 "nbformat": 4,
 "nbformat_minor": 5
}
