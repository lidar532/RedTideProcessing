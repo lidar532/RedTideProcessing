{
 "cells": [
  {
   "cell_type": "markdown",
   "metadata": {},
   "source": [
    "# RedTideProcessing\n",
    "\n",
    "> Fill in a module description here"
   ]
  },
  {
   "cell_type": "code",
   "execution_count": null,
   "metadata": {},
   "outputs": [],
   "source": [
    "#| default_exp RedTideProcessing"
   ]
  },
  {
   "cell_type": "code",
   "execution_count": null,
   "metadata": {},
   "outputs": [],
   "source": [
    "#| hide\n",
    "from nbdev.showdoc import *\n",
    "import nbdev"
   ]
  },
  {
   "cell_type": "code",
   "execution_count": null,
   "metadata": {},
   "outputs": [],
   "source": [
    "#| hide\n",
    "nbdev.nbdev_export()"
   ]
  },
  {
   "cell_type": "code",
   "execution_count": null,
   "metadata": {},
   "outputs": [],
   "source": [
    "#| export\n",
    "import glob\n",
    "import numpy             as np\n",
    "import pandas            as pd\n",
    "import cv2               as cv\n",
    "import datetime          as dt\n",
    "import glob\n",
    "import matplotlib.pylab  as plt\n",
    "import numpy             as np\n",
    "import pandas            as pd\n",
    "import pandas            as pd\n",
    "import time\n",
    "from geographiclib.geodesic import Geodesic\n",
    "from           PIL          import Image   \n",
    "from       skimage          import io"
   ]
  },
  {
   "cell_type": "code",
   "execution_count": null,
   "metadata": {},
   "outputs": [],
   "source": [
    "## from google.colab.patches   import cv2_imshow # for image display"
   ]
  },
  {
   "cell_type": "markdown",
   "metadata": {},
   "source": [
    "#| hide\n",
    "# Testing."
   ]
  },
  {
   "cell_type": "markdown",
   "metadata": {},
   "source": [
    "#| hide\n",
    "## Testing includes"
   ]
  },
  {
   "cell_type": "code",
   "execution_count": null,
   "metadata": {},
   "outputs": [],
   "source": [
    "import panel as pn\n",
    "from bokeh.plotting import figure, show \n",
    "from bokeh.io import show, output_notebook"
   ]
  },
  {
   "cell_type": "code",
   "execution_count": null,
   "metadata": {},
   "outputs": [
    {
     "data": {
      "text/html": [
       "<style>\n",
       "        .bk-notebook-logo {\n",
       "            display: block;\n",
       "            width: 20px;\n",
       "            height: 20px;\n",
       "            background-image: url(data:image/png;base64,iVBORw0KGgoAAAANSUhEUgAAABQAAAAUCAYAAACNiR0NAAAABHNCSVQICAgIfAhkiAAAAAlwSFlzAAALEgAACxIB0t1+/AAAABx0RVh0U29mdHdhcmUAQWRvYmUgRmlyZXdvcmtzIENTNui8sowAAAOkSURBVDiNjZRtaJVlGMd/1/08zzln5zjP1LWcU9N0NkN8m2CYjpgQYQXqSs0I84OLIC0hkEKoPtiH3gmKoiJDU7QpLgoLjLIQCpEsNJ1vqUOdO7ppbuec5+V+rj4ctwzd8IIbbi6u+8f1539dt3A78eXC7QizUF7gyV1fD1Yqg4JWz84yffhm0qkFqBogB9rM8tZdtwVsPUhWhGcFJngGeWrPzHm5oaMmkfEg1usvLFyc8jLRqDOMru7AyC8saQr7GG7f5fvDeH7Ej8CM66nIF+8yngt6HWaKh7k49Soy9nXurCi1o3qUbS3zWfrYeQDTB/Qj6kX6Ybhw4B+bOYoLKCC9H3Nu/leUTZ1JdRWkkn2ldcCamzrcf47KKXdAJllSlxAOkRgyHsGC/zRday5Qld9DyoM4/q/rUoy/CXh3jzOu3bHUVZeU+DEn8FInkPBFlu3+nW3Nw0mk6vCDiWg8CeJaxEwuHS3+z5RgY+YBR6V1Z1nxSOfoaPa4LASWxxdNp+VWTk7+4vzaou8v8PN+xo+KY2xsw6une2frhw05CTYOmQvsEhjhWjn0bmXPjpE1+kplmmkP3suftwTubK9Vq22qKmrBhpY4jvd5afdRA3wGjFAgcnTK2s4hY0/GPNIb0nErGMCRxWOOX64Z8RAC4oCXdklmEvcL8o0BfkNK4lUg9HTl+oPlQxdNo3Mg4Nv175e/1LDGzZen30MEjRUtmXSfiTVu1kK8W4txyV6BMKlbgk3lMwYCiusNy9fVfvvwMxv8Ynl6vxoByANLTWplvuj/nF9m2+PDtt1eiHPBr1oIfhCChQMBw6Aw0UulqTKZdfVvfG7VcfIqLG9bcldL/+pdWTLxLUy8Qq38heUIjh4XlzZxzQm19lLFlr8vdQ97rjZVOLf8nclzckbcD4wxXMidpX30sFd37Fv/GtwwhzhxGVAprjbg0gCAEeIgwCZyTV2Z1REEW8O4py0wsjeloKoMr6iCY6dP92H6Vw/oTyICIthibxjm/DfN9lVz8IqtqKYLUXfoKVMVQVVJOElGjrnnUt9T9wbgp8AyYKaGlqingHZU/uG2NTZSVqwHQTWkx9hxjkpWDaCg6Ckj5qebgBVbT3V3NNXMSiWSDdGV3hrtzla7J+duwPOToIg42ChPQOQjspnSlp1V+Gjdged7+8UN5CRAV7a5EdFNwCjEaBR27b3W890TE7g24NAP/mMDXRWrGoFPQI9ls/MWO2dWFAar/xcOIImbbpA3zgAAAABJRU5ErkJggg==);\n",
       "        }\n",
       "    </style>\n",
       "    <div>\n",
       "        <a href=\"https://bokeh.org\" target=\"_blank\" class=\"bk-notebook-logo\"></a>\n",
       "        <span id=\"f83b99db-7448-4188-9874-f39bc655014f\">Loading BokehJS ...</span>\n",
       "    </div>\n"
      ]
     },
     "metadata": {},
     "output_type": "display_data"
    },
    {
     "data": {
      "application/javascript": [
       "(function(root) {\n",
       "  function now() {\n",
       "    return new Date();\n",
       "  }\n",
       "\n",
       "  const force = true;\n",
       "\n",
       "  if (typeof root._bokeh_onload_callbacks === \"undefined\" || force === true) {\n",
       "    root._bokeh_onload_callbacks = [];\n",
       "    root._bokeh_is_loading = undefined;\n",
       "  }\n",
       "\n",
       "const JS_MIME_TYPE = 'application/javascript';\n",
       "  const HTML_MIME_TYPE = 'text/html';\n",
       "  const EXEC_MIME_TYPE = 'application/vnd.bokehjs_exec.v0+json';\n",
       "  const CLASS_NAME = 'output_bokeh rendered_html';\n",
       "\n",
       "  /**\n",
       "   * Render data to the DOM node\n",
       "   */\n",
       "  function render(props, node) {\n",
       "    const script = document.createElement(\"script\");\n",
       "    node.appendChild(script);\n",
       "  }\n",
       "\n",
       "  /**\n",
       "   * Handle when an output is cleared or removed\n",
       "   */\n",
       "  function handleClearOutput(event, handle) {\n",
       "    const cell = handle.cell;\n",
       "\n",
       "    const id = cell.output_area._bokeh_element_id;\n",
       "    const server_id = cell.output_area._bokeh_server_id;\n",
       "    // Clean up Bokeh references\n",
       "    if (id != null && id in Bokeh.index) {\n",
       "      Bokeh.index[id].model.document.clear();\n",
       "      delete Bokeh.index[id];\n",
       "    }\n",
       "\n",
       "    if (server_id !== undefined) {\n",
       "      // Clean up Bokeh references\n",
       "      const cmd_clean = \"from bokeh.io.state import curstate; print(curstate().uuid_to_server['\" + server_id + \"'].get_sessions()[0].document.roots[0]._id)\";\n",
       "      cell.notebook.kernel.execute(cmd_clean, {\n",
       "        iopub: {\n",
       "          output: function(msg) {\n",
       "            const id = msg.content.text.trim();\n",
       "            if (id in Bokeh.index) {\n",
       "              Bokeh.index[id].model.document.clear();\n",
       "              delete Bokeh.index[id];\n",
       "            }\n",
       "          }\n",
       "        }\n",
       "      });\n",
       "      // Destroy server and session\n",
       "      const cmd_destroy = \"import bokeh.io.notebook as ion; ion.destroy_server('\" + server_id + \"')\";\n",
       "      cell.notebook.kernel.execute(cmd_destroy);\n",
       "    }\n",
       "  }\n",
       "\n",
       "  /**\n",
       "   * Handle when a new output is added\n",
       "   */\n",
       "  function handleAddOutput(event, handle) {\n",
       "    const output_area = handle.output_area;\n",
       "    const output = handle.output;\n",
       "\n",
       "    // limit handleAddOutput to display_data with EXEC_MIME_TYPE content only\n",
       "    if ((output.output_type != \"display_data\") || (!Object.prototype.hasOwnProperty.call(output.data, EXEC_MIME_TYPE))) {\n",
       "      return\n",
       "    }\n",
       "\n",
       "    const toinsert = output_area.element.find(\".\" + CLASS_NAME.split(' ')[0]);\n",
       "\n",
       "    if (output.metadata[EXEC_MIME_TYPE][\"id\"] !== undefined) {\n",
       "      toinsert[toinsert.length - 1].firstChild.textContent = output.data[JS_MIME_TYPE];\n",
       "      // store reference to embed id on output_area\n",
       "      output_area._bokeh_element_id = output.metadata[EXEC_MIME_TYPE][\"id\"];\n",
       "    }\n",
       "    if (output.metadata[EXEC_MIME_TYPE][\"server_id\"] !== undefined) {\n",
       "      const bk_div = document.createElement(\"div\");\n",
       "      bk_div.innerHTML = output.data[HTML_MIME_TYPE];\n",
       "      const script_attrs = bk_div.children[0].attributes;\n",
       "      for (let i = 0; i < script_attrs.length; i++) {\n",
       "        toinsert[toinsert.length - 1].firstChild.setAttribute(script_attrs[i].name, script_attrs[i].value);\n",
       "        toinsert[toinsert.length - 1].firstChild.textContent = bk_div.children[0].textContent\n",
       "      }\n",
       "      // store reference to server id on output_area\n",
       "      output_area._bokeh_server_id = output.metadata[EXEC_MIME_TYPE][\"server_id\"];\n",
       "    }\n",
       "  }\n",
       "\n",
       "  function register_renderer(events, OutputArea) {\n",
       "\n",
       "    function append_mime(data, metadata, element) {\n",
       "      // create a DOM node to render to\n",
       "      const toinsert = this.create_output_subarea(\n",
       "        metadata,\n",
       "        CLASS_NAME,\n",
       "        EXEC_MIME_TYPE\n",
       "      );\n",
       "      this.keyboard_manager.register_events(toinsert);\n",
       "      // Render to node\n",
       "      const props = {data: data, metadata: metadata[EXEC_MIME_TYPE]};\n",
       "      render(props, toinsert[toinsert.length - 1]);\n",
       "      element.append(toinsert);\n",
       "      return toinsert\n",
       "    }\n",
       "\n",
       "    /* Handle when an output is cleared or removed */\n",
       "    events.on('clear_output.CodeCell', handleClearOutput);\n",
       "    events.on('delete.Cell', handleClearOutput);\n",
       "\n",
       "    /* Handle when a new output is added */\n",
       "    events.on('output_added.OutputArea', handleAddOutput);\n",
       "\n",
       "    /**\n",
       "     * Register the mime type and append_mime function with output_area\n",
       "     */\n",
       "    OutputArea.prototype.register_mime_type(EXEC_MIME_TYPE, append_mime, {\n",
       "      /* Is output safe? */\n",
       "      safe: true,\n",
       "      /* Index of renderer in `output_area.display_order` */\n",
       "      index: 0\n",
       "    });\n",
       "  }\n",
       "\n",
       "  // register the mime type if in Jupyter Notebook environment and previously unregistered\n",
       "  if (root.Jupyter !== undefined) {\n",
       "    const events = require('base/js/events');\n",
       "    const OutputArea = require('notebook/js/outputarea').OutputArea;\n",
       "\n",
       "    if (OutputArea.prototype.mime_types().indexOf(EXEC_MIME_TYPE) == -1) {\n",
       "      register_renderer(events, OutputArea);\n",
       "    }\n",
       "  }\n",
       "  if (typeof (root._bokeh_timeout) === \"undefined\" || force === true) {\n",
       "    root._bokeh_timeout = Date.now() + 5000;\n",
       "    root._bokeh_failed_load = false;\n",
       "  }\n",
       "\n",
       "  const NB_LOAD_WARNING = {'data': {'text/html':\n",
       "     \"<div style='background-color: #fdd'>\\n\"+\n",
       "     \"<p>\\n\"+\n",
       "     \"BokehJS does not appear to have successfully loaded. If loading BokehJS from CDN, this \\n\"+\n",
       "     \"may be due to a slow or bad network connection. Possible fixes:\\n\"+\n",
       "     \"</p>\\n\"+\n",
       "     \"<ul>\\n\"+\n",
       "     \"<li>re-rerun `output_notebook()` to attempt to load from CDN again, or</li>\\n\"+\n",
       "     \"<li>use INLINE resources instead, as so:</li>\\n\"+\n",
       "     \"</ul>\\n\"+\n",
       "     \"<code>\\n\"+\n",
       "     \"from bokeh.resources import INLINE\\n\"+\n",
       "     \"output_notebook(resources=INLINE)\\n\"+\n",
       "     \"</code>\\n\"+\n",
       "     \"</div>\"}};\n",
       "\n",
       "  function display_loaded() {\n",
       "    const el = document.getElementById(\"f83b99db-7448-4188-9874-f39bc655014f\");\n",
       "    if (el != null) {\n",
       "      el.textContent = \"BokehJS is loading...\";\n",
       "    }\n",
       "    if (root.Bokeh !== undefined) {\n",
       "      if (el != null) {\n",
       "        el.textContent = \"BokehJS \" + root.Bokeh.version + \" successfully loaded.\";\n",
       "      }\n",
       "    } else if (Date.now() < root._bokeh_timeout) {\n",
       "      setTimeout(display_loaded, 100)\n",
       "    }\n",
       "  }\n",
       "\n",
       "  function run_callbacks() {\n",
       "    try {\n",
       "      root._bokeh_onload_callbacks.forEach(function(callback) {\n",
       "        if (callback != null)\n",
       "          callback();\n",
       "      });\n",
       "    } finally {\n",
       "      delete root._bokeh_onload_callbacks\n",
       "    }\n",
       "    console.debug(\"Bokeh: all callbacks have finished\");\n",
       "  }\n",
       "\n",
       "  function load_libs(css_urls, js_urls, callback) {\n",
       "    if (css_urls == null) css_urls = [];\n",
       "    if (js_urls == null) js_urls = [];\n",
       "\n",
       "    root._bokeh_onload_callbacks.push(callback);\n",
       "    if (root._bokeh_is_loading > 0) {\n",
       "      console.debug(\"Bokeh: BokehJS is being loaded, scheduling callback at\", now());\n",
       "      return null;\n",
       "    }\n",
       "    if (js_urls == null || js_urls.length === 0) {\n",
       "      run_callbacks();\n",
       "      return null;\n",
       "    }\n",
       "    console.debug(\"Bokeh: BokehJS not loaded, scheduling load and callback at\", now());\n",
       "    root._bokeh_is_loading = css_urls.length + js_urls.length;\n",
       "\n",
       "    function on_load() {\n",
       "      root._bokeh_is_loading--;\n",
       "      if (root._bokeh_is_loading === 0) {\n",
       "        console.debug(\"Bokeh: all BokehJS libraries/stylesheets loaded\");\n",
       "        run_callbacks()\n",
       "      }\n",
       "    }\n",
       "\n",
       "    function on_error(url) {\n",
       "      console.error(\"failed to load \" + url);\n",
       "    }\n",
       "\n",
       "    for (let i = 0; i < css_urls.length; i++) {\n",
       "      const url = css_urls[i];\n",
       "      const element = document.createElement(\"link\");\n",
       "      element.onload = on_load;\n",
       "      element.onerror = on_error.bind(null, url);\n",
       "      element.rel = \"stylesheet\";\n",
       "      element.type = \"text/css\";\n",
       "      element.href = url;\n",
       "      console.debug(\"Bokeh: injecting link tag for BokehJS stylesheet: \", url);\n",
       "      document.body.appendChild(element);\n",
       "    }\n",
       "\n",
       "    for (let i = 0; i < js_urls.length; i++) {\n",
       "      const url = js_urls[i];\n",
       "      const element = document.createElement('script');\n",
       "      element.onload = on_load;\n",
       "      element.onerror = on_error.bind(null, url);\n",
       "      element.async = false;\n",
       "      element.src = url;\n",
       "      console.debug(\"Bokeh: injecting script tag for BokehJS library: \", url);\n",
       "      document.head.appendChild(element);\n",
       "    }\n",
       "  };\n",
       "\n",
       "  function inject_raw_css(css) {\n",
       "    const element = document.createElement(\"style\");\n",
       "    element.appendChild(document.createTextNode(css));\n",
       "    document.body.appendChild(element);\n",
       "  }\n",
       "\n",
       "  const js_urls = [\"https://cdn.bokeh.org/bokeh/release/bokeh-3.1.1.min.js\", \"https://cdn.bokeh.org/bokeh/release/bokeh-gl-3.1.1.min.js\", \"https://cdn.bokeh.org/bokeh/release/bokeh-widgets-3.1.1.min.js\", \"https://cdn.bokeh.org/bokeh/release/bokeh-tables-3.1.1.min.js\", \"https://cdn.bokeh.org/bokeh/release/bokeh-mathjax-3.1.1.min.js\", \"https://unpkg.com/@holoviz/panel@1.1.0/dist/panel.min.js\"];\n",
       "  const css_urls = [];\n",
       "\n",
       "  const inline_js = [    function(Bokeh) {\n",
       "      Bokeh.set_log_level(\"info\");\n",
       "    },\n",
       "function(Bokeh) {\n",
       "    }\n",
       "  ];\n",
       "\n",
       "  function run_inline_js() {\n",
       "    if (root.Bokeh !== undefined || force === true) {\n",
       "          for (let i = 0; i < inline_js.length; i++) {\n",
       "      inline_js[i].call(root, root.Bokeh);\n",
       "    }\n",
       "if (force === true) {\n",
       "        display_loaded();\n",
       "      }} else if (Date.now() < root._bokeh_timeout) {\n",
       "      setTimeout(run_inline_js, 100);\n",
       "    } else if (!root._bokeh_failed_load) {\n",
       "      console.log(\"Bokeh: BokehJS failed to load within specified timeout.\");\n",
       "      root._bokeh_failed_load = true;\n",
       "    } else if (force !== true) {\n",
       "      const cell = $(document.getElementById(\"f83b99db-7448-4188-9874-f39bc655014f\")).parents('.cell').data().cell;\n",
       "      cell.output_area.append_execute_result(NB_LOAD_WARNING)\n",
       "    }\n",
       "  }\n",
       "\n",
       "  if (root._bokeh_is_loading === 0) {\n",
       "    console.debug(\"Bokeh: BokehJS loaded, going straight to plotting\");\n",
       "    run_inline_js();\n",
       "  } else {\n",
       "    load_libs(css_urls, js_urls, function() {\n",
       "      console.debug(\"Bokeh: BokehJS plotting callback run at\", now());\n",
       "      run_inline_js();\n",
       "    });\n",
       "  }\n",
       "}(window));"
      ],
      "application/vnd.bokehjs_load.v0+json": "(function(root) {\n  function now() {\n    return new Date();\n  }\n\n  const force = true;\n\n  if (typeof root._bokeh_onload_callbacks === \"undefined\" || force === true) {\n    root._bokeh_onload_callbacks = [];\n    root._bokeh_is_loading = undefined;\n  }\n\n\n  if (typeof (root._bokeh_timeout) === \"undefined\" || force === true) {\n    root._bokeh_timeout = Date.now() + 5000;\n    root._bokeh_failed_load = false;\n  }\n\n  const NB_LOAD_WARNING = {'data': {'text/html':\n     \"<div style='background-color: #fdd'>\\n\"+\n     \"<p>\\n\"+\n     \"BokehJS does not appear to have successfully loaded. If loading BokehJS from CDN, this \\n\"+\n     \"may be due to a slow or bad network connection. Possible fixes:\\n\"+\n     \"</p>\\n\"+\n     \"<ul>\\n\"+\n     \"<li>re-rerun `output_notebook()` to attempt to load from CDN again, or</li>\\n\"+\n     \"<li>use INLINE resources instead, as so:</li>\\n\"+\n     \"</ul>\\n\"+\n     \"<code>\\n\"+\n     \"from bokeh.resources import INLINE\\n\"+\n     \"output_notebook(resources=INLINE)\\n\"+\n     \"</code>\\n\"+\n     \"</div>\"}};\n\n  function display_loaded() {\n    const el = document.getElementById(\"f83b99db-7448-4188-9874-f39bc655014f\");\n    if (el != null) {\n      el.textContent = \"BokehJS is loading...\";\n    }\n    if (root.Bokeh !== undefined) {\n      if (el != null) {\n        el.textContent = \"BokehJS \" + root.Bokeh.version + \" successfully loaded.\";\n      }\n    } else if (Date.now() < root._bokeh_timeout) {\n      setTimeout(display_loaded, 100)\n    }\n  }\n\n  function run_callbacks() {\n    try {\n      root._bokeh_onload_callbacks.forEach(function(callback) {\n        if (callback != null)\n          callback();\n      });\n    } finally {\n      delete root._bokeh_onload_callbacks\n    }\n    console.debug(\"Bokeh: all callbacks have finished\");\n  }\n\n  function load_libs(css_urls, js_urls, callback) {\n    if (css_urls == null) css_urls = [];\n    if (js_urls == null) js_urls = [];\n\n    root._bokeh_onload_callbacks.push(callback);\n    if (root._bokeh_is_loading > 0) {\n      console.debug(\"Bokeh: BokehJS is being loaded, scheduling callback at\", now());\n      return null;\n    }\n    if (js_urls == null || js_urls.length === 0) {\n      run_callbacks();\n      return null;\n    }\n    console.debug(\"Bokeh: BokehJS not loaded, scheduling load and callback at\", now());\n    root._bokeh_is_loading = css_urls.length + js_urls.length;\n\n    function on_load() {\n      root._bokeh_is_loading--;\n      if (root._bokeh_is_loading === 0) {\n        console.debug(\"Bokeh: all BokehJS libraries/stylesheets loaded\");\n        run_callbacks()\n      }\n    }\n\n    function on_error(url) {\n      console.error(\"failed to load \" + url);\n    }\n\n    for (let i = 0; i < css_urls.length; i++) {\n      const url = css_urls[i];\n      const element = document.createElement(\"link\");\n      element.onload = on_load;\n      element.onerror = on_error.bind(null, url);\n      element.rel = \"stylesheet\";\n      element.type = \"text/css\";\n      element.href = url;\n      console.debug(\"Bokeh: injecting link tag for BokehJS stylesheet: \", url);\n      document.body.appendChild(element);\n    }\n\n    for (let i = 0; i < js_urls.length; i++) {\n      const url = js_urls[i];\n      const element = document.createElement('script');\n      element.onload = on_load;\n      element.onerror = on_error.bind(null, url);\n      element.async = false;\n      element.src = url;\n      console.debug(\"Bokeh: injecting script tag for BokehJS library: \", url);\n      document.head.appendChild(element);\n    }\n  };\n\n  function inject_raw_css(css) {\n    const element = document.createElement(\"style\");\n    element.appendChild(document.createTextNode(css));\n    document.body.appendChild(element);\n  }\n\n  const js_urls = [\"https://cdn.bokeh.org/bokeh/release/bokeh-3.1.1.min.js\", \"https://cdn.bokeh.org/bokeh/release/bokeh-gl-3.1.1.min.js\", \"https://cdn.bokeh.org/bokeh/release/bokeh-widgets-3.1.1.min.js\", \"https://cdn.bokeh.org/bokeh/release/bokeh-tables-3.1.1.min.js\", \"https://cdn.bokeh.org/bokeh/release/bokeh-mathjax-3.1.1.min.js\", \"https://unpkg.com/@holoviz/panel@1.1.0/dist/panel.min.js\"];\n  const css_urls = [];\n\n  const inline_js = [    function(Bokeh) {\n      Bokeh.set_log_level(\"info\");\n    },\nfunction(Bokeh) {\n    }\n  ];\n\n  function run_inline_js() {\n    if (root.Bokeh !== undefined || force === true) {\n          for (let i = 0; i < inline_js.length; i++) {\n      inline_js[i].call(root, root.Bokeh);\n    }\nif (force === true) {\n        display_loaded();\n      }} else if (Date.now() < root._bokeh_timeout) {\n      setTimeout(run_inline_js, 100);\n    } else if (!root._bokeh_failed_load) {\n      console.log(\"Bokeh: BokehJS failed to load within specified timeout.\");\n      root._bokeh_failed_load = true;\n    } else if (force !== true) {\n      const cell = $(document.getElementById(\"f83b99db-7448-4188-9874-f39bc655014f\")).parents('.cell').data().cell;\n      cell.output_area.append_execute_result(NB_LOAD_WARNING)\n    }\n  }\n\n  if (root._bokeh_is_loading === 0) {\n    console.debug(\"Bokeh: BokehJS loaded, going straight to plotting\");\n    run_inline_js();\n  } else {\n    load_libs(css_urls, js_urls, function() {\n      console.debug(\"Bokeh: BokehJS plotting callback run at\", now());\n      run_inline_js();\n    });\n  }\n}(window));"
     },
     "metadata": {},
     "output_type": "display_data"
    }
   ],
   "source": [
    "output_notebook()"
   ]
  },
  {
   "cell_type": "markdown",
   "metadata": {},
   "source": [
    "#| hide\n",
    "## Global vars for testing only."
   ]
  },
  {
   "cell_type": "markdown",
   "metadata": {},
   "source": [
    "For working with test data from s:"
   ]
  },
  {
   "cell_type": "code",
   "execution_count": null,
   "metadata": {},
   "outputs": [],
   "source": [
    "Gps_File_Name = '/mnt/f/My Drive/Missions/2021-1208-HAB-Lake-Parker/'\\\n",
    "                '2021-1208/2021-1208-175324-910850-mission-gps.txt'\n",
    "\n",
    "mission_folder = '/mnt/s/2021-0717-HAB-Spec-Tampa-Bay-PIE/2021-0717-HAB-pie/'\n",
    "\n",
    "Gps_File_Name = \"/mnt/s/2021-0717-HAB-Spec-Tampa-Bay-PIE/2021-0717-HAB-pie/2021-0717-044645-687230-mission-gps.txt\"\n",
    "\n",
    "test_spectra_file = mission_folder+'/160206/hab_spectra/2021-0717-160401-066388-spec.json'"
   ]
  },
  {
   "cell_type": "code",
   "execution_count": null,
   "metadata": {},
   "outputs": [
    {
     "data": {
      "text/plain": [
       "'../sample_data/2023-0718/034901//hab_spectra/2023-0718-034912-259843-spec.json'"
      ]
     },
     "execution_count": null,
     "metadata": {},
     "output_type": "execute_result"
    }
   ],
   "source": [
    "mission_folder = \"../sample_data/2023-0718/034901/\"\n",
    "test_spectra_file = mission_folder + \"/hab_spectra/\" + \"2023-0718-034912-259843-spec.json\"\n",
    "test_spectra_file"
   ]
  },
  {
   "cell_type": "markdown",
   "metadata": {},
   "source": [
    "#| hide\n",
    "## Module wide Globals"
   ]
  },
  {
   "cell_type": "markdown",
   "metadata": {},
   "source": [
    "#| hide\n",
    "### Working spectra data "
   ]
  },
  {
   "cell_type": "code",
   "execution_count": null,
   "metadata": {},
   "outputs": [],
   "source": [
    "#| export\n",
    "summed_rows = 0\n",
    "Xpixels     = np.array(1)\n",
    "wavelengths = np.array(1)\n",
    "create_time = dt.datetime.utcnow()"
   ]
  },
  {
   "cell_type": "code",
   "execution_count": null,
   "metadata": {},
   "outputs": [],
   "source": [
    "class HAB_Spectra:\n",
    "  '''\n",
    "  '''\n",
    "  Xpixels     = np.array(1)\n",
    "  wavelengths = np.array(1)\n",
    "  create_time = dt.datetime.utcnow()\n",
    "  pixel_0      = None\n",
    "  wavelength_0 = None\n",
    "  pixel_1      = None\n",
    "  wavelength_1 = None\n",
    "  def __init__(self):\n",
    "    self.lat          = None\n",
    "    self.lon          = None\n",
    "    self.altitde_m    = None\n",
    "    self.n_saturated  = None\n",
    "    self.raw_y_min    = None\n",
    "    \n",
    "    self.raw_y        = []\n",
    "    self.summed_rows  = 0\n",
    "  \n",
    "  def __str__(self):\n",
    "    str = f'{self.lat=} {self.lon=} {self.altitde_m=} {self.summed_rows=} {self.n_saturated=} {self.raw_y_min=}'\n",
    "    return str\n"
   ]
  },
  {
   "cell_type": "code",
   "execution_count": null,
   "metadata": {},
   "outputs": [
    {
     "data": {
      "text/plain": [
       "'self.lat=None self.lon=None self.altitde_m=None self.summed_rows=0 self.n_saturated=None self.raw_y_min=None'"
      ]
     },
     "execution_count": null,
     "metadata": {},
     "output_type": "execute_result"
    }
   ],
   "source": [
    "hab_spectra = HAB_Spectra()\n",
    "hab_spectra.__str__()"
   ]
  },
  {
   "cell_type": "markdown",
   "metadata": {},
   "source": [
    "#| hide\n",
    "## Functions"
   ]
  },
  {
   "cell_type": "markdown",
   "metadata": {},
   "source": [
    "#| hide#\n",
    "### General Purpose datetime Functions"
   ]
  },
  {
   "cell_type": "markdown",
   "metadata": {},
   "source": [
    "#| hide\n",
    "#### def hhmmss_to_sod( hhmmss, Usecs=0):"
   ]
  },
  {
   "cell_type": "code",
   "execution_count": null,
   "metadata": {},
   "outputs": [],
   "source": [
    "#| export\n",
    "def hhmmss_to_sod( hhmmss, Usecs=0):\n",
    "    \"\"\"\n",
    "    Converts a time string in 'HHMMSS' format to a seconds-of-the-day\n",
    "    including an optional microseconds fraction.\n",
    "\n",
    "    Parameters:\n",
    "    ----------- \n",
    "    hhmmss : str\n",
    "    Usecs  : str, default=0\n",
    "\n",
    "    Returns: \n",
    "    --------\n",
    "    float\n",
    "      Seconds of the day including the fractional part computed from `Usecs`\n",
    "    \n",
    "    Description:\n",
    "    ------------\n",
    "    hhmmss where hh is hours, mm is minutes, and ss is seconds. Example '123456'\n",
    "    is 12 hours, 34 minutes, and 56 seconds. A string representing the number of\n",
    "    microseconds since the last second increment, ie the fractional part of a second. \n",
    "    Example: '954561' represents 0.954561 seconds, or 954,561 microseconds since the\n",
    "    last seconds rollover. Returns A single floating point value of the seconds since\n",
    "    midnight plus the fractional seconds.\n",
    "\n",
    "    Examples:\n",
    "    ---------\n",
    "    To be added.\n",
    "\n",
    "    \"\"\"\n",
    "    hh = int(hhmmss[0:2])\n",
    "    mm = int(hhmmss[2:4])\n",
    "    ss = int(hhmmss[4:6])\n",
    "    fsod = hh*3600 + mm*60 + ss + float(Usecs) * 1e-6\n",
    "    return fsod"
   ]
  },
  {
   "cell_type": "markdown",
   "metadata": {},
   "source": [
    "#| hide\n",
    "#### def now_utc( fmt='%Y-%m%d %H:%M:%S'):"
   ]
  },
  {
   "cell_type": "code",
   "execution_count": null,
   "metadata": {},
   "outputs": [],
   "source": [
    "#| export\n",
    "def now_utc( fmt='%Y-%m%d %H:%M:%S'):\n",
    "    \"\"\" Return the current UTC date and time as a string.  Example return: '2021-0812 15:39:41'.\n",
    "    See: http://shorturl.at/koOQ7 for timeformat options & directives.\n",
    "    \"\"\"\n",
    "    t = dt.datetime.utcnow()\n",
    "    ts = f'{t:{fmt}}'\n",
    "    return ts"
   ]
  },
  {
   "cell_type": "markdown",
   "metadata": {},
   "source": [
    "#| hide\n",
    "#### def hms2sod( str, debug=False):"
   ]
  },
  {
   "cell_type": "code",
   "execution_count": null,
   "metadata": {},
   "outputs": [],
   "source": [
    "#| export\n",
    "#debug_hms2sod = False\n",
    "def hms2sod( str, debug=False):\n",
    "  '''\n",
    "  Converts an ASCII string in the form 'HH:MM\"SS' to seconds of the day. Works with\n",
    "  fractional seconds.\n",
    "  '''\n",
    "  t_lst = str.split('.')\n",
    "  ts = time.strptime( t_lst[0], '%H:%M:%S')\n",
    "  if len(t_lst) > 1:\n",
    "    fs = float(\".\"+t_lst[1] )\n",
    "  else:\n",
    "    fs = 0.0\n",
    "  sod = ts[3]*3600 + ts[4]*60 + ts[5] + fs\n",
    "  return sod"
   ]
  },
  {
   "cell_type": "code",
   "execution_count": null,
   "metadata": {},
   "outputs": [
    {
     "name": "stdout",
     "output_type": "stream",
     "text": [
      "\n",
      "Testing: hms2sod( t )\n",
      "Time Str       Seconds of Day\n",
      "-----------------------------\n",
      "00:00:00             0.000000\n",
      "23:59:59         86399.000000\n",
      "12:00:00         43200.000000\n",
      "00:00:00.0           0.000000\n",
      "0:0:0.0              0.000000\n",
      "0:0:0                0.000000\n"
     ]
    }
   ],
   "source": [
    "print('\\nTesting: hms2sod( t )')\n",
    "tt = ['00:00:00',   '23:59:59', '12:00:00',\n",
    "      '00:00:00.0', '0:0:0.0', '0:0:0' ]\n",
    "print('Time Str       Seconds of Day\\n'\\\n",
    "       '-----------------------------')\n",
    "for t in tt:\n",
    "  rv = hms2sod( t )\n",
    "  print(f'{t:16} {rv:12.6f}')"
   ]
  },
  {
   "cell_type": "markdown",
   "metadata": {},
   "source": [
    "|! hide\n",
    "####   def extract_hms( fn):"
   ]
  },
  {
   "cell_type": "code",
   "execution_count": null,
   "metadata": {},
   "outputs": [],
   "source": [
    "#| export\n",
    "def extract_hms( fn):\n",
    "    '''Extract the HHMMSS and Fsecs strings from filename \"fn\"\n",
    "\n",
    "    Returns:\n",
    "    --------\n",
    "    ( hhmmss:str, fsecs:str, hhmmss.fsecs:float, sod.fsecs:float )\n",
    "    '''\n",
    "    lst = fn.split('-')\n",
    "    sod = hhmmss_to_sod( lst[-3], Usecs=lst[-2] )\n",
    "    return ( lst[-3], lst[-2], float(lst[-3])+float(lst[-2])*1e-6, sod  )"
   ]
  },
  {
   "cell_type": "markdown",
   "metadata": {},
   "source": [
    "#| hide\n",
    "### HABSpec JSON Functions"
   ]
  },
  {
   "cell_type": "markdown",
   "metadata": {},
   "source": [
    "#| hide\n",
    "#### def configure_json_spectra()"
   ]
  },
  {
   "cell_type": "code",
   "execution_count": null,
   "metadata": {},
   "outputs": [],
   "source": [
    "#| export\n",
    "def configure_json_spectra(f:str   # Json settings file.\n",
    "                        ) ->str:   # Returns the Json file name.\n",
    "    '''\n",
    "    Configures HabSpec internal setting according to settings found within a json spectra file 'f'.\n",
    "\n",
    "    Parameters:\n",
    "    -----------\n",
    "    f : str\n",
    "        HabSpec json spectra full path and file name.\n",
    "\n",
    "    Returns:\n",
    "    --------\n",
    "        f:str.\n",
    "    '''\n",
    "    global Xpixels, summed_rows, wavelengths \n",
    "    spec = pd.read_json(f)                      # get a spectra fron a json file\n",
    "    y = np.array(spec['hab_spec'].spectra )     # Load the y values to an np array\n",
    "    summed_rows = spec['hab_spec'].summed_rows\n",
    "    Xpixels = np.arange(0,y.size )              # Construct an array of X values\n",
    "    wavelengths = np.arange( y.size )\n",
    "    return f"
   ]
  },
  {
   "cell_type": "code",
   "execution_count": null,
   "metadata": {},
   "outputs": [
    {
     "data": {
      "text/plain": [
       "('../sample_data/2023-0718/034901/hab_spectra/2023-0718-034901-714246-spec.json',\n",
       " array([   0,    1,    2, ..., 1277, 1278, 1279]),\n",
       " 800,\n",
       " array([   0,    1,    2, ..., 1277, 1278, 1279]))"
      ]
     },
     "execution_count": null,
     "metadata": {},
     "output_type": "execute_result"
    }
   ],
   "source": [
    "fn = '../sample_data/2023-0718/034901/hab_spectra/2023-0718-034901-714246-spec.json'\n",
    "f = configure_json_spectra( fn )\n",
    "f, Xpixels, summed_rows, wavelengths"
   ]
  },
  {
   "cell_type": "markdown",
   "metadata": {},
   "source": [
    "|! hide\n",
    "#### def calibrate_using_2_wavelengths()"
   ]
  },
  {
   "cell_type": "code",
   "execution_count": null,
   "metadata": {},
   "outputs": [],
   "source": [
    "#| export\n",
    "def calibrate_using_2_wavelengths(\n",
    "                                  pixel0:int=0,         #  pixel # for Wavelength 0\n",
    "                                  wavelength0:float=0,   # Wavelength of pixel 0\n",
    "                                  pixel1:int=0,         # pixel # for Wavelength 1\n",
    "                                  wavelength1:float=0   # Wavelength for pixel1\n",
    "                                 ):\n",
    "    '''\n",
    "    Generate a Numpy array of calibration wavelenghts for each pixel. configure_json_spectra(f)\n",
    "    must be called beforehand inrder to set the correct number of pixels.\n",
    "\n",
    "    Parameters:\n",
    "    -----------\n",
    "    pixel0 : int, default 0\n",
    "    wavelength0 : float, default 0\n",
    "    pixel1 : int, default 0\n",
    "    wavelength1 : float, default 0\n",
    "\n",
    "    Returns:\n",
    "    --------\n",
    "    Float array of calibrated wavelengths for each pixel.  The returned array is the\n",
    "    same size as Xpixels.\n",
    "\n",
    "    Example:\n",
    "    ---------\n",
    "    # Configure the spectra by reading a spectra file.\n",
    "    fn = '/content/drive/MyDrive/Missions/2021-0717-HAB-pie/165347/hab_spectra/2021-0717-165348-272814-spec.json'\n",
    "    hs.configure_json_spectra(fn)\n",
    "\n",
    "    # Calibrate the spectra.  Pixel 73 is at 430.774nm, and pixel 941 is at 759.370nm\n",
    "    hs.calibrate_using_2_wavelengths(pixel0=73, wavelength0=430.774, pixel1=941, wavelength1=759.370 )\n",
    "\n",
    "    References:\n",
    "    -----------\n",
    "    The following are wavelength calibration sources.\n",
    "    See: http://hyperphysics.phy-astr.gsu.edu/hbase/quantum/atspect2.html\n",
    "    and: https://commons.wikimedia.org/wiki/File:Fluorescent_lighting_spectrum_peaks_labelled.gif\n",
    "    and: https://en.wikipedia.org/wiki/Fluorescent_lamp#/media/File:Spectra-Philips_32T8_natural_sunshine_fluorescent_light.svg\n",
    "    '''\n",
    "    dp = pixel1      - pixel0              # pixel delta\n",
    "    dw = wavelength1 - wavelength0         # Wavelength delta\n",
    "    slope = dw/dp                          # Linear slope\n",
    "    wavelengths = wavelength0 + (Xpixels-pixel0) * slope\n",
    "    return wavelengths"
   ]
  },
  {
   "cell_type": "markdown",
   "metadata": {},
   "source": [
    "Calibrate spectra by setting the pixel numbers and cooresponding wavelengths\n",
    "for two pixels.  The two pixels should be a far apart as possible to minimize\n",
    "error.  The calibrate_using_2_wavelengths() function will return a list \n",
    "which contains the wavelength for every pixel in the spectra."
   ]
  },
  {
   "cell_type": "code",
   "execution_count": null,
   "metadata": {},
   "outputs": [
    {
     "name": "stdout",
     "output_type": "stream",
     "text": [
      "\n",
      "Wavelength Calibration Data:\n",
      "\n",
      "                     First      Second\n",
      "   Wavelengths (nm): 430.774      759.370\n",
      "     Pixel Location:  73.000      941.000\n",
      "\n",
      "1280 elements found in `wavelengths`.\n",
      "First 5 pixel wavelengths: [403.13862212 403.51718894 403.89575576 404.27432258 404.6528894 ]\n",
      " Last 5 pixel wavelengths: [885.81131797 886.18988479 886.56845161 886.94701843 887.32558525]\n"
     ]
    }
   ],
   "source": [
    "# Calibrate the spectra for wavelength in nanometers\n",
    "wavelengths = calibrate_using_2_wavelengths( \n",
    "  pixel0 =  73, wavelength0 = 430.774, \n",
    "  pixel1 = 941, wavelength1 = 759.370 )\n",
    "\n",
    "print('\\nWavelength Calibration Data:\\n\\n'\n",
    "'                     First      Second\\n'\n",
    "f'   Wavelengths (nm): {wavelengths[73]:7.3f}      {wavelengths[941]:7.3f}\\n'\n",
    "f'     Pixel Location: {73:7.3f}      {941:7.3f}\\n')\n",
    "\n",
    "print(f'{len( wavelengths )} elements found in `wavelengths`.' )\n",
    "print(f'First 5 pixel wavelengths: {wavelengths[0:5]}')\n",
    "print(f' Last 5 pixel wavelengths: {wavelengths[-5:]}')"
   ]
  },
  {
   "cell_type": "markdown",
   "metadata": {},
   "source": [
    "|! hide\n",
    "#### def read_spectra()"
   ]
  },
  {
   "cell_type": "code",
   "execution_count": null,
   "metadata": {},
   "outputs": [],
   "source": [
    "#| export\n",
    "def read_spectra(f,                    # JSON Spectra file name\n",
    "                   remove_bias = True, # Bol remove bias\n",
    "                   y_average   = True  # Average Y values\n",
    "                  ) -> float:          # Numpy array of spectral points.\n",
    "    \"\"\"\n",
    "    Reads a Json hyperspectra file.\n",
    "\n",
    "    Parameters:\n",
    "    -----------\n",
    "    f : str\n",
    "      The full path name of a hyperspectra Json file.\n",
    "    remove_bias : Default True\n",
    "      Subtracts the minimum y value from the array of y values to remove dark current. \n",
    "      The minimum value will typically be found in the IR side and from the pixel \n",
    "      sensors that are optically obscured.\n",
    "    y_average : Default True\n",
    "      The Json values are the sum total of each pixel column. Each column contains 800\n",
    "      pixels. Setting this to True causes the read y values to be divided by 800.\n",
    "\n",
    "    Returns:\n",
    "    --------\n",
    "    Numpy array\n",
    "      An array of numpy float values representing the intensity values at each pixel. \n",
    "\n",
    "    Description:\n",
    "    ------------\n",
    "    Reads a Json spectra from a file.\n",
    "\n",
    "    Examples:\n",
    "    ---------\n",
    "    fn = '/content/drive/MyDrive/Missions/2021-0717-HAB-pie/165347/hab_spectra/2021-0717-165348-272814-spec.json'\n",
    "    s = hs.read_spectra(fn)\n",
    "    \"\"\"\n",
    "    spec = pd.read_json(f)\n",
    "    if summed_rows == 0 :\n",
    "      configure_json_spectra(f)\n",
    "    y = np.array(spec['hab_spec'].spectra)\n",
    "\n",
    "    if y_average == True:\n",
    "      y = y / summed_rows\n",
    "\n",
    "    if remove_bias == True:\n",
    "      y = y - y.min()\n",
    "    return y"
   ]
  },
  {
   "cell_type": "code",
   "execution_count": null,
   "metadata": {},
   "outputs": [
    {
     "name": "stdout",
     "output_type": "stream",
     "text": [
      "../sample_data/2023-0718/034901//hab_spectra/2023-0718-034912-259843-spec.json\n"
     ]
    }
   ],
   "source": [
    "print(test_spectra_file)\n",
    "test_spectra = read_spectra(test_spectra_file)"
   ]
  },
  {
   "cell_type": "markdown",
   "metadata": {},
   "source": [
    "#| hide\n",
    "#### def w_to_pixel(x, w))"
   ]
  },
  {
   "cell_type": "code",
   "execution_count": null,
   "metadata": {},
   "outputs": [],
   "source": [
    "#| export\n",
    "def w_to_pixel( \n",
    "  x,       #   Array of wavelengths for each pixel\n",
    "  w        #   The wavelength you want the pixel number of.\n",
    ") -> int:  #   The pixel\n",
    "  '''\n",
    "  Return the pixel index for a given wavelength `w`.  Out of range\n",
    "  wavelengths cause -1 to be returned.\n",
    "  '''\n",
    "  dw  = (x[-1] - x[0])\n",
    "  dpx = len(x)\n",
    "  d  = dw/dpx\n",
    "  px = int((w-x[0]) / d )\n",
    "  if px < 0: \n",
    "    px = -1\n",
    "  elif w > x[-1]:\n",
    "    px = -1\n",
    "  return px"
   ]
  },
  {
   "cell_type": "markdown",
   "metadata": {},
   "source": [
    "#| hide\n",
    "#### def pixel_to_w()"
   ]
  },
  {
   "cell_type": "code",
   "execution_count": null,
   "metadata": {},
   "outputs": [],
   "source": [
    "#| export\n",
    "def pixel_to_w(\n",
    "  x,             # Array of wavlengths if the sensor.\n",
    "  pix,           # Pixel number to convert to wavelength.\n",
    ") -> float:      # The wavelength of the pixel.\n",
    "  '''\n",
    "  Return the wavelength of a given pixel index.\n",
    "  Out of range wavelengths cause -1 to be returned.\n",
    "  '''\n",
    "  dw  = (x[-1] - x[0])\n",
    "  dpx = len(x)\n",
    "  d  = dw/dpx\n",
    "  w = px*d + x[0]\n",
    "  if w < x[0]:\n",
    "    w = -1.0\n",
    "  elif w > x[-1]:\n",
    "    w = -1.0\n",
    "  return w"
   ]
  },
  {
   "cell_type": "markdown",
   "metadata": {},
   "source": [
    "test w_to_pixel."
   ]
  },
  {
   "cell_type": "code",
   "execution_count": null,
   "metadata": {},
   "outputs": [
    {
     "name": "stdout",
     "output_type": "stream",
     "text": [
      "       w0   px        w1      Diff\n",
      "  403.139    0   403.139     0.000\n",
      "  300.000   -1    -1.000  -301.000\n",
      "  500.000  256   499.976    -0.024\n",
      "  600.000  520   599.840    -0.160\n",
      "  700.000  784   699.703    -0.297\n",
      "  800.000 1049   799.945    -0.055\n",
      " 1000.000   -1    -1.000 -1001.000\n",
      "  887.326 1280   887.326     0.000\n"
     ]
    }
   ],
   "source": [
    "print('       w0   px        w1      Diff')\n",
    "for w0 in ( \n",
    "  wavelengths[0], \n",
    "  300, 500, 600, 700, 800, 1000,\n",
    "  wavelengths[-1] \n",
    "):\n",
    "  px = w_to_pixel( wavelengths, w0)\n",
    "  w1  = pixel_to_w( wavelengths, px)\n",
    "  dif = w1 - w0\n",
    "  print(f'{w0:9.3f} {px:4d} {w1:9.3f} {dif:9.3f}' )"
   ]
  },
  {
   "cell_type": "markdown",
   "metadata": {},
   "source": [
    "|! hide\n",
    "#### def w_range_pixels( x,a,b):"
   ]
  },
  {
   "cell_type": "code",
   "execution_count": null,
   "metadata": {},
   "outputs": [],
   "source": [
    "#| export\n",
    "def w_range_pixels( \n",
    "  x,        # A numpy array of wavlengths for each pixel.\n",
    "  a,        # Starting wavelength.\n",
    "  b         # Ending wavelength.\n",
    ") -> list:  # List of pixels cooresponding to `a`:`b` wavelengths.\n",
    "    '''\n",
    "    Returns a pixel index list of all pixels between wavelength 'a' and 'b'. \n",
    "    '''\n",
    "    rv = np.where(np.logical_and( x>a, x<b) )\n",
    "    return rv"
   ]
  },
  {
   "cell_type": "markdown",
   "metadata": {},
   "source": [
    "Test w_range_pixels() between 500 and 530 nanometers."
   ]
  },
  {
   "cell_type": "code",
   "execution_count": null,
   "metadata": {},
   "outputs": [],
   "source": [
    "test_blue_band_edge = 500\n",
    "test_red_band_edge  = 520\n",
    "test_band_pixels = w_range_pixels( wavelengths, test_blue_band_edge, test_red_band_edge)"
   ]
  },
  {
   "cell_type": "markdown",
   "metadata": {},
   "source": [
    "A numpy array is returned containing the pixel locations for each wavelength\n",
    "between `test_blue_band_edge` and `test_red_band_edge`"
   ]
  },
  {
   "cell_type": "code",
   "execution_count": null,
   "metadata": {},
   "outputs": [
    {
     "data": {
      "text/plain": [
       "(array([256, 257, 258, 259, 260, 261, 262, 263, 264, 265, 266, 267, 268,\n",
       "        269, 270, 271, 272, 273, 274, 275, 276, 277, 278, 279, 280, 281,\n",
       "        282, 283, 284, 285, 286, 287, 288, 289, 290, 291, 292, 293, 294,\n",
       "        295, 296, 297, 298, 299, 300, 301, 302, 303, 304, 305, 306, 307,\n",
       "        308]),)"
      ]
     },
     "metadata": {},
     "output_type": "display_data"
    }
   ],
   "source": [
    "display(test_band_pixels)"
   ]
  },
  {
   "cell_type": "markdown",
   "metadata": {},
   "source": [
    "We can compute numpy statistic on the spectra values within this band.  We will compute the mean, average, and\n",
    "min and max on the test_spectra."
   ]
  },
  {
   "cell_type": "code",
   "execution_count": null,
   "metadata": {},
   "outputs": [
    {
     "data": {
      "text/plain": [
       "(5.2126179245283035, 5.2126179245283035, 3.978749999999998, 6.438749999999999)"
      ]
     },
     "execution_count": null,
     "metadata": {},
     "output_type": "execute_result"
    }
   ],
   "source": [
    "( test_spectra[test_band_pixels].mean(),\n",
    "  np.average( test_spectra[test_band_pixels] ), \n",
    "  test_spectra[test_band_pixels].min(), \n",
    "  test_spectra[test_band_pixels].max() \n",
    ")"
   ]
  },
  {
   "cell_type": "markdown",
   "metadata": {},
   "source": [
    "#| hide\n",
    "####   def get_list_of_json_spectra( p):"
   ]
  },
  {
   "cell_type": "code",
   "execution_count": null,
   "metadata": {},
   "outputs": [],
   "source": [
    "#| export\n",
    "def get_list_of_json_spectra( p        # String path to mission data set.\n",
    "                            ) ->list:  # List of full paths to each JSON spectra file.\n",
    "    ''' Returns a list of Json spectra full path filenames found in subdirs under \"p\". '''\n",
    "    gstr = f'{p}/*/*/*-spec.json'\n",
    "    lst = glob.glob(gstr, recursive=True)\n",
    "    return lst"
   ]
  },
  {
   "cell_type": "markdown",
   "metadata": {},
   "source": [
    "Test and demo get_list_of_json_spectra()"
   ]
  },
  {
   "cell_type": "code",
   "execution_count": null,
   "metadata": {},
   "outputs": [
    {
     "name": "stdout",
     "output_type": "stream",
     "text": [
      "11,273 JSON spectra files found.\n"
     ]
    },
    {
     "data": {
      "text/plain": [
       "'First 3'"
      ]
     },
     "metadata": {},
     "output_type": "display_data"
    },
    {
     "data": {
      "text/plain": [
       "['/mnt/s/2021-0717-HAB-Spec-Tampa-Bay-PIE/2021-0717-HAB-pie/141625/hab_spectra/2021-0717-141626-175824-spec.json',\n",
       " '/mnt/s/2021-0717-HAB-Spec-Tampa-Bay-PIE/2021-0717-HAB-pie/141625/hab_spectra/2021-0717-141626-882736-spec.json',\n",
       " '/mnt/s/2021-0717-HAB-Spec-Tampa-Bay-PIE/2021-0717-HAB-pie/141625/hab_spectra/2021-0717-141627-601038-spec.json']"
      ]
     },
     "metadata": {},
     "output_type": "display_data"
    },
    {
     "data": {
      "text/plain": [
       "'Last 3'"
      ]
     },
     "metadata": {},
     "output_type": "display_data"
    },
    {
     "data": {
      "text/plain": [
       "['/mnt/s/2021-0717-HAB-Spec-Tampa-Bay-PIE/2021-0717-HAB-pie/165347/hab_spectra/2021-0717-170224-525748-spec.json',\n",
       " '/mnt/s/2021-0717-HAB-Spec-Tampa-Bay-PIE/2021-0717-HAB-pie/165347/hab_spectra/2021-0717-170225-225927-spec.json',\n",
       " '/mnt/s/2021-0717-HAB-Spec-Tampa-Bay-PIE/2021-0717-HAB-pie/165347/hab_spectra/2021-0717-170225-920240-spec.json']"
      ]
     },
     "metadata": {},
     "output_type": "display_data"
    }
   ],
   "source": [
    "mission_path = '../sample_data/2023-0718'\n",
    "mission_path = '/mnt/s/2021-0717-HAB-Spec-Tampa-Bay-PIE/2021-0717-HAB-pie/'\n",
    "test_spectra_list = get_list_of_json_spectra( mission_path )\n",
    "print(f'{len(test_spectra_list):,} JSON spectra files found.')\n",
    "display(\"First 3\", test_spectra_list[0:3])\n",
    "display(\"Last 3\",test_spectra_list[-3:])"
   ]
  },
  {
   "cell_type": "markdown",
   "metadata": {},
   "source": [
    "#| hide\n",
    "####   def json_specs_to_df( specs ):"
   ]
  },
  {
   "cell_type": "code",
   "execution_count": null,
   "metadata": {},
   "outputs": [],
   "source": [
    "#| export\n",
    "def json_specs_to_df( specs ):\n",
    "    '''\n",
    "    Extracts the hhmmss and fsecs from 'specs' filename, converts\n",
    "    the hhmmss and fsecs strings to float SOD.fsecs.\n",
    "\n",
    "    Parameters:\n",
    "    specs: list  A list of json spectra files.\n",
    "\n",
    "    Returns:\n",
    "    --------\n",
    "    A DataFrame of sod.fsecs:float, hhmmss:str, Json_spec:str\n",
    "    '''\n",
    "    # Extract the hhmmss and fsecs from each file name,\n",
    "    # convert the hhmmss and fsecs to float SOD.fsecs, \n",
    "    # and create a list of each.\n",
    "    hhmmss = []\n",
    "    fsecs  = []\n",
    "    sod    = []\n",
    "    for v in specs:\n",
    "      tx = extract_hms( v )\n",
    "      hhmmss.append( tx[0] )   # Build the list if hhmmss strings.\n",
    "      sod.append( tx[3] )      # Build the list of sod floats.\n",
    "\n",
    "    # Now convert the  lists to a Pandas dataframe.\n",
    "    dct = {'sod':sod, 'hhmmss':hhmmss, 'Json_spec':specs}\n",
    "    df = pd.DataFrame( dct )\n",
    "    df.sort_values(by=['sod'], inplace=True)              # Sort the data in time order.\n",
    "    return df"
   ]
  },
  {
   "cell_type": "markdown",
   "metadata": {},
   "source": [
    "Test configuring, calibrating, and loading a JSON spectra file."
   ]
  },
  {
   "cell_type": "code",
   "execution_count": null,
   "metadata": {},
   "outputs": [
    {
     "name": "stdout",
     "output_type": "stream",
     "text": [
      "2023-07-23 15:26:23.718742: Testing creating HyperSpectral.\n",
      "2023-07-23 15:26:23.718830: Loading a json Spectra file to calibrate wavelength.\n",
      "2023-07-23 15:26:23.722660: Calibrating wavelength.\n",
      "\n",
      "Wavelength Calibration Data:\n",
      "\n",
      "                     First      Second\n",
      "   Wavelengths (nm): 430.774      759.370\n",
      "     Pixel Location:  73.000      941.000\n",
      "\n",
      "2023-07-23 15:26:23.722860: Reading a spectra into \"s\"\n"
     ]
    }
   ],
   "source": [
    "print(f'{dt.datetime.utcnow() }: Testing creating HyperSpectral.')\n",
    "\n",
    "# Use a json spectra to initialize things.\n",
    "print(f'{dt.datetime.utcnow() }: Loading a json Spectra file to calibrate wavelength.')\n",
    "\n",
    "test_spectra_file = '../sample_data/2023-0718/034901/hab_spectra/2023-0718-034902-840971-spec.json'\n",
    "configure_json_spectra(test_spectra_file)\n",
    "\n",
    "# Calibrate the spectra for wavelength in nanometers\n",
    "print(f'{dt.datetime.utcnow() }: Calibrating wavelength.')\n",
    "wavelengths = calibrate_using_2_wavelengths( \n",
    "  pixel0 =  73, wavelength0 = 430.774, \n",
    "  pixel1 = 941, wavelength1 = 759.370 )\n",
    "\n",
    "print('\\nWavelength Calibration Data:\\n\\n'\n",
    "'                     First      Second\\n'\n",
    "f'   Wavelengths (nm): {wavelengths[73]:7.3f}      {wavelengths[941]:7.3f}\\n'\n",
    "f'     Pixel Location: {73:7.3f}      {941:7.3f}\\n')\n",
    "\n",
    "# Read a spectra array from a file into s\n",
    "print(f'{dt.datetime.utcnow() }: Reading a spectra into \"s\"')\n",
    "spectra = read_spectra( test_spectra_file )\n",
    "\n",
    "# Plot the spectra vs pixel number.\n",
    "#plt.plot(s)"
   ]
  },
  {
   "cell_type": "markdown",
   "metadata": {},
   "source": [
    "#### def is_water( x,y, debug=False):"
   ]
  },
  {
   "cell_type": "code",
   "execution_count": null,
   "metadata": {},
   "outputs": [],
   "source": [
    "#| export\n",
    "def is_water( x,y):\n",
    "    '''\n",
    "    Returns the mean signal value between 840nm and 860nm wavelengths.  Since water absorbs IR.\n",
    "\n",
    "    Inputs:\n",
    "      x   A numpy array of wavlengths for each pixel\n",
    "      y   A numpy array of intensity values at each wavelength.  x and y mus be the same size.\n",
    "\n",
    "    Returns:\n",
    "      The mean signal value between 840nm and 860nm.  The signal level is not currently normalized\n",
    "      for anything, exposure, etc.  Threshold is around 4.0.  Above 4, land or glint.\n",
    "\n",
    "    References: \n",
    "    Application of the water-related spectral reflectance indices: A review\n",
    "    https://www.sciencedirect.com/science/article/abs/pii/S1470160X18308215\n",
    "\n",
    "    '''\n",
    "    rv = y[w_range_pixels(x,840,860)].mean()\n",
    "    return rv"
   ]
  },
  {
   "cell_type": "markdown",
   "metadata": {},
   "source": [
    "#| hide\n",
    "#### def wavelength_2_RGB()"
   ]
  },
  {
   "cell_type": "code",
   "execution_count": null,
   "metadata": {},
   "outputs": [],
   "source": [
    "#| export\n",
    "def wavelength_2_RGB(\n",
    "  wavelength,   # Wavelength in nanometers.\n",
    "  alpha=255     # Alpha to use.\n",
    ") -> list:      # ( red, green, blue )\n",
    "  '''\n",
    "  Convert a wavelength to a tuple of red, green, blue values.\n",
    "  \n",
    "  From: https://codingmess.blogspot.com/2009/05/conversion-of-wavelength-in-nanometers.html\n",
    "  '''\n",
    "  w = int(wavelength)\n",
    "\n",
    "  # colour\n",
    "  if w >= 380 and w < 440:\n",
    "      R = -(w - 440.) / (440. - 350.)\n",
    "      G = 0.0\n",
    "      B = 1.0\n",
    "  elif w >= 440 and w < 490:\n",
    "      R = 0.0\n",
    "      G = (w - 440.) / (490. - 440.)\n",
    "      B = 1.0\n",
    "  elif w >= 490 and w < 510:\n",
    "      R = 0.0\n",
    "      G = 1.0\n",
    "      B = -(w - 510.) / (510. - 490.)\n",
    "  elif w >= 510 and w < 580:\n",
    "      R = (w - 510.) / (580. - 510.)\n",
    "      G = 1.0\n",
    "      B = 0.0\n",
    "  elif w >= 580 and w < 645:\n",
    "      R = 1.0\n",
    "      G = -(w - 645.) / (645. - 580.)\n",
    "      B = 0.0\n",
    "  elif w >= 645 and w <= 780:\n",
    "      R = 1.0\n",
    "      G = 0.0\n",
    "      B = 0.0\n",
    "  else:\n",
    "      R = 0.0\n",
    "      G = 0.0\n",
    "      B = 0.0\n",
    "\n",
    "  # intensity correction\n",
    "  if w >= 380 and w < 420:\n",
    "      SSS = 0.3 + 0.7*(w - 350) / (420 - 350)\n",
    "  elif w >= 420 and w <= 700:\n",
    "      SSS = 1.0\n",
    "  elif w > 700 and w <= 780:\n",
    "      SSS = 0.3 + 0.7*(780 - w) / (780 - 700)\n",
    "  else:\n",
    "      SSS = 0.0\n",
    "  SSS *= 255\n",
    "\n",
    "  return [int(SSS*R), int(SSS*G), int(SSS*B), int(alpha)]"
   ]
  },
  {
   "cell_type": "code",
   "execution_count": null,
   "metadata": {},
   "outputs": [
    {
     "name": "stdout",
     "output_type": "stream",
     "text": [
      "w=500    rgb=[0, 255, 127, 255]  alpha=255 \n"
     ]
    }
   ],
   "source": [
    "w = 500\n",
    "alpha = 255\n",
    "rgb = wavelength_2_RGB( w, alpha=alpha )\n",
    "print(f'{w=}    {rgb=}  {alpha=} ')"
   ]
  },
  {
   "cell_type": "markdown",
   "metadata": {},
   "source": [
    "#| hide\n",
    "#### def wavelength_2_RGB_str()"
   ]
  },
  {
   "cell_type": "code",
   "execution_count": null,
   "metadata": {},
   "outputs": [],
   "source": [
    "#| export\n",
    "def wavelength_2_RGB_str( \n",
    "  wavelength:float,        # Wavelength in nanometers.\n",
    "  alpha=255                # Alpha, transparency to use.  \n",
    ") ->str:                   # rgb string such as: \"#01abffff\"\n",
    "  '''\n",
    "  Converts a wavelength to an RGB string suitable to use\n",
    "  as a color parameter in most applications.\n",
    "  '''\n",
    "  rgb  = wavelength_2_RGB(wavelength, alpha=alpha)\n",
    "  rgbs = f'#{rgb[0]:02x}{rgb[1]:02x}{rgb[2]:02x}{rgb[3]:02x}'\n",
    "  return rgbs"
   ]
  },
  {
   "cell_type": "code",
   "execution_count": null,
   "metadata": {},
   "outputs": [
    {
     "name": "stdout",
     "output_type": "stream",
     "text": [
      "w=500    rgbs='#00ff7f7f' \n"
     ]
    }
   ],
   "source": [
    "w = 500\n",
    "alpha = 127\n",
    "rgbs = wavelength_2_RGB_str( w, alpha=alpha )\n",
    "print(f'{w=}    {rgbs=} ')"
   ]
  },
  {
   "cell_type": "markdown",
   "metadata": {},
   "source": [
    "#| hide\n",
    "### Fraunhofer_lines"
   ]
  },
  {
   "cell_type": "code",
   "execution_count": null,
   "metadata": {},
   "outputs": [],
   "source": [
    "#| export\n",
    "Fraunhofer_lines = {\n",
    "                'A' :[ 'O2', 759.370  ],\n",
    "                'B' :[ 'O2', 686.719  ], \n",
    "                'C' :[ 'Ha', 656.281  ],\n",
    "                'a' :[ 'O2', 627.661  ],\n",
    "                'D1':[ 'Na', 589.592  ],\n",
    "                'D2':[ 'Na', 588.995  ],\n",
    "                'D3':[ 'He', 587.5618 ],\n",
    "              'e-hg':[ 'Hg', 546.073  ],\n",
    "                'E2':[ 'Fe', 527.039  ],\n",
    "                'b1':[ 'Mg', 518.362  ],\n",
    "                'b2':[ 'Mg', 517.270  ],\n",
    "                'b3':[ 'Mg', 516.891  ],\n",
    "                'b4':[ 'Mg', 516.733  ],\n",
    "                'c' :[ 'Fe', 495.761  ],                                                            \n",
    "                'F' :[ 'Hb', 486.134  ],\n",
    "                'd' :[ 'Fe', 466.814  ],\n",
    "              'e-Fe':[ 'Fe', 438.355  ],\n",
    "                'G' :[ 'Fe', 430.790  ],\n",
    "                'G2':[ 'Ca', 430.774  ],\n",
    "                'H' :[ 'Ca', 396.847  ] \n",
    "}"
   ]
  },
  {
   "cell_type": "code",
   "execution_count": null,
   "metadata": {},
   "outputs": [
    {
     "data": {
      "text/plain": [
       "['Na', 589.592]"
      ]
     },
     "execution_count": null,
     "metadata": {},
     "output_type": "execute_result"
    }
   ],
   "source": [
    "Fraunhofer_lines['D1']"
   ]
  },
  {
   "cell_type": "code",
   "execution_count": null,
   "metadata": {},
   "outputs": [
    {
     "data": {
      "text/plain": [
       "'Na'"
      ]
     },
     "execution_count": null,
     "metadata": {},
     "output_type": "execute_result"
    }
   ],
   "source": [
    "Fraunhofer_lines['D1'][0]"
   ]
  },
  {
   "cell_type": "markdown",
   "metadata": {},
   "source": [
    "#| hide\n",
    "### HG Lines"
   ]
  },
  {
   "cell_type": "code",
   "execution_count": null,
   "metadata": {},
   "outputs": [],
   "source": [
    "#| export\n",
    "HG_lines = { \n",
    "          'Hg-404' :[ 'Hg', 404.6563 ],\n",
    "          'Hg-436' :[ 'Hg', 435.8328 ],\n",
    "          'Hg-543' :[ 'Hg', 543.6    ],\n",
    "          'Hg-546' :[ 'Hg', 546.0735 ],\n",
    "          'Hg-576' :[ 'Hg', 576.959  ],\n",
    "          'Hg-579' :[ 'Hg', 579.065  ],\n",
    "          'Hg-611' :[ 'Hg', 610.8    ],\n",
    "          'Hg-615' :[ 'Hg', 614.9475 ]\n",
    "\n",
    "}"
   ]
  },
  {
   "cell_type": "code",
   "execution_count": null,
   "metadata": {},
   "outputs": [
    {
     "data": {
      "text/plain": [
       "{'Hg-404': ['Hg', 404.6563],\n",
       " 'Hg-436': ['Hg', 435.8328],\n",
       " 'Hg-543': ['Hg', 543.6],\n",
       " 'Hg-546': ['Hg', 546.0735],\n",
       " 'Hg-576': ['Hg', 576.959],\n",
       " 'Hg-579': ['Hg', 579.065],\n",
       " 'Hg-611': ['Hg', 610.8],\n",
       " 'Hg-615': ['Hg', 614.9475]}"
      ]
     },
     "execution_count": null,
     "metadata": {},
     "output_type": "execute_result"
    }
   ],
   "source": [
    "HG_lines"
   ]
  },
  {
   "cell_type": "markdown",
   "metadata": {},
   "source": [
    "### Sentinal S2a"
   ]
  },
  {
   "cell_type": "markdown",
   "metadata": {},
   "source": [
    "Information on the Sentinel spectral specificatoins can be found at:\n",
    "https://sentinels.copernicus.eu/web/sentinel/user-guides/sentinel-2-msi/resolutions/spectral\n",
    "\n",
    "Sentinal S2a Band Definitions.  `sentinal_s2a` defines the band name, center wavelength and\n",
    "bandwidth in nanometers.  These are used to generate a class for each band that will hold\n",
    "values that are computed once, and then used repeatedly."
   ]
  },
  {
   "cell_type": "code",
   "execution_count": null,
   "metadata": {},
   "outputs": [],
   "source": [
    "#| export\n",
    "sentinal_s2a = {\n",
    "# Band\n",
    "#         Center\n",
    "#                Width\n",
    "  'b2' : [ 492.7, 65],\n",
    "  'b3' : [ 559.8, 35],\n",
    "  'b4' : [ 664.6, 30],\n",
    "  'b8' : [ 832.8, 105],\n",
    "  \n",
    "  'b5' : [ 704.1, 14],\n",
    "  'b6' : [ 740.5, 14],\n",
    "  'b7' : [ 782.8, 19],\n",
    "  '8a' : [ 864.7, 21],\n",
    "}"
   ]
  },
  {
   "cell_type": "markdown",
   "metadata": {},
   "source": [
    "#| hide\n",
    "#### Sentinal_s2a Band "
   ]
  },
  {
   "cell_type": "code",
   "execution_count": null,
   "metadata": {},
   "outputs": [],
   "source": [
    "#| export\n",
    "class Sentinal_Band:\n",
    "  '''\n",
    "  Defines a single Sentinel band data object. \n",
    "  '''\n",
    "  header = f'band center_nm width_nm color w_low px_low w_high px_high '\n",
    "  average = True\n",
    "  mean    = False\n",
    "  \n",
    "  def __init__(self,  \n",
    "               x:list,          # A Numpy array of wavelengths cooresponding to each pixel.\n",
    "               name:str,        # The Sentinel official wavelength-band name.\n",
    "               center_nm:float, # Center wavelength in nanometers.\n",
    "               width_nm:float,  # Bandwidth in nanometers.\n",
    "               color:str        # Desired color to use for any plots, or graphics.\n",
    "              ) -> object:      # Class object returned.\n",
    "    self.name      = name\n",
    "    self.center_nm = center_nm\n",
    "    self.width_nm  = width_nm\n",
    "    self.color     = color\n",
    "    self.w_low     = center_nm - width_nm/2\n",
    "    self.w_high    = center_nm + width_nm/2\n",
    "    self.px_low    = w_to_pixel( x, self.w_low )\n",
    "    self.px_high   = w_to_pixel(x, self.w_high )\n",
    "    self.pixels    = w_range_pixels(x, self.w_low,self.w_high)\n",
    "    self.y_mean    = 0.0        # This gets updated.\n",
    "  \n",
    "  def __str__(self):\n",
    "    return f'{self.name} {self.center_nm:6.2f} {self.width_nm:6.1f} {self.color} '\\\n",
    "           f'{self.w_low:6.1f} {self.px_low:4d} {self.w_high:6.1f} {self.px_high:4d}'\n",
    "  \n",
    "  def compute_stats(self, \n",
    "                  spectra     # Spectra to update y_mean from.\n",
    "                 ) -> None:   # The stat values are updated in the class.\n",
    "    '''\n",
    "    Compute the Sentinel band stats for a given spectra if enabled. To enable or\n",
    "    disable set Sentinel_Band.average = True | False, or Sentinel_Band.mean = True | False.\n",
    "    '''\n",
    "    if self.mean:\n",
    "      self.y_mean    = spectra[ self.pixels ].mean()\n",
    "    else:\n",
    "      self.y_mean = 0.0\n",
    "      \n",
    "    if self.average:\n",
    "      self.y_average = np.average( spectra[ self.pixels ] )\n",
    "    else:\n",
    "      self.y_average = 0.0  "
   ]
  },
  {
   "cell_type": "code",
   "execution_count": null,
   "metadata": {},
   "outputs": [
    {
     "name": "stdout",
     "output_type": "stream",
     "text": [
      "band center_nm width_nm color w_low px_low w_high px_high \n",
      "b2 492.70   65.0 gray  460.2  150  525.2  322\n",
      "b3 559.80   35.0 gray  542.3  367  577.3  460\n",
      "b4 664.60   30.0 gray  649.6  651  679.6  730\n",
      "b8 832.80  105.0 gray  780.3  997  885.3 1274\n",
      "b5 704.10   14.0 gray  697.1  777  711.1  814\n",
      "b6 740.50   14.0 gray  733.5  873  747.5  910\n",
      "b7 782.80   19.0 gray  773.3  978  792.3 1028\n",
      "8a 864.70   21.0 gray  854.2 1192  875.2 1247\n"
     ]
    }
   ],
   "source": [
    "sa = {}\n",
    "print(Sentinal_Band.header )\n",
    "for k in sentinal_s2a.keys():\n",
    "  sa[k] = Sentinal_Band( wavelengths, k, sentinal_s2a[k][0], sentinal_s2a[k][1], 'gray')\n",
    "  print(sa[k].__str__() )"
   ]
  },
  {
   "cell_type": "code",
   "execution_count": null,
   "metadata": {},
   "outputs": [
    {
     "data": {
      "text/plain": [
       "'b3 559.80   35.0 gray  542.3  367  577.3  460'"
      ]
     },
     "execution_count": null,
     "metadata": {},
     "output_type": "execute_result"
    }
   ],
   "source": [
    "sa['b3'].__str__()"
   ]
  },
  {
   "cell_type": "code",
   "execution_count": null,
   "metadata": {},
   "outputs": [
    {
     "data": {
      "text/plain": [
       "559.8"
      ]
     },
     "execution_count": null,
     "metadata": {},
     "output_type": "execute_result"
    }
   ],
   "source": [
    "sa['b3'].center_nm"
   ]
  },
  {
   "cell_type": "code",
   "execution_count": null,
   "metadata": {},
   "outputs": [
    {
     "data": {
      "text/plain": [
       "(array([368, 369, 370, 371, 372, 373, 374, 375, 376, 377, 378, 379, 380,\n",
       "        381, 382, 383, 384, 385, 386, 387, 388, 389, 390, 391, 392, 393,\n",
       "        394, 395, 396, 397, 398, 399, 400, 401, 402, 403, 404, 405, 406,\n",
       "        407, 408, 409, 410, 411, 412, 413, 414, 415, 416, 417, 418, 419,\n",
       "        420, 421, 422, 423, 424, 425, 426, 427, 428, 429, 430, 431, 432,\n",
       "        433, 434, 435, 436, 437, 438, 439, 440, 441, 442, 443, 444, 445,\n",
       "        446, 447, 448, 449, 450, 451, 452, 453, 454, 455, 456, 457, 458,\n",
       "        459, 460]),)"
      ]
     },
     "execution_count": null,
     "metadata": {},
     "output_type": "execute_result"
    }
   ],
   "source": [
    "band = sa['b3'].pixels\n",
    "band"
   ]
  },
  {
   "cell_type": "code",
   "execution_count": null,
   "metadata": {},
   "outputs": [
    {
     "data": {
      "text/plain": [
       "7.798266129032258"
      ]
     },
     "execution_count": null,
     "metadata": {},
     "output_type": "execute_result"
    }
   ],
   "source": [
    "test_spectra[ band ].mean()"
   ]
  },
  {
   "cell_type": "code",
   "execution_count": null,
   "metadata": {},
   "outputs": [],
   "source": [
    "#| export\n",
    "def sentinel_update( \n",
    "  spectra,           # Raw spectra to compute Sentinel band averages on.\n",
    "  sentinel_bands     # Array of sentinel band classes.       \n",
    ") -> None:           # sentinel_bands will contain .y_mean afterward.\n",
    "  '''\n",
    "  '''\n",
    "  for s in sentinel_bands:\n",
    "    sentinel_bands[ s ].compute_stats( spectra )"
   ]
  },
  {
   "cell_type": "code",
   "execution_count": null,
   "metadata": {},
   "outputs": [
    {
     "name": "stdout",
     "output_type": "stream",
     "text": [
      "33.6 µs ± 399 ns per loop (mean ± std. dev. of 7 runs, 10,000 loops each)\n"
     ]
    }
   ],
   "source": [
    "%%timeit\n",
    "sentinel_update( test_spectra, sa )"
   ]
  },
  {
   "cell_type": "code",
   "execution_count": null,
   "metadata": {},
   "outputs": [
    {
     "name": "stdout",
     "output_type": "stream",
     "text": [
      "Band    y_mean   y_average\n",
      "  b2     0.000    4.463\n",
      "  b3     0.000    7.798\n",
      "  b4     0.000    2.543\n",
      "  b8     0.000    0.003\n",
      "  b5     0.000    0.322\n",
      "  b6     0.000    0.000\n",
      "  b7     0.000    0.000\n",
      "  8a     0.000    0.000\n"
     ]
    }
   ],
   "source": [
    "print('Band    y_mean   y_average')\n",
    "for se in sa:\n",
    "  sa[se].compute_stats( test_spectra )\n",
    "  \n",
    "  print(f'  {se}   {sa[se].y_mean:7.3f}  {sa[se].y_average:7.3f}')\n",
    "  #print(y_avg)"
   ]
  },
  {
   "cell_type": "code",
   "execution_count": null,
   "metadata": {},
   "outputs": [
    {
     "name": "stdout",
     "output_type": "stream",
     "text": [
      "b2 4.463212209302326\n",
      "b3 7.798266129032258\n",
      "b4 2.5434177215189875\n",
      "b8 0.0030324909747293056\n",
      "b5 0.3216216216216214\n",
      "b6 0.0\n",
      "b7 0.0\n",
      "8a 0.0\n"
     ]
    }
   ],
   "source": [
    "sentinel_compute( test_spectra, sa )\n",
    "for band in sa:\n",
    "  print(band, sa[ band ].y_mean)"
   ]
  },
  {
   "cell_type": "markdown",
   "metadata": {},
   "source": [
    "### Plot helpers"
   ]
  },
  {
   "cell_type": "markdown",
   "metadata": {},
   "source": [
    "#| hide\n",
    "#### def gen_reference_lines()"
   ]
  },
  {
   "cell_type": "markdown",
   "metadata": {},
   "source": [
    "Generate reference spectral line data suitable to plot with Bokeh."
   ]
  },
  {
   "cell_type": "code",
   "execution_count": null,
   "metadata": {},
   "outputs": [],
   "source": [
    "def gen_reference_lines(s,      # Spectra \n",
    "              lines,            # The reference lines.\n",
    "             ) -> (list,list):  # Fraun X values, Fraun y values \n",
    "  '''\n",
    "  Generate a series of spectral plot lines for reference.  It scales to the max y value \n",
    "  of the provided spectra `s`.  Sources can be Fraunhofer_lines, or HG_lines, or user \n",
    "  developed.\n",
    "  '''\n",
    "  fran_x = []; fran_y = []\n",
    "  y0 = 0.0;    y1 = max(s)\n",
    "  for i in lines:\n",
    "    x = lines[i][1]\n",
    "    fran_x.append( [ x,x ] )\n",
    "    fran_y.append( [y0, y1] )\n",
    "  return fran_x, fran_y"
   ]
  },
  {
   "cell_type": "code",
   "execution_count": null,
   "metadata": {},
   "outputs": [],
   "source": [
    "spectra_file = \"/mnt/s/2021-0717-HAB-Spec-Tampa-Bay-PIE/2021-0717-HAB-pie/165347/hab_spectra/2021-0717-165910-141598-spec.json\"\n",
    "\n",
    "test_spectra = [  \n",
    "  [\"/mnt/s/2021-0717-HAB-Spec-Tampa-Bay-PIE/2021-0717-HAB-pie/164443/hab_spectra/2021-0717-164700-525866-spec.json\",\n",
    "   \"Gulf of Mexico west of Clearwater.\"\n",
    "  ],\n",
    "  \n",
    "  [\"/mnt/s/2021-0717-HAB-Spec-Tampa-Bay-PIE/2021-0717-HAB-pie/165347/hab_spectra/2021-0717-165910-141598-spec.json\",\n",
    "   \"Old Tampa Bay. Very high 700nm peak\"\n",
    "  ],\n",
    "  \n",
    "  [ \"/mnt/s/2021-1208-HAB-Lake-Parker/2021-1208-HAB-Lake-Parker/190829/hab_spectra/2021-1208-190953-177078-spec.json\",\n",
    "   \"Lake Parker, Water.\" \n",
    "  ],\n",
    "  \n",
    "  [ \"/mnt/s/2021-1208-HAB-Lake-Parker/2021-1208-HAB-Lake-Parker/175549/hab_spectra/2021-1208-175627-867603-spec.json\",\n",
    "   \"Lake Parker, Sky.\"\n",
    "  ]  \n",
    "]"
   ]
  },
  {
   "cell_type": "code",
   "execution_count": null,
   "metadata": {},
   "outputs": [
    {
     "name": "stdout",
     "output_type": "stream",
     "text": [
      "   File: /mnt/s/2021-0717-HAB-Spec-Tampa-Bay-PIE/2021-0717-HAB-pie/164443/hab_spectra/2021-0717-164700-525866-spec.json\n",
      "Comment: Gulf of Mexico west of Clearwater.\n"
     ]
    }
   ],
   "source": [
    "spectra_number = 0\n",
    "print(f'   File: {test_spectra[spectra_number][0]}')\n",
    "print(f'Comment: {test_spectra[spectra_number][1]}')"
   ]
  },
  {
   "cell_type": "markdown",
   "metadata": {},
   "source": [
    "### Generate a plot of the Spectra."
   ]
  },
  {
   "cell_type": "code",
   "execution_count": null,
   "metadata": {},
   "outputs": [
    {
     "data": {
      "text/html": [
       "\n",
       "  <div id=\"f8e0d1a3-69e2-4f0f-a0bc-6e0359aa2eb9\" data-root-id=\"p5772\" style=\"display: contents;\"></div>\n"
      ]
     },
     "metadata": {},
     "output_type": "display_data"
    },
    {
     "data": {
      "application/javascript": [
       "(function(root) {\n",
       "  function embed_document(root) {\n",
       "  const docs_json = {\"04e1df8b-e338-4b82-8280-a0451b4d6564\":{\"version\":\"3.1.1\",\"title\":\"Bokeh Application\",\"defs\":[{\"type\":\"model\",\"name\":\"ReactiveHTML1\"},{\"type\":\"model\",\"name\":\"FlexBox1\",\"properties\":[{\"name\":\"align_content\",\"kind\":\"Any\",\"default\":\"flex-start\"},{\"name\":\"align_items\",\"kind\":\"Any\",\"default\":\"flex-start\"},{\"name\":\"flex_direction\",\"kind\":\"Any\",\"default\":\"row\"},{\"name\":\"flex_wrap\",\"kind\":\"Any\",\"default\":\"wrap\"},{\"name\":\"justify_content\",\"kind\":\"Any\",\"default\":\"flex-start\"}]},{\"type\":\"model\",\"name\":\"FloatPanel1\",\"properties\":[{\"name\":\"config\",\"kind\":\"Any\",\"default\":{\"type\":\"map\"}},{\"name\":\"contained\",\"kind\":\"Any\",\"default\":true},{\"name\":\"position\",\"kind\":\"Any\",\"default\":\"right-top\"},{\"name\":\"offsetx\",\"kind\":\"Any\",\"default\":null},{\"name\":\"offsety\",\"kind\":\"Any\",\"default\":null},{\"name\":\"theme\",\"kind\":\"Any\",\"default\":\"primary\"},{\"name\":\"status\",\"kind\":\"Any\",\"default\":\"normalized\"}]},{\"type\":\"model\",\"name\":\"GridStack1\",\"properties\":[{\"name\":\"mode\",\"kind\":\"Any\",\"default\":\"warn\"},{\"name\":\"ncols\",\"kind\":\"Any\",\"default\":null},{\"name\":\"nrows\",\"kind\":\"Any\",\"default\":null},{\"name\":\"allow_resize\",\"kind\":\"Any\",\"default\":true},{\"name\":\"allow_drag\",\"kind\":\"Any\",\"default\":true},{\"name\":\"state\",\"kind\":\"Any\",\"default\":[]}]},{\"type\":\"model\",\"name\":\"drag1\",\"properties\":[{\"name\":\"slider_width\",\"kind\":\"Any\",\"default\":5},{\"name\":\"slider_color\",\"kind\":\"Any\",\"default\":\"black\"},{\"name\":\"value\",\"kind\":\"Any\",\"default\":50}]},{\"type\":\"model\",\"name\":\"click1\",\"properties\":[{\"name\":\"terminal_output\",\"kind\":\"Any\",\"default\":\"\"},{\"name\":\"debug_name\",\"kind\":\"Any\",\"default\":\"\"},{\"name\":\"clears\",\"kind\":\"Any\",\"default\":0}]},{\"type\":\"model\",\"name\":\"FastWrapper1\",\"properties\":[{\"name\":\"object\",\"kind\":\"Any\",\"default\":null},{\"name\":\"style\",\"kind\":\"Any\",\"default\":null}]},{\"type\":\"model\",\"name\":\"NotificationAreaBase1\",\"properties\":[{\"name\":\"position\",\"kind\":\"Any\",\"default\":\"bottom-right\"},{\"name\":\"_clear\",\"kind\":\"Any\",\"default\":0}]},{\"type\":\"model\",\"name\":\"NotificationArea1\",\"properties\":[{\"name\":\"notifications\",\"kind\":\"Any\",\"default\":[]},{\"name\":\"position\",\"kind\":\"Any\",\"default\":\"bottom-right\"},{\"name\":\"_clear\",\"kind\":\"Any\",\"default\":0},{\"name\":\"types\",\"kind\":\"Any\",\"default\":[{\"type\":\"map\",\"entries\":[[\"type\",\"warning\"],[\"background\",\"#ffc107\"],[\"icon\",{\"type\":\"map\",\"entries\":[[\"className\",\"fas fa-exclamation-triangle\"],[\"tagName\",\"i\"],[\"color\",\"white\"]]}]]},{\"type\":\"map\",\"entries\":[[\"type\",\"info\"],[\"background\",\"#007bff\"],[\"icon\",{\"type\":\"map\",\"entries\":[[\"className\",\"fas fa-info-circle\"],[\"tagName\",\"i\"],[\"color\",\"white\"]]}]]}]}]},{\"type\":\"model\",\"name\":\"Notification\",\"properties\":[{\"name\":\"background\",\"kind\":\"Any\",\"default\":null},{\"name\":\"duration\",\"kind\":\"Any\",\"default\":3000},{\"name\":\"icon\",\"kind\":\"Any\",\"default\":null},{\"name\":\"message\",\"kind\":\"Any\",\"default\":\"\"},{\"name\":\"notification_type\",\"kind\":\"Any\",\"default\":null},{\"name\":\"_destroyed\",\"kind\":\"Any\",\"default\":false}]},{\"type\":\"model\",\"name\":\"TemplateActions1\",\"properties\":[{\"name\":\"open_modal\",\"kind\":\"Any\",\"default\":0},{\"name\":\"close_modal\",\"kind\":\"Any\",\"default\":0}]},{\"type\":\"model\",\"name\":\"BootstrapTemplateActions1\",\"properties\":[{\"name\":\"open_modal\",\"kind\":\"Any\",\"default\":0},{\"name\":\"close_modal\",\"kind\":\"Any\",\"default\":0}]},{\"type\":\"model\",\"name\":\"MaterialTemplateActions1\",\"properties\":[{\"name\":\"open_modal\",\"kind\":\"Any\",\"default\":0},{\"name\":\"close_modal\",\"kind\":\"Any\",\"default\":0}]}],\"roots\":[{\"type\":\"object\",\"name\":\"Figure\",\"id\":\"p5772\",\"attributes\":{\"width\":700,\"height\":300,\"x_range\":{\"type\":\"object\",\"name\":\"DataRange1d\",\"id\":\"p5774\"},\"y_range\":{\"type\":\"object\",\"name\":\"DataRange1d\",\"id\":\"p5773\"},\"x_scale\":{\"type\":\"object\",\"name\":\"LinearScale\",\"id\":\"p5786\"},\"y_scale\":{\"type\":\"object\",\"name\":\"LinearScale\",\"id\":\"p5788\"},\"title\":{\"type\":\"object\",\"name\":\"Title\",\"id\":\"p5775\",\"attributes\":{\"text\":\"2021-1208-175627-867603-spec.json,    Lake Parker, Sky.\"}},\"renderers\":[{\"type\":\"object\",\"name\":\"GlyphRenderer\",\"id\":\"p5825\",\"attributes\":{\"data_source\":{\"type\":\"object\",\"name\":\"ColumnDataSource\",\"id\":\"p5819\",\"attributes\":{\"selected\":{\"type\":\"object\",\"name\":\"Selection\",\"id\":\"p5820\",\"attributes\":{\"indices\":[],\"line_indices\":[]}},\"selection_policy\":{\"type\":\"object\",\"name\":\"UnionRenderers\",\"id\":\"p5821\"},\"data\":{\"type\":\"map\"}}},\"view\":{\"type\":\"object\",\"name\":\"CDSView\",\"id\":\"p5826\",\"attributes\":{\"filter\":{\"type\":\"object\",\"name\":\"AllIndices\",\"id\":\"p5827\"}}},\"glyph\":{\"type\":\"object\",\"name\":\"Rect\",\"id\":\"p5822\",\"attributes\":{\"x\":{\"type\":\"value\",\"value\":492.7},\"y\":{\"type\":\"value\",\"value\":12.075370639534889},\"width\":{\"type\":\"value\",\"value\":65},\"height\":{\"type\":\"value\",\"value\":2},\"line_color\":{\"type\":\"value\",\"value\":\"#1f77b4\"},\"fill_color\":{\"type\":\"value\",\"value\":\"#00ffe564\"}}},\"nonselection_glyph\":{\"type\":\"object\",\"name\":\"Rect\",\"id\":\"p5823\",\"attributes\":{\"x\":{\"type\":\"value\",\"value\":492.7},\"y\":{\"type\":\"value\",\"value\":12.075370639534889},\"width\":{\"type\":\"value\",\"value\":65},\"height\":{\"type\":\"value\",\"value\":2},\"line_color\":{\"type\":\"value\",\"value\":\"#1f77b4\"},\"line_alpha\":{\"type\":\"value\",\"value\":0.1},\"fill_color\":{\"type\":\"value\",\"value\":\"#00ffe564\"},\"fill_alpha\":{\"type\":\"value\",\"value\":0.1},\"hatch_alpha\":{\"type\":\"value\",\"value\":0.1}}},\"muted_glyph\":{\"type\":\"object\",\"name\":\"Rect\",\"id\":\"p5824\",\"attributes\":{\"x\":{\"type\":\"value\",\"value\":492.7},\"y\":{\"type\":\"value\",\"value\":12.075370639534889},\"width\":{\"type\":\"value\",\"value\":65},\"height\":{\"type\":\"value\",\"value\":2},\"line_color\":{\"type\":\"value\",\"value\":\"#1f77b4\"},\"line_alpha\":{\"type\":\"value\",\"value\":0.2},\"fill_color\":{\"type\":\"value\",\"value\":\"#00ffe564\"},\"fill_alpha\":{\"type\":\"value\",\"value\":0.2},\"hatch_alpha\":{\"type\":\"value\",\"value\":0.2}}}}},{\"type\":\"object\",\"name\":\"GlyphRenderer\",\"id\":\"p5834\",\"attributes\":{\"data_source\":{\"type\":\"object\",\"name\":\"ColumnDataSource\",\"id\":\"p5828\",\"attributes\":{\"selected\":{\"type\":\"object\",\"name\":\"Selection\",\"id\":\"p5829\",\"attributes\":{\"indices\":[],\"line_indices\":[]}},\"selection_policy\":{\"type\":\"object\",\"name\":\"UnionRenderers\",\"id\":\"p5830\"},\"data\":{\"type\":\"map\"}}},\"view\":{\"type\":\"object\",\"name\":\"CDSView\",\"id\":\"p5835\",\"attributes\":{\"filter\":{\"type\":\"object\",\"name\":\"AllIndices\",\"id\":\"p5836\"}}},\"glyph\":{\"type\":\"object\",\"name\":\"Rect\",\"id\":\"p5831\",\"attributes\":{\"x\":{\"type\":\"value\",\"value\":559.8},\"y\":{\"type\":\"value\",\"value\":17.620564516129036},\"width\":{\"type\":\"value\",\"value\":35},\"height\":{\"type\":\"value\",\"value\":2},\"line_color\":{\"type\":\"value\",\"value\":\"#1f77b4\"},\"fill_color\":{\"type\":\"value\",\"value\":\"#b2ff0064\"}}},\"nonselection_glyph\":{\"type\":\"object\",\"name\":\"Rect\",\"id\":\"p5832\",\"attributes\":{\"x\":{\"type\":\"value\",\"value\":559.8},\"y\":{\"type\":\"value\",\"value\":17.620564516129036},\"width\":{\"type\":\"value\",\"value\":35},\"height\":{\"type\":\"value\",\"value\":2},\"line_color\":{\"type\":\"value\",\"value\":\"#1f77b4\"},\"line_alpha\":{\"type\":\"value\",\"value\":0.1},\"fill_color\":{\"type\":\"value\",\"value\":\"#b2ff0064\"},\"fill_alpha\":{\"type\":\"value\",\"value\":0.1},\"hatch_alpha\":{\"type\":\"value\",\"value\":0.1}}},\"muted_glyph\":{\"type\":\"object\",\"name\":\"Rect\",\"id\":\"p5833\",\"attributes\":{\"x\":{\"type\":\"value\",\"value\":559.8},\"y\":{\"type\":\"value\",\"value\":17.620564516129036},\"width\":{\"type\":\"value\",\"value\":35},\"height\":{\"type\":\"value\",\"value\":2},\"line_color\":{\"type\":\"value\",\"value\":\"#1f77b4\"},\"line_alpha\":{\"type\":\"value\",\"value\":0.2},\"fill_color\":{\"type\":\"value\",\"value\":\"#b2ff0064\"},\"fill_alpha\":{\"type\":\"value\",\"value\":0.2},\"hatch_alpha\":{\"type\":\"value\",\"value\":0.2}}}}},{\"type\":\"object\",\"name\":\"GlyphRenderer\",\"id\":\"p5843\",\"attributes\":{\"data_source\":{\"type\":\"object\",\"name\":\"ColumnDataSource\",\"id\":\"p5837\",\"attributes\":{\"selected\":{\"type\":\"object\",\"name\":\"Selection\",\"id\":\"p5838\",\"attributes\":{\"indices\":[],\"line_indices\":[]}},\"selection_policy\":{\"type\":\"object\",\"name\":\"UnionRenderers\",\"id\":\"p5839\"},\"data\":{\"type\":\"map\"}}},\"view\":{\"type\":\"object\",\"name\":\"CDSView\",\"id\":\"p5844\",\"attributes\":{\"filter\":{\"type\":\"object\",\"name\":\"AllIndices\",\"id\":\"p5845\"}}},\"glyph\":{\"type\":\"object\",\"name\":\"Rect\",\"id\":\"p5840\",\"attributes\":{\"x\":{\"type\":\"value\",\"value\":664.6},\"y\":{\"type\":\"value\",\"value\":17.556265822784813},\"width\":{\"type\":\"value\",\"value\":30},\"height\":{\"type\":\"value\",\"value\":2},\"line_color\":{\"type\":\"value\",\"value\":\"#1f77b4\"},\"fill_color\":{\"type\":\"value\",\"value\":\"#ff000064\"}}},\"nonselection_glyph\":{\"type\":\"object\",\"name\":\"Rect\",\"id\":\"p5841\",\"attributes\":{\"x\":{\"type\":\"value\",\"value\":664.6},\"y\":{\"type\":\"value\",\"value\":17.556265822784813},\"width\":{\"type\":\"value\",\"value\":30},\"height\":{\"type\":\"value\",\"value\":2},\"line_color\":{\"type\":\"value\",\"value\":\"#1f77b4\"},\"line_alpha\":{\"type\":\"value\",\"value\":0.1},\"fill_color\":{\"type\":\"value\",\"value\":\"#ff000064\"},\"fill_alpha\":{\"type\":\"value\",\"value\":0.1},\"hatch_alpha\":{\"type\":\"value\",\"value\":0.1}}},\"muted_glyph\":{\"type\":\"object\",\"name\":\"Rect\",\"id\":\"p5842\",\"attributes\":{\"x\":{\"type\":\"value\",\"value\":664.6},\"y\":{\"type\":\"value\",\"value\":17.556265822784813},\"width\":{\"type\":\"value\",\"value\":30},\"height\":{\"type\":\"value\",\"value\":2},\"line_color\":{\"type\":\"value\",\"value\":\"#1f77b4\"},\"line_alpha\":{\"type\":\"value\",\"value\":0.2},\"fill_color\":{\"type\":\"value\",\"value\":\"#ff000064\"},\"fill_alpha\":{\"type\":\"value\",\"value\":0.2},\"hatch_alpha\":{\"type\":\"value\",\"value\":0.2}}}}},{\"type\":\"object\",\"name\":\"GlyphRenderer\",\"id\":\"p5852\",\"attributes\":{\"data_source\":{\"type\":\"object\",\"name\":\"ColumnDataSource\",\"id\":\"p5846\",\"attributes\":{\"selected\":{\"type\":\"object\",\"name\":\"Selection\",\"id\":\"p5847\",\"attributes\":{\"indices\":[],\"line_indices\":[]}},\"selection_policy\":{\"type\":\"object\",\"name\":\"UnionRenderers\",\"id\":\"p5848\"},\"data\":{\"type\":\"map\"}}},\"view\":{\"type\":\"object\",\"name\":\"CDSView\",\"id\":\"p5853\",\"attributes\":{\"filter\":{\"type\":\"object\",\"name\":\"AllIndices\",\"id\":\"p5854\"}}},\"glyph\":{\"type\":\"object\",\"name\":\"Rect\",\"id\":\"p5849\",\"attributes\":{\"x\":{\"type\":\"value\",\"value\":832.8},\"y\":{\"type\":\"value\",\"value\":3.911046931407946},\"width\":{\"type\":\"value\",\"value\":105},\"height\":{\"type\":\"value\",\"value\":2},\"line_color\":{\"type\":\"value\",\"value\":\"#1f77b4\"},\"fill_color\":{\"type\":\"value\",\"value\":\"#00000064\"}}},\"nonselection_glyph\":{\"type\":\"object\",\"name\":\"Rect\",\"id\":\"p5850\",\"attributes\":{\"x\":{\"type\":\"value\",\"value\":832.8},\"y\":{\"type\":\"value\",\"value\":3.911046931407946},\"width\":{\"type\":\"value\",\"value\":105},\"height\":{\"type\":\"value\",\"value\":2},\"line_color\":{\"type\":\"value\",\"value\":\"#1f77b4\"},\"line_alpha\":{\"type\":\"value\",\"value\":0.1},\"fill_color\":{\"type\":\"value\",\"value\":\"#00000064\"},\"fill_alpha\":{\"type\":\"value\",\"value\":0.1},\"hatch_alpha\":{\"type\":\"value\",\"value\":0.1}}},\"muted_glyph\":{\"type\":\"object\",\"name\":\"Rect\",\"id\":\"p5851\",\"attributes\":{\"x\":{\"type\":\"value\",\"value\":832.8},\"y\":{\"type\":\"value\",\"value\":3.911046931407946},\"width\":{\"type\":\"value\",\"value\":105},\"height\":{\"type\":\"value\",\"value\":2},\"line_color\":{\"type\":\"value\",\"value\":\"#1f77b4\"},\"line_alpha\":{\"type\":\"value\",\"value\":0.2},\"fill_color\":{\"type\":\"value\",\"value\":\"#00000064\"},\"fill_alpha\":{\"type\":\"value\",\"value\":0.2},\"hatch_alpha\":{\"type\":\"value\",\"value\":0.2}}}}},{\"type\":\"object\",\"name\":\"GlyphRenderer\",\"id\":\"p5861\",\"attributes\":{\"data_source\":{\"type\":\"object\",\"name\":\"ColumnDataSource\",\"id\":\"p5855\",\"attributes\":{\"selected\":{\"type\":\"object\",\"name\":\"Selection\",\"id\":\"p5856\",\"attributes\":{\"indices\":[],\"line_indices\":[]}},\"selection_policy\":{\"type\":\"object\",\"name\":\"UnionRenderers\",\"id\":\"p5857\"},\"data\":{\"type\":\"map\"}}},\"view\":{\"type\":\"object\",\"name\":\"CDSView\",\"id\":\"p5862\",\"attributes\":{\"filter\":{\"type\":\"object\",\"name\":\"AllIndices\",\"id\":\"p5863\"}}},\"glyph\":{\"type\":\"object\",\"name\":\"Rect\",\"id\":\"p5858\",\"attributes\":{\"x\":{\"type\":\"value\",\"value\":704.1},\"y\":{\"type\":\"value\",\"value\":14.48641891891892},\"width\":{\"type\":\"value\",\"value\":14},\"height\":{\"type\":\"value\",\"value\":2},\"line_color\":{\"type\":\"value\",\"value\":\"#1f77b4\"},\"fill_color\":{\"type\":\"value\",\"value\":\"#f6000064\"}}},\"nonselection_glyph\":{\"type\":\"object\",\"name\":\"Rect\",\"id\":\"p5859\",\"attributes\":{\"x\":{\"type\":\"value\",\"value\":704.1},\"y\":{\"type\":\"value\",\"value\":14.48641891891892},\"width\":{\"type\":\"value\",\"value\":14},\"height\":{\"type\":\"value\",\"value\":2},\"line_color\":{\"type\":\"value\",\"value\":\"#1f77b4\"},\"line_alpha\":{\"type\":\"value\",\"value\":0.1},\"fill_color\":{\"type\":\"value\",\"value\":\"#f6000064\"},\"fill_alpha\":{\"type\":\"value\",\"value\":0.1},\"hatch_alpha\":{\"type\":\"value\",\"value\":0.1}}},\"muted_glyph\":{\"type\":\"object\",\"name\":\"Rect\",\"id\":\"p5860\",\"attributes\":{\"x\":{\"type\":\"value\",\"value\":704.1},\"y\":{\"type\":\"value\",\"value\":14.48641891891892},\"width\":{\"type\":\"value\",\"value\":14},\"height\":{\"type\":\"value\",\"value\":2},\"line_color\":{\"type\":\"value\",\"value\":\"#1f77b4\"},\"line_alpha\":{\"type\":\"value\",\"value\":0.2},\"fill_color\":{\"type\":\"value\",\"value\":\"#f6000064\"},\"fill_alpha\":{\"type\":\"value\",\"value\":0.2},\"hatch_alpha\":{\"type\":\"value\",\"value\":0.2}}}}},{\"type\":\"object\",\"name\":\"GlyphRenderer\",\"id\":\"p5870\",\"attributes\":{\"data_source\":{\"type\":\"object\",\"name\":\"ColumnDataSource\",\"id\":\"p5864\",\"attributes\":{\"selected\":{\"type\":\"object\",\"name\":\"Selection\",\"id\":\"p5865\",\"attributes\":{\"indices\":[],\"line_indices\":[]}},\"selection_policy\":{\"type\":\"object\",\"name\":\"UnionRenderers\",\"id\":\"p5866\"},\"data\":{\"type\":\"map\"}}},\"view\":{\"type\":\"object\",\"name\":\"CDSView\",\"id\":\"p5871\",\"attributes\":{\"filter\":{\"type\":\"object\",\"name\":\"AllIndices\",\"id\":\"p5872\"}}},\"glyph\":{\"type\":\"object\",\"name\":\"Rect\",\"id\":\"p5867\",\"attributes\":{\"x\":{\"type\":\"value\",\"value\":740.5},\"y\":{\"type\":\"value\",\"value\":11.564155405405408},\"width\":{\"type\":\"value\",\"value\":14},\"height\":{\"type\":\"value\",\"value\":2},\"line_color\":{\"type\":\"value\",\"value\":\"#1f77b4\"},\"fill_color\":{\"type\":\"value\",\"value\":\"#a5000064\"}}},\"nonselection_glyph\":{\"type\":\"object\",\"name\":\"Rect\",\"id\":\"p5868\",\"attributes\":{\"x\":{\"type\":\"value\",\"value\":740.5},\"y\":{\"type\":\"value\",\"value\":11.564155405405408},\"width\":{\"type\":\"value\",\"value\":14},\"height\":{\"type\":\"value\",\"value\":2},\"line_color\":{\"type\":\"value\",\"value\":\"#1f77b4\"},\"line_alpha\":{\"type\":\"value\",\"value\":0.1},\"fill_color\":{\"type\":\"value\",\"value\":\"#a5000064\"},\"fill_alpha\":{\"type\":\"value\",\"value\":0.1},\"hatch_alpha\":{\"type\":\"value\",\"value\":0.1}}},\"muted_glyph\":{\"type\":\"object\",\"name\":\"Rect\",\"id\":\"p5869\",\"attributes\":{\"x\":{\"type\":\"value\",\"value\":740.5},\"y\":{\"type\":\"value\",\"value\":11.564155405405408},\"width\":{\"type\":\"value\",\"value\":14},\"height\":{\"type\":\"value\",\"value\":2},\"line_color\":{\"type\":\"value\",\"value\":\"#1f77b4\"},\"line_alpha\":{\"type\":\"value\",\"value\":0.2},\"fill_color\":{\"type\":\"value\",\"value\":\"#a5000064\"},\"fill_alpha\":{\"type\":\"value\",\"value\":0.2},\"hatch_alpha\":{\"type\":\"value\",\"value\":0.2}}}}},{\"type\":\"object\",\"name\":\"GlyphRenderer\",\"id\":\"p5879\",\"attributes\":{\"data_source\":{\"type\":\"object\",\"name\":\"ColumnDataSource\",\"id\":\"p5873\",\"attributes\":{\"selected\":{\"type\":\"object\",\"name\":\"Selection\",\"id\":\"p5874\",\"attributes\":{\"indices\":[],\"line_indices\":[]}},\"selection_policy\":{\"type\":\"object\",\"name\":\"UnionRenderers\",\"id\":\"p5875\"},\"data\":{\"type\":\"map\"}}},\"view\":{\"type\":\"object\",\"name\":\"CDSView\",\"id\":\"p5880\",\"attributes\":{\"filter\":{\"type\":\"object\",\"name\":\"AllIndices\",\"id\":\"p5881\"}}},\"glyph\":{\"type\":\"object\",\"name\":\"Rect\",\"id\":\"p5876\",\"attributes\":{\"x\":{\"type\":\"value\",\"value\":782.8},\"y\":{\"type\":\"value\",\"value\":8.752025000000003},\"width\":{\"type\":\"value\",\"value\":19},\"height\":{\"type\":\"value\",\"value\":2},\"line_color\":{\"type\":\"value\",\"value\":\"#1f77b4\"},\"fill_color\":{\"type\":\"value\",\"value\":\"#00000064\"}}},\"nonselection_glyph\":{\"type\":\"object\",\"name\":\"Rect\",\"id\":\"p5877\",\"attributes\":{\"x\":{\"type\":\"value\",\"value\":782.8},\"y\":{\"type\":\"value\",\"value\":8.752025000000003},\"width\":{\"type\":\"value\",\"value\":19},\"height\":{\"type\":\"value\",\"value\":2},\"line_color\":{\"type\":\"value\",\"value\":\"#1f77b4\"},\"line_alpha\":{\"type\":\"value\",\"value\":0.1},\"fill_color\":{\"type\":\"value\",\"value\":\"#00000064\"},\"fill_alpha\":{\"type\":\"value\",\"value\":0.1},\"hatch_alpha\":{\"type\":\"value\",\"value\":0.1}}},\"muted_glyph\":{\"type\":\"object\",\"name\":\"Rect\",\"id\":\"p5878\",\"attributes\":{\"x\":{\"type\":\"value\",\"value\":782.8},\"y\":{\"type\":\"value\",\"value\":8.752025000000003},\"width\":{\"type\":\"value\",\"value\":19},\"height\":{\"type\":\"value\",\"value\":2},\"line_color\":{\"type\":\"value\",\"value\":\"#1f77b4\"},\"line_alpha\":{\"type\":\"value\",\"value\":0.2},\"fill_color\":{\"type\":\"value\",\"value\":\"#00000064\"},\"fill_alpha\":{\"type\":\"value\",\"value\":0.2},\"hatch_alpha\":{\"type\":\"value\",\"value\":0.2}}}}},{\"type\":\"object\",\"name\":\"GlyphRenderer\",\"id\":\"p5888\",\"attributes\":{\"data_source\":{\"type\":\"object\",\"name\":\"ColumnDataSource\",\"id\":\"p5882\",\"attributes\":{\"selected\":{\"type\":\"object\",\"name\":\"Selection\",\"id\":\"p5883\",\"attributes\":{\"indices\":[],\"line_indices\":[]}},\"selection_policy\":{\"type\":\"object\",\"name\":\"UnionRenderers\",\"id\":\"p5884\"},\"data\":{\"type\":\"map\"}}},\"view\":{\"type\":\"object\",\"name\":\"CDSView\",\"id\":\"p5889\",\"attributes\":{\"filter\":{\"type\":\"object\",\"name\":\"AllIndices\",\"id\":\"p5890\"}}},\"glyph\":{\"type\":\"object\",\"name\":\"Rect\",\"id\":\"p5885\",\"attributes\":{\"x\":{\"type\":\"value\",\"value\":864.7},\"y\":{\"type\":\"value\",\"value\":1.9614318181818222},\"width\":{\"type\":\"value\",\"value\":21},\"height\":{\"type\":\"value\",\"value\":2},\"line_color\":{\"type\":\"value\",\"value\":\"#1f77b4\"},\"fill_color\":{\"type\":\"value\",\"value\":\"#00000064\"}}},\"nonselection_glyph\":{\"type\":\"object\",\"name\":\"Rect\",\"id\":\"p5886\",\"attributes\":{\"x\":{\"type\":\"value\",\"value\":864.7},\"y\":{\"type\":\"value\",\"value\":1.9614318181818222},\"width\":{\"type\":\"value\",\"value\":21},\"height\":{\"type\":\"value\",\"value\":2},\"line_color\":{\"type\":\"value\",\"value\":\"#1f77b4\"},\"line_alpha\":{\"type\":\"value\",\"value\":0.1},\"fill_color\":{\"type\":\"value\",\"value\":\"#00000064\"},\"fill_alpha\":{\"type\":\"value\",\"value\":0.1},\"hatch_alpha\":{\"type\":\"value\",\"value\":0.1}}},\"muted_glyph\":{\"type\":\"object\",\"name\":\"Rect\",\"id\":\"p5887\",\"attributes\":{\"x\":{\"type\":\"value\",\"value\":864.7},\"y\":{\"type\":\"value\",\"value\":1.9614318181818222},\"width\":{\"type\":\"value\",\"value\":21},\"height\":{\"type\":\"value\",\"value\":2},\"line_color\":{\"type\":\"value\",\"value\":\"#1f77b4\"},\"line_alpha\":{\"type\":\"value\",\"value\":0.2},\"fill_color\":{\"type\":\"value\",\"value\":\"#00000064\"},\"fill_alpha\":{\"type\":\"value\",\"value\":0.2},\"hatch_alpha\":{\"type\":\"value\",\"value\":0.2}}}}},{\"type\":\"object\",\"name\":\"GlyphRenderer\",\"id\":\"p5897\",\"attributes\":{\"data_source\":{\"type\":\"object\",\"name\":\"ColumnDataSource\",\"id\":\"p5891\",\"attributes\":{\"selected\":{\"type\":\"object\",\"name\":\"Selection\",\"id\":\"p5892\",\"attributes\":{\"indices\":[],\"line_indices\":[]}},\"selection_policy\":{\"type\":\"object\",\"name\":\"UnionRenderers\",\"id\":\"p5893\"},\"data\":{\"type\":\"map\",\"entries\":[[\"xs\",[[759.37,759.37],[686.719,686.719],[656.281,656.281],[627.661,627.661],[589.592,589.592],[588.995,588.995],[587.5618,587.5618],[546.073,546.073],[527.039,527.039],[518.362,518.362],[517.27,517.27],[516.891,516.891],[516.733,516.733],[495.761,495.761],[486.134,486.134],[466.814,466.814],[438.355,438.355],[430.79,430.79],[430.774,430.774],[396.847,396.847]]],[\"ys\",[[0.0,19.621250000000003],[0.0,19.621250000000003],[0.0,19.621250000000003],[0.0,19.621250000000003],[0.0,19.621250000000003],[0.0,19.621250000000003],[0.0,19.621250000000003],[0.0,19.621250000000003],[0.0,19.621250000000003],[0.0,19.621250000000003],[0.0,19.621250000000003],[0.0,19.621250000000003],[0.0,19.621250000000003],[0.0,19.621250000000003],[0.0,19.621250000000003],[0.0,19.621250000000003],[0.0,19.621250000000003],[0.0,19.621250000000003],[0.0,19.621250000000003],[0.0,19.621250000000003]]]]}}},\"view\":{\"type\":\"object\",\"name\":\"CDSView\",\"id\":\"p5898\",\"attributes\":{\"filter\":{\"type\":\"object\",\"name\":\"AllIndices\",\"id\":\"p5899\"}}},\"glyph\":{\"type\":\"object\",\"name\":\"MultiLine\",\"id\":\"p5894\",\"attributes\":{\"xs\":{\"type\":\"field\",\"field\":\"xs\"},\"ys\":{\"type\":\"field\",\"field\":\"ys\"},\"line_color\":{\"type\":\"value\",\"value\":\"lightgray\"}}},\"nonselection_glyph\":{\"type\":\"object\",\"name\":\"MultiLine\",\"id\":\"p5895\",\"attributes\":{\"xs\":{\"type\":\"field\",\"field\":\"xs\"},\"ys\":{\"type\":\"field\",\"field\":\"ys\"},\"line_color\":{\"type\":\"value\",\"value\":\"lightgray\"},\"line_alpha\":{\"type\":\"value\",\"value\":0.1}}},\"muted_glyph\":{\"type\":\"object\",\"name\":\"MultiLine\",\"id\":\"p5896\",\"attributes\":{\"xs\":{\"type\":\"field\",\"field\":\"xs\"},\"ys\":{\"type\":\"field\",\"field\":\"ys\"},\"line_color\":{\"type\":\"value\",\"value\":\"lightgray\"},\"line_alpha\":{\"type\":\"value\",\"value\":0.2}}}}},{\"type\":\"object\",\"name\":\"GlyphRenderer\",\"id\":\"p5908\",\"attributes\":{\"data_source\":{\"type\":\"object\",\"name\":\"ColumnDataSource\",\"id\":\"p5902\",\"attributes\":{\"selected\":{\"type\":\"object\",\"name\":\"Selection\",\"id\":\"p5903\",\"attributes\":{\"indices\":[],\"line_indices\":[]}},\"selection_policy\":{\"type\":\"object\",\"name\":\"UnionRenderers\",\"id\":\"p5904\"},\"data\":{\"type\":\"map\",\"entries\":[[\"x\",{\"type\":\"ndarray\",\"array\":{\"type\":\"bytes\",\"data\":\"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\"},\"shape\":[1280],\"dtype\":\"float64\",\"order\":\"little\"}],[\"y\",{\"type\":\"ndarray\",\"array\":{\"type\":\"bytes\",\"data\":\"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\"},\"shape\":[1280],\"dtype\":\"float64\",\"order\":\"little\"}]]}}},\"view\":{\"type\":\"object\",\"name\":\"CDSView\",\"id\":\"p5909\",\"attributes\":{\"filter\":{\"type\":\"object\",\"name\":\"AllIndices\",\"id\":\"p5910\"}}},\"glyph\":{\"type\":\"object\",\"name\":\"Line\",\"id\":\"p5905\",\"attributes\":{\"x\":{\"type\":\"field\",\"field\":\"x\"},\"y\":{\"type\":\"field\",\"field\":\"y\"},\"line_color\":\"#1f77b4\",\"line_width\":3}},\"nonselection_glyph\":{\"type\":\"object\",\"name\":\"Line\",\"id\":\"p5906\",\"attributes\":{\"x\":{\"type\":\"field\",\"field\":\"x\"},\"y\":{\"type\":\"field\",\"field\":\"y\"},\"line_color\":\"#1f77b4\",\"line_alpha\":0.1,\"line_width\":3}},\"muted_glyph\":{\"type\":\"object\",\"name\":\"Line\",\"id\":\"p5907\",\"attributes\":{\"x\":{\"type\":\"field\",\"field\":\"x\"},\"y\":{\"type\":\"field\",\"field\":\"y\"},\"line_color\":\"#1f77b4\",\"line_alpha\":0.2,\"line_width\":3}}}}],\"toolbar\":{\"type\":\"object\",\"name\":\"Toolbar\",\"id\":\"p5781\",\"attributes\":{\"tools\":[{\"type\":\"object\",\"name\":\"PanTool\",\"id\":\"p5804\"},{\"type\":\"object\",\"name\":\"WheelZoomTool\",\"id\":\"p5805\"},{\"type\":\"object\",\"name\":\"BoxZoomTool\",\"id\":\"p5806\",\"attributes\":{\"overlay\":{\"type\":\"object\",\"name\":\"BoxAnnotation\",\"id\":\"p5807\",\"attributes\":{\"syncable\":false,\"level\":\"overlay\",\"visible\":false,\"left_units\":\"canvas\",\"right_units\":\"canvas\",\"bottom_units\":\"canvas\",\"top_units\":\"canvas\",\"line_color\":\"black\",\"line_alpha\":1.0,\"line_width\":2,\"line_dash\":[4,4],\"fill_color\":\"lightgrey\",\"fill_alpha\":0.5}}}},{\"type\":\"object\",\"name\":\"SaveTool\",\"id\":\"p5808\"},{\"type\":\"object\",\"name\":\"ResetTool\",\"id\":\"p5809\"},{\"type\":\"object\",\"name\":\"HelpTool\",\"id\":\"p5810\"}]}},\"left\":[{\"type\":\"object\",\"name\":\"LinearAxis\",\"id\":\"p5797\",\"attributes\":{\"ticker\":{\"type\":\"object\",\"name\":\"BasicTicker\",\"id\":\"p5800\",\"attributes\":{\"mantissas\":[1,2,5]}},\"formatter\":{\"type\":\"object\",\"name\":\"BasicTickFormatter\",\"id\":\"p5798\"},\"axis_label\":\"Intensity (Counts)\",\"major_label_policy\":{\"type\":\"object\",\"name\":\"AllLabels\",\"id\":\"p5799\"}}}],\"below\":[{\"type\":\"object\",\"name\":\"LinearAxis\",\"id\":\"p5790\",\"attributes\":{\"ticker\":{\"type\":\"object\",\"name\":\"BasicTicker\",\"id\":\"p5793\",\"attributes\":{\"mantissas\":[1,2,5]}},\"formatter\":{\"type\":\"object\",\"name\":\"BasicTickFormatter\",\"id\":\"p5791\"},\"axis_label\":\"Wavelength (nm)\",\"major_label_policy\":{\"type\":\"object\",\"name\":\"AllLabels\",\"id\":\"p5792\"}}}],\"center\":[{\"type\":\"object\",\"name\":\"Grid\",\"id\":\"p5796\",\"attributes\":{\"axis\":{\"id\":\"p5790\"}}},{\"type\":\"object\",\"name\":\"Grid\",\"id\":\"p5803\",\"attributes\":{\"dimension\":1,\"axis\":{\"id\":\"p5797\"}}},{\"type\":\"object\",\"name\":\"Legend\",\"id\":\"p5900\",\"attributes\":{\"items\":[{\"type\":\"object\",\"name\":\"LegendItem\",\"id\":\"p5901\",\"attributes\":{\"label\":{\"type\":\"value\",\"value\":\"Fraunhofer Lines.\"},\"renderers\":[{\"id\":\"p5897\"}]}},{\"type\":\"object\",\"name\":\"LegendItem\",\"id\":\"p5911\",\"attributes\":{\"label\":{\"type\":\"value\",\"value\":\"Spectra\"},\"renderers\":[{\"id\":\"p5908\"}]}}]}}]}}],\"callbacks\":{\"type\":\"map\"}}};\n",
       "  const render_items = [{\"docid\":\"04e1df8b-e338-4b82-8280-a0451b4d6564\",\"roots\":{\"p5772\":\"f8e0d1a3-69e2-4f0f-a0bc-6e0359aa2eb9\"},\"root_ids\":[\"p5772\"]}];\n",
       "  root.Bokeh.embed.embed_items_notebook(docs_json, render_items);\n",
       "  }\n",
       "  if (root.Bokeh !== undefined) {\n",
       "    embed_document(root);\n",
       "  } else {\n",
       "    let attempts = 0;\n",
       "    const timer = setInterval(function(root) {\n",
       "      if (root.Bokeh !== undefined) {\n",
       "        clearInterval(timer);\n",
       "        embed_document(root);\n",
       "      } else {\n",
       "        attempts++;\n",
       "        if (attempts > 100) {\n",
       "          clearInterval(timer);\n",
       "          console.log(\"Bokeh: ERROR: Unable to run BokehJS code because BokehJS library is missing\");\n",
       "        }\n",
       "      }\n",
       "    }, 10, root)\n",
       "  }\n",
       "})(window);"
      ],
      "application/vnd.bokehjs_exec.v0+json": ""
     },
     "metadata": {
      "application/vnd.bokehjs_exec.v0+json": {
       "id": "p5772"
      }
     },
     "output_type": "display_data"
    }
   ],
   "source": [
    "#spectra_file = '../sample_data/2023-0718/034901/hab_spectra/2023-0718-034915-344969-spec.json'\n",
    "from bokeh.models import ColumnDataSource, Label, LabelSet, Range1d\n",
    "ts = test_spectra[3]\n",
    "spectra_file = ts[0]\n",
    "screen_height = 300\n",
    "screen_width  = 700\n",
    "\n",
    "spectra = read_spectra( spectra_file )\n",
    "spectra_w = figure(title= f\"{ spectra_file.split('/')[-1]},    {ts[1]}\",\n",
    "                   x_axis_label='Wavelength (nm)', y_axis_label='Intensity (Counts)',\n",
    "                  height=300, width=700)\n",
    "\n",
    "fran_x, fran_y = gen_reference_lines( spectra, Fraunhofer_lines )\n",
    "\n",
    "# Plot Sentinel bands.\n",
    "sentinel_update( spectra, sa )\n",
    "for se in sa:\n",
    "  spectra_w.rect( x= sa[se].center_nm, y= sa[se].y_average, width=sa[se].width_nm, height= 2,\n",
    "                 line_width=1, fill_color= wavelength_2_RGB_str( sa[se].center_nm, alpha=100 ) )\n",
    "  \n",
    "junk = spectra_w.multi_line(fran_x, fran_y, color='lightgray', legend_label=\"Fraunhofer Lines.\" )\n",
    "junk = spectra_w.line(wavelengths, spectra, legend_label=\"Spectra\", line_width=3)\n",
    "label = Label( x=20, y=10, x_units='screen', y_units='screen', text= ts[1] )\n",
    "#spectra_w.add_layout( label )\n",
    "show(spectra_w)"
   ]
  },
  {
   "cell_type": "markdown",
   "metadata": {},
   "source": [
    "#| hide\n",
    "### HABSpec Navigation and positioning"
   ]
  },
  {
   "cell_type": "markdown",
   "metadata": {},
   "source": [
    "#| hide\n",
    "#### def nearest_rgb_image( fn, debug=False):"
   ]
  },
  {
   "cell_type": "code",
   "execution_count": null,
   "metadata": {},
   "outputs": [],
   "source": [
    "#| export\n",
    "#debug_nearest_rgb_image = False\n",
    "def nearest_rgb_image( \n",
    "  fn,          # Json spectra file.\n",
    "  debug=False  # True to debug internals.\n",
    ") -> str:      # File name of the nearest RGB photo to this json spectra.\n",
    "    \"\"\"\n",
    "    Returns the path/filename to the RGB photo closes in time to `fn`.  `fn` is the\n",
    "    filename of a Json hyperspectral file.\n",
    "\n",
    "    Parameters:\n",
    "    -----------\n",
    "    fn : str\n",
    "      Full path/filename of a hyperspectral Json file.\n",
    "\n",
    "    Returns:\n",
    "    --------\n",
    "    str\n",
    "      A string path/filename of the closes RGB photo.\n",
    "\n",
    "    Examples:\n",
    "    ---------\n",
    "\n",
    "    References:\n",
    "    -----------\n",
    "    \"\"\"\n",
    "    if debug:\n",
    "      print(f'debug_nearest_rgb_image(fn): fn={fn}')\n",
    "    fn_parts = fn.split('/')   # Split path by '/'\n",
    "    if debug:\n",
    "      print(f'debug_nearest_rgb_image(fn): fn_parts={fn_parts}')\n",
    "    rgb_p = fn_parts                          # Make a copy to build the rgb path/filename in.\n",
    "    if debug:\n",
    "      print(f'debug_nearest_rgb_image(fn): rgb_p={rgb_p}')    \n",
    "    rgb_p[-2] = 'hab_rgb'                     # Change the subdir to point to hab_rgb\n",
    "    rgb_fn = rgb_p[-1].split('-')             # Split the filename by '-' to access parts.\n",
    "    rgb_fn[-2] = '*'                          # Replace the microseconds with '*' wildcard.\n",
    "    rgb_fn[-1] = 'rgb.jpg'                    # Change the file tail to rgb.jpg\n",
    "    rgb_p[-1] = '-'.join(rgb_fn)              # Glue the name back together\n",
    "    rgb_p2 = '/'.join(rgb_p)                  # Now glue the whole path back together\n",
    "    rv = glob.glob(rgb_p2)[0]                 # Return the first entry incase there are more than 1.\n",
    "    if debug:\n",
    "      print(f'debug_nearest_rgb_image(fn): rv={rv}') \n",
    "    return rv\n"
   ]
  },
  {
   "cell_type": "code",
   "execution_count": null,
   "metadata": {},
   "outputs": [
    {
     "name": "stdout",
     "output_type": "stream",
     "text": [
      "    Input Json spectra file: ../sample_data/034901/hab_spectra/2023-0718-034912-259843-spec.json\n",
      "        Nearest RGB File is: ../sample_data/034901/hab_rgb/2023-0718-034912-948434-rgb.jpg\n"
     ]
    }
   ],
   "source": [
    "print(\n",
    "f'    Input Json spectra file: {test_spectra_file}\\n'\n",
    "f'        Nearest RGB File is: {nearest_rgb_image( test_spectra_file )}'  \n",
    ")"
   ]
  },
  {
   "cell_type": "markdown",
   "metadata": {},
   "source": [
    "####   def read_gps_file_to_df( ifn, debug=False):"
   ]
  },
  {
   "cell_type": "code",
   "execution_count": null,
   "metadata": {},
   "outputs": [],
   "source": [
    "#| export\n",
    "#debug_read_gps_file_to_df = False\n",
    "def read_gps_file_to_df( ifn, debug=False):\n",
    "    '''\n",
    "    Read a GPS datafile into a dataframe and convert the HH:MM:SS\n",
    "    to add an SOD column.\n",
    "\n",
    "    Parameters:\n",
    "    -----------\n",
    "    ifn : str\n",
    "        Input GPS datafile full path name\n",
    "\n",
    "    Returns:\n",
    "    --------\n",
    "    Pandas Dataframe of the GPS data.\n",
    "    '''\n",
    "    gps_df = pd.read_csv(ifn, sep='\\s+', comment='#')\n",
    "    gps_df.sort_values(by=['HMS'], inplace=True)\n",
    "    # Convert the ASCII HH:MM:SS from the GPS to seconds of the day (SOD) and\n",
    "    # add an 'SOD' column to the gps dataframe.\n",
    "    sod_lst = []\n",
    "    for t in gps_df['HMS']:\n",
    "      sod_lst.append( hms2sod(t))\n",
    "    gps_df['SOD'] = sod_lst\n",
    "\n",
    "    # Compute, and add 'Course' to dataframe\n",
    "    course = []\n",
    "    for i in  range(len(gps_df)-1):\n",
    "      course.append ( get_bearing( \n",
    "          lat1=gps_df['Lat'].iloc[i], long1=gps_df['Lon'].iloc[i], \n",
    "          lat2=gps_df['Lat'].iloc[i+1], long2=gps_df['Lon'].iloc[i+1] \n",
    "          ) \n",
    "      )\n",
    "    course.append( 0.0 )      # To make the same length\n",
    "    gps_df['Course'] = course\n",
    "    return gps_df"
   ]
  },
  {
   "cell_type": "markdown",
   "metadata": {},
   "source": [
    "Test read_gps_file_to_df() function.  Read a datafile into a Pandas dataframe."
   ]
  },
  {
   "cell_type": "code",
   "execution_count": null,
   "metadata": {},
   "outputs": [
    {
     "data": {
      "text/html": [
       "<div>\n",
       "<style scoped>\n",
       "    .dataframe tbody tr th:only-of-type {\n",
       "        vertical-align: middle;\n",
       "    }\n",
       "\n",
       "    .dataframe tbody tr th {\n",
       "        vertical-align: top;\n",
       "    }\n",
       "\n",
       "    .dataframe thead th {\n",
       "        text-align: right;\n",
       "    }\n",
       "</style>\n",
       "<table border=\"1\" class=\"dataframe\">\n",
       "  <thead>\n",
       "    <tr style=\"text-align: right;\">\n",
       "      <th></th>\n",
       "      <th>Date</th>\n",
       "      <th>HMS</th>\n",
       "      <th>Lat</th>\n",
       "      <th>Lon</th>\n",
       "      <th>Elev</th>\n",
       "      <th>Speed</th>\n",
       "      <th>Nsat</th>\n",
       "      <th>Mode</th>\n",
       "      <th>Herr</th>\n",
       "      <th>Verr</th>\n",
       "      <th>Temp</th>\n",
       "      <th>SOD</th>\n",
       "      <th>Course</th>\n",
       "    </tr>\n",
       "  </thead>\n",
       "  <tbody>\n",
       "    <tr>\n",
       "      <th>0</th>\n",
       "      <td>2023-07-18</td>\n",
       "      <td>03:49:01</td>\n",
       "      <td>28.209750</td>\n",
       "      <td>-82.363932</td>\n",
       "      <td>22.50</td>\n",
       "      <td>0.0</td>\n",
       "      <td>4</td>\n",
       "      <td>3</td>\n",
       "      <td>25.0</td>\n",
       "      <td>44.9</td>\n",
       "      <td>68.756</td>\n",
       "      <td>13741.0</td>\n",
       "      <td>19.402235</td>\n",
       "    </tr>\n",
       "    <tr>\n",
       "      <th>1</th>\n",
       "      <td>2023-07-18</td>\n",
       "      <td>03:49:02.100000</td>\n",
       "      <td>28.209751</td>\n",
       "      <td>-82.363932</td>\n",
       "      <td>22.50</td>\n",
       "      <td>0.0</td>\n",
       "      <td>4</td>\n",
       "      <td>3</td>\n",
       "      <td>25.0</td>\n",
       "      <td>44.9</td>\n",
       "      <td>68.756</td>\n",
       "      <td>13742.1</td>\n",
       "      <td>16.761456</td>\n",
       "    </tr>\n",
       "    <tr>\n",
       "      <th>2</th>\n",
       "      <td>2023-07-18</td>\n",
       "      <td>03:49:03.100000</td>\n",
       "      <td>28.209751</td>\n",
       "      <td>-82.363932</td>\n",
       "      <td>22.40</td>\n",
       "      <td>0.0</td>\n",
       "      <td>4</td>\n",
       "      <td>3</td>\n",
       "      <td>25.0</td>\n",
       "      <td>44.9</td>\n",
       "      <td>68.756</td>\n",
       "      <td>13743.1</td>\n",
       "      <td>30.312737</td>\n",
       "    </tr>\n",
       "    <tr>\n",
       "      <th>3</th>\n",
       "      <td>2023-07-18</td>\n",
       "      <td>03:49:04</td>\n",
       "      <td>28.209752</td>\n",
       "      <td>-82.363932</td>\n",
       "      <td>22.40</td>\n",
       "      <td>0.0</td>\n",
       "      <td>4</td>\n",
       "      <td>3</td>\n",
       "      <td>25.0</td>\n",
       "      <td>44.9</td>\n",
       "      <td>68.756</td>\n",
       "      <td>13744.0</td>\n",
       "      <td>60.193171</td>\n",
       "    </tr>\n",
       "    <tr>\n",
       "      <th>4</th>\n",
       "      <td>2023-07-18</td>\n",
       "      <td>03:49:05</td>\n",
       "      <td>28.209752</td>\n",
       "      <td>-82.363931</td>\n",
       "      <td>22.30</td>\n",
       "      <td>0.0</td>\n",
       "      <td>4</td>\n",
       "      <td>3</td>\n",
       "      <td>25.0</td>\n",
       "      <td>44.9</td>\n",
       "      <td>68.218</td>\n",
       "      <td>13745.0</td>\n",
       "      <td>-16.761454</td>\n",
       "    </tr>\n",
       "    <tr>\n",
       "      <th>5</th>\n",
       "      <td>2023-07-18</td>\n",
       "      <td>03:49:06.100000</td>\n",
       "      <td>28.209753</td>\n",
       "      <td>-82.363931</td>\n",
       "      <td>22.50</td>\n",
       "      <td>0.0</td>\n",
       "      <td>4</td>\n",
       "      <td>3</td>\n",
       "      <td>25.0</td>\n",
       "      <td>44.9</td>\n",
       "      <td>68.756</td>\n",
       "      <td>13746.1</td>\n",
       "      <td>46.024777</td>\n",
       "    </tr>\n",
       "    <tr>\n",
       "      <th>6</th>\n",
       "      <td>2023-07-18</td>\n",
       "      <td>03:49:07.100000</td>\n",
       "      <td>28.209754</td>\n",
       "      <td>-82.363930</td>\n",
       "      <td>22.40</td>\n",
       "      <td>0.0</td>\n",
       "      <td>4</td>\n",
       "      <td>3</td>\n",
       "      <td>25.0</td>\n",
       "      <td>44.9</td>\n",
       "      <td>68.756</td>\n",
       "      <td>13747.1</td>\n",
       "      <td>16.294989</td>\n",
       "    </tr>\n",
       "    <tr>\n",
       "      <th>7</th>\n",
       "      <td>2023-07-18</td>\n",
       "      <td>03:49:08.200000</td>\n",
       "      <td>28.209755</td>\n",
       "      <td>-82.363929</td>\n",
       "      <td>22.30</td>\n",
       "      <td>0.0</td>\n",
       "      <td>4</td>\n",
       "      <td>3</td>\n",
       "      <td>25.0</td>\n",
       "      <td>44.9</td>\n",
       "      <td>69.294</td>\n",
       "      <td>13748.2</td>\n",
       "      <td>138.464356</td>\n",
       "    </tr>\n",
       "    <tr>\n",
       "      <th>8</th>\n",
       "      <td>2023-07-18</td>\n",
       "      <td>03:49:09</td>\n",
       "      <td>28.209754</td>\n",
       "      <td>-82.363929</td>\n",
       "      <td>22.30</td>\n",
       "      <td>0.0</td>\n",
       "      <td>4</td>\n",
       "      <td>3</td>\n",
       "      <td>25.0</td>\n",
       "      <td>44.9</td>\n",
       "      <td>69.294</td>\n",
       "      <td>13749.0</td>\n",
       "      <td>41.535644</td>\n",
       "    </tr>\n",
       "    <tr>\n",
       "      <th>9</th>\n",
       "      <td>2023-07-18</td>\n",
       "      <td>03:49:10</td>\n",
       "      <td>28.209755</td>\n",
       "      <td>-82.363929</td>\n",
       "      <td>22.30</td>\n",
       "      <td>0.0</td>\n",
       "      <td>4</td>\n",
       "      <td>3</td>\n",
       "      <td>25.0</td>\n",
       "      <td>44.9</td>\n",
       "      <td>69.294</td>\n",
       "      <td>13750.0</td>\n",
       "      <td>33.467529</td>\n",
       "    </tr>\n",
       "    <tr>\n",
       "      <th>10</th>\n",
       "      <td>2023-07-18</td>\n",
       "      <td>03:49:11.100000</td>\n",
       "      <td>28.209755</td>\n",
       "      <td>-82.363929</td>\n",
       "      <td>22.30</td>\n",
       "      <td>0.0</td>\n",
       "      <td>4</td>\n",
       "      <td>3</td>\n",
       "      <td>25.0</td>\n",
       "      <td>44.9</td>\n",
       "      <td>69.294</td>\n",
       "      <td>13751.1</td>\n",
       "      <td>0.000000</td>\n",
       "    </tr>\n",
       "    <tr>\n",
       "      <th>11</th>\n",
       "      <td>2023-07-18</td>\n",
       "      <td>03:49:12.100000</td>\n",
       "      <td>28.209756</td>\n",
       "      <td>-82.363929</td>\n",
       "      <td>22.30</td>\n",
       "      <td>0.0</td>\n",
       "      <td>4</td>\n",
       "      <td>3</td>\n",
       "      <td>25.0</td>\n",
       "      <td>44.9</td>\n",
       "      <td>69.294</td>\n",
       "      <td>13752.1</td>\n",
       "      <td>38.682806</td>\n",
       "    </tr>\n",
       "    <tr>\n",
       "      <th>12</th>\n",
       "      <td>2023-07-18</td>\n",
       "      <td>03:49:13.200000</td>\n",
       "      <td>28.209756</td>\n",
       "      <td>-82.363928</td>\n",
       "      <td>22.29</td>\n",
       "      <td>0.0</td>\n",
       "      <td>4</td>\n",
       "      <td>3</td>\n",
       "      <td>25.0</td>\n",
       "      <td>44.9</td>\n",
       "      <td>69.294</td>\n",
       "      <td>13753.2</td>\n",
       "      <td>96.440730</td>\n",
       "    </tr>\n",
       "    <tr>\n",
       "      <th>13</th>\n",
       "      <td>2023-07-18</td>\n",
       "      <td>03:49:14</td>\n",
       "      <td>28.209756</td>\n",
       "      <td>-82.363928</td>\n",
       "      <td>22.50</td>\n",
       "      <td>0.0</td>\n",
       "      <td>4</td>\n",
       "      <td>3</td>\n",
       "      <td>25.0</td>\n",
       "      <td>44.9</td>\n",
       "      <td>69.294</td>\n",
       "      <td>13754.0</td>\n",
       "      <td>23.243315</td>\n",
       "    </tr>\n",
       "    <tr>\n",
       "      <th>14</th>\n",
       "      <td>2023-07-18</td>\n",
       "      <td>03:49:15.100000</td>\n",
       "      <td>28.209757</td>\n",
       "      <td>-82.363928</td>\n",
       "      <td>22.50</td>\n",
       "      <td>0.0</td>\n",
       "      <td>4</td>\n",
       "      <td>3</td>\n",
       "      <td>25.0</td>\n",
       "      <td>44.9</td>\n",
       "      <td>68.756</td>\n",
       "      <td>13755.1</td>\n",
       "      <td>60.925293</td>\n",
       "    </tr>\n",
       "    <tr>\n",
       "      <th>15</th>\n",
       "      <td>2023-07-18</td>\n",
       "      <td>03:49:16.100000</td>\n",
       "      <td>28.209757</td>\n",
       "      <td>-82.363927</td>\n",
       "      <td>22.40</td>\n",
       "      <td>0.0</td>\n",
       "      <td>4</td>\n",
       "      <td>3</td>\n",
       "      <td>25.0</td>\n",
       "      <td>44.9</td>\n",
       "      <td>68.756</td>\n",
       "      <td>13756.1</td>\n",
       "      <td>-138.464357</td>\n",
       "    </tr>\n",
       "    <tr>\n",
       "      <th>16</th>\n",
       "      <td>2023-07-18</td>\n",
       "      <td>03:49:17.100000</td>\n",
       "      <td>28.209757</td>\n",
       "      <td>-82.363927</td>\n",
       "      <td>22.60</td>\n",
       "      <td>0.0</td>\n",
       "      <td>4</td>\n",
       "      <td>3</td>\n",
       "      <td>25.0</td>\n",
       "      <td>44.9</td>\n",
       "      <td>68.756</td>\n",
       "      <td>13757.1</td>\n",
       "      <td>0.000000</td>\n",
       "    </tr>\n",
       "    <tr>\n",
       "      <th>17</th>\n",
       "      <td>2023-07-18</td>\n",
       "      <td>03:49:18</td>\n",
       "      <td>28.209757</td>\n",
       "      <td>-82.363927</td>\n",
       "      <td>22.70</td>\n",
       "      <td>0.0</td>\n",
       "      <td>4</td>\n",
       "      <td>3</td>\n",
       "      <td>25.0</td>\n",
       "      <td>44.9</td>\n",
       "      <td>68.756</td>\n",
       "      <td>13758.0</td>\n",
       "      <td>41.535643</td>\n",
       "    </tr>\n",
       "    <tr>\n",
       "      <th>18</th>\n",
       "      <td>2023-07-18</td>\n",
       "      <td>03:49:19</td>\n",
       "      <td>28.209757</td>\n",
       "      <td>-82.363927</td>\n",
       "      <td>22.70</td>\n",
       "      <td>0.0</td>\n",
       "      <td>4</td>\n",
       "      <td>3</td>\n",
       "      <td>25.0</td>\n",
       "      <td>44.9</td>\n",
       "      <td>69.294</td>\n",
       "      <td>13759.0</td>\n",
       "      <td>73.787062</td>\n",
       "    </tr>\n",
       "    <tr>\n",
       "      <th>19</th>\n",
       "      <td>2023-07-18</td>\n",
       "      <td>03:49:20.100000</td>\n",
       "      <td>28.209757</td>\n",
       "      <td>-82.363926</td>\n",
       "      <td>22.80</td>\n",
       "      <td>0.0</td>\n",
       "      <td>4</td>\n",
       "      <td>3</td>\n",
       "      <td>25.0</td>\n",
       "      <td>44.9</td>\n",
       "      <td>69.294</td>\n",
       "      <td>13760.1</td>\n",
       "      <td>41.535644</td>\n",
       "    </tr>\n",
       "    <tr>\n",
       "      <th>20</th>\n",
       "      <td>2023-07-18</td>\n",
       "      <td>03:49:21.100000</td>\n",
       "      <td>28.209758</td>\n",
       "      <td>-82.363926</td>\n",
       "      <td>22.80</td>\n",
       "      <td>0.0</td>\n",
       "      <td>4</td>\n",
       "      <td>3</td>\n",
       "      <td>25.0</td>\n",
       "      <td>45.1</td>\n",
       "      <td>69.294</td>\n",
       "      <td>13761.1</td>\n",
       "      <td>0.000000</td>\n",
       "    </tr>\n",
       "  </tbody>\n",
       "</table>\n",
       "</div>"
      ],
      "text/plain": [
       "          Date              HMS        Lat        Lon   Elev  Speed  Nsat  \\\n",
       "0   2023-07-18         03:49:01  28.209750 -82.363932  22.50    0.0     4   \n",
       "1   2023-07-18  03:49:02.100000  28.209751 -82.363932  22.50    0.0     4   \n",
       "2   2023-07-18  03:49:03.100000  28.209751 -82.363932  22.40    0.0     4   \n",
       "3   2023-07-18         03:49:04  28.209752 -82.363932  22.40    0.0     4   \n",
       "4   2023-07-18         03:49:05  28.209752 -82.363931  22.30    0.0     4   \n",
       "5   2023-07-18  03:49:06.100000  28.209753 -82.363931  22.50    0.0     4   \n",
       "6   2023-07-18  03:49:07.100000  28.209754 -82.363930  22.40    0.0     4   \n",
       "7   2023-07-18  03:49:08.200000  28.209755 -82.363929  22.30    0.0     4   \n",
       "8   2023-07-18         03:49:09  28.209754 -82.363929  22.30    0.0     4   \n",
       "9   2023-07-18         03:49:10  28.209755 -82.363929  22.30    0.0     4   \n",
       "10  2023-07-18  03:49:11.100000  28.209755 -82.363929  22.30    0.0     4   \n",
       "11  2023-07-18  03:49:12.100000  28.209756 -82.363929  22.30    0.0     4   \n",
       "12  2023-07-18  03:49:13.200000  28.209756 -82.363928  22.29    0.0     4   \n",
       "13  2023-07-18         03:49:14  28.209756 -82.363928  22.50    0.0     4   \n",
       "14  2023-07-18  03:49:15.100000  28.209757 -82.363928  22.50    0.0     4   \n",
       "15  2023-07-18  03:49:16.100000  28.209757 -82.363927  22.40    0.0     4   \n",
       "16  2023-07-18  03:49:17.100000  28.209757 -82.363927  22.60    0.0     4   \n",
       "17  2023-07-18         03:49:18  28.209757 -82.363927  22.70    0.0     4   \n",
       "18  2023-07-18         03:49:19  28.209757 -82.363927  22.70    0.0     4   \n",
       "19  2023-07-18  03:49:20.100000  28.209757 -82.363926  22.80    0.0     4   \n",
       "20  2023-07-18  03:49:21.100000  28.209758 -82.363926  22.80    0.0     4   \n",
       "\n",
       "    Mode  Herr  Verr    Temp      SOD      Course  \n",
       "0      3  25.0  44.9  68.756  13741.0   19.402235  \n",
       "1      3  25.0  44.9  68.756  13742.1   16.761456  \n",
       "2      3  25.0  44.9  68.756  13743.1   30.312737  \n",
       "3      3  25.0  44.9  68.756  13744.0   60.193171  \n",
       "4      3  25.0  44.9  68.218  13745.0  -16.761454  \n",
       "5      3  25.0  44.9  68.756  13746.1   46.024777  \n",
       "6      3  25.0  44.9  68.756  13747.1   16.294989  \n",
       "7      3  25.0  44.9  69.294  13748.2  138.464356  \n",
       "8      3  25.0  44.9  69.294  13749.0   41.535644  \n",
       "9      3  25.0  44.9  69.294  13750.0   33.467529  \n",
       "10     3  25.0  44.9  69.294  13751.1    0.000000  \n",
       "11     3  25.0  44.9  69.294  13752.1   38.682806  \n",
       "12     3  25.0  44.9  69.294  13753.2   96.440730  \n",
       "13     3  25.0  44.9  69.294  13754.0   23.243315  \n",
       "14     3  25.0  44.9  68.756  13755.1   60.925293  \n",
       "15     3  25.0  44.9  68.756  13756.1 -138.464357  \n",
       "16     3  25.0  44.9  68.756  13757.1    0.000000  \n",
       "17     3  25.0  44.9  68.756  13758.0   41.535643  \n",
       "18     3  25.0  44.9  69.294  13759.0   73.787062  \n",
       "19     3  25.0  44.9  69.294  13760.1   41.535644  \n",
       "20     3  25.0  45.1  69.294  13761.1    0.000000  "
      ]
     },
     "metadata": {},
     "output_type": "display_data"
    }
   ],
   "source": [
    "Gps_File_Name = '/mnt/f/My Drive/Missions/2021-1208-HAB-Lake-Parker/2021-1208/2021-1208-175324-910850-mission-gps.txt'\n",
    "Gps_File_Name = '../sample_data/034901/2023-0718-034805-411046-flightline-gps.txt'\n",
    "gps_df = read_gps_file_to_df(Gps_File_Name, debug=False)\n",
    "display(gps_df)"
   ]
  },
  {
   "cell_type": "markdown",
   "metadata": {},
   "source": [
    "####   def compute_gps_positions(  gps, spec_df, debug=False):\n",
    "See: https://numpy.org/doc/stable/reference/generated/numpy.interp.html"
   ]
  },
  {
   "cell_type": "code",
   "execution_count": null,
   "metadata": {},
   "outputs": [],
   "source": [
    "#| export\n",
    "#debug_compute_gps_positions = False \n",
    "def compute_gps_positions(  gps, spec_df, debug=False):\n",
    "    '''\n",
    "    Interpolates spectra positions from gps.\n",
    "\n",
    "    Parameters:\n",
    "    -----------\n",
    "    gps : dataframe\n",
    "        A dataframe of overlapping gps position data.\n",
    "\n",
    "    spec_df : dataframe\n",
    "        A dataframe of values vs time from the spectrometer.\n",
    "\n",
    "    Returns:\n",
    "    --------\n",
    "    See: https://numpy.org/doc/stable/reference/generated/numpy.interp.html\n",
    "    '''\n",
    "    spec_df['Lat']    = np.interp(spec_df['sod'], gps['SOD'], gps['Lat'])\n",
    "    spec_df['Lon']    = np.interp(spec_df['sod'], gps['SOD'], gps['Lon'])\n",
    "    spec_df['Elev']   = np.interp(spec_df['sod'], gps['SOD'], gps['Elev'])\n",
    "    spec_df['Course'] = np.interp(spec_df['sod'], gps['SOD'], gps['Course'])\n",
    "    return spec_df"
   ]
  },
  {
   "cell_type": "markdown",
   "metadata": {},
   "source": [
    "#### def get_bearing( lat1=0, lat2=0, long1=0, long2=0, debug=False):"
   ]
  },
  {
   "cell_type": "code",
   "execution_count": null,
   "metadata": {},
   "outputs": [],
   "source": [
    "#| export\n",
    "#debug_get_bearing = False\n",
    "def get_bearing( lat1=0, lat2=0, long1=0, long2=0, debug=False):\n",
    "    '''\n",
    "    Comutes and returns the bearing between two lat/lon pairs.\n",
    "    See:\n",
    "        http://shorturl.at/atGHN\n",
    "    '''\n",
    "    brng = Geodesic.WGS84.Inverse(lat1, long1, lat2, long2)['azi1']\n",
    "    return brng"
   ]
  },
  {
   "cell_type": "code",
   "execution_count": null,
   "metadata": {},
   "outputs": [
    {
     "name": "stdout",
     "output_type": "stream",
     "text": [
      "\n",
      "Testing get_bearing()\n",
      "  [30, 29, -75, -75], 180.00\n",
      "  [29, 30, -75, -75],   0.00\n",
      "  [30, 30, -76, -75],  89.75\n",
      "  [30, 30, -75, -76], -89.75\n"
     ]
    }
   ],
   "source": [
    "# Test get_bearing()\n",
    "lst = [ [30,29, -75, -75],\n",
    "        [29,30, -75, -75],\n",
    "        [30,30, -76, -75],\n",
    "        [30,30, -75, -76] ]\n",
    "print('\\nTesting get_bearing()')\n",
    "for t in lst:\n",
    "  v = get_bearing( lat1=t[0], lat2=t[1], long1=t[2], long2=t[3] )\n",
    "  print( f'  {t}, {v:6.2f}')"
   ]
  },
  {
   "cell_type": "markdown",
   "metadata": {},
   "source": [
    "#### def get_list_of_flight_lines( p, debug=False):"
   ]
  },
  {
   "cell_type": "code",
   "execution_count": null,
   "metadata": {},
   "outputs": [],
   "source": [
    "#| export\n",
    "#debug_get_list_of_flight_lines = False\n",
    "def get_list_of_flight_lines( p, debug=False):\n",
    "    '''Returns a list of flightline subdirs on path p.\n",
    "\n",
    "    Parameters:\n",
    "    -----------\n",
    "    p : str\n",
    "        Path name.\n",
    "\n",
    "    Returns:\n",
    "    --------\n",
    "    list\n",
    "        A list of full pathnames to individul flightlines.\n",
    "    '''\n",
    "    l = glob.glob(p+'/[0-9]*[!a-z]')\n",
    "    return l"
   ]
  },
  {
   "cell_type": "markdown",
   "metadata": {},
   "source": [
    "Test get_list_of_flight_lines()."
   ]
  },
  {
   "cell_type": "code",
   "execution_count": null,
   "metadata": {},
   "outputs": [
    {
     "name": "stdout",
     "output_type": "stream",
     "text": [
      "\n",
      "Testing: get_list_of_flight_lines(p)\n"
     ]
    },
    {
     "data": {
      "text/plain": [
       "[]"
      ]
     },
     "metadata": {},
     "output_type": "display_data"
    }
   ],
   "source": [
    "print('\\nTesting: get_list_of_flight_lines(p)')\n",
    "test_path_list = get_list_of_flight_lines( mission_folder )\n",
    "display(test_path_list[0:5])"
   ]
  },
  {
   "cell_type": "markdown",
   "metadata": {},
   "source": [
    "#### def get_list_of_hab_files( p, subdir='', ext='', debug=False):"
   ]
  },
  {
   "cell_type": "code",
   "execution_count": null,
   "metadata": {},
   "outputs": [],
   "source": [
    "#| export\n",
    "#debug_get_list_of_hab_files = False\n",
    "def get_list_of_hab_files( p, subdir='', ext='', debug=False):\n",
    "    '''Returns a list of hab files in p/subdir with the specified file extension.  \n",
    "    \n",
    "    Parameters:\n",
    "    p : str\n",
    "    subdir : str Default = ''\n",
    "    ext : str Default = ''\n",
    "\n",
    "    Returns:\n",
    "    --------\n",
    "    list\n",
    "        A list of  full pathnames.\n",
    "    '''\n",
    "    gs = p+f'/{subdir}/*.'+ext\n",
    "    js = glob.glob(gs)\n",
    "    return js"
   ]
  },
  {
   "cell_type": "markdown",
   "metadata": {},
   "source": [
    "Test get_list_of_hab_files()."
   ]
  },
  {
   "cell_type": "code",
   "execution_count": null,
   "metadata": {},
   "outputs": [],
   "source": [
    "#mission_folder = '/mnt/s/2021-0717-HAB-Spec-Tampa-Bay-PIE/2021-0717-HAB-pie/'\n",
    "print('\\nTesting: get_list_of_hab_files()')\n",
    "flight_line_list = get_list_of_flight_lines(mission_folder)\n",
    "rv_get_list_of_hab_files = get_list_of_hab_files( flight_line_list[1], subdir='hab_spectra', ext='json')\n",
    "display(rv_get_list_of_hab_files[0:5])"
   ]
  },
  {
   "cell_type": "code",
   "execution_count": null,
   "metadata": {},
   "outputs": [
    {
     "name": "stdout",
     "output_type": "stream",
     "text": [
      "2023-0721 03:39:37: HyperSpectral functions loaded.\n"
     ]
    }
   ],
   "source": [
    "print(f'{now_utc()}: HyperSpectral functions loaded.')"
   ]
  },
  {
   "cell_type": "code",
   "execution_count": null,
   "metadata": {},
   "outputs": [],
   "source": [
    "rv_get_list_of_hab_files"
   ]
  },
  {
   "cell_type": "code",
   "execution_count": null,
   "metadata": {},
   "outputs": [
    {
     "data": {
      "text/plain": [
       "('../sample_data/', ['../sample_data/034901'])"
      ]
     },
     "execution_count": null,
     "metadata": {},
     "output_type": "execute_result"
    }
   ],
   "source": [
    "mission_folder, flight_line_list "
   ]
  },
  {
   "cell_type": "code",
   "execution_count": null,
   "metadata": {},
   "outputs": [
    {
     "data": {
      "text/plain": [
       "['../sample_data/034901']"
      ]
     },
     "execution_count": null,
     "metadata": {},
     "output_type": "execute_result"
    }
   ],
   "source": [
    "flight_line_list"
   ]
  },
  {
   "cell_type": "markdown",
   "metadata": {},
   "source": [
    "### Depreciated, to be removed."
   ]
  },
  {
   "cell_type": "code",
   "execution_count": null,
   "metadata": {},
   "outputs": [
    {
     "data": {
      "text/plain": [
       "520"
      ]
     },
     "execution_count": null,
     "metadata": {},
     "output_type": "execute_result"
    }
   ],
   "source": [
    "band_500_600[0][-1]"
   ]
  },
  {
   "cell_type": "markdown",
   "metadata": {},
   "source": [
    "####   def get_fluorescence( x, y, fl_start=0, fl_stop=0, base_start=0, base_stop=0, debug=False ):"
   ]
  },
  {
   "cell_type": "code",
   "execution_count": null,
   "metadata": {},
   "outputs": [],
   "source": [
    "#| export\n",
    "#debug_get_fluorescence = False\n",
    "def get_fluorescence( x, y, fl_start=0, fl_stop=0, base_start=0, base_stop=0, debug=False ):\n",
    "    '''\n",
    "    '''\n",
    "    fl_sig = y[w_range_pixels(x, fl_start, fl_stop )].mean()         # Get the Fluor signal mean value\n",
    "    by = y[w_range_pixels(x, base_start, base_start+1)].mean()\n",
    "    ey = y[w_range_pixels(x, base_stop, base_stop+1)].mean()\n",
    "    center_nm = (fl_stop - fl_start) / 2  + fl_start                                       # Compute center wavelength\n",
    "    dydx = (ey - by)/(base_stop - base_start )\n",
    "    sf = dydx * (center_nm - base_start)\n",
    "    rv = fl_sig + sf\n",
    "    if debug:\n",
    "      print('get_fluorescence():', fl_sig, by, ey, center_nm, dydx, sf, rv)\n",
    "    return rv"
   ]
  },
  {
   "cell_type": "markdown",
   "metadata": {},
   "source": [
    "#### def get_fluorescence_700( x, y):"
   ]
  },
  {
   "cell_type": "code",
   "execution_count": null,
   "metadata": {},
   "outputs": [],
   "source": [
    "#| export\n",
    "def get_fluorescence_700( x, y):\n",
    "    '''\n",
    "    Returns the fluorescence value at 700nm.\n",
    "    '''\n",
    "    rv = get_fluorescence( x, y, fl_start=693, fl_stop=710, base_start=668, base_stop=740 )\n",
    "    return rv"
   ]
  },
  {
   "cell_type": "markdown",
   "metadata": {},
   "source": [
    "#### def get_fluorescence_683( x, y):"
   ]
  },
  {
   "cell_type": "code",
   "execution_count": null,
   "metadata": {},
   "outputs": [],
   "source": [
    "#| export\n",
    "def get_fluorescence_683( x, y):\n",
    "    '''\n",
    "    Returns the fluorescence value at 683nm.  683nm is Chlorophyll\n",
    "    '''\n",
    "    rv = get_fluorescence( x, y, fl_start=678, fl_stop=688, base_start=668, base_stop=740 )\n",
    "    return rv"
   ]
  }
 ],
 "metadata": {
  "kernelspec": {
   "display_name": "python3",
   "language": "python",
   "name": "python3"
  }
 },
 "nbformat": 4,
 "nbformat_minor": 4
}
